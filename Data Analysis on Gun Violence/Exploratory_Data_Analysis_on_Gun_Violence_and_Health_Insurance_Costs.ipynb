{
  "nbformat": 4,
  "nbformat_minor": 0,
  "metadata": {
    "kernelspec": {
      "display_name": "Python 3",
      "language": "python",
      "name": "python3"
    },
    "language_info": {
      "codemirror_mode": {
        "name": "ipython",
        "version": 3
      },
      "file_extension": ".py",
      "mimetype": "text/x-python",
      "name": "python",
      "nbconvert_exporter": "python",
      "pygments_lexer": "ipython3",
      "version": "3.7.4"
    },
    "colab": {
      "provenance": []
    }
  },
  "cells": [
    {
      "cell_type": "markdown",
      "metadata": {
        "id": "FeNVD5zGx1zf"
      },
      "source": [
        "# DS 2500 – Module Assignment 02:\n",
        "\n",
        "#Exploratory Data Analysis on Gun Violence\n",
        "\n",
        "\n",
        "Author : Prachi Aswani"
      ]
    },
    {
      "cell_type": "code",
      "metadata": {
        "id": "v7_CnoBRx1zh"
      },
      "source": [
        "%matplotlib inline\n",
        "import matplotlib.pyplot as plt\n",
        "import seaborn as sb\n",
        "from scipy.stats import norm, t, gamma, probplot\n",
        "\n",
        "import numpy as np\n",
        "import pandas as pd"
      ],
      "execution_count": null,
      "outputs": []
    },
    {
      "cell_type": "markdown",
      "metadata": {
        "id": "4hFgKZJ9x1zk"
      },
      "source": [
        "# 1. Data Analysis Question\n",
        "\n",
        "How does the Body Mass Index of a person have an impact on health insurance costs?"
      ]
    },
    {
      "cell_type": "markdown",
      "metadata": {
        "id": "QujF8vkYx1zl"
      },
      "source": [
        "# 2. Read in your data\n",
        "\n",
        "From GitHub Health Insurance Costs"
      ]
    },
    {
      "cell_type": "code",
      "metadata": {
        "id": "ayEu35DVx1zm",
        "colab": {
          "base_uri": "https://localhost:8080/"
        },
        "outputId": "1587579f-242c-460c-e095-2a5a81077d6f"
      },
      "source": [
        "import pandas as pd\n",
        "\n",
        "# Define a list to store the DataFrames for each month\n",
        "dataframes = []\n",
        "\n",
        "# Iterate through the list of file names\n",
        "file_names = [\n",
        "    \"stage2.01.2014.csv\", \"stage2.01.2015.csv\", \"stage2.01.2016.csv\", \"stage2.01.2017.csv\", \"stage2.01.2018.csv\",\n",
        "    \"stage2.02.2014.csv\", \"stage2.02.2015.csv\", \"stage2.02.2016.csv\", \"stage2.02.2017.csv\", \"stage2.02.2018.csv\",\n",
        "    \"stage2.03.2014.csv\", \"stage2.03.2015.csv\", \"stage2.03.2016.csv\", \"stage2.03.2017.csv\", \"stage2.03.2018.csv\",\n",
        "    \"stage2.04.2014.csv\", \"stage2.04.2015.csv\", \"stage2.04.2016.csv\", \"stage2.04.2017.csv\",\n",
        "    \"stage2.05.2014.csv\", \"stage2.05.2015.csv\", \"stage2.05.2016.csv\", \"stage2.05.2017.csv\",\n",
        "    \"stage2.06.2014.csv\", \"stage2.06.2015.csv\", \"stage2.06.2016.csv\", \"stage2.06.2017.csv\",\n",
        "    \"stage2.07.2014.csv\", \"stage2.07.2015.csv\", \"stage2.07.2016.csv\", \"stage2.07.2017.csv\",\n",
        "    \"stage2.08.2014.csv\", \"stage2.08.2015.csv\", \"stage2.08.2016.csv\", \"stage2.08.2017.csv\",\n",
        "    \"stage2.09.2014.csv\", \"stage2.09.2015.csv\", \"stage2.09.2016.csv\", \"stage2.09.2017.csv\",\n",
        "    \"stage2.10.2014.csv\", \"stage2.10.2015.csv\", \"stage2.10.2016.csv\", \"stage2.10.2017.csv\",\n",
        "    \"stage2.11.2014.csv\", \"stage2.11.2015.csv\", \"stage2.11.2016.csv\", \"stage2.11.2017.csv\",\n",
        "    \"stage2.12.2014.csv\", \"stage2.12.2015.csv\", \"stage2.12.2016.csv\", \"stage2.12.2017.csv\"\n",
        "]\n",
        "\n",
        "for file_name in file_names:\n",
        "    # Read the CSV file into a DataFrame\n",
        "    df = pd.read_csv(f'https://raw.githubusercontent.com/harsh1399/DS2500-Data_Wrangling/main/Module_Assignment-2/gun-violence-data/intermediate/{file_name}')\n",
        "    # Append the DataFrame to the list\n",
        "    dataframes.append(df)\n",
        "\n",
        "# Concatenate all DataFrames into a single DataFrame\n",
        "gun_violence_data = pd.concat(dataframes)\n",
        "\n",
        "# Display the first few rows of the concatenated DataFrame\n",
        "print(gun_violence_data.head())\n"
      ],
      "execution_count": null,
      "outputs": [
        {
          "output_type": "stream",
          "name": "stdout",
          "text": [
            "   incident_id        date      state city_or_county  \\\n",
            "0        95289  2014-01-01   Michigan       Muskegon   \n",
            "1        92307  2014-01-01  Wisconsin      Milwaukee   \n",
            "2        92519  2014-01-01  Tennessee       Humboldt   \n",
            "3        95244  2014-01-01   Virginia     Chesapeake   \n",
            "4        92251  2014-01-01       Ohio      Cleveland   \n",
            "\n",
            "                       address  n_killed  n_injured  \\\n",
            "0  300 block of Monroe Avenue          0          0   \n",
            "1     4700 block of N. 50th St         0          1   \n",
            "2                          NaN         0          0   \n",
            "3                 405 Shell Rd         0          0   \n",
            "4               12108 Marne Av         0          1   \n",
            "\n",
            "                                       incident_url  \\\n",
            "0  http://www.gunviolencearchive.org/incident/95289   \n",
            "1  http://www.gunviolencearchive.org/incident/92307   \n",
            "2  http://www.gunviolencearchive.org/incident/92519   \n",
            "3  http://www.gunviolencearchive.org/incident/95244   \n",
            "4  http://www.gunviolencearchive.org/incident/92251   \n",
            "\n",
            "                                          source_url  \\\n",
            "0  http://www.mlive.com/news/muskegon/index.ssf/2...   \n",
            "1  http://www.jsonline.com/news/crime/fatal-shoot...   \n",
            "2  http://www.wbbjtv.com/news/local/Shots-Fired-i...   \n",
            "3  http://wtkr.com/2014/01/02/bullet-goes-through...   \n",
            "4  http://fox8.com/2014/01/01/police-landlord-arr...   \n",
            "\n",
            "   incident_url_fields_missing  ...  participant_age  \\\n",
            "0                        False  ...              NaN   \n",
            "1                        False  ...            0::28   \n",
            "2                        False  ...            0::26   \n",
            "3                        False  ...              NaN   \n",
            "4                        False  ...            0::50   \n",
            "\n",
            "        participant_age_group participant_gender         participant_name  \\\n",
            "0                0::Adult 18+          0::Female                      NaN   \n",
            "1                0::Adult 18+            0::Male                      NaN   \n",
            "2                0::Adult 18+            0::Male  0::Justin David Glasper   \n",
            "3                         NaN                NaN                      NaN   \n",
            "4  0::Adult 18+||1::Adult 18+            0::Male                      NaN   \n",
            "\n",
            "   participant_relationship       participant_status  \\\n",
            "0                       NaN              0::Unharmed   \n",
            "1                       NaN               0::Injured   \n",
            "2                       NaN              0::Unharmed   \n",
            "3                       NaN                      NaN   \n",
            "4                       NaN  0::Injured||1::Unharmed   \n",
            "\n",
            "                participant_type  \\\n",
            "0                      0::Victim   \n",
            "1                      0::Victim   \n",
            "2             0::Subject-Suspect   \n",
            "3                      0::Victim   \n",
            "4  0::Victim||1::Subject-Suspect   \n",
            "\n",
            "                                             sources state_house_district  \\\n",
            "0  http://www.mlive.com/news/muskegon/index.ssf/2...                 92.0   \n",
            "1  http://www.jsonline.com/news/crime/fatal-shoot...                 17.0   \n",
            "2  http://www.wbbjtv.com/news/local/Shots-Fired-i...                 79.0   \n",
            "3  http://wtkr.com/2014/01/02/bullet-goes-through...                 81.0   \n",
            "4  http://fox8.com/2014/01/01/police-landlord-arr...                 13.0   \n",
            "\n",
            "  state_senate_district  \n",
            "0                  34.0  \n",
            "1                   6.0  \n",
            "2                  24.0  \n",
            "3                  14.0  \n",
            "4                  23.0  \n",
            "\n",
            "[5 rows x 29 columns]\n"
          ]
        }
      ]
    },
    {
      "cell_type": "markdown",
      "metadata": {
        "id": "Pb0vePO9x1zo"
      },
      "source": [
        "# 3. Check the packaging"
      ]
    },
    {
      "cell_type": "code",
      "metadata": {
        "id": "wTMgidGVx1zp",
        "colab": {
          "base_uri": "https://localhost:8080/"
        },
        "outputId": "b99b681c-2336-4dd7-cf18-eaed983fc52a"
      },
      "source": [
        "gun_violence_data.shape"
      ],
      "execution_count": null,
      "outputs": [
        {
          "output_type": "execute_result",
          "data": {
            "text/plain": [
              "(239399, 29)"
            ]
          },
          "metadata": {},
          "execution_count": 6
        }
      ]
    },
    {
      "cell_type": "markdown",
      "metadata": {
        "id": "v1nWGAHJx1zr"
      },
      "source": [
        "# 4. Look at the top and bottom of data"
      ]
    },
    {
      "cell_type": "code",
      "metadata": {
        "id": "T3cOoAtEx1zs"
      },
      "source": [
        "df.head()"
      ],
      "execution_count": null,
      "outputs": []
    },
    {
      "cell_type": "code",
      "metadata": {
        "id": "98HgpEuzx1zy"
      },
      "source": [
        "df.tail()"
      ],
      "execution_count": null,
      "outputs": []
    },
    {
      "cell_type": "markdown",
      "metadata": {
        "id": "YPWvFKW7x1z7"
      },
      "source": [
        "# 5. Check the \"n\"s"
      ]
    },
    {
      "cell_type": "markdown",
      "source": [
        "Around 574 people should not have any children."
      ],
      "metadata": {
        "id": "W3l00kiwF39o"
      }
    },
    {
      "cell_type": "code",
      "source": [
        "df['children'].value_counts()"
      ],
      "metadata": {
        "id": "UtlWbpJuqqvY"
      },
      "execution_count": null,
      "outputs": []
    },
    {
      "cell_type": "markdown",
      "source": [
        "There should be 548 unique values of BMI in the set.\n",
        "\n",
        "The presence of 548 unique values suggests variability in BMI measurements, with individuals having different BMI values."
      ],
      "metadata": {
        "id": "PVAqV4asq9ys"
      }
    },
    {
      "cell_type": "code",
      "metadata": {
        "id": "GvrTN-gJx1z8"
      },
      "source": [
        "df['bmi'].value_counts()"
      ],
      "execution_count": null,
      "outputs": []
    },
    {
      "cell_type": "code",
      "source": [
        "len(set(df['age']))"
      ],
      "metadata": {
        "id": "Uhyx9Hls2UWP"
      },
      "execution_count": null,
      "outputs": []
    },
    {
      "cell_type": "markdown",
      "source": [
        "There should 274 smokers in the dataset."
      ],
      "metadata": {
        "id": "ElUw7-r3FumC"
      }
    },
    {
      "cell_type": "code",
      "metadata": {
        "id": "SIIz7sFax1z-"
      },
      "source": [
        "df['smoker'].value_counts()"
      ],
      "execution_count": null,
      "outputs": []
    },
    {
      "cell_type": "markdown",
      "metadata": {
        "id": "5jIkk-f_x10C"
      },
      "source": [
        "There should be 4 regions in the set."
      ]
    },
    {
      "cell_type": "code",
      "metadata": {
        "id": "p-OV3jy_x10D"
      },
      "source": [
        "len(set(df['region']))"
      ],
      "execution_count": null,
      "outputs": []
    },
    {
      "cell_type": "markdown",
      "metadata": {
        "id": "rwuDAllZx10G"
      },
      "source": [
        "# 6. Validate against an external data source\n",
        "\n",
        "The data should contain more males"
      ]
    },
    {
      "cell_type": "code",
      "metadata": {
        "id": "DyQQNf3ix10H"
      },
      "source": [
        "df['sex'].value_counts().head(20)"
      ],
      "execution_count": null,
      "outputs": []
    },
    {
      "cell_type": "markdown",
      "metadata": {
        "id": "Sf7a38zgx10J"
      },
      "source": [
        "Number of regions"
      ]
    },
    {
      "cell_type": "code",
      "metadata": {
        "id": "dGWTgpN5x10J"
      },
      "source": [
        "region_df = df[df['region'] == \"northwest\"]\n",
        "len(region_df)"
      ],
      "execution_count": null,
      "outputs": []
    },
    {
      "cell_type": "markdown",
      "metadata": {
        "id": "YV03BVwax10L"
      },
      "source": [
        "Overall costs of health insurances"
      ]
    },
    {
      "cell_type": "code",
      "metadata": {
        "id": "1Cv_bqRCx10M"
      },
      "source": [
        "'${:,.2f}'.format(df['charges'].sum())"
      ],
      "execution_count": null,
      "outputs": []
    },
    {
      "cell_type": "markdown",
      "metadata": {
        "id": "CswVZiWrx10O"
      },
      "source": [
        "Is the distribution of charges typical?"
      ]
    },
    {
      "cell_type": "code",
      "metadata": {
        "id": "P3zdkMafx10P"
      },
      "source": [
        "df['charges'].describe()"
      ],
      "execution_count": null,
      "outputs": []
    },
    {
      "cell_type": "markdown",
      "source": [
        "\n",
        "In conclusion, the distribution of charges is not typical in the sense that it is right-skewed, indicating a concentration of charges toward the lower end with a few high-value charges. The presence of outliers contributes to the higher mean and standard deviation"
      ],
      "metadata": {
        "id": "T7oH_CS0GaXH"
      }
    },
    {
      "cell_type": "markdown",
      "metadata": {
        "id": "pSHySBwwx10S"
      },
      "source": [
        "# 7. Make a plot"
      ]
    },
    {
      "cell_type": "code",
      "metadata": {
        "id": "VSHncfucx10S"
      },
      "source": [
        "plt.figure(figsize=(10, 6))\n",
        "sb.regplot(x='bmi', y='charges', data=df, scatter_kws={'alpha':0.5}, line_kws={'color':'red'})\n",
        "plt.title('BMI vs. Health Insurance Charges')\n",
        "plt.xlabel('Body Mass Index')\n",
        "plt.ylabel('Health Insurance Charges')\n",
        "plt.legend(title='BMI', loc='upper right')\n",
        "plt.show()"
      ],
      "execution_count": null,
      "outputs": []
    },
    {
      "cell_type": "markdown",
      "metadata": {
        "id": "iDcQx_KPx10U"
      },
      "source": [
        "# 8. Try an easy solution\n",
        "\n",
        "Normal test\n",
        "\n",
        "Normal Probabilit Plot"
      ]
    },
    {
      "cell_type": "code",
      "source": [
        "samp_size = 200\n",
        "\n",
        "x = norm.rvs(loc=0, scale=1, size=samp_size)\n",
        "probplot(x, plot=plt)\n",
        "plt.title(\"Normal probability plot: Normal\")\n",
        "plt.xlabel(\"Normal quantiles\")\n",
        "plt.ylabel(\"Ordered values\")\n",
        "plt.show()\n",
        "\n",
        "x = t.rvs(df=3,size=samp_size)\n",
        "probplot(x, plot=plt)\n",
        "plt.title(\"Normal probability plot: T\")\n",
        "plt.xlabel(\"Normal quantiles\")\n",
        "plt.ylabel(\"Ordered values\")\n",
        "plt.show()\n",
        "\n",
        "from scipy.stats import gamma\n",
        "x = gamma.rvs(a=2,size=samp_size)\n",
        "probplot(x, plot=plt)\n",
        "plt.title(\"Normal probability plot: Gamma\")\n",
        "plt.xlabel(\"Normal quantiles\")\n",
        "plt.ylabel(\"Ordered values\")\n",
        "plt.show()\n"
      ],
      "metadata": {
        "id": "JkRtxKva9W3m"
      },
      "execution_count": null,
      "outputs": []
    },
    {
      "cell_type": "markdown",
      "source": [
        "#Pearson's Correlation Coefficient\n"
      ],
      "metadata": {
        "id": "m9UvFyIb-s6g"
      }
    },
    {
      "cell_type": "markdown",
      "source": [
        "Are these statistically important?\n"
      ],
      "metadata": {
        "id": "bjVsZrp2_8gy"
      }
    },
    {
      "cell_type": "markdown",
      "source": [
        "Hypothesis testing using Pearson Correlation Coefficient\n",
        "\n",
        "Two Tailed Test\n",
        "$$\n",
        "H_0: \\text{No correlation between no. of children and charges, i.e., $p=0$}.\n",
        "$$\n",
        "$$\n",
        "H_a: \\text{Some correlation between no. of children and charges, i.e., $p≠0$}.\n",
        "$$\n",
        "\n",
        "Significance level is 5%(0.05)"
      ],
      "metadata": {
        "id": "x3jFMU-SAErC"
      }
    },
    {
      "cell_type": "code",
      "source": [
        "from scipy.stats import pearsonr\n",
        "\n",
        "# Extract relevant columns\n",
        "charges = df['charges']\n",
        "bmi = df['bmi']\n",
        "\n",
        "# Perform Pearson correlation\n",
        "correlation, p_value = pearsonr(charges, bmi)\n",
        "\n",
        "# Display results\n",
        "print('Correlation: {}'.format(correlation))\n",
        "print('P value: {}'.format(p_value))\n"
      ],
      "metadata": {
        "id": "LMLVtJSF-shu"
      },
      "execution_count": null,
      "outputs": []
    },
    {
      "cell_type": "markdown",
      "source": [
        "From my correlation coefficient (r), The correlation coefficient is approximately\n",
        "0.1983, indicating a weak positive correlation between BMI (Body Mass Index) and health insurance charges.\n",
        "The positive sign suggests that as BMI increases, health insurance charges tend to increase, but the correlation is not very strong. The result is weak, because the magnitude is not close to 1.The p-value associated with the correlation coefficient is extremely small and less than 0.05. This very small p-value indicates strong evidence against the null hypothesis. Hence, we reject the null hypothesis"
      ],
      "metadata": {
        "id": "FpBTNS4D_xXF"
      }
    },
    {
      "cell_type": "markdown",
      "source": [
        "#**Write Up**\n",
        "Exploratory Data Analysis on Health Insurance Costs:\n",
        "\n",
        "The choice of the health insurance costs dataset was motivated by several factors. Firstly, health insurance is a topic of universal relevance, impacting individuals and societies worldwide. Analyzing the factors influencing health insurance costs provides valuable insights into the healthcare system, financial considerations, and individual health outcomes. Secondly, the dataset offers a rich array of variables, including demographic information such as age, sex, BMI, smoking status, and region, along with health insurance charges. This diversity of variables allows for a comprehensive analysis of the factors influencing insurance costs.\n",
        "\n",
        "The data analysis question is How does the Body Mass Index of a person have an impact on health insurance costs? This question aligns with the dataset on Health Insurance Costs. The dataset contains information on various demographic and health-related variables, including BMI and health insurance charges. By examining the relationship between BMI and insurance costs within this dataset, we can explore how individual health metrics, specifically BMI, influence the financial aspects of healthcare. This question leverages the availability of relevant variables in the dataset to gain insights into the connection between personal health factors and insurance expenses, making it well-suited for analysis within this dataset. Upon loading the dataset from a GitHub repository, it was found to consist of 1338 rows and 7 columns, providing an initial grasp of its size and dimensions. Subsequently, examining the first and last few rows offered a glimpse into the dataset's structure and values.\n",
        "\n",
        "Furthermore I analyzed various aspects of the dataset, including the distribution of BMI values, the frequency of age groups, and the number of smokers and regions represented. Such explorations provided with valuable insights into the diversity and characteristics of the data.Validating the dataset against an external data source enhanced its credibility and reliability, I checked with my external knowledge stuff like, if there were 4 regions in the dataset and if there were more men then women etc.\n",
        "I also did summary of statistics which sheds light on the distribution of health insurance charges, indicating a right-skewed pattern with a concentration towards lower values and a few outliers contributing to higher charges.\n",
        "The visualization I chose for exploring the relationship between Body Mass Index (BMI) and health insurance charges is a regression plot.Firstly, a regression plot allowed me to visually assess the presence and strength of any linear relationship between two continuous variables, which in this case are BMI and insurance charges. By plotting the data points and fitting a regression line, I could visually identify any patterns or trends in the relationship.Secondly, the plot provided a clear representation of the data distribution and the regression line, making it easy to interpret the relationship between BMI and insurance charges. The scatterplot of data points helped visualize the spread of observations across different BMI values and their corresponding insurance charges, while the regression line provided a concise summary of the overall trend. The plot I did clearly indicates there's a weak relationship between BMI and insurance costs\n",
        "\n",
        "Next, I did a normal probablility plot to check if my data was normally distributed. I did normal probability plots for different distributions, including Normal, T, and Gamma, as it serves as a diagnostic tool to assess the normality of the data distribution.Finally, I went on to do a statisctical hypothesis test. I chose Pearson correlation coefficient to quantify the strength and direction of the linear relationship between BMI and insurance charges. Pearson's correlation measured the degree to which changes in one variable (BMI) corresponded to changes in another variable (insurance charges). From my correlation coefficient (r), The correlation coefficient is approximately 0.1983, indicating a weak positive correlation between BMI (Body Mass Index) and health insurance charges.\n",
        "The positive sign suggests that as BMI increases, health insurance charges tend to increase, but the correlation is not very strong. The result is weak, because the magnitude is not close to 1. Additionally, because the p-value is less than 0.05, we can say that there is not a statistically significant correlation between the BMI and insurance costs.There is a very weak positive realtion between BMI and cost. Hence we reject the null hypothesis.In summary, each step of the exploratory data analysis process contributed to a deeper understanding of the dataset and its underlying relationships. From data loading and overview to visualization and statistical analysis, each component played a crucial role in unraveling insights and informing subsequent analyses or decision-making processes.\n",
        "\n",
        "\n",
        "Data Ethics Canvas Usefulness:\n",
        "\n",
        "For the Health Insurance Costs Dataset:\n",
        "\n",
        "In the context of the Health Insurance Costs dataset, the Data Ethics Canvas serves as a valuable tool for ensuring ethical considerations are addressed throughout the data analysis process. Privacy emerges as an important concern, particularly concerning sensitive information such as BMI, age, and personal details. By following privacy protocols, we can ensure that individuals' information is handled responsibly and anonymously, safeguarding their privacy rights. Bias mitigation is another critical aspect addressed by the Data Ethics Canvas. Given the dataset's breadth, including variables such as age, sex, and region, there's a risk of inherent biases influencing the analysis. By proactively identifying and addressing biases, such as potential disparities in health insurance charges across demographics, we can strive for fairness and equity in the findings. Transparency is fundamental to maintaining trust and accountability in data analysis processes. The Data Ethics Canvas prompts practitioners to communicate clearly about data sources, methodologies, and potential limitations. By being this transparent, we can provide insights into the data's origins, analytical methods employed, and any constraints or uncertainties associated with the findings.\n",
        "\n",
        "For Another Data-Driven Problem:\n",
        "\n",
        "I would consider the use of facial recognition technology by law enforcement agencies. This technology raises significant ethical concerns regarding privacy, bias, and transparency.\n",
        "Privacy is a major concern in the context of facial recognition technology, as it involves capturing and analyzing individuals' biometric data without their consent. By using the Data Ethics Canvas, stakeholders can evaluate how to ensure that individuals' privacy rights are respected, perhaps by implementing strict protocols for data anonymization and consent. Bias is another critical issue, as facial recognition algorithms have been shown to exhibit racial and gender biases, leading to disparities in accuracy across demographic groups. Through the Data Ethics Canvas, stakeholders can identify potential biases in the data used to train these algorithms and explore methods to mitigate them, such as diverse and representative training datasets.Transparency is essential for building trust and accountability in the deployment of facial recognition technology. The Data Ethics Canvas encourages stakeholders to be transparent about how facial recognition systems are used, the algorithms employed, and the potential limitations or risks associated with their use. This transparency can foster informed public discourse and help ensure that facial recognition technology is deployed ethically and responsibly."
      ],
      "metadata": {
        "id": "gno3dJHKppNt"
      }
    }
  ]
}