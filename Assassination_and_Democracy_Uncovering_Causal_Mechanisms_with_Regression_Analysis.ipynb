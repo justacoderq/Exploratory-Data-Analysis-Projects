{
  "nbformat": 4,
  "nbformat_minor": 0,
  "metadata": {
    "colab": {
      "provenance": [],
      "authorship_tag": "ABX9TyPv6OBajf/Frr38LuZj8T1y",
      "include_colab_link": true
    },
    "kernelspec": {
      "name": "python3",
      "display_name": "Python 3"
    },
    "language_info": {
      "name": "python"
    }
  },
  "cells": [
    {
      "cell_type": "markdown",
      "metadata": {
        "id": "view-in-github",
        "colab_type": "text"
      },
      "source": [
        "<a href=\"https://colab.research.google.com/github/justacoderq/Exploratory-Data-Analysis-Projects/blob/main/Assassination_and_Democracy_Uncovering_Causal_Mechanisms_with_Regression_Analysis.ipynb\" target=\"_parent\"><img src=\"https://colab.research.google.com/assets/colab-badge.svg\" alt=\"Open In Colab\"/></a>"
      ]
    },
    {
      "cell_type": "markdown",
      "source": [
        "# DS 2500 - Module Assignment 5\n",
        "\n",
        "# Exploratary Data Analysis for Alternative Causal Mechanism Using Assasination Article/Data\n",
        "\n",
        "Article: \"Hit or Miss? The Effect of Assassinations on Institutions and War\"\n",
        "\n",
        "Author : Prachi Aswani"
      ],
      "metadata": {
        "id": "1xXV7j6lFQHc"
      }
    },
    {
      "cell_type": "code",
      "execution_count": null,
      "metadata": {
        "id": "eO-SHfec6TYk"
      },
      "outputs": [],
      "source": [
        "import pandas as pd\n",
        "import numpy as np\n",
        "\n",
        "%matplotlib inline\n",
        "import matplotlib.pyplot as plt\n",
        "import seaborn as sb\n",
        "from scipy.stats import probplot\n",
        "\n",
        "import statsmodels.formula.api as smf\n",
        "from scipy.stats import pearsonr\n",
        "from scipy.stats import chi2_contingency"
      ]
    },
    {
      "cell_type": "markdown",
      "source": [
        "# 1. Data Anlaysis Question\n",
        "\n",
        "# *Primary Claim*\n",
        "On average, successful assasinations of autocrats produces sustained moves towards democracy\n",
        "\n",
        "# *Alternative Claim*\n",
        "The level of democracy of a country is the result of multiple causal factors the political regime before the leader's assassination attempt, and the occurrence of interwar periods before the leader's assassination attempt.\n",
        "\n",
        "(Note: Explanations mentioned in the write up)"
      ],
      "metadata": {
        "id": "kTCKct0vzFKj"
      }
    },
    {
      "cell_type": "markdown",
      "source": [
        "# 2. Read in your data\n",
        "\n",
        "From github leaders csv"
      ],
      "metadata": {
        "id": "BR8C0pFXozWR"
      }
    },
    {
      "cell_type": "code",
      "source": [
        "assassination_df = pd.read_csv(\"https://raw.githubusercontent.com/harsh1399/DS2500-Data_Wrangling/main/Module_Assignment-5/Hit_or_Miss_The_Effect_of_Assassinations_on_Institutions_and_War/leaders.csv\")"
      ],
      "metadata": {
        "id": "leFjYKH774Zz"
      },
      "execution_count": null,
      "outputs": []
    },
    {
      "cell_type": "markdown",
      "source": [
        "# 3. Check the packaging"
      ],
      "metadata": {
        "id": "PqaSCpAgqGLK"
      }
    },
    {
      "cell_type": "code",
      "source": [
        "assassination_df.shape"
      ],
      "metadata": {
        "colab": {
          "base_uri": "https://localhost:8080/"
        },
        "id": "AXafjp4s8A6o",
        "outputId": "db123707-88ca-43fd-b072-d7867e0fa78e"
      },
      "execution_count": null,
      "outputs": [
        {
          "output_type": "execute_result",
          "data": {
            "text/plain": [
              "(250, 11)"
            ]
          },
          "metadata": {},
          "execution_count": 3
        }
      ]
    },
    {
      "cell_type": "markdown",
      "source": [
        "# 4. Look at the top and bottom of data"
      ],
      "metadata": {
        "id": "hHWpshqSqVlT"
      }
    },
    {
      "cell_type": "code",
      "source": [
        "assassination_df.head()"
      ],
      "metadata": {
        "colab": {
          "base_uri": "https://localhost:8080/",
          "height": 258
        },
        "id": "2gE9Dqxw0W2Z",
        "outputId": "c9586056-750f-4446-b3b2-5a35a6a3adde"
      },
      "execution_count": null,
      "outputs": [
        {
          "output_type": "execute_result",
          "data": {
            "text/plain": [
              "   year      country        leadername  age  politybefore  polityafter  \\\n",
              "0  1929  Afghanistan  Habibullah Ghazi   39          -6.0    -6.000000   \n",
              "1  1933  Afghanistan        Nadir Shah   53          -6.0    -7.333333   \n",
              "2  1934  Afghanistan       Hashim Khan   50          -6.0    -8.000000   \n",
              "3  1924      Albania              Zogu   29           0.0    -9.000000   \n",
              "4  1931      Albania              Zogu   36          -9.0    -9.000000   \n",
              "\n",
              "   interwarbefore  interwarafter  civilwarbefore  civilwarafter  \\\n",
              "0               0              0               1              0   \n",
              "1               0              0               0              0   \n",
              "2               0              0               0              0   \n",
              "3               0              0               0              0   \n",
              "4               0              0               0              0   \n",
              "\n",
              "                               result  \n",
              "0                         not wounded  \n",
              "1  dies within a day after the attack  \n",
              "2   survives, whether wounded unknown  \n",
              "3                     wounded lightly  \n",
              "4                         not wounded  "
            ],
            "text/html": [
              "\n",
              "  <div id=\"df-9d025e19-5073-4fe0-b894-f69be46bf312\" class=\"colab-df-container\">\n",
              "    <div>\n",
              "<style scoped>\n",
              "    .dataframe tbody tr th:only-of-type {\n",
              "        vertical-align: middle;\n",
              "    }\n",
              "\n",
              "    .dataframe tbody tr th {\n",
              "        vertical-align: top;\n",
              "    }\n",
              "\n",
              "    .dataframe thead th {\n",
              "        text-align: right;\n",
              "    }\n",
              "</style>\n",
              "<table border=\"1\" class=\"dataframe\">\n",
              "  <thead>\n",
              "    <tr style=\"text-align: right;\">\n",
              "      <th></th>\n",
              "      <th>year</th>\n",
              "      <th>country</th>\n",
              "      <th>leadername</th>\n",
              "      <th>age</th>\n",
              "      <th>politybefore</th>\n",
              "      <th>polityafter</th>\n",
              "      <th>interwarbefore</th>\n",
              "      <th>interwarafter</th>\n",
              "      <th>civilwarbefore</th>\n",
              "      <th>civilwarafter</th>\n",
              "      <th>result</th>\n",
              "    </tr>\n",
              "  </thead>\n",
              "  <tbody>\n",
              "    <tr>\n",
              "      <th>0</th>\n",
              "      <td>1929</td>\n",
              "      <td>Afghanistan</td>\n",
              "      <td>Habibullah Ghazi</td>\n",
              "      <td>39</td>\n",
              "      <td>-6.0</td>\n",
              "      <td>-6.000000</td>\n",
              "      <td>0</td>\n",
              "      <td>0</td>\n",
              "      <td>1</td>\n",
              "      <td>0</td>\n",
              "      <td>not wounded</td>\n",
              "    </tr>\n",
              "    <tr>\n",
              "      <th>1</th>\n",
              "      <td>1933</td>\n",
              "      <td>Afghanistan</td>\n",
              "      <td>Nadir Shah</td>\n",
              "      <td>53</td>\n",
              "      <td>-6.0</td>\n",
              "      <td>-7.333333</td>\n",
              "      <td>0</td>\n",
              "      <td>0</td>\n",
              "      <td>0</td>\n",
              "      <td>0</td>\n",
              "      <td>dies within a day after the attack</td>\n",
              "    </tr>\n",
              "    <tr>\n",
              "      <th>2</th>\n",
              "      <td>1934</td>\n",
              "      <td>Afghanistan</td>\n",
              "      <td>Hashim Khan</td>\n",
              "      <td>50</td>\n",
              "      <td>-6.0</td>\n",
              "      <td>-8.000000</td>\n",
              "      <td>0</td>\n",
              "      <td>0</td>\n",
              "      <td>0</td>\n",
              "      <td>0</td>\n",
              "      <td>survives, whether wounded unknown</td>\n",
              "    </tr>\n",
              "    <tr>\n",
              "      <th>3</th>\n",
              "      <td>1924</td>\n",
              "      <td>Albania</td>\n",
              "      <td>Zogu</td>\n",
              "      <td>29</td>\n",
              "      <td>0.0</td>\n",
              "      <td>-9.000000</td>\n",
              "      <td>0</td>\n",
              "      <td>0</td>\n",
              "      <td>0</td>\n",
              "      <td>0</td>\n",
              "      <td>wounded lightly</td>\n",
              "    </tr>\n",
              "    <tr>\n",
              "      <th>4</th>\n",
              "      <td>1931</td>\n",
              "      <td>Albania</td>\n",
              "      <td>Zogu</td>\n",
              "      <td>36</td>\n",
              "      <td>-9.0</td>\n",
              "      <td>-9.000000</td>\n",
              "      <td>0</td>\n",
              "      <td>0</td>\n",
              "      <td>0</td>\n",
              "      <td>0</td>\n",
              "      <td>not wounded</td>\n",
              "    </tr>\n",
              "  </tbody>\n",
              "</table>\n",
              "</div>\n",
              "    <div class=\"colab-df-buttons\">\n",
              "\n",
              "  <div class=\"colab-df-container\">\n",
              "    <button class=\"colab-df-convert\" onclick=\"convertToInteractive('df-9d025e19-5073-4fe0-b894-f69be46bf312')\"\n",
              "            title=\"Convert this dataframe to an interactive table.\"\n",
              "            style=\"display:none;\">\n",
              "\n",
              "  <svg xmlns=\"http://www.w3.org/2000/svg\" height=\"24px\" viewBox=\"0 -960 960 960\">\n",
              "    <path d=\"M120-120v-720h720v720H120Zm60-500h600v-160H180v160Zm220 220h160v-160H400v160Zm0 220h160v-160H400v160ZM180-400h160v-160H180v160Zm440 0h160v-160H620v160ZM180-180h160v-160H180v160Zm440 0h160v-160H620v160Z\"/>\n",
              "  </svg>\n",
              "    </button>\n",
              "\n",
              "  <style>\n",
              "    .colab-df-container {\n",
              "      display:flex;\n",
              "      gap: 12px;\n",
              "    }\n",
              "\n",
              "    .colab-df-convert {\n",
              "      background-color: #E8F0FE;\n",
              "      border: none;\n",
              "      border-radius: 50%;\n",
              "      cursor: pointer;\n",
              "      display: none;\n",
              "      fill: #1967D2;\n",
              "      height: 32px;\n",
              "      padding: 0 0 0 0;\n",
              "      width: 32px;\n",
              "    }\n",
              "\n",
              "    .colab-df-convert:hover {\n",
              "      background-color: #E2EBFA;\n",
              "      box-shadow: 0px 1px 2px rgba(60, 64, 67, 0.3), 0px 1px 3px 1px rgba(60, 64, 67, 0.15);\n",
              "      fill: #174EA6;\n",
              "    }\n",
              "\n",
              "    .colab-df-buttons div {\n",
              "      margin-bottom: 4px;\n",
              "    }\n",
              "\n",
              "    [theme=dark] .colab-df-convert {\n",
              "      background-color: #3B4455;\n",
              "      fill: #D2E3FC;\n",
              "    }\n",
              "\n",
              "    [theme=dark] .colab-df-convert:hover {\n",
              "      background-color: #434B5C;\n",
              "      box-shadow: 0px 1px 3px 1px rgba(0, 0, 0, 0.15);\n",
              "      filter: drop-shadow(0px 1px 2px rgba(0, 0, 0, 0.3));\n",
              "      fill: #FFFFFF;\n",
              "    }\n",
              "  </style>\n",
              "\n",
              "    <script>\n",
              "      const buttonEl =\n",
              "        document.querySelector('#df-9d025e19-5073-4fe0-b894-f69be46bf312 button.colab-df-convert');\n",
              "      buttonEl.style.display =\n",
              "        google.colab.kernel.accessAllowed ? 'block' : 'none';\n",
              "\n",
              "      async function convertToInteractive(key) {\n",
              "        const element = document.querySelector('#df-9d025e19-5073-4fe0-b894-f69be46bf312');\n",
              "        const dataTable =\n",
              "          await google.colab.kernel.invokeFunction('convertToInteractive',\n",
              "                                                    [key], {});\n",
              "        if (!dataTable) return;\n",
              "\n",
              "        const docLinkHtml = 'Like what you see? Visit the ' +\n",
              "          '<a target=\"_blank\" href=https://colab.research.google.com/notebooks/data_table.ipynb>data table notebook</a>'\n",
              "          + ' to learn more about interactive tables.';\n",
              "        element.innerHTML = '';\n",
              "        dataTable['output_type'] = 'display_data';\n",
              "        await google.colab.output.renderOutput(dataTable, element);\n",
              "        const docLink = document.createElement('div');\n",
              "        docLink.innerHTML = docLinkHtml;\n",
              "        element.appendChild(docLink);\n",
              "      }\n",
              "    </script>\n",
              "  </div>\n",
              "\n",
              "\n",
              "<div id=\"df-af96cc7d-9da8-4528-bcb0-180fc32e7b34\">\n",
              "  <button class=\"colab-df-quickchart\" onclick=\"quickchart('df-af96cc7d-9da8-4528-bcb0-180fc32e7b34')\"\n",
              "            title=\"Suggest charts\"\n",
              "            style=\"display:none;\">\n",
              "\n",
              "<svg xmlns=\"http://www.w3.org/2000/svg\" height=\"24px\"viewBox=\"0 0 24 24\"\n",
              "     width=\"24px\">\n",
              "    <g>\n",
              "        <path d=\"M19 3H5c-1.1 0-2 .9-2 2v14c0 1.1.9 2 2 2h14c1.1 0 2-.9 2-2V5c0-1.1-.9-2-2-2zM9 17H7v-7h2v7zm4 0h-2V7h2v10zm4 0h-2v-4h2v4z\"/>\n",
              "    </g>\n",
              "</svg>\n",
              "  </button>\n",
              "\n",
              "<style>\n",
              "  .colab-df-quickchart {\n",
              "      --bg-color: #E8F0FE;\n",
              "      --fill-color: #1967D2;\n",
              "      --hover-bg-color: #E2EBFA;\n",
              "      --hover-fill-color: #174EA6;\n",
              "      --disabled-fill-color: #AAA;\n",
              "      --disabled-bg-color: #DDD;\n",
              "  }\n",
              "\n",
              "  [theme=dark] .colab-df-quickchart {\n",
              "      --bg-color: #3B4455;\n",
              "      --fill-color: #D2E3FC;\n",
              "      --hover-bg-color: #434B5C;\n",
              "      --hover-fill-color: #FFFFFF;\n",
              "      --disabled-bg-color: #3B4455;\n",
              "      --disabled-fill-color: #666;\n",
              "  }\n",
              "\n",
              "  .colab-df-quickchart {\n",
              "    background-color: var(--bg-color);\n",
              "    border: none;\n",
              "    border-radius: 50%;\n",
              "    cursor: pointer;\n",
              "    display: none;\n",
              "    fill: var(--fill-color);\n",
              "    height: 32px;\n",
              "    padding: 0;\n",
              "    width: 32px;\n",
              "  }\n",
              "\n",
              "  .colab-df-quickchart:hover {\n",
              "    background-color: var(--hover-bg-color);\n",
              "    box-shadow: 0 1px 2px rgba(60, 64, 67, 0.3), 0 1px 3px 1px rgba(60, 64, 67, 0.15);\n",
              "    fill: var(--button-hover-fill-color);\n",
              "  }\n",
              "\n",
              "  .colab-df-quickchart-complete:disabled,\n",
              "  .colab-df-quickchart-complete:disabled:hover {\n",
              "    background-color: var(--disabled-bg-color);\n",
              "    fill: var(--disabled-fill-color);\n",
              "    box-shadow: none;\n",
              "  }\n",
              "\n",
              "  .colab-df-spinner {\n",
              "    border: 2px solid var(--fill-color);\n",
              "    border-color: transparent;\n",
              "    border-bottom-color: var(--fill-color);\n",
              "    animation:\n",
              "      spin 1s steps(1) infinite;\n",
              "  }\n",
              "\n",
              "  @keyframes spin {\n",
              "    0% {\n",
              "      border-color: transparent;\n",
              "      border-bottom-color: var(--fill-color);\n",
              "      border-left-color: var(--fill-color);\n",
              "    }\n",
              "    20% {\n",
              "      border-color: transparent;\n",
              "      border-left-color: var(--fill-color);\n",
              "      border-top-color: var(--fill-color);\n",
              "    }\n",
              "    30% {\n",
              "      border-color: transparent;\n",
              "      border-left-color: var(--fill-color);\n",
              "      border-top-color: var(--fill-color);\n",
              "      border-right-color: var(--fill-color);\n",
              "    }\n",
              "    40% {\n",
              "      border-color: transparent;\n",
              "      border-right-color: var(--fill-color);\n",
              "      border-top-color: var(--fill-color);\n",
              "    }\n",
              "    60% {\n",
              "      border-color: transparent;\n",
              "      border-right-color: var(--fill-color);\n",
              "    }\n",
              "    80% {\n",
              "      border-color: transparent;\n",
              "      border-right-color: var(--fill-color);\n",
              "      border-bottom-color: var(--fill-color);\n",
              "    }\n",
              "    90% {\n",
              "      border-color: transparent;\n",
              "      border-bottom-color: var(--fill-color);\n",
              "    }\n",
              "  }\n",
              "</style>\n",
              "\n",
              "  <script>\n",
              "    async function quickchart(key) {\n",
              "      const quickchartButtonEl =\n",
              "        document.querySelector('#' + key + ' button');\n",
              "      quickchartButtonEl.disabled = true;  // To prevent multiple clicks.\n",
              "      quickchartButtonEl.classList.add('colab-df-spinner');\n",
              "      try {\n",
              "        const charts = await google.colab.kernel.invokeFunction(\n",
              "            'suggestCharts', [key], {});\n",
              "      } catch (error) {\n",
              "        console.error('Error during call to suggestCharts:', error);\n",
              "      }\n",
              "      quickchartButtonEl.classList.remove('colab-df-spinner');\n",
              "      quickchartButtonEl.classList.add('colab-df-quickchart-complete');\n",
              "    }\n",
              "    (() => {\n",
              "      let quickchartButtonEl =\n",
              "        document.querySelector('#df-af96cc7d-9da8-4528-bcb0-180fc32e7b34 button');\n",
              "      quickchartButtonEl.style.display =\n",
              "        google.colab.kernel.accessAllowed ? 'block' : 'none';\n",
              "    })();\n",
              "  </script>\n",
              "</div>\n",
              "    </div>\n",
              "  </div>\n"
            ],
            "application/vnd.google.colaboratory.intrinsic+json": {
              "type": "dataframe",
              "variable_name": "assassination_df",
              "summary": "{\n  \"name\": \"assassination_df\",\n  \"rows\": 250,\n  \"fields\": [\n    {\n      \"column\": \"year\",\n      \"properties\": {\n        \"dtype\": \"number\",\n        \"std\": 32,\n        \"min\": 1878,\n        \"max\": 2001,\n        \"num_unique_values\": 102,\n        \"samples\": [\n          1986,\n          1967,\n          1947\n        ],\n        \"semantic_type\": \"\",\n        \"description\": \"\"\n      }\n    },\n    {\n      \"column\": \"country\",\n      \"properties\": {\n        \"dtype\": \"category\",\n        \"num_unique_values\": 88,\n        \"samples\": [\n          \"Sweden\",\n          \"Afghanistan\",\n          \"Ecuador\"\n        ],\n        \"semantic_type\": \"\",\n        \"description\": \"\"\n      }\n    },\n    {\n      \"column\": \"leadername\",\n      \"properties\": {\n        \"dtype\": \"string\",\n        \"num_unique_values\": 196,\n        \"samples\": [\n          \"Chun Doo Hwan\",\n          \"Avila Camacho\",\n          \"Wangchuk, Jigme Dorji\"\n        ],\n        \"semantic_type\": \"\",\n        \"description\": \"\"\n      }\n    },\n    {\n      \"column\": \"age\",\n      \"properties\": {\n        \"dtype\": \"number\",\n        \"std\": 12,\n        \"min\": 18,\n        \"max\": 81,\n        \"num_unique_values\": 55,\n        \"samples\": [\n          19,\n          41,\n          63\n        ],\n        \"semantic_type\": \"\",\n        \"description\": \"\"\n      }\n    },\n    {\n      \"column\": \"politybefore\",\n      \"properties\": {\n        \"dtype\": \"number\",\n        \"std\": 6.445519321337216,\n        \"min\": -10.0,\n        \"max\": 10.0,\n        \"num_unique_values\": 39,\n        \"samples\": [\n          7.33333333333333,\n          -6.66666666666667,\n          1.0\n        ],\n        \"semantic_type\": \"\",\n        \"description\": \"\"\n      }\n    },\n    {\n      \"column\": \"polityafter\",\n      \"properties\": {\n        \"dtype\": \"number\",\n        \"std\": 6.525637662229334,\n        \"min\": -10.0,\n        \"max\": 10.0,\n        \"num_unique_values\": 45,\n        \"samples\": [\n          0.666666666666667,\n          0.0,\n          -1.0\n        ],\n        \"semantic_type\": \"\",\n        \"description\": \"\"\n      }\n    },\n    {\n      \"column\": \"interwarbefore\",\n      \"properties\": {\n        \"dtype\": \"number\",\n        \"std\": 0,\n        \"min\": 0,\n        \"max\": 1,\n        \"num_unique_values\": 2,\n        \"samples\": [\n          1,\n          0\n        ],\n        \"semantic_type\": \"\",\n        \"description\": \"\"\n      }\n    },\n    {\n      \"column\": \"interwarafter\",\n      \"properties\": {\n        \"dtype\": \"number\",\n        \"std\": 0,\n        \"min\": 0,\n        \"max\": 1,\n        \"num_unique_values\": 2,\n        \"samples\": [\n          1,\n          0\n        ],\n        \"semantic_type\": \"\",\n        \"description\": \"\"\n      }\n    },\n    {\n      \"column\": \"civilwarbefore\",\n      \"properties\": {\n        \"dtype\": \"number\",\n        \"std\": 0,\n        \"min\": 0,\n        \"max\": 1,\n        \"num_unique_values\": 2,\n        \"samples\": [\n          0,\n          1\n        ],\n        \"semantic_type\": \"\",\n        \"description\": \"\"\n      }\n    },\n    {\n      \"column\": \"civilwarafter\",\n      \"properties\": {\n        \"dtype\": \"number\",\n        \"std\": 0,\n        \"min\": 0,\n        \"max\": 1,\n        \"num_unique_values\": 2,\n        \"samples\": [\n          1,\n          0\n        ],\n        \"semantic_type\": \"\",\n        \"description\": \"\"\n      }\n    },\n    {\n      \"column\": \"result\",\n      \"properties\": {\n        \"dtype\": \"category\",\n        \"num_unique_values\": 10,\n        \"samples\": [\n          \"survives but wounded severely\",\n          \"dies within a day after the attack\"\n        ],\n        \"semantic_type\": \"\",\n        \"description\": \"\"\n      }\n    }\n  ]\n}"
            }
          },
          "metadata": {},
          "execution_count": 4
        }
      ]
    },
    {
      "cell_type": "code",
      "source": [
        "assassination_df.tail()"
      ],
      "metadata": {
        "colab": {
          "base_uri": "https://localhost:8080/",
          "height": 293
        },
        "id": "aT0_wewFqfEs",
        "outputId": "a4691dba-638f-4022-d56d-cd5634fcf7d9"
      },
      "execution_count": null,
      "outputs": [
        {
          "output_type": "execute_result",
          "data": {
            "text/plain": [
              "     year      country  leadername  age  politybefore  polityafter  \\\n",
              "245  1968  Yemen North   Al-Iryani   51     -2.000000    -3.000000   \n",
              "246  1977  Yemen North   Al-Hamadi   34     -4.000000    -6.000000   \n",
              "247  1977  Yemen North  Al-Ghashmi   38     -4.000000    -6.000000   \n",
              "248  1978  Yemen North  Al-Ghashmi   39     -4.666667    -6.000000   \n",
              "249  1934   Yugoslavia   Alexander   46    -10.000000    -7.666667   \n",
              "\n",
              "     interwarbefore  interwarafter  civilwarbefore  civilwarafter  \\\n",
              "245               0              0               1              1   \n",
              "246               0              0               0              0   \n",
              "247               0              0               0              0   \n",
              "248               0              0               0              0   \n",
              "249               0              0               0              0   \n",
              "\n",
              "                                 result  \n",
              "245                         not wounded  \n",
              "246                dies, timing unknown  \n",
              "247                        plot stopped  \n",
              "248  dies within a day after the attack  \n",
              "249  dies within a day after the attack  "
            ],
            "text/html": [
              "\n",
              "  <div id=\"df-50a78585-473f-4d19-a5da-b10e1c096e1d\" class=\"colab-df-container\">\n",
              "    <div>\n",
              "<style scoped>\n",
              "    .dataframe tbody tr th:only-of-type {\n",
              "        vertical-align: middle;\n",
              "    }\n",
              "\n",
              "    .dataframe tbody tr th {\n",
              "        vertical-align: top;\n",
              "    }\n",
              "\n",
              "    .dataframe thead th {\n",
              "        text-align: right;\n",
              "    }\n",
              "</style>\n",
              "<table border=\"1\" class=\"dataframe\">\n",
              "  <thead>\n",
              "    <tr style=\"text-align: right;\">\n",
              "      <th></th>\n",
              "      <th>year</th>\n",
              "      <th>country</th>\n",
              "      <th>leadername</th>\n",
              "      <th>age</th>\n",
              "      <th>politybefore</th>\n",
              "      <th>polityafter</th>\n",
              "      <th>interwarbefore</th>\n",
              "      <th>interwarafter</th>\n",
              "      <th>civilwarbefore</th>\n",
              "      <th>civilwarafter</th>\n",
              "      <th>result</th>\n",
              "    </tr>\n",
              "  </thead>\n",
              "  <tbody>\n",
              "    <tr>\n",
              "      <th>245</th>\n",
              "      <td>1968</td>\n",
              "      <td>Yemen North</td>\n",
              "      <td>Al-Iryani</td>\n",
              "      <td>51</td>\n",
              "      <td>-2.000000</td>\n",
              "      <td>-3.000000</td>\n",
              "      <td>0</td>\n",
              "      <td>0</td>\n",
              "      <td>1</td>\n",
              "      <td>1</td>\n",
              "      <td>not wounded</td>\n",
              "    </tr>\n",
              "    <tr>\n",
              "      <th>246</th>\n",
              "      <td>1977</td>\n",
              "      <td>Yemen North</td>\n",
              "      <td>Al-Hamadi</td>\n",
              "      <td>34</td>\n",
              "      <td>-4.000000</td>\n",
              "      <td>-6.000000</td>\n",
              "      <td>0</td>\n",
              "      <td>0</td>\n",
              "      <td>0</td>\n",
              "      <td>0</td>\n",
              "      <td>dies, timing unknown</td>\n",
              "    </tr>\n",
              "    <tr>\n",
              "      <th>247</th>\n",
              "      <td>1977</td>\n",
              "      <td>Yemen North</td>\n",
              "      <td>Al-Ghashmi</td>\n",
              "      <td>38</td>\n",
              "      <td>-4.000000</td>\n",
              "      <td>-6.000000</td>\n",
              "      <td>0</td>\n",
              "      <td>0</td>\n",
              "      <td>0</td>\n",
              "      <td>0</td>\n",
              "      <td>plot stopped</td>\n",
              "    </tr>\n",
              "    <tr>\n",
              "      <th>248</th>\n",
              "      <td>1978</td>\n",
              "      <td>Yemen North</td>\n",
              "      <td>Al-Ghashmi</td>\n",
              "      <td>39</td>\n",
              "      <td>-4.666667</td>\n",
              "      <td>-6.000000</td>\n",
              "      <td>0</td>\n",
              "      <td>0</td>\n",
              "      <td>0</td>\n",
              "      <td>0</td>\n",
              "      <td>dies within a day after the attack</td>\n",
              "    </tr>\n",
              "    <tr>\n",
              "      <th>249</th>\n",
              "      <td>1934</td>\n",
              "      <td>Yugoslavia</td>\n",
              "      <td>Alexander</td>\n",
              "      <td>46</td>\n",
              "      <td>-10.000000</td>\n",
              "      <td>-7.666667</td>\n",
              "      <td>0</td>\n",
              "      <td>0</td>\n",
              "      <td>0</td>\n",
              "      <td>0</td>\n",
              "      <td>dies within a day after the attack</td>\n",
              "    </tr>\n",
              "  </tbody>\n",
              "</table>\n",
              "</div>\n",
              "    <div class=\"colab-df-buttons\">\n",
              "\n",
              "  <div class=\"colab-df-container\">\n",
              "    <button class=\"colab-df-convert\" onclick=\"convertToInteractive('df-50a78585-473f-4d19-a5da-b10e1c096e1d')\"\n",
              "            title=\"Convert this dataframe to an interactive table.\"\n",
              "            style=\"display:none;\">\n",
              "\n",
              "  <svg xmlns=\"http://www.w3.org/2000/svg\" height=\"24px\" viewBox=\"0 -960 960 960\">\n",
              "    <path d=\"M120-120v-720h720v720H120Zm60-500h600v-160H180v160Zm220 220h160v-160H400v160Zm0 220h160v-160H400v160ZM180-400h160v-160H180v160Zm440 0h160v-160H620v160ZM180-180h160v-160H180v160Zm440 0h160v-160H620v160Z\"/>\n",
              "  </svg>\n",
              "    </button>\n",
              "\n",
              "  <style>\n",
              "    .colab-df-container {\n",
              "      display:flex;\n",
              "      gap: 12px;\n",
              "    }\n",
              "\n",
              "    .colab-df-convert {\n",
              "      background-color: #E8F0FE;\n",
              "      border: none;\n",
              "      border-radius: 50%;\n",
              "      cursor: pointer;\n",
              "      display: none;\n",
              "      fill: #1967D2;\n",
              "      height: 32px;\n",
              "      padding: 0 0 0 0;\n",
              "      width: 32px;\n",
              "    }\n",
              "\n",
              "    .colab-df-convert:hover {\n",
              "      background-color: #E2EBFA;\n",
              "      box-shadow: 0px 1px 2px rgba(60, 64, 67, 0.3), 0px 1px 3px 1px rgba(60, 64, 67, 0.15);\n",
              "      fill: #174EA6;\n",
              "    }\n",
              "\n",
              "    .colab-df-buttons div {\n",
              "      margin-bottom: 4px;\n",
              "    }\n",
              "\n",
              "    [theme=dark] .colab-df-convert {\n",
              "      background-color: #3B4455;\n",
              "      fill: #D2E3FC;\n",
              "    }\n",
              "\n",
              "    [theme=dark] .colab-df-convert:hover {\n",
              "      background-color: #434B5C;\n",
              "      box-shadow: 0px 1px 3px 1px rgba(0, 0, 0, 0.15);\n",
              "      filter: drop-shadow(0px 1px 2px rgba(0, 0, 0, 0.3));\n",
              "      fill: #FFFFFF;\n",
              "    }\n",
              "  </style>\n",
              "\n",
              "    <script>\n",
              "      const buttonEl =\n",
              "        document.querySelector('#df-50a78585-473f-4d19-a5da-b10e1c096e1d button.colab-df-convert');\n",
              "      buttonEl.style.display =\n",
              "        google.colab.kernel.accessAllowed ? 'block' : 'none';\n",
              "\n",
              "      async function convertToInteractive(key) {\n",
              "        const element = document.querySelector('#df-50a78585-473f-4d19-a5da-b10e1c096e1d');\n",
              "        const dataTable =\n",
              "          await google.colab.kernel.invokeFunction('convertToInteractive',\n",
              "                                                    [key], {});\n",
              "        if (!dataTable) return;\n",
              "\n",
              "        const docLinkHtml = 'Like what you see? Visit the ' +\n",
              "          '<a target=\"_blank\" href=https://colab.research.google.com/notebooks/data_table.ipynb>data table notebook</a>'\n",
              "          + ' to learn more about interactive tables.';\n",
              "        element.innerHTML = '';\n",
              "        dataTable['output_type'] = 'display_data';\n",
              "        await google.colab.output.renderOutput(dataTable, element);\n",
              "        const docLink = document.createElement('div');\n",
              "        docLink.innerHTML = docLinkHtml;\n",
              "        element.appendChild(docLink);\n",
              "      }\n",
              "    </script>\n",
              "  </div>\n",
              "\n",
              "\n",
              "<div id=\"df-3a2b7de9-dee5-4dc9-abd9-bc157a9b3a14\">\n",
              "  <button class=\"colab-df-quickchart\" onclick=\"quickchart('df-3a2b7de9-dee5-4dc9-abd9-bc157a9b3a14')\"\n",
              "            title=\"Suggest charts\"\n",
              "            style=\"display:none;\">\n",
              "\n",
              "<svg xmlns=\"http://www.w3.org/2000/svg\" height=\"24px\"viewBox=\"0 0 24 24\"\n",
              "     width=\"24px\">\n",
              "    <g>\n",
              "        <path d=\"M19 3H5c-1.1 0-2 .9-2 2v14c0 1.1.9 2 2 2h14c1.1 0 2-.9 2-2V5c0-1.1-.9-2-2-2zM9 17H7v-7h2v7zm4 0h-2V7h2v10zm4 0h-2v-4h2v4z\"/>\n",
              "    </g>\n",
              "</svg>\n",
              "  </button>\n",
              "\n",
              "<style>\n",
              "  .colab-df-quickchart {\n",
              "      --bg-color: #E8F0FE;\n",
              "      --fill-color: #1967D2;\n",
              "      --hover-bg-color: #E2EBFA;\n",
              "      --hover-fill-color: #174EA6;\n",
              "      --disabled-fill-color: #AAA;\n",
              "      --disabled-bg-color: #DDD;\n",
              "  }\n",
              "\n",
              "  [theme=dark] .colab-df-quickchart {\n",
              "      --bg-color: #3B4455;\n",
              "      --fill-color: #D2E3FC;\n",
              "      --hover-bg-color: #434B5C;\n",
              "      --hover-fill-color: #FFFFFF;\n",
              "      --disabled-bg-color: #3B4455;\n",
              "      --disabled-fill-color: #666;\n",
              "  }\n",
              "\n",
              "  .colab-df-quickchart {\n",
              "    background-color: var(--bg-color);\n",
              "    border: none;\n",
              "    border-radius: 50%;\n",
              "    cursor: pointer;\n",
              "    display: none;\n",
              "    fill: var(--fill-color);\n",
              "    height: 32px;\n",
              "    padding: 0;\n",
              "    width: 32px;\n",
              "  }\n",
              "\n",
              "  .colab-df-quickchart:hover {\n",
              "    background-color: var(--hover-bg-color);\n",
              "    box-shadow: 0 1px 2px rgba(60, 64, 67, 0.3), 0 1px 3px 1px rgba(60, 64, 67, 0.15);\n",
              "    fill: var(--button-hover-fill-color);\n",
              "  }\n",
              "\n",
              "  .colab-df-quickchart-complete:disabled,\n",
              "  .colab-df-quickchart-complete:disabled:hover {\n",
              "    background-color: var(--disabled-bg-color);\n",
              "    fill: var(--disabled-fill-color);\n",
              "    box-shadow: none;\n",
              "  }\n",
              "\n",
              "  .colab-df-spinner {\n",
              "    border: 2px solid var(--fill-color);\n",
              "    border-color: transparent;\n",
              "    border-bottom-color: var(--fill-color);\n",
              "    animation:\n",
              "      spin 1s steps(1) infinite;\n",
              "  }\n",
              "\n",
              "  @keyframes spin {\n",
              "    0% {\n",
              "      border-color: transparent;\n",
              "      border-bottom-color: var(--fill-color);\n",
              "      border-left-color: var(--fill-color);\n",
              "    }\n",
              "    20% {\n",
              "      border-color: transparent;\n",
              "      border-left-color: var(--fill-color);\n",
              "      border-top-color: var(--fill-color);\n",
              "    }\n",
              "    30% {\n",
              "      border-color: transparent;\n",
              "      border-left-color: var(--fill-color);\n",
              "      border-top-color: var(--fill-color);\n",
              "      border-right-color: var(--fill-color);\n",
              "    }\n",
              "    40% {\n",
              "      border-color: transparent;\n",
              "      border-right-color: var(--fill-color);\n",
              "      border-top-color: var(--fill-color);\n",
              "    }\n",
              "    60% {\n",
              "      border-color: transparent;\n",
              "      border-right-color: var(--fill-color);\n",
              "    }\n",
              "    80% {\n",
              "      border-color: transparent;\n",
              "      border-right-color: var(--fill-color);\n",
              "      border-bottom-color: var(--fill-color);\n",
              "    }\n",
              "    90% {\n",
              "      border-color: transparent;\n",
              "      border-bottom-color: var(--fill-color);\n",
              "    }\n",
              "  }\n",
              "</style>\n",
              "\n",
              "  <script>\n",
              "    async function quickchart(key) {\n",
              "      const quickchartButtonEl =\n",
              "        document.querySelector('#' + key + ' button');\n",
              "      quickchartButtonEl.disabled = true;  // To prevent multiple clicks.\n",
              "      quickchartButtonEl.classList.add('colab-df-spinner');\n",
              "      try {\n",
              "        const charts = await google.colab.kernel.invokeFunction(\n",
              "            'suggestCharts', [key], {});\n",
              "      } catch (error) {\n",
              "        console.error('Error during call to suggestCharts:', error);\n",
              "      }\n",
              "      quickchartButtonEl.classList.remove('colab-df-spinner');\n",
              "      quickchartButtonEl.classList.add('colab-df-quickchart-complete');\n",
              "    }\n",
              "    (() => {\n",
              "      let quickchartButtonEl =\n",
              "        document.querySelector('#df-3a2b7de9-dee5-4dc9-abd9-bc157a9b3a14 button');\n",
              "      quickchartButtonEl.style.display =\n",
              "        google.colab.kernel.accessAllowed ? 'block' : 'none';\n",
              "    })();\n",
              "  </script>\n",
              "</div>\n",
              "    </div>\n",
              "  </div>\n"
            ],
            "application/vnd.google.colaboratory.intrinsic+json": {
              "type": "dataframe",
              "summary": "{\n  \"name\": \"assassination_df\",\n  \"rows\": 5,\n  \"fields\": [\n    {\n      \"column\": \"year\",\n      \"properties\": {\n        \"dtype\": \"number\",\n        \"std\": 18,\n        \"min\": 1934,\n        \"max\": 1978,\n        \"num_unique_values\": 4,\n        \"samples\": [\n          1977,\n          1934,\n          1968\n        ],\n        \"semantic_type\": \"\",\n        \"description\": \"\"\n      }\n    },\n    {\n      \"column\": \"country\",\n      \"properties\": {\n        \"dtype\": \"category\",\n        \"num_unique_values\": 2,\n        \"samples\": [\n          \"Yugoslavia\",\n          \"Yemen North\"\n        ],\n        \"semantic_type\": \"\",\n        \"description\": \"\"\n      }\n    },\n    {\n      \"column\": \"leadername\",\n      \"properties\": {\n        \"dtype\": \"string\",\n        \"num_unique_values\": 4,\n        \"samples\": [\n          \"Al-Hamadi\",\n          \"Alexander\"\n        ],\n        \"semantic_type\": \"\",\n        \"description\": \"\"\n      }\n    },\n    {\n      \"column\": \"age\",\n      \"properties\": {\n        \"dtype\": \"number\",\n        \"std\": 6,\n        \"min\": 34,\n        \"max\": 51,\n        \"num_unique_values\": 5,\n        \"samples\": [\n          34,\n          46\n        ],\n        \"semantic_type\": \"\",\n        \"description\": \"\"\n      }\n    },\n    {\n      \"column\": \"politybefore\",\n      \"properties\": {\n        \"dtype\": \"number\",\n        \"std\": 3.003701420285016,\n        \"min\": -10.0,\n        \"max\": -2.0,\n        \"num_unique_values\": 4,\n        \"samples\": [\n          -4.0,\n          -10.0\n        ],\n        \"semantic_type\": \"\",\n        \"description\": \"\"\n      }\n    },\n    {\n      \"column\": \"polityafter\",\n      \"properties\": {\n        \"dtype\": \"number\",\n        \"std\": 1.6898389140848777,\n        \"min\": -7.66666666666667,\n        \"max\": -3.0,\n        \"num_unique_values\": 3,\n        \"samples\": [\n          -3.0,\n          -6.0\n        ],\n        \"semantic_type\": \"\",\n        \"description\": \"\"\n      }\n    },\n    {\n      \"column\": \"interwarbefore\",\n      \"properties\": {\n        \"dtype\": \"number\",\n        \"std\": 0,\n        \"min\": 0,\n        \"max\": 0,\n        \"num_unique_values\": 1,\n        \"samples\": [\n          0\n        ],\n        \"semantic_type\": \"\",\n        \"description\": \"\"\n      }\n    },\n    {\n      \"column\": \"interwarafter\",\n      \"properties\": {\n        \"dtype\": \"number\",\n        \"std\": 0,\n        \"min\": 0,\n        \"max\": 0,\n        \"num_unique_values\": 1,\n        \"samples\": [\n          0\n        ],\n        \"semantic_type\": \"\",\n        \"description\": \"\"\n      }\n    },\n    {\n      \"column\": \"civilwarbefore\",\n      \"properties\": {\n        \"dtype\": \"number\",\n        \"std\": 0,\n        \"min\": 0,\n        \"max\": 1,\n        \"num_unique_values\": 2,\n        \"samples\": [\n          0\n        ],\n        \"semantic_type\": \"\",\n        \"description\": \"\"\n      }\n    },\n    {\n      \"column\": \"civilwarafter\",\n      \"properties\": {\n        \"dtype\": \"number\",\n        \"std\": 0,\n        \"min\": 0,\n        \"max\": 1,\n        \"num_unique_values\": 2,\n        \"samples\": [\n          0\n        ],\n        \"semantic_type\": \"\",\n        \"description\": \"\"\n      }\n    },\n    {\n      \"column\": \"result\",\n      \"properties\": {\n        \"dtype\": \"string\",\n        \"num_unique_values\": 4,\n        \"samples\": [\n          \"dies, timing unknown\"\n        ],\n        \"semantic_type\": \"\",\n        \"description\": \"\"\n      }\n    }\n  ]\n}"
            }
          },
          "metadata": {},
          "execution_count": 5
        }
      ]
    },
    {
      "cell_type": "markdown",
      "source": [
        "# 5. Data Cleaning"
      ],
      "metadata": {
        "id": "CQAz9Udjqx1L"
      }
    },
    {
      "cell_type": "markdown",
      "source": [
        "# Checking for Missing Values"
      ],
      "metadata": {
        "id": "W7WssKz9upmW"
      }
    },
    {
      "cell_type": "code",
      "source": [
        "# Number of missing values in each column\n",
        "assassination_df.isnull().sum().sort_values(ascending=False)"
      ],
      "metadata": {
        "id": "ztcRWrHpusFF",
        "colab": {
          "base_uri": "https://localhost:8080/"
        },
        "outputId": "8d1573ed-7bc2-4955-a8b9-84254f588a10"
      },
      "execution_count": null,
      "outputs": [
        {
          "output_type": "execute_result",
          "data": {
            "text/plain": [
              "year              0\n",
              "country           0\n",
              "leadername        0\n",
              "age               0\n",
              "politybefore      0\n",
              "polityafter       0\n",
              "interwarbefore    0\n",
              "interwarafter     0\n",
              "civilwarbefore    0\n",
              "civilwarafter     0\n",
              "result            0\n",
              "dtype: int64"
            ]
          },
          "metadata": {},
          "execution_count": 6
        }
      ]
    },
    {
      "cell_type": "markdown",
      "source": [
        "I want to find out if the assasination is succesful or not , so I create a column using the results column"
      ],
      "metadata": {
        "id": "6wrM419LCkiH"
      }
    },
    {
      "cell_type": "code",
      "source": [
        "assassination_df.columns"
      ],
      "metadata": {
        "colab": {
          "base_uri": "https://localhost:8080/"
        },
        "id": "Rl2YH4wr8fG7",
        "outputId": "a88c9a3b-53f5-4f25-9758-2f8400ae2e36"
      },
      "execution_count": null,
      "outputs": [
        {
          "output_type": "execute_result",
          "data": {
            "text/plain": [
              "Index(['year', 'country', 'leadername', 'age', 'politybefore', 'polityafter',\n",
              "       'interwarbefore', 'interwarafter', 'civilwarbefore', 'civilwarafter',\n",
              "       'result'],\n",
              "      dtype='object')"
            ]
          },
          "metadata": {},
          "execution_count": 7
        }
      ]
    },
    {
      "cell_type": "code",
      "source": [
        "def is_successful(result):\n",
        "  # If dies - succesful assassination\n",
        "    if \"dies\" in result:\n",
        "        return 1  # Successful assassination\n",
        "    else:\n",
        "        return 0  # Unsuccessful assassination\n",
        "\n",
        "assassination_df['successful_assassination'] = assassination_df['result'].apply(is_successful)\n",
        "# If successful 1 , otherwise 0"
      ],
      "metadata": {
        "id": "_275tTMM0gNX"
      },
      "execution_count": null,
      "outputs": []
    },
    {
      "cell_type": "code",
      "source": [
        "# Checks if column created\n",
        "assassination_df.head()"
      ],
      "metadata": {
        "colab": {
          "base_uri": "https://localhost:8080/",
          "height": 399
        },
        "id": "3dQrWams0zDr",
        "outputId": "06d86fcc-2170-4d69-844a-b416820f19bb"
      },
      "execution_count": null,
      "outputs": [
        {
          "output_type": "execute_result",
          "data": {
            "text/plain": [
              "   year      country        leadername  age  politybefore  polityafter  \\\n",
              "0  1929  Afghanistan  Habibullah Ghazi   39          -6.0    -6.000000   \n",
              "1  1933  Afghanistan        Nadir Shah   53          -6.0    -7.333333   \n",
              "2  1934  Afghanistan       Hashim Khan   50          -6.0    -8.000000   \n",
              "3  1924      Albania              Zogu   29           0.0    -9.000000   \n",
              "4  1931      Albania              Zogu   36          -9.0    -9.000000   \n",
              "\n",
              "   interwarbefore  interwarafter  civilwarbefore  civilwarafter  \\\n",
              "0               0              0               1              0   \n",
              "1               0              0               0              0   \n",
              "2               0              0               0              0   \n",
              "3               0              0               0              0   \n",
              "4               0              0               0              0   \n",
              "\n",
              "                               result  successful_assassination  \n",
              "0                         not wounded                         0  \n",
              "1  dies within a day after the attack                         1  \n",
              "2   survives, whether wounded unknown                         0  \n",
              "3                     wounded lightly                         0  \n",
              "4                         not wounded                         0  "
            ],
            "text/html": [
              "\n",
              "  <div id=\"df-97b7b13e-fe24-4e92-96b0-a147d4ac6fa9\" class=\"colab-df-container\">\n",
              "    <div>\n",
              "<style scoped>\n",
              "    .dataframe tbody tr th:only-of-type {\n",
              "        vertical-align: middle;\n",
              "    }\n",
              "\n",
              "    .dataframe tbody tr th {\n",
              "        vertical-align: top;\n",
              "    }\n",
              "\n",
              "    .dataframe thead th {\n",
              "        text-align: right;\n",
              "    }\n",
              "</style>\n",
              "<table border=\"1\" class=\"dataframe\">\n",
              "  <thead>\n",
              "    <tr style=\"text-align: right;\">\n",
              "      <th></th>\n",
              "      <th>year</th>\n",
              "      <th>country</th>\n",
              "      <th>leadername</th>\n",
              "      <th>age</th>\n",
              "      <th>politybefore</th>\n",
              "      <th>polityafter</th>\n",
              "      <th>interwarbefore</th>\n",
              "      <th>interwarafter</th>\n",
              "      <th>civilwarbefore</th>\n",
              "      <th>civilwarafter</th>\n",
              "      <th>result</th>\n",
              "      <th>successful_assassination</th>\n",
              "    </tr>\n",
              "  </thead>\n",
              "  <tbody>\n",
              "    <tr>\n",
              "      <th>0</th>\n",
              "      <td>1929</td>\n",
              "      <td>Afghanistan</td>\n",
              "      <td>Habibullah Ghazi</td>\n",
              "      <td>39</td>\n",
              "      <td>-6.0</td>\n",
              "      <td>-6.000000</td>\n",
              "      <td>0</td>\n",
              "      <td>0</td>\n",
              "      <td>1</td>\n",
              "      <td>0</td>\n",
              "      <td>not wounded</td>\n",
              "      <td>0</td>\n",
              "    </tr>\n",
              "    <tr>\n",
              "      <th>1</th>\n",
              "      <td>1933</td>\n",
              "      <td>Afghanistan</td>\n",
              "      <td>Nadir Shah</td>\n",
              "      <td>53</td>\n",
              "      <td>-6.0</td>\n",
              "      <td>-7.333333</td>\n",
              "      <td>0</td>\n",
              "      <td>0</td>\n",
              "      <td>0</td>\n",
              "      <td>0</td>\n",
              "      <td>dies within a day after the attack</td>\n",
              "      <td>1</td>\n",
              "    </tr>\n",
              "    <tr>\n",
              "      <th>2</th>\n",
              "      <td>1934</td>\n",
              "      <td>Afghanistan</td>\n",
              "      <td>Hashim Khan</td>\n",
              "      <td>50</td>\n",
              "      <td>-6.0</td>\n",
              "      <td>-8.000000</td>\n",
              "      <td>0</td>\n",
              "      <td>0</td>\n",
              "      <td>0</td>\n",
              "      <td>0</td>\n",
              "      <td>survives, whether wounded unknown</td>\n",
              "      <td>0</td>\n",
              "    </tr>\n",
              "    <tr>\n",
              "      <th>3</th>\n",
              "      <td>1924</td>\n",
              "      <td>Albania</td>\n",
              "      <td>Zogu</td>\n",
              "      <td>29</td>\n",
              "      <td>0.0</td>\n",
              "      <td>-9.000000</td>\n",
              "      <td>0</td>\n",
              "      <td>0</td>\n",
              "      <td>0</td>\n",
              "      <td>0</td>\n",
              "      <td>wounded lightly</td>\n",
              "      <td>0</td>\n",
              "    </tr>\n",
              "    <tr>\n",
              "      <th>4</th>\n",
              "      <td>1931</td>\n",
              "      <td>Albania</td>\n",
              "      <td>Zogu</td>\n",
              "      <td>36</td>\n",
              "      <td>-9.0</td>\n",
              "      <td>-9.000000</td>\n",
              "      <td>0</td>\n",
              "      <td>0</td>\n",
              "      <td>0</td>\n",
              "      <td>0</td>\n",
              "      <td>not wounded</td>\n",
              "      <td>0</td>\n",
              "    </tr>\n",
              "  </tbody>\n",
              "</table>\n",
              "</div>\n",
              "    <div class=\"colab-df-buttons\">\n",
              "\n",
              "  <div class=\"colab-df-container\">\n",
              "    <button class=\"colab-df-convert\" onclick=\"convertToInteractive('df-97b7b13e-fe24-4e92-96b0-a147d4ac6fa9')\"\n",
              "            title=\"Convert this dataframe to an interactive table.\"\n",
              "            style=\"display:none;\">\n",
              "\n",
              "  <svg xmlns=\"http://www.w3.org/2000/svg\" height=\"24px\" viewBox=\"0 -960 960 960\">\n",
              "    <path d=\"M120-120v-720h720v720H120Zm60-500h600v-160H180v160Zm220 220h160v-160H400v160Zm0 220h160v-160H400v160ZM180-400h160v-160H180v160Zm440 0h160v-160H620v160ZM180-180h160v-160H180v160Zm440 0h160v-160H620v160Z\"/>\n",
              "  </svg>\n",
              "    </button>\n",
              "\n",
              "  <style>\n",
              "    .colab-df-container {\n",
              "      display:flex;\n",
              "      gap: 12px;\n",
              "    }\n",
              "\n",
              "    .colab-df-convert {\n",
              "      background-color: #E8F0FE;\n",
              "      border: none;\n",
              "      border-radius: 50%;\n",
              "      cursor: pointer;\n",
              "      display: none;\n",
              "      fill: #1967D2;\n",
              "      height: 32px;\n",
              "      padding: 0 0 0 0;\n",
              "      width: 32px;\n",
              "    }\n",
              "\n",
              "    .colab-df-convert:hover {\n",
              "      background-color: #E2EBFA;\n",
              "      box-shadow: 0px 1px 2px rgba(60, 64, 67, 0.3), 0px 1px 3px 1px rgba(60, 64, 67, 0.15);\n",
              "      fill: #174EA6;\n",
              "    }\n",
              "\n",
              "    .colab-df-buttons div {\n",
              "      margin-bottom: 4px;\n",
              "    }\n",
              "\n",
              "    [theme=dark] .colab-df-convert {\n",
              "      background-color: #3B4455;\n",
              "      fill: #D2E3FC;\n",
              "    }\n",
              "\n",
              "    [theme=dark] .colab-df-convert:hover {\n",
              "      background-color: #434B5C;\n",
              "      box-shadow: 0px 1px 3px 1px rgba(0, 0, 0, 0.15);\n",
              "      filter: drop-shadow(0px 1px 2px rgba(0, 0, 0, 0.3));\n",
              "      fill: #FFFFFF;\n",
              "    }\n",
              "  </style>\n",
              "\n",
              "    <script>\n",
              "      const buttonEl =\n",
              "        document.querySelector('#df-97b7b13e-fe24-4e92-96b0-a147d4ac6fa9 button.colab-df-convert');\n",
              "      buttonEl.style.display =\n",
              "        google.colab.kernel.accessAllowed ? 'block' : 'none';\n",
              "\n",
              "      async function convertToInteractive(key) {\n",
              "        const element = document.querySelector('#df-97b7b13e-fe24-4e92-96b0-a147d4ac6fa9');\n",
              "        const dataTable =\n",
              "          await google.colab.kernel.invokeFunction('convertToInteractive',\n",
              "                                                    [key], {});\n",
              "        if (!dataTable) return;\n",
              "\n",
              "        const docLinkHtml = 'Like what you see? Visit the ' +\n",
              "          '<a target=\"_blank\" href=https://colab.research.google.com/notebooks/data_table.ipynb>data table notebook</a>'\n",
              "          + ' to learn more about interactive tables.';\n",
              "        element.innerHTML = '';\n",
              "        dataTable['output_type'] = 'display_data';\n",
              "        await google.colab.output.renderOutput(dataTable, element);\n",
              "        const docLink = document.createElement('div');\n",
              "        docLink.innerHTML = docLinkHtml;\n",
              "        element.appendChild(docLink);\n",
              "      }\n",
              "    </script>\n",
              "  </div>\n",
              "\n",
              "\n",
              "<div id=\"df-449425ea-51c6-4cb4-ba6f-cd5366e455ed\">\n",
              "  <button class=\"colab-df-quickchart\" onclick=\"quickchart('df-449425ea-51c6-4cb4-ba6f-cd5366e455ed')\"\n",
              "            title=\"Suggest charts\"\n",
              "            style=\"display:none;\">\n",
              "\n",
              "<svg xmlns=\"http://www.w3.org/2000/svg\" height=\"24px\"viewBox=\"0 0 24 24\"\n",
              "     width=\"24px\">\n",
              "    <g>\n",
              "        <path d=\"M19 3H5c-1.1 0-2 .9-2 2v14c0 1.1.9 2 2 2h14c1.1 0 2-.9 2-2V5c0-1.1-.9-2-2-2zM9 17H7v-7h2v7zm4 0h-2V7h2v10zm4 0h-2v-4h2v4z\"/>\n",
              "    </g>\n",
              "</svg>\n",
              "  </button>\n",
              "\n",
              "<style>\n",
              "  .colab-df-quickchart {\n",
              "      --bg-color: #E8F0FE;\n",
              "      --fill-color: #1967D2;\n",
              "      --hover-bg-color: #E2EBFA;\n",
              "      --hover-fill-color: #174EA6;\n",
              "      --disabled-fill-color: #AAA;\n",
              "      --disabled-bg-color: #DDD;\n",
              "  }\n",
              "\n",
              "  [theme=dark] .colab-df-quickchart {\n",
              "      --bg-color: #3B4455;\n",
              "      --fill-color: #D2E3FC;\n",
              "      --hover-bg-color: #434B5C;\n",
              "      --hover-fill-color: #FFFFFF;\n",
              "      --disabled-bg-color: #3B4455;\n",
              "      --disabled-fill-color: #666;\n",
              "  }\n",
              "\n",
              "  .colab-df-quickchart {\n",
              "    background-color: var(--bg-color);\n",
              "    border: none;\n",
              "    border-radius: 50%;\n",
              "    cursor: pointer;\n",
              "    display: none;\n",
              "    fill: var(--fill-color);\n",
              "    height: 32px;\n",
              "    padding: 0;\n",
              "    width: 32px;\n",
              "  }\n",
              "\n",
              "  .colab-df-quickchart:hover {\n",
              "    background-color: var(--hover-bg-color);\n",
              "    box-shadow: 0 1px 2px rgba(60, 64, 67, 0.3), 0 1px 3px 1px rgba(60, 64, 67, 0.15);\n",
              "    fill: var(--button-hover-fill-color);\n",
              "  }\n",
              "\n",
              "  .colab-df-quickchart-complete:disabled,\n",
              "  .colab-df-quickchart-complete:disabled:hover {\n",
              "    background-color: var(--disabled-bg-color);\n",
              "    fill: var(--disabled-fill-color);\n",
              "    box-shadow: none;\n",
              "  }\n",
              "\n",
              "  .colab-df-spinner {\n",
              "    border: 2px solid var(--fill-color);\n",
              "    border-color: transparent;\n",
              "    border-bottom-color: var(--fill-color);\n",
              "    animation:\n",
              "      spin 1s steps(1) infinite;\n",
              "  }\n",
              "\n",
              "  @keyframes spin {\n",
              "    0% {\n",
              "      border-color: transparent;\n",
              "      border-bottom-color: var(--fill-color);\n",
              "      border-left-color: var(--fill-color);\n",
              "    }\n",
              "    20% {\n",
              "      border-color: transparent;\n",
              "      border-left-color: var(--fill-color);\n",
              "      border-top-color: var(--fill-color);\n",
              "    }\n",
              "    30% {\n",
              "      border-color: transparent;\n",
              "      border-left-color: var(--fill-color);\n",
              "      border-top-color: var(--fill-color);\n",
              "      border-right-color: var(--fill-color);\n",
              "    }\n",
              "    40% {\n",
              "      border-color: transparent;\n",
              "      border-right-color: var(--fill-color);\n",
              "      border-top-color: var(--fill-color);\n",
              "    }\n",
              "    60% {\n",
              "      border-color: transparent;\n",
              "      border-right-color: var(--fill-color);\n",
              "    }\n",
              "    80% {\n",
              "      border-color: transparent;\n",
              "      border-right-color: var(--fill-color);\n",
              "      border-bottom-color: var(--fill-color);\n",
              "    }\n",
              "    90% {\n",
              "      border-color: transparent;\n",
              "      border-bottom-color: var(--fill-color);\n",
              "    }\n",
              "  }\n",
              "</style>\n",
              "\n",
              "  <script>\n",
              "    async function quickchart(key) {\n",
              "      const quickchartButtonEl =\n",
              "        document.querySelector('#' + key + ' button');\n",
              "      quickchartButtonEl.disabled = true;  // To prevent multiple clicks.\n",
              "      quickchartButtonEl.classList.add('colab-df-spinner');\n",
              "      try {\n",
              "        const charts = await google.colab.kernel.invokeFunction(\n",
              "            'suggestCharts', [key], {});\n",
              "      } catch (error) {\n",
              "        console.error('Error during call to suggestCharts:', error);\n",
              "      }\n",
              "      quickchartButtonEl.classList.remove('colab-df-spinner');\n",
              "      quickchartButtonEl.classList.add('colab-df-quickchart-complete');\n",
              "    }\n",
              "    (() => {\n",
              "      let quickchartButtonEl =\n",
              "        document.querySelector('#df-449425ea-51c6-4cb4-ba6f-cd5366e455ed button');\n",
              "      quickchartButtonEl.style.display =\n",
              "        google.colab.kernel.accessAllowed ? 'block' : 'none';\n",
              "    })();\n",
              "  </script>\n",
              "</div>\n",
              "    </div>\n",
              "  </div>\n"
            ],
            "application/vnd.google.colaboratory.intrinsic+json": {
              "type": "dataframe",
              "variable_name": "assassination_df",
              "summary": "{\n  \"name\": \"assassination_df\",\n  \"rows\": 250,\n  \"fields\": [\n    {\n      \"column\": \"year\",\n      \"properties\": {\n        \"dtype\": \"number\",\n        \"std\": 32,\n        \"min\": 1878,\n        \"max\": 2001,\n        \"num_unique_values\": 102,\n        \"samples\": [\n          1986,\n          1967,\n          1947\n        ],\n        \"semantic_type\": \"\",\n        \"description\": \"\"\n      }\n    },\n    {\n      \"column\": \"country\",\n      \"properties\": {\n        \"dtype\": \"category\",\n        \"num_unique_values\": 88,\n        \"samples\": [\n          \"Sweden\",\n          \"Afghanistan\",\n          \"Ecuador\"\n        ],\n        \"semantic_type\": \"\",\n        \"description\": \"\"\n      }\n    },\n    {\n      \"column\": \"leadername\",\n      \"properties\": {\n        \"dtype\": \"string\",\n        \"num_unique_values\": 196,\n        \"samples\": [\n          \"Chun Doo Hwan\",\n          \"Avila Camacho\",\n          \"Wangchuk, Jigme Dorji\"\n        ],\n        \"semantic_type\": \"\",\n        \"description\": \"\"\n      }\n    },\n    {\n      \"column\": \"age\",\n      \"properties\": {\n        \"dtype\": \"number\",\n        \"std\": 12,\n        \"min\": 18,\n        \"max\": 81,\n        \"num_unique_values\": 55,\n        \"samples\": [\n          19,\n          41,\n          63\n        ],\n        \"semantic_type\": \"\",\n        \"description\": \"\"\n      }\n    },\n    {\n      \"column\": \"politybefore\",\n      \"properties\": {\n        \"dtype\": \"number\",\n        \"std\": 6.445519321337216,\n        \"min\": -10.0,\n        \"max\": 10.0,\n        \"num_unique_values\": 39,\n        \"samples\": [\n          7.33333333333333,\n          -6.66666666666667,\n          1.0\n        ],\n        \"semantic_type\": \"\",\n        \"description\": \"\"\n      }\n    },\n    {\n      \"column\": \"polityafter\",\n      \"properties\": {\n        \"dtype\": \"number\",\n        \"std\": 6.525637662229334,\n        \"min\": -10.0,\n        \"max\": 10.0,\n        \"num_unique_values\": 45,\n        \"samples\": [\n          0.666666666666667,\n          0.0,\n          -1.0\n        ],\n        \"semantic_type\": \"\",\n        \"description\": \"\"\n      }\n    },\n    {\n      \"column\": \"interwarbefore\",\n      \"properties\": {\n        \"dtype\": \"number\",\n        \"std\": 0,\n        \"min\": 0,\n        \"max\": 1,\n        \"num_unique_values\": 2,\n        \"samples\": [\n          1,\n          0\n        ],\n        \"semantic_type\": \"\",\n        \"description\": \"\"\n      }\n    },\n    {\n      \"column\": \"interwarafter\",\n      \"properties\": {\n        \"dtype\": \"number\",\n        \"std\": 0,\n        \"min\": 0,\n        \"max\": 1,\n        \"num_unique_values\": 2,\n        \"samples\": [\n          1,\n          0\n        ],\n        \"semantic_type\": \"\",\n        \"description\": \"\"\n      }\n    },\n    {\n      \"column\": \"civilwarbefore\",\n      \"properties\": {\n        \"dtype\": \"number\",\n        \"std\": 0,\n        \"min\": 0,\n        \"max\": 1,\n        \"num_unique_values\": 2,\n        \"samples\": [\n          0,\n          1\n        ],\n        \"semantic_type\": \"\",\n        \"description\": \"\"\n      }\n    },\n    {\n      \"column\": \"civilwarafter\",\n      \"properties\": {\n        \"dtype\": \"number\",\n        \"std\": 0,\n        \"min\": 0,\n        \"max\": 1,\n        \"num_unique_values\": 2,\n        \"samples\": [\n          1,\n          0\n        ],\n        \"semantic_type\": \"\",\n        \"description\": \"\"\n      }\n    },\n    {\n      \"column\": \"result\",\n      \"properties\": {\n        \"dtype\": \"category\",\n        \"num_unique_values\": 10,\n        \"samples\": [\n          \"survives but wounded severely\",\n          \"dies within a day after the attack\"\n        ],\n        \"semantic_type\": \"\",\n        \"description\": \"\"\n      }\n    },\n    {\n      \"column\": \"successful_assassination\",\n      \"properties\": {\n        \"dtype\": \"number\",\n        \"std\": 0,\n        \"min\": 0,\n        \"max\": 1,\n        \"num_unique_values\": 2,\n        \"samples\": [\n          1,\n          0\n        ],\n        \"semantic_type\": \"\",\n        \"description\": \"\"\n      }\n    }\n  ]\n}"
            }
          },
          "metadata": {},
          "execution_count": 9
        }
      ]
    },
    {
      "cell_type": "code",
      "source": [
        "assassination_df.columns"
      ],
      "metadata": {
        "colab": {
          "base_uri": "https://localhost:8080/"
        },
        "id": "ea5CIUOcOYgO",
        "outputId": "ba7ae34c-fe3b-4652-827e-f266eb41df93"
      },
      "execution_count": null,
      "outputs": [
        {
          "output_type": "execute_result",
          "data": {
            "text/plain": [
              "Index(['year', 'country', 'leadername', 'age', 'politybefore', 'polityafter',\n",
              "       'interwarbefore', 'interwarafter', 'civilwarbefore', 'civilwarafter',\n",
              "       'result', 'successful_assassination'],\n",
              "      dtype='object')"
            ]
          },
          "metadata": {},
          "execution_count": 10
        }
      ]
    },
    {
      "cell_type": "markdown",
      "source": [
        "# 6. Check the \"n\"s"
      ],
      "metadata": {
        "id": "pTFvtLjdDK6d"
      }
    },
    {
      "cell_type": "markdown",
      "source": [
        "There should be around 88 countries"
      ],
      "metadata": {
        "id": "5SJh6SakPNab"
      }
    },
    {
      "cell_type": "code",
      "source": [
        "# Number of countries\n",
        "countries = set(assassination_df['country'])\n",
        "countries_length = len(countries)\n",
        "print(countries)\n",
        "print(countries_length)"
      ],
      "metadata": {
        "colab": {
          "base_uri": "https://localhost:8080/"
        },
        "id": "dDo5tISYD-bq",
        "outputId": "d896927c-45d6-408b-fc2a-b6e9a60666ee"
      },
      "execution_count": null,
      "outputs": [
        {
          "output_type": "stream",
          "name": "stdout",
          "text": [
            "{'Algeria', 'Bolivia', 'Niger', 'Georgia', 'Uruguay', 'Ivory Coast', 'Chad', 'Senegal', 'Guinea', 'Cambodia', 'Rwanda', 'Sweden', 'Sudan', 'Haiti', 'Israel', 'Somalia', 'Korea South', 'India', 'Congo Brazzaville', 'Peru', 'France', 'Cyprus', 'Pakistan', 'Guatemala', 'Saudi Arabia', 'Yemen North', 'Honduras', 'Netherlands', 'Portugal', 'Iran', 'Mexico', 'Togo', 'Ethiopia', 'Libya', 'Lebanon', 'Sri Lanka', 'Austria', 'Panama', 'Uzbekistan', 'Nepal', 'Madagascar', 'Kuwait', 'Cuba', 'Egypt', 'Venezuela', 'Afghanistan', 'Colombia', 'Ecuador', 'Myanmar (Burma)', 'Bulgaria', 'Kenya', 'Uganda', 'Iraq', 'Syria', 'Liberia', 'United States', 'China', 'Greece', 'United Kingdom', 'Spain', 'Jordan', 'Nicaragua', 'Albania', 'Czechoslovakia', 'Indonesia', 'Australia', 'Japan', 'Bhutan', 'Ghana', 'Turkey', 'Poland', 'South Africa', 'Burundi', 'Belgium', 'Chile', 'Yugoslavia', 'Costa Rica', 'Brazil', 'El Salvador', 'Argentina', 'Dominican Rep', 'Vietnam South', 'Oman', 'Canada', 'Italy', 'Russia', 'Germany', 'Congo Kinshasa'}\n",
            "88\n"
          ]
        }
      ]
    },
    {
      "cell_type": "markdown",
      "source": [
        "The country with the highest number of leaders should be Japan and Mexico."
      ],
      "metadata": {
        "id": "q9ds5hSXR6aX"
      }
    },
    {
      "cell_type": "code",
      "source": [
        "country_counts = assassination_df['country'].value_counts()\n",
        "country_counts"
      ],
      "metadata": {
        "colab": {
          "base_uri": "https://localhost:8080/"
        },
        "id": "IMRjA2WsRoqx",
        "outputId": "482e103b-189c-4ba9-cf45-3725987283af"
      },
      "execution_count": null,
      "outputs": [
        {
          "output_type": "execute_result",
          "data": {
            "text/plain": [
              "country\n",
              "Japan            11\n",
              "Mexico           11\n",
              "France           10\n",
              "Russia           10\n",
              "United States     8\n",
              "                 ..\n",
              "Oman              1\n",
              "Panama            1\n",
              "Colombia          1\n",
              "Chad              1\n",
              "Yugoslavia        1\n",
              "Name: count, Length: 88, dtype: int64"
            ]
          },
          "metadata": {},
          "execution_count": 12
        }
      ]
    },
    {
      "cell_type": "markdown",
      "source": [
        "The year range should be from 1878 to 2001"
      ],
      "metadata": {
        "id": "_UiaiD_2PVI8"
      }
    },
    {
      "cell_type": "code",
      "source": [
        "# Date range\n",
        "min_year = assassination_df['year'].min()\n",
        "max_year = assassination_df['year'].max()\n",
        "\n",
        "print(\"Year Range:\", min_year, \"to\", max_year)"
      ],
      "metadata": {
        "colab": {
          "base_uri": "https://localhost:8080/"
        },
        "id": "Cp2tUimXPVrR",
        "outputId": "e12017c6-2a02-458c-90af-096582681663"
      },
      "execution_count": null,
      "outputs": [
        {
          "output_type": "stream",
          "name": "stdout",
          "text": [
            "Year Range: 1878 to 2001\n"
          ]
        }
      ]
    },
    {
      "cell_type": "markdown",
      "source": [
        "There should be leader of ages ranging from 18 to 81 years"
      ],
      "metadata": {
        "id": "Mh0n3uqrP5rU"
      }
    },
    {
      "cell_type": "code",
      "source": [
        "# Minimum and maximum age of leaders\n",
        "min_age = assassination_df['age'].min()\n",
        "max_age = assassination_df['age'].max()\n",
        "\n",
        "print(\"Age Range:\", min_age, \"to\", max_age)"
      ],
      "metadata": {
        "colab": {
          "base_uri": "https://localhost:8080/"
        },
        "id": "RAbqWRO9QAKD",
        "outputId": "fd295f2b-ef09-4860-fff0-782ef9ecfdf9"
      },
      "execution_count": null,
      "outputs": [
        {
          "output_type": "stream",
          "name": "stdout",
          "text": [
            "Age Range: 18 to 81\n"
          ]
        }
      ]
    },
    {
      "cell_type": "markdown",
      "source": [
        "The polity scale which is a scale of democracy should be in the range of -10 (fully autocratic) to 10(fully democratic)"
      ],
      "metadata": {
        "id": "2jybLMUGQ43v"
      }
    },
    {
      "cell_type": "code",
      "source": [
        "# Minimum and maximum polity scores before the leader's assassination\n",
        "min_politybefore = assassination_df['politybefore'].min()\n",
        "max_politybefore = assassination_df['politybefore'].max()\n",
        "\n",
        "# Minimum and maximum polity scores after the leader's assassination\n",
        "min_polityafter = assassination_df['polityafter'].min()\n",
        "max_polityafter = assassination_df['polityafter'].max()\n",
        "\n",
        "print(\"Polity Before Range:\", min_politybefore, \"to\", max_politybefore)\n",
        "print(\"Polity After Range:\", min_polityafter, \"to\", max_polityafter)\n"
      ],
      "metadata": {
        "colab": {
          "base_uri": "https://localhost:8080/"
        },
        "id": "CP_w6PdWRW28",
        "outputId": "18194e2f-7306-4329-fb53-f88dafbaef06"
      },
      "execution_count": null,
      "outputs": [
        {
          "output_type": "stream",
          "name": "stdout",
          "text": [
            "Polity Before Range: -10.0 to 10.0\n",
            "Polity After Range: -10.0 to 10.0\n"
          ]
        }
      ]
    },
    {
      "cell_type": "markdown",
      "source": [
        "# 7. Validate against an external knowledge or data source"
      ],
      "metadata": {
        "id": "vRED5KCADeU7"
      }
    },
    {
      "cell_type": "markdown",
      "source": [
        "The year is positive"
      ],
      "metadata": {
        "id": "NMhNExSmS2HF"
      }
    },
    {
      "cell_type": "code",
      "source": [
        "assassination_df['year'].min()"
      ],
      "metadata": {
        "colab": {
          "base_uri": "https://localhost:8080/"
        },
        "id": "TB1OiRemDwCH",
        "outputId": "8526c01f-1ce4-48d4-ef20-2cbb4d0d99fe"
      },
      "execution_count": null,
      "outputs": [
        {
          "output_type": "execute_result",
          "data": {
            "text/plain": [
              "1878"
            ]
          },
          "metadata": {},
          "execution_count": 16
        }
      ]
    },
    {
      "cell_type": "markdown",
      "source": [
        "The age is positive"
      ],
      "metadata": {
        "id": "W1H7sfOGS-6f"
      }
    },
    {
      "cell_type": "code",
      "source": [
        "assassination_df['age'].min()"
      ],
      "metadata": {
        "colab": {
          "base_uri": "https://localhost:8080/"
        },
        "id": "B7BpYvR5TvY8",
        "outputId": "981533ec-0b29-43bd-b748-8e05b7e6cf47"
      },
      "execution_count": null,
      "outputs": [
        {
          "output_type": "execute_result",
          "data": {
            "text/plain": [
              "18"
            ]
          },
          "metadata": {},
          "execution_count": 17
        }
      ]
    },
    {
      "cell_type": "markdown",
      "source": [
        "The columns interwarbefore, interwarafter, civilwarbefore, civilwarafter are all just 0 and 1 (categorical)"
      ],
      "metadata": {
        "id": "kxHHOxizTBgn"
      }
    },
    {
      "cell_type": "code",
      "source": [
        "pd.Categorical(assassination_df['interwarbefore']).unique()"
      ],
      "metadata": {
        "colab": {
          "base_uri": "https://localhost:8080/"
        },
        "id": "5pZYIe2YTTqw",
        "outputId": "22bdc213-3049-4289-de4e-4a17141481cb"
      },
      "execution_count": null,
      "outputs": [
        {
          "output_type": "execute_result",
          "data": {
            "text/plain": [
              "[0, 1]\n",
              "Categories (2, int64): [0, 1]"
            ]
          },
          "metadata": {},
          "execution_count": 18
        }
      ]
    },
    {
      "cell_type": "code",
      "source": [
        "pd.Categorical(assassination_df['interwarafter']).unique()"
      ],
      "metadata": {
        "colab": {
          "base_uri": "https://localhost:8080/"
        },
        "id": "afJxrJVFTdLu",
        "outputId": "cd2da29e-515e-4583-9a80-0724c08ca98d"
      },
      "execution_count": null,
      "outputs": [
        {
          "output_type": "execute_result",
          "data": {
            "text/plain": [
              "[0, 1]\n",
              "Categories (2, int64): [0, 1]"
            ]
          },
          "metadata": {},
          "execution_count": 19
        }
      ]
    },
    {
      "cell_type": "code",
      "source": [
        "pd.Categorical(assassination_df['civilwarbefore']).unique()"
      ],
      "metadata": {
        "colab": {
          "base_uri": "https://localhost:8080/"
        },
        "id": "umPA5G2oTizp",
        "outputId": "70244764-27e2-4466-f268-8323d30f63b0"
      },
      "execution_count": null,
      "outputs": [
        {
          "output_type": "execute_result",
          "data": {
            "text/plain": [
              "[1, 0]\n",
              "Categories (2, int64): [0, 1]"
            ]
          },
          "metadata": {},
          "execution_count": 20
        }
      ]
    },
    {
      "cell_type": "code",
      "source": [
        "pd.Categorical(assassination_df['civilwarafter']).unique()"
      ],
      "metadata": {
        "colab": {
          "base_uri": "https://localhost:8080/"
        },
        "id": "i_a3EgTeTdt2",
        "outputId": "55afcdfd-4891-40e0-e97d-b108d0612b28"
      },
      "execution_count": null,
      "outputs": [
        {
          "output_type": "execute_result",
          "data": {
            "text/plain": [
              "[0, 1]\n",
              "Categories (2, int64): [0, 1]"
            ]
          },
          "metadata": {},
          "execution_count": 21
        }
      ]
    },
    {
      "cell_type": "markdown",
      "source": [
        "Is the distribution of polityafter typical?"
      ],
      "metadata": {
        "id": "N_eqfXv1UWGn"
      }
    },
    {
      "cell_type": "code",
      "source": [
        "assassination_df['polityafter'].describe()"
      ],
      "metadata": {
        "colab": {
          "base_uri": "https://localhost:8080/"
        },
        "id": "OzQu3-QWT_3l",
        "outputId": "69e9c2e3-8339-4982-eece-d6dec29d8730"
      },
      "execution_count": null,
      "outputs": [
        {
          "output_type": "execute_result",
          "data": {
            "text/plain": [
              "count    250.000000\n",
              "mean      -1.650000\n",
              "std        6.525638\n",
              "min      -10.000000\n",
              "25%       -7.000000\n",
              "50%       -3.166667\n",
              "75%        3.916667\n",
              "max       10.000000\n",
              "Name: polityafter, dtype: float64"
            ]
          },
          "metadata": {},
          "execution_count": 22
        }
      ]
    },
    {
      "cell_type": "markdown",
      "source": [
        "The distribution of polityafter is right-skewed based on the summary statistics. The mean value of approximately -1.65 is less than the median value of -3.166667. This indicates that the majority of the data is concentrated towards the lower end of the distribution, with some extreme values pulling the mean towards the right. The standard deviation of approximately 6.53 suggests variability in the data points around the mean. Furthermore, the minimum value of -10 and the maximum value of 10 indicate a wide range of values, with some leaders experiencing significant changes in polity scores after their assassination. I cannot take the log of polityafter for doing linear regression as its rightly skewed because the polity scale contains negative numbers for which the log is not defined."
      ],
      "metadata": {
        "id": "J7XttQUcT1_Q"
      }
    },
    {
      "cell_type": "markdown",
      "source": [
        "# 8. Make a plot"
      ],
      "metadata": {
        "id": "6TjYoV0lY4Co"
      }
    },
    {
      "cell_type": "markdown",
      "source": [
        "Making a sub df for the assasinations data frame with the coulmns needed to plot and perform tests on."
      ],
      "metadata": {
        "id": "oOlX8h7VZK77"
      }
    },
    {
      "cell_type": "code",
      "source": [
        "cols = ['politybefore', 'polityafter', 'interwarbefore', 'interwarafter', 'civilwarbefore', 'civilwarafter' ]\n",
        "\n",
        "# Make a new DataFrame with relevant columns\n",
        "assassination_subdf = assassination_df[cols + ['successful_assassination']].copy()\n",
        "\n",
        "# Describe the values in each column\n",
        "assassination_subdf.describe()"
      ],
      "metadata": {
        "colab": {
          "base_uri": "https://localhost:8080/",
          "height": 300
        },
        "id": "3kLvlXrW8P83",
        "outputId": "094a8448-49cb-4fd8-ea01-b759c3758566"
      },
      "execution_count": null,
      "outputs": [
        {
          "output_type": "execute_result",
          "data": {
            "text/plain": [
              "       politybefore  polityafter  interwarbefore  interwarafter  \\\n",
              "count    250.000000   250.000000      250.000000     250.000000   \n",
              "mean      -1.518667    -1.650000        0.188000       0.148000   \n",
              "std        6.445519     6.525638        0.391496       0.355812   \n",
              "min      -10.000000   -10.000000        0.000000       0.000000   \n",
              "25%       -7.000000    -7.000000        0.000000       0.000000   \n",
              "50%       -3.000000    -3.166667        0.000000       0.000000   \n",
              "75%        4.000000     3.916667        0.000000       0.000000   \n",
              "max       10.000000    10.000000        1.000000       1.000000   \n",
              "\n",
              "       civilwarbefore  civilwarafter  successful_assassination  \n",
              "count       250.00000     250.000000                 250.00000  \n",
              "mean          0.21600       0.184000                   0.21600  \n",
              "std           0.41234       0.388261                   0.41234  \n",
              "min           0.00000       0.000000                   0.00000  \n",
              "25%           0.00000       0.000000                   0.00000  \n",
              "50%           0.00000       0.000000                   0.00000  \n",
              "75%           0.00000       0.000000                   0.00000  \n",
              "max           1.00000       1.000000                   1.00000  "
            ],
            "text/html": [
              "\n",
              "  <div id=\"df-92a8c376-afff-4cac-bd49-7aed92745094\" class=\"colab-df-container\">\n",
              "    <div>\n",
              "<style scoped>\n",
              "    .dataframe tbody tr th:only-of-type {\n",
              "        vertical-align: middle;\n",
              "    }\n",
              "\n",
              "    .dataframe tbody tr th {\n",
              "        vertical-align: top;\n",
              "    }\n",
              "\n",
              "    .dataframe thead th {\n",
              "        text-align: right;\n",
              "    }\n",
              "</style>\n",
              "<table border=\"1\" class=\"dataframe\">\n",
              "  <thead>\n",
              "    <tr style=\"text-align: right;\">\n",
              "      <th></th>\n",
              "      <th>politybefore</th>\n",
              "      <th>polityafter</th>\n",
              "      <th>interwarbefore</th>\n",
              "      <th>interwarafter</th>\n",
              "      <th>civilwarbefore</th>\n",
              "      <th>civilwarafter</th>\n",
              "      <th>successful_assassination</th>\n",
              "    </tr>\n",
              "  </thead>\n",
              "  <tbody>\n",
              "    <tr>\n",
              "      <th>count</th>\n",
              "      <td>250.000000</td>\n",
              "      <td>250.000000</td>\n",
              "      <td>250.000000</td>\n",
              "      <td>250.000000</td>\n",
              "      <td>250.00000</td>\n",
              "      <td>250.000000</td>\n",
              "      <td>250.00000</td>\n",
              "    </tr>\n",
              "    <tr>\n",
              "      <th>mean</th>\n",
              "      <td>-1.518667</td>\n",
              "      <td>-1.650000</td>\n",
              "      <td>0.188000</td>\n",
              "      <td>0.148000</td>\n",
              "      <td>0.21600</td>\n",
              "      <td>0.184000</td>\n",
              "      <td>0.21600</td>\n",
              "    </tr>\n",
              "    <tr>\n",
              "      <th>std</th>\n",
              "      <td>6.445519</td>\n",
              "      <td>6.525638</td>\n",
              "      <td>0.391496</td>\n",
              "      <td>0.355812</td>\n",
              "      <td>0.41234</td>\n",
              "      <td>0.388261</td>\n",
              "      <td>0.41234</td>\n",
              "    </tr>\n",
              "    <tr>\n",
              "      <th>min</th>\n",
              "      <td>-10.000000</td>\n",
              "      <td>-10.000000</td>\n",
              "      <td>0.000000</td>\n",
              "      <td>0.000000</td>\n",
              "      <td>0.00000</td>\n",
              "      <td>0.000000</td>\n",
              "      <td>0.00000</td>\n",
              "    </tr>\n",
              "    <tr>\n",
              "      <th>25%</th>\n",
              "      <td>-7.000000</td>\n",
              "      <td>-7.000000</td>\n",
              "      <td>0.000000</td>\n",
              "      <td>0.000000</td>\n",
              "      <td>0.00000</td>\n",
              "      <td>0.000000</td>\n",
              "      <td>0.00000</td>\n",
              "    </tr>\n",
              "    <tr>\n",
              "      <th>50%</th>\n",
              "      <td>-3.000000</td>\n",
              "      <td>-3.166667</td>\n",
              "      <td>0.000000</td>\n",
              "      <td>0.000000</td>\n",
              "      <td>0.00000</td>\n",
              "      <td>0.000000</td>\n",
              "      <td>0.00000</td>\n",
              "    </tr>\n",
              "    <tr>\n",
              "      <th>75%</th>\n",
              "      <td>4.000000</td>\n",
              "      <td>3.916667</td>\n",
              "      <td>0.000000</td>\n",
              "      <td>0.000000</td>\n",
              "      <td>0.00000</td>\n",
              "      <td>0.000000</td>\n",
              "      <td>0.00000</td>\n",
              "    </tr>\n",
              "    <tr>\n",
              "      <th>max</th>\n",
              "      <td>10.000000</td>\n",
              "      <td>10.000000</td>\n",
              "      <td>1.000000</td>\n",
              "      <td>1.000000</td>\n",
              "      <td>1.00000</td>\n",
              "      <td>1.000000</td>\n",
              "      <td>1.00000</td>\n",
              "    </tr>\n",
              "  </tbody>\n",
              "</table>\n",
              "</div>\n",
              "    <div class=\"colab-df-buttons\">\n",
              "\n",
              "  <div class=\"colab-df-container\">\n",
              "    <button class=\"colab-df-convert\" onclick=\"convertToInteractive('df-92a8c376-afff-4cac-bd49-7aed92745094')\"\n",
              "            title=\"Convert this dataframe to an interactive table.\"\n",
              "            style=\"display:none;\">\n",
              "\n",
              "  <svg xmlns=\"http://www.w3.org/2000/svg\" height=\"24px\" viewBox=\"0 -960 960 960\">\n",
              "    <path d=\"M120-120v-720h720v720H120Zm60-500h600v-160H180v160Zm220 220h160v-160H400v160Zm0 220h160v-160H400v160ZM180-400h160v-160H180v160Zm440 0h160v-160H620v160ZM180-180h160v-160H180v160Zm440 0h160v-160H620v160Z\"/>\n",
              "  </svg>\n",
              "    </button>\n",
              "\n",
              "  <style>\n",
              "    .colab-df-container {\n",
              "      display:flex;\n",
              "      gap: 12px;\n",
              "    }\n",
              "\n",
              "    .colab-df-convert {\n",
              "      background-color: #E8F0FE;\n",
              "      border: none;\n",
              "      border-radius: 50%;\n",
              "      cursor: pointer;\n",
              "      display: none;\n",
              "      fill: #1967D2;\n",
              "      height: 32px;\n",
              "      padding: 0 0 0 0;\n",
              "      width: 32px;\n",
              "    }\n",
              "\n",
              "    .colab-df-convert:hover {\n",
              "      background-color: #E2EBFA;\n",
              "      box-shadow: 0px 1px 2px rgba(60, 64, 67, 0.3), 0px 1px 3px 1px rgba(60, 64, 67, 0.15);\n",
              "      fill: #174EA6;\n",
              "    }\n",
              "\n",
              "    .colab-df-buttons div {\n",
              "      margin-bottom: 4px;\n",
              "    }\n",
              "\n",
              "    [theme=dark] .colab-df-convert {\n",
              "      background-color: #3B4455;\n",
              "      fill: #D2E3FC;\n",
              "    }\n",
              "\n",
              "    [theme=dark] .colab-df-convert:hover {\n",
              "      background-color: #434B5C;\n",
              "      box-shadow: 0px 1px 3px 1px rgba(0, 0, 0, 0.15);\n",
              "      filter: drop-shadow(0px 1px 2px rgba(0, 0, 0, 0.3));\n",
              "      fill: #FFFFFF;\n",
              "    }\n",
              "  </style>\n",
              "\n",
              "    <script>\n",
              "      const buttonEl =\n",
              "        document.querySelector('#df-92a8c376-afff-4cac-bd49-7aed92745094 button.colab-df-convert');\n",
              "      buttonEl.style.display =\n",
              "        google.colab.kernel.accessAllowed ? 'block' : 'none';\n",
              "\n",
              "      async function convertToInteractive(key) {\n",
              "        const element = document.querySelector('#df-92a8c376-afff-4cac-bd49-7aed92745094');\n",
              "        const dataTable =\n",
              "          await google.colab.kernel.invokeFunction('convertToInteractive',\n",
              "                                                    [key], {});\n",
              "        if (!dataTable) return;\n",
              "\n",
              "        const docLinkHtml = 'Like what you see? Visit the ' +\n",
              "          '<a target=\"_blank\" href=https://colab.research.google.com/notebooks/data_table.ipynb>data table notebook</a>'\n",
              "          + ' to learn more about interactive tables.';\n",
              "        element.innerHTML = '';\n",
              "        dataTable['output_type'] = 'display_data';\n",
              "        await google.colab.output.renderOutput(dataTable, element);\n",
              "        const docLink = document.createElement('div');\n",
              "        docLink.innerHTML = docLinkHtml;\n",
              "        element.appendChild(docLink);\n",
              "      }\n",
              "    </script>\n",
              "  </div>\n",
              "\n",
              "\n",
              "<div id=\"df-dcd8f785-6055-44cb-81d8-ca7dd6006717\">\n",
              "  <button class=\"colab-df-quickchart\" onclick=\"quickchart('df-dcd8f785-6055-44cb-81d8-ca7dd6006717')\"\n",
              "            title=\"Suggest charts\"\n",
              "            style=\"display:none;\">\n",
              "\n",
              "<svg xmlns=\"http://www.w3.org/2000/svg\" height=\"24px\"viewBox=\"0 0 24 24\"\n",
              "     width=\"24px\">\n",
              "    <g>\n",
              "        <path d=\"M19 3H5c-1.1 0-2 .9-2 2v14c0 1.1.9 2 2 2h14c1.1 0 2-.9 2-2V5c0-1.1-.9-2-2-2zM9 17H7v-7h2v7zm4 0h-2V7h2v10zm4 0h-2v-4h2v4z\"/>\n",
              "    </g>\n",
              "</svg>\n",
              "  </button>\n",
              "\n",
              "<style>\n",
              "  .colab-df-quickchart {\n",
              "      --bg-color: #E8F0FE;\n",
              "      --fill-color: #1967D2;\n",
              "      --hover-bg-color: #E2EBFA;\n",
              "      --hover-fill-color: #174EA6;\n",
              "      --disabled-fill-color: #AAA;\n",
              "      --disabled-bg-color: #DDD;\n",
              "  }\n",
              "\n",
              "  [theme=dark] .colab-df-quickchart {\n",
              "      --bg-color: #3B4455;\n",
              "      --fill-color: #D2E3FC;\n",
              "      --hover-bg-color: #434B5C;\n",
              "      --hover-fill-color: #FFFFFF;\n",
              "      --disabled-bg-color: #3B4455;\n",
              "      --disabled-fill-color: #666;\n",
              "  }\n",
              "\n",
              "  .colab-df-quickchart {\n",
              "    background-color: var(--bg-color);\n",
              "    border: none;\n",
              "    border-radius: 50%;\n",
              "    cursor: pointer;\n",
              "    display: none;\n",
              "    fill: var(--fill-color);\n",
              "    height: 32px;\n",
              "    padding: 0;\n",
              "    width: 32px;\n",
              "  }\n",
              "\n",
              "  .colab-df-quickchart:hover {\n",
              "    background-color: var(--hover-bg-color);\n",
              "    box-shadow: 0 1px 2px rgba(60, 64, 67, 0.3), 0 1px 3px 1px rgba(60, 64, 67, 0.15);\n",
              "    fill: var(--button-hover-fill-color);\n",
              "  }\n",
              "\n",
              "  .colab-df-quickchart-complete:disabled,\n",
              "  .colab-df-quickchart-complete:disabled:hover {\n",
              "    background-color: var(--disabled-bg-color);\n",
              "    fill: var(--disabled-fill-color);\n",
              "    box-shadow: none;\n",
              "  }\n",
              "\n",
              "  .colab-df-spinner {\n",
              "    border: 2px solid var(--fill-color);\n",
              "    border-color: transparent;\n",
              "    border-bottom-color: var(--fill-color);\n",
              "    animation:\n",
              "      spin 1s steps(1) infinite;\n",
              "  }\n",
              "\n",
              "  @keyframes spin {\n",
              "    0% {\n",
              "      border-color: transparent;\n",
              "      border-bottom-color: var(--fill-color);\n",
              "      border-left-color: var(--fill-color);\n",
              "    }\n",
              "    20% {\n",
              "      border-color: transparent;\n",
              "      border-left-color: var(--fill-color);\n",
              "      border-top-color: var(--fill-color);\n",
              "    }\n",
              "    30% {\n",
              "      border-color: transparent;\n",
              "      border-left-color: var(--fill-color);\n",
              "      border-top-color: var(--fill-color);\n",
              "      border-right-color: var(--fill-color);\n",
              "    }\n",
              "    40% {\n",
              "      border-color: transparent;\n",
              "      border-right-color: var(--fill-color);\n",
              "      border-top-color: var(--fill-color);\n",
              "    }\n",
              "    60% {\n",
              "      border-color: transparent;\n",
              "      border-right-color: var(--fill-color);\n",
              "    }\n",
              "    80% {\n",
              "      border-color: transparent;\n",
              "      border-right-color: var(--fill-color);\n",
              "      border-bottom-color: var(--fill-color);\n",
              "    }\n",
              "    90% {\n",
              "      border-color: transparent;\n",
              "      border-bottom-color: var(--fill-color);\n",
              "    }\n",
              "  }\n",
              "</style>\n",
              "\n",
              "  <script>\n",
              "    async function quickchart(key) {\n",
              "      const quickchartButtonEl =\n",
              "        document.querySelector('#' + key + ' button');\n",
              "      quickchartButtonEl.disabled = true;  // To prevent multiple clicks.\n",
              "      quickchartButtonEl.classList.add('colab-df-spinner');\n",
              "      try {\n",
              "        const charts = await google.colab.kernel.invokeFunction(\n",
              "            'suggestCharts', [key], {});\n",
              "      } catch (error) {\n",
              "        console.error('Error during call to suggestCharts:', error);\n",
              "      }\n",
              "      quickchartButtonEl.classList.remove('colab-df-spinner');\n",
              "      quickchartButtonEl.classList.add('colab-df-quickchart-complete');\n",
              "    }\n",
              "    (() => {\n",
              "      let quickchartButtonEl =\n",
              "        document.querySelector('#df-dcd8f785-6055-44cb-81d8-ca7dd6006717 button');\n",
              "      quickchartButtonEl.style.display =\n",
              "        google.colab.kernel.accessAllowed ? 'block' : 'none';\n",
              "    })();\n",
              "  </script>\n",
              "</div>\n",
              "    </div>\n",
              "  </div>\n"
            ],
            "application/vnd.google.colaboratory.intrinsic+json": {
              "type": "dataframe",
              "summary": "{\n  \"name\": \"assassination_subdf\",\n  \"rows\": 8,\n  \"fields\": [\n    {\n      \"column\": \"politybefore\",\n      \"properties\": {\n        \"dtype\": \"number\",\n        \"std\": 88.69875085381994,\n        \"min\": -10.0,\n        \"max\": 250.0,\n        \"num_unique_values\": 8,\n        \"samples\": [\n          -1.5186666666666666,\n          -3.0,\n          250.0\n        ],\n        \"semantic_type\": \"\",\n        \"description\": \"\"\n      }\n    },\n    {\n      \"column\": \"polityafter\",\n      \"properties\": {\n        \"dtype\": \"number\",\n        \"std\": 88.71530391376795,\n        \"min\": -10.0,\n        \"max\": 250.0,\n        \"num_unique_values\": 8,\n        \"samples\": [\n          -1.65,\n          -3.166666666666665,\n          250.0\n        ],\n        \"semantic_type\": \"\",\n        \"description\": \"\"\n      }\n    },\n    {\n      \"column\": \"interwarbefore\",\n      \"properties\": {\n        \"dtype\": \"number\",\n        \"std\": 88.30924418968591,\n        \"min\": 0.0,\n        \"max\": 250.0,\n        \"num_unique_values\": 5,\n        \"samples\": [\n          0.188,\n          1.0,\n          0.3914959467289807\n        ],\n        \"semantic_type\": \"\",\n        \"description\": \"\"\n      }\n    },\n    {\n      \"column\": \"interwarafter\",\n      \"properties\": {\n        \"dtype\": \"number\",\n        \"std\": 88.31306128503904,\n        \"min\": 0.0,\n        \"max\": 250.0,\n        \"num_unique_values\": 5,\n        \"samples\": [\n          0.148,\n          1.0,\n          0.35581232361816\n        ],\n        \"semantic_type\": \"\",\n        \"description\": \"\"\n      }\n    },\n    {\n      \"column\": \"civilwarbefore\",\n      \"properties\": {\n        \"dtype\": \"number\",\n        \"std\": 88.30678181962546,\n        \"min\": 0.0,\n        \"max\": 250.0,\n        \"num_unique_values\": 5,\n        \"samples\": [\n          0.216,\n          1.0,\n          0.41233978268600546\n        ],\n        \"semantic_type\": \"\",\n        \"description\": \"\"\n      }\n    },\n    {\n      \"column\": \"civilwarafter\",\n      \"properties\": {\n        \"dtype\": \"number\",\n        \"std\": 88.3096089730563,\n        \"min\": 0.0,\n        \"max\": 250.0,\n        \"num_unique_values\": 5,\n        \"samples\": [\n          0.184,\n          1.0,\n          0.3882614942945119\n        ],\n        \"semantic_type\": \"\",\n        \"description\": \"\"\n      }\n    },\n    {\n      \"column\": \"successful_assassination\",\n      \"properties\": {\n        \"dtype\": \"number\",\n        \"std\": 88.30678181962546,\n        \"min\": 0.0,\n        \"max\": 250.0,\n        \"num_unique_values\": 5,\n        \"samples\": [\n          0.216,\n          1.0,\n          0.41233978268600546\n        ],\n        \"semantic_type\": \"\",\n        \"description\": \"\"\n      }\n    }\n  ]\n}"
            }
          },
          "metadata": {},
          "execution_count": 23
        }
      ]
    },
    {
      "cell_type": "markdown",
      "source": [
        "Correalte the columns for producing the plot"
      ],
      "metadata": {
        "id": "R5GT8iPKcchN"
      }
    },
    {
      "cell_type": "code",
      "source": [
        "# Only correlate the numeric columns\n",
        "assassination_corr =  assassination_subdf.corr()\n",
        "assassination_corr"
      ],
      "metadata": {
        "colab": {
          "base_uri": "https://localhost:8080/",
          "height": 269
        },
        "id": "C6Jl0JhFbv4T",
        "outputId": "fd69c95d-71f1-48ea-9b13-58252ef24ec2"
      },
      "execution_count": null,
      "outputs": [
        {
          "output_type": "execute_result",
          "data": {
            "text/plain": [
              "                          politybefore  polityafter  interwarbefore  \\\n",
              "politybefore                  1.000000     0.828324        0.047816   \n",
              "polityafter                   0.828324     1.000000        0.131078   \n",
              "interwarbefore                0.047816     0.131078        1.000000   \n",
              "interwarafter                -0.057454     0.015077        0.260743   \n",
              "civilwarbefore               -0.000995     0.008109       -0.028660   \n",
              "civilwarafter                 0.019566    -0.008084        0.009300   \n",
              "successful_assassination      0.066500     0.071542        0.045975   \n",
              "\n",
              "                          interwarafter  civilwarbefore  civilwarafter  \\\n",
              "politybefore                  -0.057454       -0.000995       0.019566   \n",
              "polityafter                    0.015077        0.008109      -0.008084   \n",
              "interwarbefore                 0.260743       -0.028660       0.009300   \n",
              "interwarafter                  1.000000        0.219204       0.209076   \n",
              "civilwarbefore                 0.219204        1.000000       0.428057   \n",
              "civilwarafter                  0.209076        0.428057       1.000000   \n",
              "successful_assassination      -0.109274       -0.086546      -0.048565   \n",
              "\n",
              "                          successful_assassination  \n",
              "politybefore                              0.066500  \n",
              "polityafter                               0.071542  \n",
              "interwarbefore                            0.045975  \n",
              "interwarafter                            -0.109274  \n",
              "civilwarbefore                           -0.086546  \n",
              "civilwarafter                            -0.048565  \n",
              "successful_assassination                  1.000000  "
            ],
            "text/html": [
              "\n",
              "  <div id=\"df-cd4cc3e2-7444-403e-91d4-08c1e8ff3cbc\" class=\"colab-df-container\">\n",
              "    <div>\n",
              "<style scoped>\n",
              "    .dataframe tbody tr th:only-of-type {\n",
              "        vertical-align: middle;\n",
              "    }\n",
              "\n",
              "    .dataframe tbody tr th {\n",
              "        vertical-align: top;\n",
              "    }\n",
              "\n",
              "    .dataframe thead th {\n",
              "        text-align: right;\n",
              "    }\n",
              "</style>\n",
              "<table border=\"1\" class=\"dataframe\">\n",
              "  <thead>\n",
              "    <tr style=\"text-align: right;\">\n",
              "      <th></th>\n",
              "      <th>politybefore</th>\n",
              "      <th>polityafter</th>\n",
              "      <th>interwarbefore</th>\n",
              "      <th>interwarafter</th>\n",
              "      <th>civilwarbefore</th>\n",
              "      <th>civilwarafter</th>\n",
              "      <th>successful_assassination</th>\n",
              "    </tr>\n",
              "  </thead>\n",
              "  <tbody>\n",
              "    <tr>\n",
              "      <th>politybefore</th>\n",
              "      <td>1.000000</td>\n",
              "      <td>0.828324</td>\n",
              "      <td>0.047816</td>\n",
              "      <td>-0.057454</td>\n",
              "      <td>-0.000995</td>\n",
              "      <td>0.019566</td>\n",
              "      <td>0.066500</td>\n",
              "    </tr>\n",
              "    <tr>\n",
              "      <th>polityafter</th>\n",
              "      <td>0.828324</td>\n",
              "      <td>1.000000</td>\n",
              "      <td>0.131078</td>\n",
              "      <td>0.015077</td>\n",
              "      <td>0.008109</td>\n",
              "      <td>-0.008084</td>\n",
              "      <td>0.071542</td>\n",
              "    </tr>\n",
              "    <tr>\n",
              "      <th>interwarbefore</th>\n",
              "      <td>0.047816</td>\n",
              "      <td>0.131078</td>\n",
              "      <td>1.000000</td>\n",
              "      <td>0.260743</td>\n",
              "      <td>-0.028660</td>\n",
              "      <td>0.009300</td>\n",
              "      <td>0.045975</td>\n",
              "    </tr>\n",
              "    <tr>\n",
              "      <th>interwarafter</th>\n",
              "      <td>-0.057454</td>\n",
              "      <td>0.015077</td>\n",
              "      <td>0.260743</td>\n",
              "      <td>1.000000</td>\n",
              "      <td>0.219204</td>\n",
              "      <td>0.209076</td>\n",
              "      <td>-0.109274</td>\n",
              "    </tr>\n",
              "    <tr>\n",
              "      <th>civilwarbefore</th>\n",
              "      <td>-0.000995</td>\n",
              "      <td>0.008109</td>\n",
              "      <td>-0.028660</td>\n",
              "      <td>0.219204</td>\n",
              "      <td>1.000000</td>\n",
              "      <td>0.428057</td>\n",
              "      <td>-0.086546</td>\n",
              "    </tr>\n",
              "    <tr>\n",
              "      <th>civilwarafter</th>\n",
              "      <td>0.019566</td>\n",
              "      <td>-0.008084</td>\n",
              "      <td>0.009300</td>\n",
              "      <td>0.209076</td>\n",
              "      <td>0.428057</td>\n",
              "      <td>1.000000</td>\n",
              "      <td>-0.048565</td>\n",
              "    </tr>\n",
              "    <tr>\n",
              "      <th>successful_assassination</th>\n",
              "      <td>0.066500</td>\n",
              "      <td>0.071542</td>\n",
              "      <td>0.045975</td>\n",
              "      <td>-0.109274</td>\n",
              "      <td>-0.086546</td>\n",
              "      <td>-0.048565</td>\n",
              "      <td>1.000000</td>\n",
              "    </tr>\n",
              "  </tbody>\n",
              "</table>\n",
              "</div>\n",
              "    <div class=\"colab-df-buttons\">\n",
              "\n",
              "  <div class=\"colab-df-container\">\n",
              "    <button class=\"colab-df-convert\" onclick=\"convertToInteractive('df-cd4cc3e2-7444-403e-91d4-08c1e8ff3cbc')\"\n",
              "            title=\"Convert this dataframe to an interactive table.\"\n",
              "            style=\"display:none;\">\n",
              "\n",
              "  <svg xmlns=\"http://www.w3.org/2000/svg\" height=\"24px\" viewBox=\"0 -960 960 960\">\n",
              "    <path d=\"M120-120v-720h720v720H120Zm60-500h600v-160H180v160Zm220 220h160v-160H400v160Zm0 220h160v-160H400v160ZM180-400h160v-160H180v160Zm440 0h160v-160H620v160ZM180-180h160v-160H180v160Zm440 0h160v-160H620v160Z\"/>\n",
              "  </svg>\n",
              "    </button>\n",
              "\n",
              "  <style>\n",
              "    .colab-df-container {\n",
              "      display:flex;\n",
              "      gap: 12px;\n",
              "    }\n",
              "\n",
              "    .colab-df-convert {\n",
              "      background-color: #E8F0FE;\n",
              "      border: none;\n",
              "      border-radius: 50%;\n",
              "      cursor: pointer;\n",
              "      display: none;\n",
              "      fill: #1967D2;\n",
              "      height: 32px;\n",
              "      padding: 0 0 0 0;\n",
              "      width: 32px;\n",
              "    }\n",
              "\n",
              "    .colab-df-convert:hover {\n",
              "      background-color: #E2EBFA;\n",
              "      box-shadow: 0px 1px 2px rgba(60, 64, 67, 0.3), 0px 1px 3px 1px rgba(60, 64, 67, 0.15);\n",
              "      fill: #174EA6;\n",
              "    }\n",
              "\n",
              "    .colab-df-buttons div {\n",
              "      margin-bottom: 4px;\n",
              "    }\n",
              "\n",
              "    [theme=dark] .colab-df-convert {\n",
              "      background-color: #3B4455;\n",
              "      fill: #D2E3FC;\n",
              "    }\n",
              "\n",
              "    [theme=dark] .colab-df-convert:hover {\n",
              "      background-color: #434B5C;\n",
              "      box-shadow: 0px 1px 3px 1px rgba(0, 0, 0, 0.15);\n",
              "      filter: drop-shadow(0px 1px 2px rgba(0, 0, 0, 0.3));\n",
              "      fill: #FFFFFF;\n",
              "    }\n",
              "  </style>\n",
              "\n",
              "    <script>\n",
              "      const buttonEl =\n",
              "        document.querySelector('#df-cd4cc3e2-7444-403e-91d4-08c1e8ff3cbc button.colab-df-convert');\n",
              "      buttonEl.style.display =\n",
              "        google.colab.kernel.accessAllowed ? 'block' : 'none';\n",
              "\n",
              "      async function convertToInteractive(key) {\n",
              "        const element = document.querySelector('#df-cd4cc3e2-7444-403e-91d4-08c1e8ff3cbc');\n",
              "        const dataTable =\n",
              "          await google.colab.kernel.invokeFunction('convertToInteractive',\n",
              "                                                    [key], {});\n",
              "        if (!dataTable) return;\n",
              "\n",
              "        const docLinkHtml = 'Like what you see? Visit the ' +\n",
              "          '<a target=\"_blank\" href=https://colab.research.google.com/notebooks/data_table.ipynb>data table notebook</a>'\n",
              "          + ' to learn more about interactive tables.';\n",
              "        element.innerHTML = '';\n",
              "        dataTable['output_type'] = 'display_data';\n",
              "        await google.colab.output.renderOutput(dataTable, element);\n",
              "        const docLink = document.createElement('div');\n",
              "        docLink.innerHTML = docLinkHtml;\n",
              "        element.appendChild(docLink);\n",
              "      }\n",
              "    </script>\n",
              "  </div>\n",
              "\n",
              "\n",
              "<div id=\"df-386b6369-921f-4d84-8b6c-48cae157cb73\">\n",
              "  <button class=\"colab-df-quickchart\" onclick=\"quickchart('df-386b6369-921f-4d84-8b6c-48cae157cb73')\"\n",
              "            title=\"Suggest charts\"\n",
              "            style=\"display:none;\">\n",
              "\n",
              "<svg xmlns=\"http://www.w3.org/2000/svg\" height=\"24px\"viewBox=\"0 0 24 24\"\n",
              "     width=\"24px\">\n",
              "    <g>\n",
              "        <path d=\"M19 3H5c-1.1 0-2 .9-2 2v14c0 1.1.9 2 2 2h14c1.1 0 2-.9 2-2V5c0-1.1-.9-2-2-2zM9 17H7v-7h2v7zm4 0h-2V7h2v10zm4 0h-2v-4h2v4z\"/>\n",
              "    </g>\n",
              "</svg>\n",
              "  </button>\n",
              "\n",
              "<style>\n",
              "  .colab-df-quickchart {\n",
              "      --bg-color: #E8F0FE;\n",
              "      --fill-color: #1967D2;\n",
              "      --hover-bg-color: #E2EBFA;\n",
              "      --hover-fill-color: #174EA6;\n",
              "      --disabled-fill-color: #AAA;\n",
              "      --disabled-bg-color: #DDD;\n",
              "  }\n",
              "\n",
              "  [theme=dark] .colab-df-quickchart {\n",
              "      --bg-color: #3B4455;\n",
              "      --fill-color: #D2E3FC;\n",
              "      --hover-bg-color: #434B5C;\n",
              "      --hover-fill-color: #FFFFFF;\n",
              "      --disabled-bg-color: #3B4455;\n",
              "      --disabled-fill-color: #666;\n",
              "  }\n",
              "\n",
              "  .colab-df-quickchart {\n",
              "    background-color: var(--bg-color);\n",
              "    border: none;\n",
              "    border-radius: 50%;\n",
              "    cursor: pointer;\n",
              "    display: none;\n",
              "    fill: var(--fill-color);\n",
              "    height: 32px;\n",
              "    padding: 0;\n",
              "    width: 32px;\n",
              "  }\n",
              "\n",
              "  .colab-df-quickchart:hover {\n",
              "    background-color: var(--hover-bg-color);\n",
              "    box-shadow: 0 1px 2px rgba(60, 64, 67, 0.3), 0 1px 3px 1px rgba(60, 64, 67, 0.15);\n",
              "    fill: var(--button-hover-fill-color);\n",
              "  }\n",
              "\n",
              "  .colab-df-quickchart-complete:disabled,\n",
              "  .colab-df-quickchart-complete:disabled:hover {\n",
              "    background-color: var(--disabled-bg-color);\n",
              "    fill: var(--disabled-fill-color);\n",
              "    box-shadow: none;\n",
              "  }\n",
              "\n",
              "  .colab-df-spinner {\n",
              "    border: 2px solid var(--fill-color);\n",
              "    border-color: transparent;\n",
              "    border-bottom-color: var(--fill-color);\n",
              "    animation:\n",
              "      spin 1s steps(1) infinite;\n",
              "  }\n",
              "\n",
              "  @keyframes spin {\n",
              "    0% {\n",
              "      border-color: transparent;\n",
              "      border-bottom-color: var(--fill-color);\n",
              "      border-left-color: var(--fill-color);\n",
              "    }\n",
              "    20% {\n",
              "      border-color: transparent;\n",
              "      border-left-color: var(--fill-color);\n",
              "      border-top-color: var(--fill-color);\n",
              "    }\n",
              "    30% {\n",
              "      border-color: transparent;\n",
              "      border-left-color: var(--fill-color);\n",
              "      border-top-color: var(--fill-color);\n",
              "      border-right-color: var(--fill-color);\n",
              "    }\n",
              "    40% {\n",
              "      border-color: transparent;\n",
              "      border-right-color: var(--fill-color);\n",
              "      border-top-color: var(--fill-color);\n",
              "    }\n",
              "    60% {\n",
              "      border-color: transparent;\n",
              "      border-right-color: var(--fill-color);\n",
              "    }\n",
              "    80% {\n",
              "      border-color: transparent;\n",
              "      border-right-color: var(--fill-color);\n",
              "      border-bottom-color: var(--fill-color);\n",
              "    }\n",
              "    90% {\n",
              "      border-color: transparent;\n",
              "      border-bottom-color: var(--fill-color);\n",
              "    }\n",
              "  }\n",
              "</style>\n",
              "\n",
              "  <script>\n",
              "    async function quickchart(key) {\n",
              "      const quickchartButtonEl =\n",
              "        document.querySelector('#' + key + ' button');\n",
              "      quickchartButtonEl.disabled = true;  // To prevent multiple clicks.\n",
              "      quickchartButtonEl.classList.add('colab-df-spinner');\n",
              "      try {\n",
              "        const charts = await google.colab.kernel.invokeFunction(\n",
              "            'suggestCharts', [key], {});\n",
              "      } catch (error) {\n",
              "        console.error('Error during call to suggestCharts:', error);\n",
              "      }\n",
              "      quickchartButtonEl.classList.remove('colab-df-spinner');\n",
              "      quickchartButtonEl.classList.add('colab-df-quickchart-complete');\n",
              "    }\n",
              "    (() => {\n",
              "      let quickchartButtonEl =\n",
              "        document.querySelector('#df-386b6369-921f-4d84-8b6c-48cae157cb73 button');\n",
              "      quickchartButtonEl.style.display =\n",
              "        google.colab.kernel.accessAllowed ? 'block' : 'none';\n",
              "    })();\n",
              "  </script>\n",
              "</div>\n",
              "    </div>\n",
              "  </div>\n"
            ],
            "application/vnd.google.colaboratory.intrinsic+json": {
              "type": "dataframe",
              "variable_name": "assassination_corr",
              "summary": "{\n  \"name\": \"assassination_corr\",\n  \"rows\": 7,\n  \"fields\": [\n    {\n      \"column\": \"politybefore\",\n      \"properties\": {\n        \"dtype\": \"number\",\n        \"std\": 0.4432377794733908,\n        \"min\": -0.05745385292286756,\n        \"max\": 1.0,\n        \"num_unique_values\": 7,\n        \"samples\": [\n          1.0,\n          0.8283237480417779,\n          0.019565609014165694\n        ],\n        \"semantic_type\": \"\",\n        \"description\": \"\"\n      }\n    },\n    {\n      \"column\": \"polityafter\",\n      \"properties\": {\n        \"dtype\": \"number\",\n        \"std\": 0.43025864593433144,\n        \"min\": -0.008083948749681014,\n        \"max\": 1.0,\n        \"num_unique_values\": 7,\n        \"samples\": [\n          0.8283237480417779,\n          1.0,\n          -0.008083948749681014\n        ],\n        \"semantic_type\": \"\",\n        \"description\": \"\"\n      }\n    },\n    {\n      \"column\": \"interwarbefore\",\n      \"properties\": {\n        \"dtype\": \"number\",\n        \"std\": 0.3613281736505012,\n        \"min\": -0.02865963296647642,\n        \"max\": 1.0,\n        \"num_unique_values\": 7,\n        \"samples\": [\n          0.04781599766001539,\n          0.13107796176044145,\n          0.009300187934053373\n        ],\n        \"semantic_type\": \"\",\n        \"description\": \"\"\n      }\n    },\n    {\n      \"column\": \"interwarafter\",\n      \"properties\": {\n        \"dtype\": \"number\",\n        \"std\": 0.3736250843470025,\n        \"min\": -0.109273527252834,\n        \"max\": 1.0,\n        \"num_unique_values\": 7,\n        \"samples\": [\n          -0.05745385292286756,\n          0.015076729733689667,\n          0.20907640507290176\n        ],\n        \"semantic_type\": \"\",\n        \"description\": \"\"\n      }\n    },\n    {\n      \"column\": \"civilwarbefore\",\n      \"properties\": {\n        \"dtype\": \"number\",\n        \"std\": 0.3875622168537656,\n        \"min\": -0.08654572940287225,\n        \"max\": 1.0,\n        \"num_unique_values\": 7,\n        \"samples\": [\n          -0.0009952981254807774,\n          0.008109401612383847,\n          0.4280573277483183\n        ],\n        \"semantic_type\": \"\",\n        \"description\": \"\"\n      }\n    },\n    {\n      \"column\": \"civilwarafter\",\n      \"properties\": {\n        \"dtype\": \"number\",\n        \"std\": 0.3785582512754418,\n        \"min\": -0.048565341451051604,\n        \"max\": 1.0,\n        \"num_unique_values\": 7,\n        \"samples\": [\n          0.019565609014165694,\n          -0.008083948749681014,\n          1.0\n        ],\n        \"semantic_type\": \"\",\n        \"description\": \"\"\n      }\n    },\n    {\n      \"column\": \"successful_assassination\",\n      \"properties\": {\n        \"dtype\": \"number\",\n        \"std\": 0.3888688524221322,\n        \"min\": -0.109273527252834,\n        \"max\": 1.0,\n        \"num_unique_values\": 7,\n        \"samples\": [\n          0.06649961524214057,\n          0.07154183753747219,\n          -0.048565341451051604\n        ],\n        \"semantic_type\": \"\",\n        \"description\": \"\"\n      }\n    }\n  ]\n}"
            }
          },
          "metadata": {},
          "execution_count": 24
        }
      ]
    },
    {
      "cell_type": "code",
      "source": [
        "assassination_mask = np.zeros_like(assassination_corr) #array of zeros of the same shape\n",
        "assassination_mask[np.triu_indices_from(assassination_mask)] = True #turn upper triangle into ones\n",
        "\n",
        "# Set up the plotting environment\n",
        "f,ax = plt.subplots(1,1,figsize=(12,12))\n",
        "\n",
        "# Make a heatmap, masking the upper triangle\n",
        "sb.heatmap(assassination_corr,vmin=-1,vmax=1,mask=assassination_mask,annot=True,square=True,ax=ax,cmap='coolwarm_r')"
      ],
      "metadata": {
        "colab": {
          "base_uri": "https://localhost:8080/",
          "height": 1000
        },
        "id": "0Lt99AWibVXm",
        "outputId": "bb0e96c6-2ecf-406a-f977-1fc0f9d54989"
      },
      "execution_count": null,
      "outputs": [
        {
          "output_type": "execute_result",
          "data": {
            "text/plain": [
              "<Axes: >"
            ]
          },
          "metadata": {},
          "execution_count": 25
        },
        {
          "output_type": "display_data",
          "data": {
            "text/plain": [
              "<Figure size 1200x1200 with 2 Axes>"
            ],
            "image/png": "[encoded data removed]"
          },
          "metadata": {}
        }
      ]
    },
    {
      "cell_type": "markdown",
      "source": [
        "The politybefore and polityafter are highly correlated with each other. Also the variable I'm trying to find significance such as interwarbefore and succesful assassination for comparing with primaryclaim also hold some significance"
      ],
      "metadata": {
        "id": "jk_zJ8d4g9QC"
      }
    },
    {
      "cell_type": "markdown",
      "source": [
        "# Individual plots for each perdictor variable with polityafter"
      ],
      "metadata": {
        "id": "6yEHKrm0hx__"
      }
    },
    {
      "cell_type": "markdown",
      "source": [
        "# Primary Claim : Succesful Assassination and polityafter Box Plot"
      ],
      "metadata": {
        "id": "1kqpzGf2h5Dy"
      }
    },
    {
      "cell_type": "code",
      "source": [
        "# Box plot\n",
        "plt.figure(figsize=(8, 6))\n",
        "sb.boxplot(x='successful_assassination', y='polityafter', data=assassination_df)\n",
        "plt.xlabel('Successful Assassination')\n",
        "plt.ylabel('Polity After')\n",
        "plt.title('Distribution of Polity After by Successful Assassination')\n",
        "plt.show()"
      ],
      "metadata": {
        "colab": {
          "base_uri": "https://localhost:8080/",
          "height": 564
        },
        "id": "dGr3mksfupdk",
        "outputId": "2a175ed2-4d29-498a-858f-bbcdcc05ef13"
      },
      "execution_count": null,
      "outputs": [
        {
          "output_type": "display_data",
          "data": {
            "text/plain": [
              "<Figure size 800x600 with 1 Axes>"
            ],
            "image/png": "[encoded data removed]"
          },
          "metadata": {}
        }
      ]
    },
    {
      "cell_type": "markdown",
      "source": [
        "On average, successful assassinations tend to lead to higher levels of polity after scores meaning greater decrease in democracy compared to unsuccessful assassinations. Additionally, there appears to be more variability in polity after scores for unsuccessful assassinations compared to successful ones."
      ],
      "metadata": {
        "id": "MkFY9O5KgDJ0"
      }
    },
    {
      "cell_type": "markdown",
      "source": [
        "# Alternative Claim :\n",
        "\n",
        "# politybefore and polityafter Scatter Plot"
      ],
      "metadata": {
        "id": "t4CxJOERiEfM"
      }
    },
    {
      "cell_type": "code",
      "source": [
        "# Extracting data\n",
        "polity_before = assassination_df['politybefore']\n",
        "polity_after = assassination_df['polityafter']\n",
        "\n",
        "# Scatter plot\n",
        "plt.figure(figsize=(8, 6))\n",
        "plt.scatter(polity_before, polity_after, alpha=0.5, label='Data Points')\n",
        "plt.xlabel('Polity Before')\n",
        "plt.ylabel('Polity After')\n",
        "plt.title('Relationship between Polity Before and Polity After')\n",
        "\n",
        "# Add a line of best fit\n",
        "m, b = np.polyfit(polity_before, polity_after, 1)  # Fit a first-degree polynomial (linear regression)\n",
        "plt.plot(polity_before, m * polity_before + b, color='red', label='Line of Best Fit')\n",
        "\n",
        "# Display legend\n",
        "plt.legend()\n",
        "\n",
        "plt.grid(True)\n",
        "plt.show()\n"
      ],
      "metadata": {
        "colab": {
          "base_uri": "https://localhost:8080/",
          "height": 564
        },
        "id": "dhlFkOtois4W",
        "outputId": "d53c0b3a-9372-413d-d8b6-120ef065694f"
      },
      "execution_count": null,
      "outputs": [
        {
          "output_type": "display_data",
          "data": {
            "text/plain": [
              "<Figure size 800x600 with 1 Axes>"
            ],
            "image/png": "[encoded data removed]"
          },
          "metadata": {}
        }
      ]
    },
    {
      "cell_type": "markdown",
      "source": [
        "\"Polity Before\" against \"Polity After\" plot suggests a linear relationship between these two variables. In this specific case, the line has a positive slope, indicating a positive correlation between the political regime before a leader's assassination attempt and the political regime after their tenure. Higher values of \"Polity Before\", representing a more democratic regime before the leader's assassination attempt, tend to be associated with higher values of \"Polity After\", indicating a sustained or improved level of democracy after the leader's assassination attempt."
      ],
      "metadata": {
        "id": "6SPkHgdejrPv"
      }
    },
    {
      "cell_type": "markdown",
      "source": [
        "# Alternative Claim:\n",
        "\n",
        "#interwarbefore and polityafter plot"
      ],
      "metadata": {
        "id": "hWO2Las9kLRO"
      }
    },
    {
      "cell_type": "code",
      "source": [
        "import seaborn as sns\n",
        "import matplotlib.pyplot as plt\n",
        "\n",
        "# Box plot\n",
        "plt.figure(figsize=(8, 6))\n",
        "sns.boxplot(x='interwarbefore', y='polityafter', data=assassination_df)\n",
        "plt.xlabel('Interwar Before')\n",
        "plt.ylabel('Polity After')\n",
        "plt.title('Relationship between Interwar Before and Polity After')\n",
        "plt.grid(True)\n",
        "plt.show()"
      ],
      "metadata": {
        "colab": {
          "base_uri": "https://localhost:8080/",
          "height": 564
        },
        "id": "o0BhMAlqv7RP",
        "outputId": "b414cd9d-375c-461b-d863-cccc1beb75f6"
      },
      "execution_count": null,
      "outputs": [
        {
          "output_type": "display_data",
          "data": {
            "text/plain": [
              "<Figure size 800x600 with 1 Axes>"
            ],
            "image/png": "[encoded data removed]"
          },
          "metadata": {}
        }
      ]
    },
    {
      "cell_type": "markdown",
      "source": [
        "The box plot indicates that if there was an interwar period before, the 'polityafter' tends to be higher. The relationship observed in the plot suggests that the presence of an interwar period may have a positive impact on the level of democracy or political stability afterward"
      ],
      "metadata": {
        "id": "IGOtATjnkU0Z"
      }
    },
    {
      "cell_type": "markdown",
      "source": [
        "# 9. Try an easy solution"
      ],
      "metadata": {
        "id": "OHIlw7eKZ7Nz"
      }
    },
    {
      "cell_type": "markdown",
      "source": [
        "Normal test\n",
        "\n",
        "Normal Probabilit Plot"
      ],
      "metadata": {
        "id": "N0vH1Rp2aMxm"
      }
    },
    {
      "cell_type": "code",
      "source": [
        "# Create normal probability plots for 'successful_assassination', 'polityafter', 'politybefore', and 'interwarbefore'\n",
        "plt.figure(figsize=(16, 8))\n",
        "\n",
        "plt.subplot(2, 2, 1)\n",
        "probplot(assassination_df['successful_assassination'], plot=plt)\n",
        "plt.title('Normal Probability Plot: Successful Assassination')\n",
        "\n",
        "plt.subplot(2, 2, 2)\n",
        "probplot(assassination_df['polityafter'], plot=plt)\n",
        "plt.title('Normal Probability Plot: Polity After')\n",
        "\n",
        "plt.subplot(2, 2, 3)\n",
        "probplot(assassination_df['politybefore'], plot=plt)\n",
        "plt.title('Normal Probability Plot: Polity Before')\n",
        "\n",
        "plt.subplot(2, 2, 4)\n",
        "probplot(assassination_df['interwarbefore'], plot=plt)\n",
        "plt.title('Normal Probability Plot: Interwar Before')\n",
        "\n",
        "plt.tight_layout()\n",
        "plt.show()"
      ],
      "metadata": {
        "colab": {
          "base_uri": "https://localhost:8080/",
          "height": 592
        },
        "id": "CInkydRadkBF",
        "outputId": "c976b146-708d-4ca1-dbb1-a37e37eebc9a"
      },
      "execution_count": null,
      "outputs": [
        {
          "output_type": "display_data",
          "data": {
            "text/plain": [
              "<Figure size 1600x800 with 4 Axes>"
            ],
            "image/png": "[encoded data removed]"
          },
          "metadata": {}
        }
      ]
    },
    {
      "cell_type": "markdown",
      "source": [
        "successful_assassination and interwarbefore columns are not normally distributed, while politybefore and polityafter are roughly normally distributed."
      ],
      "metadata": {
        "id": "yeK9QADad-Ev"
      }
    },
    {
      "cell_type": "markdown",
      "source": [
        "# Linear Regression for Primary Claim"
      ],
      "metadata": {
        "id": "MLkPsQChg9b6"
      }
    },
    {
      "cell_type": "code",
      "source": [
        "# Specify the model relationship using column titles, make sure to also fit the model\n",
        "primary_model = smf.ols(formula = 'polityafter ~ C(successful_assassination)',data=assassination_subdf).fit()\n",
        "\n",
        "# Summarize the model\n",
        "primary_model.summary()"
      ],
      "metadata": {
        "colab": {
          "base_uri": "https://localhost:8080/",
          "height": 451
        },
        "id": "koK1J7Q91THR",
        "outputId": "98b1c57c-824b-4aa9-dea3-45e84545c1b3"
      },
      "execution_count": null,
      "outputs": [
        {
          "output_type": "execute_result",
          "data": {
            "text/plain": [
              "<class 'statsmodels.iolib.summary.Summary'>\n",
              "\"\"\"\n",
              "                            OLS Regression Results                            \n",
              "==============================================================================\n",
              "Dep. Variable:            polityafter   R-squared:                       0.005\n",
              "Model:                            OLS   Adj. R-squared:                  0.001\n",
              "Method:                 Least Squares   F-statistic:                     1.276\n",
              "Date:                Mon, 08 Apr 2024   Prob (F-statistic):              0.260\n",
              "Time:                        20:50:44   Log-Likelihood:                -822.53\n",
              "No. Observations:                 250   AIC:                             1649.\n",
              "Df Residuals:                     248   BIC:                             1656.\n",
              "Df Model:                           1                                         \n",
              "Covariance Type:            nonrobust                                         \n",
              "====================================================================================================\n",
              "                                       coef    std err          t      P>|t|      [0.025      0.975]\n",
              "----------------------------------------------------------------------------------------------------\n",
              "Intercept                           -1.8946      0.466     -4.067      0.000      -2.812      -0.977\n",
              "C(successful_assassination)[T.1]     1.1322      1.002      1.130      0.260      -0.842       3.106\n",
              "==============================================================================\n",
              "Omnibus:                       78.342   Durbin-Watson:                   1.043\n",
              "Prob(Omnibus):                  0.000   Jarque-Bera (JB):               22.700\n",
              "Skew:                           0.499   Prob(JB):                     1.18e-05\n",
              "Kurtosis:                       1.912   Cond. No.                         2.57\n",
              "==============================================================================\n",
              "\n",
              "Notes:\n",
              "[1] Standard Errors assume that the covariance matrix of the errors is correctly specified.\n",
              "\"\"\""
            ],
            "text/html": [
              "<table class=\"simpletable\">\n",
              "<caption>OLS Regression Results</caption>\n",
              "<tr>\n",
              "  <th>Dep. Variable:</th>       <td>polityafter</td>   <th>  R-squared:         </th> <td>   0.005</td>\n",
              "</tr>\n",
              "<tr>\n",
              "  <th>Model:</th>                   <td>OLS</td>       <th>  Adj. R-squared:    </th> <td>   0.001</td>\n",
              "</tr>\n",
              "<tr>\n",
              "  <th>Method:</th>             <td>Least Squares</td>  <th>  F-statistic:       </th> <td>   1.276</td>\n",
              "</tr>\n",
              "<tr>\n",
              "  <th>Date:</th>             <td>Mon, 08 Apr 2024</td> <th>  Prob (F-statistic):</th>  <td> 0.260</td> \n",
              "</tr>\n",
              "<tr>\n",
              "  <th>Time:</th>                 <td>20:50:44</td>     <th>  Log-Likelihood:    </th> <td> -822.53</td>\n",
              "</tr>\n",
              "<tr>\n",
              "  <th>No. Observations:</th>      <td>   250</td>      <th>  AIC:               </th> <td>   1649.</td>\n",
              "</tr>\n",
              "<tr>\n",
              "  <th>Df Residuals:</th>          <td>   248</td>      <th>  BIC:               </th> <td>   1656.</td>\n",
              "</tr>\n",
              "<tr>\n",
              "  <th>Df Model:</th>              <td>     1</td>      <th>                     </th>     <td> </td>   \n",
              "</tr>\n",
              "<tr>\n",
              "  <th>Covariance Type:</th>      <td>nonrobust</td>    <th>                     </th>     <td> </td>   \n",
              "</tr>\n",
              "</table>\n",
              "<table class=\"simpletable\">\n",
              "<tr>\n",
              "                  <td></td>                    <th>coef</th>     <th>std err</th>      <th>t</th>      <th>P>|t|</th>  <th>[0.025</th>    <th>0.975]</th>  \n",
              "</tr>\n",
              "<tr>\n",
              "  <th>Intercept</th>                        <td>   -1.8946</td> <td>    0.466</td> <td>   -4.067</td> <td> 0.000</td> <td>   -2.812</td> <td>   -0.977</td>\n",
              "</tr>\n",
              "<tr>\n",
              "  <th>C(successful_assassination)[T.1]</th> <td>    1.1322</td> <td>    1.002</td> <td>    1.130</td> <td> 0.260</td> <td>   -0.842</td> <td>    3.106</td>\n",
              "</tr>\n",
              "</table>\n",
              "<table class=\"simpletable\">\n",
              "<tr>\n",
              "  <th>Omnibus:</th>       <td>78.342</td> <th>  Durbin-Watson:     </th> <td>   1.043</td>\n",
              "</tr>\n",
              "<tr>\n",
              "  <th>Prob(Omnibus):</th> <td> 0.000</td> <th>  Jarque-Bera (JB):  </th> <td>  22.700</td>\n",
              "</tr>\n",
              "<tr>\n",
              "  <th>Skew:</th>          <td> 0.499</td> <th>  Prob(JB):          </th> <td>1.18e-05</td>\n",
              "</tr>\n",
              "<tr>\n",
              "  <th>Kurtosis:</th>      <td> 1.912</td> <th>  Cond. No.          </th> <td>    2.57</td>\n",
              "</tr>\n",
              "</table><br/><br/>Notes:<br/>[1] Standard Errors assume that the covariance matrix of the errors is correctly specified."
            ],
            "text/latex": "\\begin{center}\n\\begin{tabular}{lclc}\n\\toprule\n\\textbf{Dep. Variable:}                    &   polityafter    & \\textbf{  R-squared:         } &     0.005   \\\\\n\\textbf{Model:}                            &       OLS        & \\textbf{  Adj. R-squared:    } &     0.001   \\\\\n\\textbf{Method:}                           &  Least Squares   & \\textbf{  F-statistic:       } &     1.276   \\\\\n\\textbf{Date:}                             & Mon, 08 Apr 2024 & \\textbf{  Prob (F-statistic):} &    0.260    \\\\\n\\textbf{Time:}                             &     20:50:44     & \\textbf{  Log-Likelihood:    } &   -822.53   \\\\\n\\textbf{No. Observations:}                 &         250      & \\textbf{  AIC:               } &     1649.   \\\\\n\\textbf{Df Residuals:}                     &         248      & \\textbf{  BIC:               } &     1656.   \\\\\n\\textbf{Df Model:}                         &           1      & \\textbf{                     } &             \\\\\n\\textbf{Covariance Type:}                  &    nonrobust     & \\textbf{                     } &             \\\\\n\\bottomrule\n\\end{tabular}\n\\begin{tabular}{lcccccc}\n                                           & \\textbf{coef} & \\textbf{std err} & \\textbf{t} & \\textbf{P$> |$t$|$} & \\textbf{[0.025} & \\textbf{0.975]}  \\\\\n\\midrule\n\\textbf{Intercept}                         &      -1.8946  &        0.466     &    -4.067  &         0.000        &       -2.812    &       -0.977     \\\\\n\\textbf{C(successful\\_assassination)[T.1]} &       1.1322  &        1.002     &     1.130  &         0.260        &       -0.842    &        3.106     \\\\\n\\bottomrule\n\\end{tabular}\n\\begin{tabular}{lclc}\n\\textbf{Omnibus:}       & 78.342 & \\textbf{  Durbin-Watson:     } &    1.043  \\\\\n\\textbf{Prob(Omnibus):} &  0.000 & \\textbf{  Jarque-Bera (JB):  } &   22.700  \\\\\n\\textbf{Skew:}          &  0.499 & \\textbf{  Prob(JB):          } & 1.18e-05  \\\\\n\\textbf{Kurtosis:}      &  1.912 & \\textbf{  Cond. No.          } &     2.57  \\\\\n\\bottomrule\n\\end{tabular}\n%\\caption{OLS Regression Results}\n\\end{center}\n\nNotes: \\newline\n [1] Standard Errors assume that the covariance matrix of the errors is correctly specified."
          },
          "metadata": {},
          "execution_count": 30
        }
      ]
    },
    {
      "cell_type": "markdown",
      "source": [
        "This clearly shows coorelation doesn't imply causation, in the plot we saw that there was a correlation between succesful assassination and the polityafter whhich is the level of democracy or autocracy but when checking it's significance , it is not significant because the p value is not less than 5% and the R squared value is very small."
      ],
      "metadata": {
        "id": "ikbi5enJhBap"
      }
    },
    {
      "cell_type": "markdown",
      "source": [
        "# Linear Regression for Alternative Claim"
      ],
      "metadata": {
        "id": "9n0WJXTqh3to"
      }
    },
    {
      "cell_type": "markdown",
      "source": [
        "Hypothesis testing using Linear Regression\n",
        "\n",
        "Two Tailed Test\n",
        "$$\n",
        "H_0: \\text{No correlation between the political regime before , interwarbefore and the political rigime after , i.e., $p=0$}.\n",
        "$$\n",
        "$$\n",
        "H_a: \\text{Some correlation between the political regime before , interwarbefore and the political rigime after , i.e., $p≠0$}.\n",
        "$$\n",
        "\n",
        "Significance level is 5%(0.05)"
      ],
      "metadata": {
        "id": "4WP8MI90iEIU"
      }
    },
    {
      "cell_type": "code",
      "source": [
        "# Specify the model relationship using column titles, make sure to also fit the model\n",
        "alternative_model = smf.ols(formula = 'polityafter ~ politybefore + C(interwarbefore)',data=assassination_subdf).fit()\n",
        "\n",
        "# Summarize the model\n",
        "alternative_model.summary()"
      ],
      "metadata": {
        "colab": {
          "base_uri": "https://localhost:8080/",
          "height": 473
        },
        "id": "mG_heAcyC2FO",
        "outputId": "3cfac3e9-2bcd-4fac-dd8f-2b090d1cea5d"
      },
      "execution_count": null,
      "outputs": [
        {
          "output_type": "execute_result",
          "data": {
            "text/plain": [
              "<class 'statsmodels.iolib.summary.Summary'>\n",
              "\"\"\"\n",
              "                            OLS Regression Results                            \n",
              "==============================================================================\n",
              "Dep. Variable:            polityafter   R-squared:                       0.695\n",
              "Model:                            OLS   Adj. R-squared:                  0.692\n",
              "Method:                 Least Squares   F-statistic:                     280.8\n",
              "Date:                Mon, 08 Apr 2024   Prob (F-statistic):           2.50e-64\n",
              "Time:                        20:50:44   Log-Likelihood:                -674.94\n",
              "No. Observations:                 250   AIC:                             1356.\n",
              "Df Residuals:                     247   BIC:                             1366.\n",
              "Df Model:                           2                                         \n",
              "Covariance Type:            nonrobust                                         \n",
              "==========================================================================================\n",
              "                             coef    std err          t      P>|t|      [0.025      0.975]\n",
              "------------------------------------------------------------------------------------------\n",
              "Intercept                 -0.6705      0.261     -2.569      0.011      -1.185      -0.156\n",
              "C(interwarbefore)[T.1]     1.5282      0.587      2.604      0.010       0.372       2.684\n",
              "politybefore               0.8342      0.036     23.402      0.000       0.764       0.904\n",
              "==============================================================================\n",
              "Omnibus:                       45.029   Durbin-Watson:                   1.664\n",
              "Prob(Omnibus):                  0.000   Jarque-Bera (JB):              212.174\n",
              "Skew:                          -0.591   Prob(JB):                     8.45e-47\n",
              "Kurtosis:                       7.356   Cond. No.                         17.3\n",
              "==============================================================================\n",
              "\n",
              "Notes:\n",
              "[1] Standard Errors assume that the covariance matrix of the errors is correctly specified.\n",
              "\"\"\""
            ],
            "text/html": [
              "<table class=\"simpletable\">\n",
              "<caption>OLS Regression Results</caption>\n",
              "<tr>\n",
              "  <th>Dep. Variable:</th>       <td>polityafter</td>   <th>  R-squared:         </th> <td>   0.695</td>\n",
              "</tr>\n",
              "<tr>\n",
              "  <th>Model:</th>                   <td>OLS</td>       <th>  Adj. R-squared:    </th> <td>   0.692</td>\n",
              "</tr>\n",
              "<tr>\n",
              "  <th>Method:</th>             <td>Least Squares</td>  <th>  F-statistic:       </th> <td>   280.8</td>\n",
              "</tr>\n",
              "<tr>\n",
              "  <th>Date:</th>             <td>Mon, 08 Apr 2024</td> <th>  Prob (F-statistic):</th> <td>2.50e-64</td>\n",
              "</tr>\n",
              "<tr>\n",
              "  <th>Time:</th>                 <td>20:50:44</td>     <th>  Log-Likelihood:    </th> <td> -674.94</td>\n",
              "</tr>\n",
              "<tr>\n",
              "  <th>No. Observations:</th>      <td>   250</td>      <th>  AIC:               </th> <td>   1356.</td>\n",
              "</tr>\n",
              "<tr>\n",
              "  <th>Df Residuals:</th>          <td>   247</td>      <th>  BIC:               </th> <td>   1366.</td>\n",
              "</tr>\n",
              "<tr>\n",
              "  <th>Df Model:</th>              <td>     2</td>      <th>                     </th>     <td> </td>   \n",
              "</tr>\n",
              "<tr>\n",
              "  <th>Covariance Type:</th>      <td>nonrobust</td>    <th>                     </th>     <td> </td>   \n",
              "</tr>\n",
              "</table>\n",
              "<table class=\"simpletable\">\n",
              "<tr>\n",
              "             <td></td>               <th>coef</th>     <th>std err</th>      <th>t</th>      <th>P>|t|</th>  <th>[0.025</th>    <th>0.975]</th>  \n",
              "</tr>\n",
              "<tr>\n",
              "  <th>Intercept</th>              <td>   -0.6705</td> <td>    0.261</td> <td>   -2.569</td> <td> 0.011</td> <td>   -1.185</td> <td>   -0.156</td>\n",
              "</tr>\n",
              "<tr>\n",
              "  <th>C(interwarbefore)[T.1]</th> <td>    1.5282</td> <td>    0.587</td> <td>    2.604</td> <td> 0.010</td> <td>    0.372</td> <td>    2.684</td>\n",
              "</tr>\n",
              "<tr>\n",
              "  <th>politybefore</th>           <td>    0.8342</td> <td>    0.036</td> <td>   23.402</td> <td> 0.000</td> <td>    0.764</td> <td>    0.904</td>\n",
              "</tr>\n",
              "</table>\n",
              "<table class=\"simpletable\">\n",
              "<tr>\n",
              "  <th>Omnibus:</th>       <td>45.029</td> <th>  Durbin-Watson:     </th> <td>   1.664</td>\n",
              "</tr>\n",
              "<tr>\n",
              "  <th>Prob(Omnibus):</th> <td> 0.000</td> <th>  Jarque-Bera (JB):  </th> <td> 212.174</td>\n",
              "</tr>\n",
              "<tr>\n",
              "  <th>Skew:</th>          <td>-0.591</td> <th>  Prob(JB):          </th> <td>8.45e-47</td>\n",
              "</tr>\n",
              "<tr>\n",
              "  <th>Kurtosis:</th>      <td> 7.356</td> <th>  Cond. No.          </th> <td>    17.3</td>\n",
              "</tr>\n",
              "</table><br/><br/>Notes:<br/>[1] Standard Errors assume that the covariance matrix of the errors is correctly specified."
            ],
            "text/latex": "\\begin{center}\n\\begin{tabular}{lclc}\n\\toprule\n\\textbf{Dep. Variable:}         &   polityafter    & \\textbf{  R-squared:         } &     0.695   \\\\\n\\textbf{Model:}                 &       OLS        & \\textbf{  Adj. R-squared:    } &     0.692   \\\\\n\\textbf{Method:}                &  Least Squares   & \\textbf{  F-statistic:       } &     280.8   \\\\\n\\textbf{Date:}                  & Mon, 08 Apr 2024 & \\textbf{  Prob (F-statistic):} &  2.50e-64   \\\\\n\\textbf{Time:}                  &     20:50:44     & \\textbf{  Log-Likelihood:    } &   -674.94   \\\\\n\\textbf{No. Observations:}      &         250      & \\textbf{  AIC:               } &     1356.   \\\\\n\\textbf{Df Residuals:}          &         247      & \\textbf{  BIC:               } &     1366.   \\\\\n\\textbf{Df Model:}              &           2      & \\textbf{                     } &             \\\\\n\\textbf{Covariance Type:}       &    nonrobust     & \\textbf{                     } &             \\\\\n\\bottomrule\n\\end{tabular}\n\\begin{tabular}{lcccccc}\n                                & \\textbf{coef} & \\textbf{std err} & \\textbf{t} & \\textbf{P$> |$t$|$} & \\textbf{[0.025} & \\textbf{0.975]}  \\\\\n\\midrule\n\\textbf{Intercept}              &      -0.6705  &        0.261     &    -2.569  &         0.011        &       -1.185    &       -0.156     \\\\\n\\textbf{C(interwarbefore)[T.1]} &       1.5282  &        0.587     &     2.604  &         0.010        &        0.372    &        2.684     \\\\\n\\textbf{politybefore}           &       0.8342  &        0.036     &    23.402  &         0.000        &        0.764    &        0.904     \\\\\n\\bottomrule\n\\end{tabular}\n\\begin{tabular}{lclc}\n\\textbf{Omnibus:}       & 45.029 & \\textbf{  Durbin-Watson:     } &    1.664  \\\\\n\\textbf{Prob(Omnibus):} &  0.000 & \\textbf{  Jarque-Bera (JB):  } &  212.174  \\\\\n\\textbf{Skew:}          & -0.591 & \\textbf{  Prob(JB):          } & 8.45e-47  \\\\\n\\textbf{Kurtosis:}      &  7.356 & \\textbf{  Cond. No.          } &     17.3  \\\\\n\\bottomrule\n\\end{tabular}\n%\\caption{OLS Regression Results}\n\\end{center}\n\nNotes: \\newline\n [1] Standard Errors assume that the covariance matrix of the errors is correctly specified."
          },
          "metadata": {},
          "execution_count": 31
        }
      ]
    },
    {
      "cell_type": "markdown",
      "source": [
        "Firstly, both 'politybefore' and 'interwarbefore' were found to be statistically significant predictors of 'polityafter', with coefficients of 0.8342 and 1.5282 and p value 0f 0.000 and 0.0010 which are both less than 0.05, respectively. This suggests that for each unit increase in 'politybefore' or 'interwarbefore', 'polityafter' is expected to increase by approximately 0.8342 units or 1.5282 units, holding other variables constant. The model's overall explanatory power was significant, with an R-squared value of 0.695, indicating that approximately 69.5% of the variance in 'polityafter' can be explained by the independent variables. Hence, we reject the null hypothesis and say they are indeed statistically significant."
      ],
      "metadata": {
        "id": "--8uQ8g7jRXe"
      }
    },
    {
      "cell_type": "markdown",
      "source": [
        "# Write Up\n",
        "Exploratory Data Analysis on Assassination data.\n",
        "\n",
        "I have selected the article titled \"Hit or Miss? The Effect of Assassinations on Institutions and War\" which makes a strong causal claim regarding the impact of assassinations on political institutions and the likelihood of war. The primary argument of the article is that successful assassinations of autocratic leaders tend to result in sustained moves towards democracy. It suggests that the removal of autocratic leaders through assassination can lead to political reforms and democratization processes within countries. The article implies a direct causal relationship between successful assassinations and increased levels of democracy in affected nations.The primary causal mechanism being claimed in the article is that the successful assassination of autocratic leaders leads to sustained moves towards democracy within countries. The argument suggests that the removal of autocratic leaders creates opportunities for political reform and transition towards more democratic governance structures. It implies that the elimination of authoritarian figures through assassination acts as a catalyst for political change and democratization processes. The article posits that the absence of autocratic leaders enables the emergence of more democratic institutions and practices, ultimately resulting in greater political freedom and stability.\n",
        "\n",
        "The Alternative casual relationship I have suggested is this- The level of democracy of a country is the result of multiple causal factors the political regime before the leader's assassination attempt, and the occurrence of interwar periods before the leader's assassination attempt.\n",
        "The alternative claim presented suggests that the level of democracy in a country is influenced by multiple causal factors beyond just the occurrence of successful assassinations. Instead of attributing the movement towards democracy solely to the removal of autocratic leaders through assassination, the alternative claim proposes that other factors such as the political regime before the leader's assassination attempt and the occurrence of interwar periods also play significant roles. It argues that the level of democracy in a country is shaped by a complex interplay of various political and historical factors, rather than being solely determined by the outcome of assassination events.\n",
        "\n",
        "To support my alternative causal relationship, I can utilize Hill's framework to argue for its superiority in explaining the observed relationship between the level of democracy in a country and various causal factors. Strength: My alternative claim suggests that the effect size of the relationship between the level of democracy and various causal factors, including the political regime before the leader's assassination attempt and the occurrence of interwar periods, could be substantial. While the effect of successful assassinations on democracy levels may indeed exist, it may not be as large as previously assumed when other factors are considered. By demonstrating the significant impact of multiple causal factors on democracy levels, including potential large effects from political regime dynamics and historical periods, my alternative claim strengthens the argument for a multifaceted explanation of democratization processes.Consistency: The alternative claim proposes that the relationship between democracy levels and multiple causal factors can be replicated across different countries and time periods. By conducting cross-national and longitudinal analyses, I can demonstrate that variations in democracy levels consistently correspond to changes in political regime types, occurrences of interwar periods, and other relevant factors. This consistency across diverse contexts strengthens the reproducibility of the alternative explanation, indicating that it provides a robust framework for understanding democratization processes.Specificity: My alternative claim aims to pinpoint the association between democracy levels and various causal factors, thereby minimizing the plausibility of alternative explanations. While the relationship between successful assassinations and democracy levels may lack specificity, the alternative claim identifies specific mechanisms such as the influence of political regime dynamics and historical periods on democratization. By elucidating these specific pathways, the alternative claim offers a more nuanced understanding of the factors driving changes in democracy levels, reducing the likelihood of alternative explanations.\n",
        "\n",
        "Temporality: The alternative claim adheres to the principle that causes precede effects, ensuring that there is no \"time traveling\" in the causal pathway. By examining the sequence and timing of events such as changes in political regimes and occurrences of interwar periods relative to shifts in democracy levels, I can establish a clear temporal relationship between causal factors and their effects on democratization processes. This temporal coherence strengthens the credibility of the alternative explanation, ruling out potential confounding factors related to temporal sequencing.Gradient: I will investigate whether the strength of various causal factors correlates with the magnitude of their effects on democracy levels, thereby assessing the presence of a gradient. By examining how variations in political regime types or the intensity of interwar periods correspond to changes in democracy levels, I can determine whether stronger treatments result in greater effects on democratization. This analysis will provide insights into the dose-response relationship between causal factors and democracy levels, enhancing the robustness of the alternative explanation.Plausibility: The alternative claim posits that the causal mechanisms involving political regime dynamics, historical periods, and other factors are inherently plausible in driving changes in democracy levels. By drawing on theoretical frameworks from political science, history, and related disciplines, I can elucidate the underlying mechanisms through which these factors influence democratization processes. This plausibility strengthens the credibility of the alternative explanation, as it aligns with established theories and empirical evidence regarding democratization dynamics.Coherence: My alternative claim offers a coherent account of the multifaceted nature of democratization processes by integrating insights from various disciplines and bodies of evidence. By demonstrating compatibility with existing research on democratization, including studies on political regime change, historical transitions, and democratic consolidation, the alternative explanation provides a comprehensive understanding of the factors driving changes in democracy levels. This coherence enhances the explanatory power of the alternative claim, as it aligns with and builds upon existing knowledge in the field.Experiment: While experimental manipulation may not be feasible in this context, observational studies and comparative case analyses can replicate the effects observed in the alternative claim. By conducting rigorous empirical research using appropriate methodological approaches, I can assess the reproducibility of the alternative explanation across different contexts and settings. While experiments cannot directly reproduce historical events or political developments, they can provide valuable insights into the causal mechanisms underlying democratization processes, thereby supporting the validity of the alternative claim.In summary, my alternative claim offers a compelling explanation for variations in democracy levels by emphasizing the importance of multiple causal factors, including political regime dynamics and historical interwar\n",
        "periods.\n",
        "\n",
        "The variables that correspond to my alternative casual mechanism are politybefore and interwarbefore CAUSES polityafter. which alligns with the claim that says the poltical regime or level of democracy before and interwar before the assassination attempt CAUSES the political regime after which the level of democracy. I have employed heat map correlation and Linear regression to further assess my claim.\n",
        "\n",
        "I started off with loading the data from the provided CSV file using Pandas. The dataset contains information about leaders, including their country, age, political regime before and after their tenure, as well as indicators of interwar and civil war periods. After loading the data, I performed initial checks to ensure data integrity and completeness. This involved examining the shape of the dataset to get an idea of its size, checking for missing values in each column, and validating certain assumptions, such as the range of years and ages, and the distribution of the polity scores. Next, I created a new column to classify assassinations as successful or unsuccessful based on the information in the 'result' column. This allowed for easier analysis of the primary claim, which suggests a causal relationship between successful assassinations and moves towards democracy. Further exploration involved assessing the number of unique countries and their distribution, as well as examining the distribution of polity scores before and after leader tenures. I found that the polity scores were right-skewed, indicating that most countries had lower polity scores, but there were some outliers with high scores.\n",
        "To validate the data, I checked whether the year and age variables were positive, and I confirmed that categorical variables related to interwar and civil war periods had binary values as expected.\n",
        "\n",
        "For the primary claim that successful assassinations of autocratic leaders lead to sustained moves towards democracy, the internal validity is somewhat compromised due to several factors. Firstly, while the analysis attempted to isolate the effect of successful assassinations on democracy levels, it did not fully account for potential confounding variables or alternative explanations. Factors such as historical contexts, socio-economic conditions, international influences, and internal political dynamics could all contribute to changes in democracy levels independently of assassination events. Without controlling for these variables, it is challenging to confidently attribute changes in democracy levels solely to successful assassinations. Additionally, the linear regression analysis used to assess the primary claim may not fully capture the complex causal mechanisms at play. Linear regression assumes a linear relationship between the independent and dependent variables and relies on several assumptions about the data, such as independence of observations and homoscedasticity. Violations of these assumptions could lead to biased estimates and inaccurate conclusions about the causal relationship between successful assassinations and moves towards democracy. Furthermore, the data used to test the primary claim may suffer from selection bias or measurement error, which could affect the validity of the results. For example, the dataset may not include all relevant cases of successful assassinations or may misclassify some cases as successful when they were not. Additionally, the operationalization of democracy levels and successful assassinations may be subject to subjective interpretation, leading to inconsistencies or inaccuracies in the analysis.\n",
        "\n",
        "In choosing appropriate visualizations, I opted for a correlation matrix heatmap to discern significant correlations between variables, aiding in further analysis.  I began by preparing a subset of the assassination data frame containing the relevant columns required for plotting and subsequent analysis. This sub-dataframe included columns such as 'politybefore', 'polityafter', 'interwarbefore', 'interwarafter', 'civilwarbefore', 'civilwarafter', and 'successful_assassination'. To gain insights into the relationships between these variables, I computed the correlation matrix among the numeric columns using the corr() function. This correlation matrix allowed me to quantify the strength and direction of associations between variables, facilitating the identification of potential patterns or dependencies. Following the computation of the correlation matrix, I visualized the correlations using a heatmap. Heatmaps provide a visually intuitive way to interpret complex correlation structures by representing correlation coefficients as color gradients. I utilized the seaborn library to generate the heatmap, ensuring clarity and aesthetic appeal in the visualization. By masking the upper triangle of the heatmap, I focused on highlighting significant correlations while eliminating redundant information, thereby enhancing interpretability. Upon examination of the heatmap, In this context, the correlation coefficient between 'successful_assassination' and 'polityafter' is 0.072, indicating a weak positive correlation. This weak correlation suggests that while there may be a slight tendency for democracy levels to increase after successful assassinations, the relationship is not significant. Thus, the heatmap does not strongly support the primary claim that successful assassinations lead to a substantial increase in democracy levels. On the other hand, the strong positive correlation coefficient of 0.83 between 'politybefore' and 'polityafter' suggests a robust association between the pre-existing political regime and subsequent democracy levels. This finding implies that the political regime before an assassination attempt has a more pronounced influence on democracy levels than the occurrence of successful assassinations. Additionally, the correlation coefficient between 'interwarbefore' and 'polityafter' is 0.13, which is higher than the correlation coefficient observed between 'successful_assassination' and 'polityafter'. Although this correlation is still relatively weak, it suggests that the occurrence of interwar periods before an assassination attempt may have a slightly more significant influence on democracy levels than the success of the assassination itself.\n",
        "\n",
        "To assess the primary claim asserting that successful assassinations of autocrats lead to sustained movements towards democracy, I constructed a box plot contrasting the distribution of \"polityafter\" scores between successful and unsuccessful assassinations. This visualization unveiled a similiar pattern, revealing that successful assassinations tended to result in higher \"polityafter\" scores, indicative of a regression towards democracy. Conversely, to evaluate the alternative claim positing that democracy levels are influenced by various factors including the political regime before the assassination and the occurrence of interwar periods, I employed a scatter plot to show \"politybefore\" against \"polityafter.\" This plot unearthed a positive linear relationship, suggesting that higher levels of democracy before an assassination correlated with sustained or enhanced democracy afterward, thereby supporting the alternative hypothesis. Additionally, a box plot examining the influence of interwar periods on post-assassination political regimes indicated a potential positive impact on political stability, further reinforcing the alternative causal mechanism.\n",
        "\n",
        "In an attempt to assess the normality of the relevant variables, I conducted normality tests and created normal probability plots for 'successful_assassination', 'polityafter', 'politybefore', and 'interwarbefore'. These plots provide a visual representation of how closely the distribution of each variable aligns with a normal distribution.Upon examination of the normal probability plots, it was evident that 'successful_assassination' and 'interwarbefore' columns did not adhere to a normal distribution, as evidenced by the deviation from the straight line representing normality. Conversely, 'politybefore' and 'polityafter' demonstrated a relatively normal distribution, with the data points closely following the straight line on the probability plot.\n",
        "\n",
        "\n",
        "Following the exploration of the primary and alternative causal claims, I proceeded to compare them using linear regression analysis. For the primary claim, I constructed a linear regression model to examine the relationship between 'successful_assassination' and 'polityafter', representing the level of democracy or autocracy. Despite observing a correlation between these variables in the earlier analysis, the regression results revealed that 'successful_assassination' was not a significant predictor of 'polityafter', as indicated by a p-value above the conventional threshold of 0.05 which was 0.260. Additionally, the low R-squared value 0.005 suggested that the model explained only a small proportion of the variance in 'polityafter', reinforcing the notion that correlation does not imply causation.\n",
        "\n",
        "In contrast, for the alternative claim, I formulated a linear regression model to test the hypothesis that 'politybefore' and 'interwarbefore' are predictive of 'polityafter'. The regression analysis yielded compelling results, with both 'politybefore' and 'interwarbefore' emerging as statistically significant predictors of 'polityafter'. The coefficients associated with these variables indicated that for each unit increase in 'politybefore' or 'interwarbefore', 'polityafter' is expected to increase by approximately 0.8342 units or 1.5282 units, respectively, holding other variables constant. Moreover, the model demonstrated a substantial explanatory power, with an R-squared value of 0.695, implying that approximately 69.5% of the variance in 'polityafter' can be elucidated by the independent variables. Consequently, the null hypothesis was rejected, providing evidence in support of the alternative claim that 'politybefore' and 'interwarbefore' exert a significant influence on 'polityafter'.\n",
        "\n",
        "In comparing the alternative causal mechanism to the author's proposal, the analysis delves into the intricate dynamics of political regime transitions following significant events such as assassinations. Researchers, statisticians, and policymakers are at the forefront of this inquiry, seeking to understand the underlying factors driving political stability and democratization processes. The analysis spans global political contexts, examining historical periods from the late 19th century to the early 21st century, where leadership transitions due to assassinations occurred. Using statistical methods like correlation analysis, linear regression, and hypothesis testing, the notebook aims to elucidate whether successful assassinations indeed lead to sustained moves towards democracy, as suggested by the primary claim. Alternatively, it explores the potential influence of other factors such as the pre-existing political regime and historical contexts like interwar periods, as posited by the alternative claim.By scrutinizing various indicators such as polity scores, historical events, and leadership transitions, the analysis seeks to unravel the who, what, where, when, why, and how of political regime transformations. It evaluates the significance and explanatory power of different causal mechanisms, shedding light on the complex interplay of socio-political variables in shaping governance structures.\n",
        "In future explorations, I researched and found that I could use Longitudnal data, Analyzing longitudinal data spanning a more extensive time frame could provide deeper insights into the long-term effects of political assassinations and historical contexts on political regimes. Maybe also, Conducting regional comparisons to examine variations in the impact of assassinations and historical events on political regimes across different geographic contexts could yield valuable comparative insights.\n",
        "\n",
        "In conducting this analysis, I encountered several noteworthy considerations when comparing the alternative causal mechanism to the author's proposed mechanism. One crucial aspect was the divergence between the dataset provided for analysis and the dataset utilized in the referenced article. This incongruity posed a significant limitation, as it potentially introduced biases and discrepancies in the findings. Given this limitation, future analyses should prioritize using the same dataset as the referenced article to ensure consistency and accuracy in the comparison of results.\n",
        "\n",
        "**Reflection on the unintended consequences of the overconfident casual claims:-**\n",
        "\n",
        "MA5: In reflecting on the unintended consequences of overconfident causal claims, it becomes evident that such claims can have far-reaching implications that extend beyond the realm of academic discourse. Specifically, in the context of the news story/article chosen for Module Assignment 5, the assertion that successful assassinations of autocrats invariably lead to sustained moves towards democracy represents an example of an overconfident causal claim. By presenting this causal relationship as definitive, the article risks oversimplifying the complex dynamics of political regime transitions and disregarding the multitude of factors that influence such processes. One potential unintended consequence of such overconfident causal claims is the perpetuation of misinformation and misinterpretation among policymakers, journalists, and the general public. If policymakers or international organizations were to base their decisions solely on the assumption that successful assassinations unequivocally lead to democratic transitions, they may overlook other critical factors shaping political dynamics. This oversimplification could result in misguided interventions or policies that fail to address the underlying complexities of governance transitions, potentially exacerbating instability or conflict in affected regions.\n",
        "\n",
        "In the world :\n",
        "Furthermore, in the broader context of deploying models based on overconfident causal claims, the consequences can be equally profound. A recent example of this phenomenon can be observed in the deployment of algorithmic models in various sectors, including criminal justice, finance, and healthcare. For instance, in criminal justice systems, predictive policing algorithms have been implemented with the aim of identifying and preventing crime hotspots. However, studies have shown that these algorithms often perpetuate biases inherent in historical data, leading to over-policing of marginalized communities and exacerbating existing disparities in law enforcement practices. Moreover, the overreliance on algorithmic models in healthcare, such as predictive analytics for patient diagnosis and treatment recommendations, can also have unintended consequences. In some cases, the uncritical adoption of these models may lead to misdiagnosis or inappropriate treatment decisions, particularly if the models are not adequately validated or fail to account for individual patient variability.\n",
        "In both scenarios, the overconfident deployment of models can reinforce existing biases, exacerbate inequalities, and undermine trust in institutions. Therefore, it is crucial for researchers, policymakers, and practitioners to approach causal claims and model deployment with humility, acknowledging the inherent uncertainties and limitations. By fostering transparency, accountability, and critical reflection, we can mitigate the unintended consequences of overconfident causal claims and promote more responsible decision-making in both academia and real-world applications."
      ],
      "metadata": {
        "id": "jJ-YzRHspFyT"
      }
    }
  ]
}