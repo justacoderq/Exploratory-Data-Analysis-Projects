{
  "nbformat": 4,
  "nbformat_minor": 0,
  "metadata": {
    "kernelspec": {
      "display_name": "Python 3",
      "language": "python",
      "name": "python3"
    },
    "language_info": {
      "codemirror_mode": {
        "name": "ipython",
        "version": 3
      },
      "file_extension": ".py",
      "mimetype": "text/x-python",
      "name": "python",
      "nbconvert_exporter": "python",
      "pygments_lexer": "ipython3",
      "version": "3.7.4"
    },
    "colab": {
      "provenance": []
    }
  },
  "cells": [
    {
      "cell_type": "markdown",
      "metadata": {
        "id": "FeNVD5zGx1zf"
      },
      "source": [
        "# DS 2500 - Module Assignment 3\n",
        "\n",
        "#Exploratory Data Analysis on Books and Goodreads Dataset.\n",
        "\n",
        "Author: Prachi Aswani"
      ]
    },
    {
      "cell_type": "code",
      "metadata": {
        "id": "v7_CnoBRx1zh"
      },
      "source": [
        "%matplotlib inline\n",
        "import matplotlib.pyplot as plt\n",
        "import seaborn as sb\n",
        "\n",
        "import numpy as np\n",
        "import pandas as pd\n",
        "from scipy.stats import norm, t, gamma, probplot"
      ],
      "execution_count": null,
      "outputs": []
    },
    {
      "cell_type": "markdown",
      "metadata": {
        "id": "4hFgKZJ9x1zk"
      },
      "source": [
        "# 1. Data Analysis Question\n",
        "\n"
      ]
    },
    {
      "cell_type": "markdown",
      "source": [
        "How does the average Goodreads rating of books correlate with their sales figures?"
      ],
      "metadata": {
        "id": "wyUwduoC52GH"
      }
    },
    {
      "cell_type": "markdown",
      "metadata": {
        "id": "QujF8vkYx1zl"
      },
      "source": [
        "# 2. Read in the data\n",
        "\n"
      ]
    },
    {
      "cell_type": "code",
      "source": [
        "# Reads the book sales dataset with all columns\n",
        "books_df = pd.read_csv('https://raw.githubusercontent.com/harsh1399/DS2500-Data_Wrangling/main/Module_Assignment-3/Book_sales_and_Goodreads_ratings/combining-3-books.csv',\n",
        "                       usecols=['title','author','language','year','copiesSold','genre'])\n",
        "\n",
        "# Reads the Goodreads ratings dataset with all columns\n",
        "goodreads_df = pd.read_csv('https://raw.githubusercontent.com/harsh1399/DS2500-Data_Wrangling/main/Module_Assignment-3/Book_sales_and_Goodreads_ratings/combining-3-goodreads.csv',\n",
        "                           usecols = ['bookID','title','authors','average_rating','isbn','isbn13','language_code','  num_pages','ratings_count','text_reviews_count','publication_date','publisher'])"
      ],
      "metadata": {
        "id": "Hixe0kjC4QDk"
      },
      "execution_count": null,
      "outputs": []
    },
    {
      "cell_type": "markdown",
      "metadata": {
        "id": "Pb0vePO9x1zo"
      },
      "source": [
        "# 3. Check the packaging"
      ]
    },
    {
      "cell_type": "markdown",
      "source": [
        "Books dataset shape"
      ],
      "metadata": {
        "id": "y6NHXlWZ9lkm"
      }
    },
    {
      "cell_type": "code",
      "metadata": {
        "id": "wTMgidGVx1zp",
        "colab": {
          "base_uri": "https://localhost:8080/"
        },
        "outputId": "cea0d35c-8742-4bdd-b991-1b2b18f8d621"
      },
      "source": [
        "books_df.shape"
      ],
      "execution_count": null,
      "outputs": [
        {
          "output_type": "execute_result",
          "data": {
            "text/plain": [
              "(166, 6)"
            ]
          },
          "metadata": {},
          "execution_count": 4
        }
      ]
    },
    {
      "cell_type": "markdown",
      "source": [
        "Goodreads dataset shape"
      ],
      "metadata": {
        "id": "s4LU62Ef9ox_"
      }
    },
    {
      "cell_type": "code",
      "source": [
        "goodreads_df.shape"
      ],
      "metadata": {
        "colab": {
          "base_uri": "https://localhost:8080/"
        },
        "id": "_hal6KSw_jUt",
        "outputId": "597dd799-79d4-43f9-b197-c71f0f42f9f2"
      },
      "execution_count": null,
      "outputs": [
        {
          "output_type": "execute_result",
          "data": {
            "text/plain": [
              "(11127, 12)"
            ]
          },
          "metadata": {},
          "execution_count": 5
        }
      ]
    },
    {
      "cell_type": "markdown",
      "metadata": {
        "id": "v1nWGAHJx1zr"
      },
      "source": [
        "# 4. Look at the top and bottom of data"
      ]
    },
    {
      "cell_type": "markdown",
      "source": [
        "Books Dataset - top and bottom of data"
      ],
      "metadata": {
        "id": "zao2YgIn9riJ"
      }
    },
    {
      "cell_type": "code",
      "metadata": {
        "id": "T3cOoAtEx1zs",
        "colab": {
          "base_uri": "https://localhost:8080/",
          "height": 206
        },
        "outputId": "bd6c28b9-2ad4-4f92-a878-ac870d82bcd5"
      },
      "source": [
        "books_df.head()"
      ],
      "execution_count": null,
      "outputs": [
        {
          "output_type": "execute_result",
          "data": {
            "text/plain": [
              "                                      title                    author  \\\n",
              "0  Harry Potter and the Philosopher's Stone             J. K. Rowling   \n",
              "1                         The Little Prince  Antoine de Saint-Exupéry   \n",
              "2                  Dream of the Red Chamber                Cao Xueqin   \n",
              "3                                The Hobbit          J. R. R. Tolkien   \n",
              "4                  And Then There Were None           Agatha Christie   \n",
              "\n",
              "  language  year           copiesSold        genre  \n",
              "0  English  1997  120 million[17][18]      Fantasy  \n",
              "1   French  1943      100 million[19]      Novella  \n",
              "2  Chinese  1800      100 million[19]  Family saga  \n",
              "3  English  1937      100 million[19]      Fantasy  \n",
              "4  English  1939      100 million[20]      Mystery  "
            ],
            "text/html": [
              "\n",
              "  <div id=\"df-662e7b78-db2a-4c8e-aede-494956626837\" class=\"colab-df-container\">\n",
              "    <div>\n",
              "<style scoped>\n",
              "    .dataframe tbody tr th:only-of-type {\n",
              "        vertical-align: middle;\n",
              "    }\n",
              "\n",
              "    .dataframe tbody tr th {\n",
              "        vertical-align: top;\n",
              "    }\n",
              "\n",
              "    .dataframe thead th {\n",
              "        text-align: right;\n",
              "    }\n",
              "</style>\n",
              "<table border=\"1\" class=\"dataframe\">\n",
              "  <thead>\n",
              "    <tr style=\"text-align: right;\">\n",
              "      <th></th>\n",
              "      <th>title</th>\n",
              "      <th>author</th>\n",
              "      <th>language</th>\n",
              "      <th>year</th>\n",
              "      <th>copiesSold</th>\n",
              "      <th>genre</th>\n",
              "    </tr>\n",
              "  </thead>\n",
              "  <tbody>\n",
              "    <tr>\n",
              "      <th>0</th>\n",
              "      <td>Harry Potter and the Philosopher's Stone</td>\n",
              "      <td>J. K. Rowling</td>\n",
              "      <td>English</td>\n",
              "      <td>1997</td>\n",
              "      <td>120 million[17][18]</td>\n",
              "      <td>Fantasy</td>\n",
              "    </tr>\n",
              "    <tr>\n",
              "      <th>1</th>\n",
              "      <td>The Little Prince</td>\n",
              "      <td>Antoine de Saint-Exupéry</td>\n",
              "      <td>French</td>\n",
              "      <td>1943</td>\n",
              "      <td>100 million[19]</td>\n",
              "      <td>Novella</td>\n",
              "    </tr>\n",
              "    <tr>\n",
              "      <th>2</th>\n",
              "      <td>Dream of the Red Chamber</td>\n",
              "      <td>Cao Xueqin</td>\n",
              "      <td>Chinese</td>\n",
              "      <td>1800</td>\n",
              "      <td>100 million[19]</td>\n",
              "      <td>Family saga</td>\n",
              "    </tr>\n",
              "    <tr>\n",
              "      <th>3</th>\n",
              "      <td>The Hobbit</td>\n",
              "      <td>J. R. R. Tolkien</td>\n",
              "      <td>English</td>\n",
              "      <td>1937</td>\n",
              "      <td>100 million[19]</td>\n",
              "      <td>Fantasy</td>\n",
              "    </tr>\n",
              "    <tr>\n",
              "      <th>4</th>\n",
              "      <td>And Then There Were None</td>\n",
              "      <td>Agatha Christie</td>\n",
              "      <td>English</td>\n",
              "      <td>1939</td>\n",
              "      <td>100 million[20]</td>\n",
              "      <td>Mystery</td>\n",
              "    </tr>\n",
              "  </tbody>\n",
              "</table>\n",
              "</div>\n",
              "    <div class=\"colab-df-buttons\">\n",
              "\n",
              "  <div class=\"colab-df-container\">\n",
              "    <button class=\"colab-df-convert\" onclick=\"convertToInteractive('df-662e7b78-db2a-4c8e-aede-494956626837')\"\n",
              "            title=\"Convert this dataframe to an interactive table.\"\n",
              "            style=\"display:none;\">\n",
              "\n",
              "  <svg xmlns=\"http://www.w3.org/2000/svg\" height=\"24px\" viewBox=\"0 -960 960 960\">\n",
              "    <path d=\"M120-120v-720h720v720H120Zm60-500h600v-160H180v160Zm220 220h160v-160H400v160Zm0 220h160v-160H400v160ZM180-400h160v-160H180v160Zm440 0h160v-160H620v160ZM180-180h160v-160H180v160Zm440 0h160v-160H620v160Z\"/>\n",
              "  </svg>\n",
              "    </button>\n",
              "\n",
              "  <style>\n",
              "    .colab-df-container {\n",
              "      display:flex;\n",
              "      gap: 12px;\n",
              "    }\n",
              "\n",
              "    .colab-df-convert {\n",
              "      background-color: #E8F0FE;\n",
              "      border: none;\n",
              "      border-radius: 50%;\n",
              "      cursor: pointer;\n",
              "      display: none;\n",
              "      fill: #1967D2;\n",
              "      height: 32px;\n",
              "      padding: 0 0 0 0;\n",
              "      width: 32px;\n",
              "    }\n",
              "\n",
              "    .colab-df-convert:hover {\n",
              "      background-color: #E2EBFA;\n",
              "      box-shadow: 0px 1px 2px rgba(60, 64, 67, 0.3), 0px 1px 3px 1px rgba(60, 64, 67, 0.15);\n",
              "      fill: #174EA6;\n",
              "    }\n",
              "\n",
              "    .colab-df-buttons div {\n",
              "      margin-bottom: 4px;\n",
              "    }\n",
              "\n",
              "    [theme=dark] .colab-df-convert {\n",
              "      background-color: #3B4455;\n",
              "      fill: #D2E3FC;\n",
              "    }\n",
              "\n",
              "    [theme=dark] .colab-df-convert:hover {\n",
              "      background-color: #434B5C;\n",
              "      box-shadow: 0px 1px 3px 1px rgba(0, 0, 0, 0.15);\n",
              "      filter: drop-shadow(0px 1px 2px rgba(0, 0, 0, 0.3));\n",
              "      fill: #FFFFFF;\n",
              "    }\n",
              "  </style>\n",
              "\n",
              "    <script>\n",
              "      const buttonEl =\n",
              "        document.querySelector('#df-662e7b78-db2a-4c8e-aede-494956626837 button.colab-df-convert');\n",
              "      buttonEl.style.display =\n",
              "        google.colab.kernel.accessAllowed ? 'block' : 'none';\n",
              "\n",
              "      async function convertToInteractive(key) {\n",
              "        const element = document.querySelector('#df-662e7b78-db2a-4c8e-aede-494956626837');\n",
              "        const dataTable =\n",
              "          await google.colab.kernel.invokeFunction('convertToInteractive',\n",
              "                                                    [key], {});\n",
              "        if (!dataTable) return;\n",
              "\n",
              "        const docLinkHtml = 'Like what you see? Visit the ' +\n",
              "          '<a target=\"_blank\" href=https://colab.research.google.com/notebooks/data_table.ipynb>data table notebook</a>'\n",
              "          + ' to learn more about interactive tables.';\n",
              "        element.innerHTML = '';\n",
              "        dataTable['output_type'] = 'display_data';\n",
              "        await google.colab.output.renderOutput(dataTable, element);\n",
              "        const docLink = document.createElement('div');\n",
              "        docLink.innerHTML = docLinkHtml;\n",
              "        element.appendChild(docLink);\n",
              "      }\n",
              "    </script>\n",
              "  </div>\n",
              "\n",
              "\n",
              "<div id=\"df-c9aa92c9-55fb-4a25-938a-ac553145e2cb\">\n",
              "  <button class=\"colab-df-quickchart\" onclick=\"quickchart('df-c9aa92c9-55fb-4a25-938a-ac553145e2cb')\"\n",
              "            title=\"Suggest charts\"\n",
              "            style=\"display:none;\">\n",
              "\n",
              "<svg xmlns=\"http://www.w3.org/2000/svg\" height=\"24px\"viewBox=\"0 0 24 24\"\n",
              "     width=\"24px\">\n",
              "    <g>\n",
              "        <path d=\"M19 3H5c-1.1 0-2 .9-2 2v14c0 1.1.9 2 2 2h14c1.1 0 2-.9 2-2V5c0-1.1-.9-2-2-2zM9 17H7v-7h2v7zm4 0h-2V7h2v10zm4 0h-2v-4h2v4z\"/>\n",
              "    </g>\n",
              "</svg>\n",
              "  </button>\n",
              "\n",
              "<style>\n",
              "  .colab-df-quickchart {\n",
              "      --bg-color: #E8F0FE;\n",
              "      --fill-color: #1967D2;\n",
              "      --hover-bg-color: #E2EBFA;\n",
              "      --hover-fill-color: #174EA6;\n",
              "      --disabled-fill-color: #AAA;\n",
              "      --disabled-bg-color: #DDD;\n",
              "  }\n",
              "\n",
              "  [theme=dark] .colab-df-quickchart {\n",
              "      --bg-color: #3B4455;\n",
              "      --fill-color: #D2E3FC;\n",
              "      --hover-bg-color: #434B5C;\n",
              "      --hover-fill-color: #FFFFFF;\n",
              "      --disabled-bg-color: #3B4455;\n",
              "      --disabled-fill-color: #666;\n",
              "  }\n",
              "\n",
              "  .colab-df-quickchart {\n",
              "    background-color: var(--bg-color);\n",
              "    border: none;\n",
              "    border-radius: 50%;\n",
              "    cursor: pointer;\n",
              "    display: none;\n",
              "    fill: var(--fill-color);\n",
              "    height: 32px;\n",
              "    padding: 0;\n",
              "    width: 32px;\n",
              "  }\n",
              "\n",
              "  .colab-df-quickchart:hover {\n",
              "    background-color: var(--hover-bg-color);\n",
              "    box-shadow: 0 1px 2px rgba(60, 64, 67, 0.3), 0 1px 3px 1px rgba(60, 64, 67, 0.15);\n",
              "    fill: var(--button-hover-fill-color);\n",
              "  }\n",
              "\n",
              "  .colab-df-quickchart-complete:disabled,\n",
              "  .colab-df-quickchart-complete:disabled:hover {\n",
              "    background-color: var(--disabled-bg-color);\n",
              "    fill: var(--disabled-fill-color);\n",
              "    box-shadow: none;\n",
              "  }\n",
              "\n",
              "  .colab-df-spinner {\n",
              "    border: 2px solid var(--fill-color);\n",
              "    border-color: transparent;\n",
              "    border-bottom-color: var(--fill-color);\n",
              "    animation:\n",
              "      spin 1s steps(1) infinite;\n",
              "  }\n",
              "\n",
              "  @keyframes spin {\n",
              "    0% {\n",
              "      border-color: transparent;\n",
              "      border-bottom-color: var(--fill-color);\n",
              "      border-left-color: var(--fill-color);\n",
              "    }\n",
              "    20% {\n",
              "      border-color: transparent;\n",
              "      border-left-color: var(--fill-color);\n",
              "      border-top-color: var(--fill-color);\n",
              "    }\n",
              "    30% {\n",
              "      border-color: transparent;\n",
              "      border-left-color: var(--fill-color);\n",
              "      border-top-color: var(--fill-color);\n",
              "      border-right-color: var(--fill-color);\n",
              "    }\n",
              "    40% {\n",
              "      border-color: transparent;\n",
              "      border-right-color: var(--fill-color);\n",
              "      border-top-color: var(--fill-color);\n",
              "    }\n",
              "    60% {\n",
              "      border-color: transparent;\n",
              "      border-right-color: var(--fill-color);\n",
              "    }\n",
              "    80% {\n",
              "      border-color: transparent;\n",
              "      border-right-color: var(--fill-color);\n",
              "      border-bottom-color: var(--fill-color);\n",
              "    }\n",
              "    90% {\n",
              "      border-color: transparent;\n",
              "      border-bottom-color: var(--fill-color);\n",
              "    }\n",
              "  }\n",
              "</style>\n",
              "\n",
              "  <script>\n",
              "    async function quickchart(key) {\n",
              "      const quickchartButtonEl =\n",
              "        document.querySelector('#' + key + ' button');\n",
              "      quickchartButtonEl.disabled = true;  // To prevent multiple clicks.\n",
              "      quickchartButtonEl.classList.add('colab-df-spinner');\n",
              "      try {\n",
              "        const charts = await google.colab.kernel.invokeFunction(\n",
              "            'suggestCharts', [key], {});\n",
              "      } catch (error) {\n",
              "        console.error('Error during call to suggestCharts:', error);\n",
              "      }\n",
              "      quickchartButtonEl.classList.remove('colab-df-spinner');\n",
              "      quickchartButtonEl.classList.add('colab-df-quickchart-complete');\n",
              "    }\n",
              "    (() => {\n",
              "      let quickchartButtonEl =\n",
              "        document.querySelector('#df-c9aa92c9-55fb-4a25-938a-ac553145e2cb button');\n",
              "      quickchartButtonEl.style.display =\n",
              "        google.colab.kernel.accessAllowed ? 'block' : 'none';\n",
              "    })();\n",
              "  </script>\n",
              "</div>\n",
              "    </div>\n",
              "  </div>\n"
            ],
            "application/vnd.google.colaboratory.intrinsic+json": {
              "type": "dataframe",
              "variable_name": "books_df",
              "summary": "{\n  \"name\": \"books_df\",\n  \"rows\": 166,\n  \"fields\": [\n    {\n      \"column\": \"title\",\n      \"properties\": {\n        \"dtype\": \"string\",\n        \"num_unique_values\": 166,\n        \"samples\": [\n          \"Charlie and the Chocolate Factory\",\n          \"The Exorcist\",\n          \"Gone Girl\"\n        ],\n        \"semantic_type\": \"\",\n        \"description\": \"\"\n      }\n    },\n    {\n      \"column\": \"author\",\n      \"properties\": {\n        \"dtype\": \"string\",\n        \"num_unique_values\": 150,\n        \"samples\": [\n          \"Jiang Rong\",\n          \"Lucy Maud Montgomery\",\n          \"Albert Camus\"\n        ],\n        \"semantic_type\": \"\",\n        \"description\": \"\"\n      }\n    },\n    {\n      \"column\": \"language\",\n      \"properties\": {\n        \"dtype\": \"category\",\n        \"num_unique_values\": 17,\n        \"samples\": [\n          \"English\",\n          \"French\",\n          \"Spanish\"\n        ],\n        \"semantic_type\": \"\",\n        \"description\": \"\"\n      }\n    },\n    {\n      \"column\": \"year\",\n      \"properties\": {\n        \"dtype\": \"number\",\n        \"std\": 164,\n        \"min\": 10,\n        \"max\": 2018,\n        \"num_unique_values\": 93,\n        \"samples\": [\n          2002,\n          1908,\n          2012\n        ],\n        \"semantic_type\": \"\",\n        \"description\": \"\"\n      }\n    },\n    {\n      \"column\": \"copiesSold\",\n      \"properties\": {\n        \"dtype\": \"string\",\n        \"num_unique_values\": 159,\n        \"samples\": [\n          \"20 million[93]\",\n          \"10 million[169]\",\n          \"11\\u201312 million (during 20th century)[143]\"\n        ],\n        \"semantic_type\": \"\",\n        \"description\": \"\"\n      }\n    },\n    {\n      \"column\": \"genre\",\n      \"properties\": {\n        \"dtype\": \"category\",\n        \"num_unique_values\": 22,\n        \"samples\": [\n          \"Fantasy\",\n          \"Manual\",\n          \"Historical\"\n        ],\n        \"semantic_type\": \"\",\n        \"description\": \"\"\n      }\n    }\n  ]\n}"
            }
          },
          "metadata": {},
          "execution_count": 6
        }
      ]
    },
    {
      "cell_type": "code",
      "metadata": {
        "id": "98HgpEuzx1zy",
        "colab": {
          "base_uri": "https://localhost:8080/",
          "height": 206
        },
        "outputId": "1a917494-3e5c-4762-e4f7-57d572c28de8"
      },
      "source": [
        "books_df.tail()"
      ],
      "execution_count": null,
      "outputs": [
        {
          "output_type": "execute_result",
          "data": {
            "text/plain": [
              "                                                 title  \\\n",
              "161                                           The Goal   \n",
              "162                                     Fahrenheit 451   \n",
              "163                                     Angela's Ashes   \n",
              "164  The Story of My Experiments with Truth (સત્યના...   \n",
              "165                              Bridget Jones's Diary   \n",
              "\n",
              "                         author  language  year       copiesSold genre  \n",
              "161         Eliyahu M. Goldratt   English  1984  10 million[169]   NaN  \n",
              "162                Ray Bradbury   English  1953  10 million[170]   NaN  \n",
              "163               Frank McCourt   English  1996  10 million[171]   NaN  \n",
              "164  Mohandas Karamchand Gandhi  Gujarati  1925  10 million[172]   NaN  \n",
              "165              Helen Fielding   English    10              NaN   NaN  "
            ],
            "text/html": [
              "\n",
              "  <div id=\"df-fbfb8d3d-1dcc-4cc5-b045-ba6daf9da8bb\" class=\"colab-df-container\">\n",
              "    <div>\n",
              "<style scoped>\n",
              "    .dataframe tbody tr th:only-of-type {\n",
              "        vertical-align: middle;\n",
              "    }\n",
              "\n",
              "    .dataframe tbody tr th {\n",
              "        vertical-align: top;\n",
              "    }\n",
              "\n",
              "    .dataframe thead th {\n",
              "        text-align: right;\n",
              "    }\n",
              "</style>\n",
              "<table border=\"1\" class=\"dataframe\">\n",
              "  <thead>\n",
              "    <tr style=\"text-align: right;\">\n",
              "      <th></th>\n",
              "      <th>title</th>\n",
              "      <th>author</th>\n",
              "      <th>language</th>\n",
              "      <th>year</th>\n",
              "      <th>copiesSold</th>\n",
              "      <th>genre</th>\n",
              "    </tr>\n",
              "  </thead>\n",
              "  <tbody>\n",
              "    <tr>\n",
              "      <th>161</th>\n",
              "      <td>The Goal</td>\n",
              "      <td>Eliyahu M. Goldratt</td>\n",
              "      <td>English</td>\n",
              "      <td>1984</td>\n",
              "      <td>10 million[169]</td>\n",
              "      <td>NaN</td>\n",
              "    </tr>\n",
              "    <tr>\n",
              "      <th>162</th>\n",
              "      <td>Fahrenheit 451</td>\n",
              "      <td>Ray Bradbury</td>\n",
              "      <td>English</td>\n",
              "      <td>1953</td>\n",
              "      <td>10 million[170]</td>\n",
              "      <td>NaN</td>\n",
              "    </tr>\n",
              "    <tr>\n",
              "      <th>163</th>\n",
              "      <td>Angela's Ashes</td>\n",
              "      <td>Frank McCourt</td>\n",
              "      <td>English</td>\n",
              "      <td>1996</td>\n",
              "      <td>10 million[171]</td>\n",
              "      <td>NaN</td>\n",
              "    </tr>\n",
              "    <tr>\n",
              "      <th>164</th>\n",
              "      <td>The Story of My Experiments with Truth (સત્યના...</td>\n",
              "      <td>Mohandas Karamchand Gandhi</td>\n",
              "      <td>Gujarati</td>\n",
              "      <td>1925</td>\n",
              "      <td>10 million[172]</td>\n",
              "      <td>NaN</td>\n",
              "    </tr>\n",
              "    <tr>\n",
              "      <th>165</th>\n",
              "      <td>Bridget Jones's Diary</td>\n",
              "      <td>Helen Fielding</td>\n",
              "      <td>English</td>\n",
              "      <td>10</td>\n",
              "      <td>NaN</td>\n",
              "      <td>NaN</td>\n",
              "    </tr>\n",
              "  </tbody>\n",
              "</table>\n",
              "</div>\n",
              "    <div class=\"colab-df-buttons\">\n",
              "\n",
              "  <div class=\"colab-df-container\">\n",
              "    <button class=\"colab-df-convert\" onclick=\"convertToInteractive('df-fbfb8d3d-1dcc-4cc5-b045-ba6daf9da8bb')\"\n",
              "            title=\"Convert this dataframe to an interactive table.\"\n",
              "            style=\"display:none;\">\n",
              "\n",
              "  <svg xmlns=\"http://www.w3.org/2000/svg\" height=\"24px\" viewBox=\"0 -960 960 960\">\n",
              "    <path d=\"M120-120v-720h720v720H120Zm60-500h600v-160H180v160Zm220 220h160v-160H400v160Zm0 220h160v-160H400v160ZM180-400h160v-160H180v160Zm440 0h160v-160H620v160ZM180-180h160v-160H180v160Zm440 0h160v-160H620v160Z\"/>\n",
              "  </svg>\n",
              "    </button>\n",
              "\n",
              "  <style>\n",
              "    .colab-df-container {\n",
              "      display:flex;\n",
              "      gap: 12px;\n",
              "    }\n",
              "\n",
              "    .colab-df-convert {\n",
              "      background-color: #E8F0FE;\n",
              "      border: none;\n",
              "      border-radius: 50%;\n",
              "      cursor: pointer;\n",
              "      display: none;\n",
              "      fill: #1967D2;\n",
              "      height: 32px;\n",
              "      padding: 0 0 0 0;\n",
              "      width: 32px;\n",
              "    }\n",
              "\n",
              "    .colab-df-convert:hover {\n",
              "      background-color: #E2EBFA;\n",
              "      box-shadow: 0px 1px 2px rgba(60, 64, 67, 0.3), 0px 1px 3px 1px rgba(60, 64, 67, 0.15);\n",
              "      fill: #174EA6;\n",
              "    }\n",
              "\n",
              "    .colab-df-buttons div {\n",
              "      margin-bottom: 4px;\n",
              "    }\n",
              "\n",
              "    [theme=dark] .colab-df-convert {\n",
              "      background-color: #3B4455;\n",
              "      fill: #D2E3FC;\n",
              "    }\n",
              "\n",
              "    [theme=dark] .colab-df-convert:hover {\n",
              "      background-color: #434B5C;\n",
              "      box-shadow: 0px 1px 3px 1px rgba(0, 0, 0, 0.15);\n",
              "      filter: drop-shadow(0px 1px 2px rgba(0, 0, 0, 0.3));\n",
              "      fill: #FFFFFF;\n",
              "    }\n",
              "  </style>\n",
              "\n",
              "    <script>\n",
              "      const buttonEl =\n",
              "        document.querySelector('#df-fbfb8d3d-1dcc-4cc5-b045-ba6daf9da8bb button.colab-df-convert');\n",
              "      buttonEl.style.display =\n",
              "        google.colab.kernel.accessAllowed ? 'block' : 'none';\n",
              "\n",
              "      async function convertToInteractive(key) {\n",
              "        const element = document.querySelector('#df-fbfb8d3d-1dcc-4cc5-b045-ba6daf9da8bb');\n",
              "        const dataTable =\n",
              "          await google.colab.kernel.invokeFunction('convertToInteractive',\n",
              "                                                    [key], {});\n",
              "        if (!dataTable) return;\n",
              "\n",
              "        const docLinkHtml = 'Like what you see? Visit the ' +\n",
              "          '<a target=\"_blank\" href=https://colab.research.google.com/notebooks/data_table.ipynb>data table notebook</a>'\n",
              "          + ' to learn more about interactive tables.';\n",
              "        element.innerHTML = '';\n",
              "        dataTable['output_type'] = 'display_data';\n",
              "        await google.colab.output.renderOutput(dataTable, element);\n",
              "        const docLink = document.createElement('div');\n",
              "        docLink.innerHTML = docLinkHtml;\n",
              "        element.appendChild(docLink);\n",
              "      }\n",
              "    </script>\n",
              "  </div>\n",
              "\n",
              "\n",
              "<div id=\"df-796febd5-327c-426a-9ab3-92f02d7676a9\">\n",
              "  <button class=\"colab-df-quickchart\" onclick=\"quickchart('df-796febd5-327c-426a-9ab3-92f02d7676a9')\"\n",
              "            title=\"Suggest charts\"\n",
              "            style=\"display:none;\">\n",
              "\n",
              "<svg xmlns=\"http://www.w3.org/2000/svg\" height=\"24px\"viewBox=\"0 0 24 24\"\n",
              "     width=\"24px\">\n",
              "    <g>\n",
              "        <path d=\"M19 3H5c-1.1 0-2 .9-2 2v14c0 1.1.9 2 2 2h14c1.1 0 2-.9 2-2V5c0-1.1-.9-2-2-2zM9 17H7v-7h2v7zm4 0h-2V7h2v10zm4 0h-2v-4h2v4z\"/>\n",
              "    </g>\n",
              "</svg>\n",
              "  </button>\n",
              "\n",
              "<style>\n",
              "  .colab-df-quickchart {\n",
              "      --bg-color: #E8F0FE;\n",
              "      --fill-color: #1967D2;\n",
              "      --hover-bg-color: #E2EBFA;\n",
              "      --hover-fill-color: #174EA6;\n",
              "      --disabled-fill-color: #AAA;\n",
              "      --disabled-bg-color: #DDD;\n",
              "  }\n",
              "\n",
              "  [theme=dark] .colab-df-quickchart {\n",
              "      --bg-color: #3B4455;\n",
              "      --fill-color: #D2E3FC;\n",
              "      --hover-bg-color: #434B5C;\n",
              "      --hover-fill-color: #FFFFFF;\n",
              "      --disabled-bg-color: #3B4455;\n",
              "      --disabled-fill-color: #666;\n",
              "  }\n",
              "\n",
              "  .colab-df-quickchart {\n",
              "    background-color: var(--bg-color);\n",
              "    border: none;\n",
              "    border-radius: 50%;\n",
              "    cursor: pointer;\n",
              "    display: none;\n",
              "    fill: var(--fill-color);\n",
              "    height: 32px;\n",
              "    padding: 0;\n",
              "    width: 32px;\n",
              "  }\n",
              "\n",
              "  .colab-df-quickchart:hover {\n",
              "    background-color: var(--hover-bg-color);\n",
              "    box-shadow: 0 1px 2px rgba(60, 64, 67, 0.3), 0 1px 3px 1px rgba(60, 64, 67, 0.15);\n",
              "    fill: var(--button-hover-fill-color);\n",
              "  }\n",
              "\n",
              "  .colab-df-quickchart-complete:disabled,\n",
              "  .colab-df-quickchart-complete:disabled:hover {\n",
              "    background-color: var(--disabled-bg-color);\n",
              "    fill: var(--disabled-fill-color);\n",
              "    box-shadow: none;\n",
              "  }\n",
              "\n",
              "  .colab-df-spinner {\n",
              "    border: 2px solid var(--fill-color);\n",
              "    border-color: transparent;\n",
              "    border-bottom-color: var(--fill-color);\n",
              "    animation:\n",
              "      spin 1s steps(1) infinite;\n",
              "  }\n",
              "\n",
              "  @keyframes spin {\n",
              "    0% {\n",
              "      border-color: transparent;\n",
              "      border-bottom-color: var(--fill-color);\n",
              "      border-left-color: var(--fill-color);\n",
              "    }\n",
              "    20% {\n",
              "      border-color: transparent;\n",
              "      border-left-color: var(--fill-color);\n",
              "      border-top-color: var(--fill-color);\n",
              "    }\n",
              "    30% {\n",
              "      border-color: transparent;\n",
              "      border-left-color: var(--fill-color);\n",
              "      border-top-color: var(--fill-color);\n",
              "      border-right-color: var(--fill-color);\n",
              "    }\n",
              "    40% {\n",
              "      border-color: transparent;\n",
              "      border-right-color: var(--fill-color);\n",
              "      border-top-color: var(--fill-color);\n",
              "    }\n",
              "    60% {\n",
              "      border-color: transparent;\n",
              "      border-right-color: var(--fill-color);\n",
              "    }\n",
              "    80% {\n",
              "      border-color: transparent;\n",
              "      border-right-color: var(--fill-color);\n",
              "      border-bottom-color: var(--fill-color);\n",
              "    }\n",
              "    90% {\n",
              "      border-color: transparent;\n",
              "      border-bottom-color: var(--fill-color);\n",
              "    }\n",
              "  }\n",
              "</style>\n",
              "\n",
              "  <script>\n",
              "    async function quickchart(key) {\n",
              "      const quickchartButtonEl =\n",
              "        document.querySelector('#' + key + ' button');\n",
              "      quickchartButtonEl.disabled = true;  // To prevent multiple clicks.\n",
              "      quickchartButtonEl.classList.add('colab-df-spinner');\n",
              "      try {\n",
              "        const charts = await google.colab.kernel.invokeFunction(\n",
              "            'suggestCharts', [key], {});\n",
              "      } catch (error) {\n",
              "        console.error('Error during call to suggestCharts:', error);\n",
              "      }\n",
              "      quickchartButtonEl.classList.remove('colab-df-spinner');\n",
              "      quickchartButtonEl.classList.add('colab-df-quickchart-complete');\n",
              "    }\n",
              "    (() => {\n",
              "      let quickchartButtonEl =\n",
              "        document.querySelector('#df-796febd5-327c-426a-9ab3-92f02d7676a9 button');\n",
              "      quickchartButtonEl.style.display =\n",
              "        google.colab.kernel.accessAllowed ? 'block' : 'none';\n",
              "    })();\n",
              "  </script>\n",
              "</div>\n",
              "    </div>\n",
              "  </div>\n"
            ],
            "application/vnd.google.colaboratory.intrinsic+json": {
              "type": "dataframe",
              "repr_error": "'str' object has no attribute 'empty'"
            }
          },
          "metadata": {},
          "execution_count": 7
        }
      ]
    },
    {
      "cell_type": "markdown",
      "source": [
        "Goodereads Dataset - top and bottom of data"
      ],
      "metadata": {
        "id": "BQWSv7G590ez"
      }
    },
    {
      "cell_type": "code",
      "source": [
        "goodreads_df.head()"
      ],
      "metadata": {
        "colab": {
          "base_uri": "https://localhost:8080/",
          "height": 746
        },
        "id": "1UF7SUOZ_q3P",
        "outputId": "86b334da-e8d2-47c1-d2c2-b0380a0b0fd0"
      },
      "execution_count": null,
      "outputs": [
        {
          "output_type": "execute_result",
          "data": {
            "text/plain": [
              "   bookID                                              title  \\\n",
              "0       1  Harry Potter and the Half-Blood Prince (Harry ...   \n",
              "1       2  Harry Potter and the Order of the Phoenix (Har...   \n",
              "2       4  Harry Potter and the Chamber of Secrets (Harry...   \n",
              "3       5  Harry Potter and the Prisoner of Azkaban (Harr...   \n",
              "4       8  Harry Potter Boxed Set  Books 1-5 (Harry Potte...   \n",
              "\n",
              "                      authors average_rating        isbn         isbn13  \\\n",
              "0  J.K. Rowling/Mary GrandPré           4.57  0439785960  9780439785969   \n",
              "1  J.K. Rowling/Mary GrandPré           4.49  0439358078  9780439358071   \n",
              "2                J.K. Rowling           4.42  0439554896  9780439554893   \n",
              "3  J.K. Rowling/Mary GrandPré           4.56  043965548X  9780439655484   \n",
              "4  J.K. Rowling/Mary GrandPré           4.78  0439682584  9780439682589   \n",
              "\n",
              "  language_code   num_pages  ratings_count  text_reviews_count  \\\n",
              "0           eng         652        2095690               27591   \n",
              "1           eng         870        2153167               29221   \n",
              "2           eng         352           6333                 244   \n",
              "3           eng         435        2339585               36325   \n",
              "4           eng        2690          41428                 164   \n",
              "\n",
              "  publication_date        publisher  \n",
              "0        9/16/2006  Scholastic Inc.  \n",
              "1         9/1/2004  Scholastic Inc.  \n",
              "2        11/1/2003       Scholastic  \n",
              "3         5/1/2004  Scholastic Inc.  \n",
              "4        9/13/2004       Scholastic  "
            ],
            "text/html": [
              "\n",
              "  <div id=\"df-75e472aa-e2a5-44e7-9c8b-011e8749c29d\" class=\"colab-df-container\">\n",
              "    <div>\n",
              "<style scoped>\n",
              "    .dataframe tbody tr th:only-of-type {\n",
              "        vertical-align: middle;\n",
              "    }\n",
              "\n",
              "    .dataframe tbody tr th {\n",
              "        vertical-align: top;\n",
              "    }\n",
              "\n",
              "    .dataframe thead th {\n",
              "        text-align: right;\n",
              "    }\n",
              "</style>\n",
              "<table border=\"1\" class=\"dataframe\">\n",
              "  <thead>\n",
              "    <tr style=\"text-align: right;\">\n",
              "      <th></th>\n",
              "      <th>bookID</th>\n",
              "      <th>title</th>\n",
              "      <th>authors</th>\n",
              "      <th>average_rating</th>\n",
              "      <th>isbn</th>\n",
              "      <th>isbn13</th>\n",
              "      <th>language_code</th>\n",
              "      <th>num_pages</th>\n",
              "      <th>ratings_count</th>\n",
              "      <th>text_reviews_count</th>\n",
              "      <th>publication_date</th>\n",
              "      <th>publisher</th>\n",
              "    </tr>\n",
              "  </thead>\n",
              "  <tbody>\n",
              "    <tr>\n",
              "      <th>0</th>\n",
              "      <td>1</td>\n",
              "      <td>Harry Potter and the Half-Blood Prince (Harry ...</td>\n",
              "      <td>J.K. Rowling/Mary GrandPré</td>\n",
              "      <td>4.57</td>\n",
              "      <td>0439785960</td>\n",
              "      <td>9780439785969</td>\n",
              "      <td>eng</td>\n",
              "      <td>652</td>\n",
              "      <td>2095690</td>\n",
              "      <td>27591</td>\n",
              "      <td>9/16/2006</td>\n",
              "      <td>Scholastic Inc.</td>\n",
              "    </tr>\n",
              "    <tr>\n",
              "      <th>1</th>\n",
              "      <td>2</td>\n",
              "      <td>Harry Potter and the Order of the Phoenix (Har...</td>\n",
              "      <td>J.K. Rowling/Mary GrandPré</td>\n",
              "      <td>4.49</td>\n",
              "      <td>0439358078</td>\n",
              "      <td>9780439358071</td>\n",
              "      <td>eng</td>\n",
              "      <td>870</td>\n",
              "      <td>2153167</td>\n",
              "      <td>29221</td>\n",
              "      <td>9/1/2004</td>\n",
              "      <td>Scholastic Inc.</td>\n",
              "    </tr>\n",
              "    <tr>\n",
              "      <th>2</th>\n",
              "      <td>4</td>\n",
              "      <td>Harry Potter and the Chamber of Secrets (Harry...</td>\n",
              "      <td>J.K. Rowling</td>\n",
              "      <td>4.42</td>\n",
              "      <td>0439554896</td>\n",
              "      <td>9780439554893</td>\n",
              "      <td>eng</td>\n",
              "      <td>352</td>\n",
              "      <td>6333</td>\n",
              "      <td>244</td>\n",
              "      <td>11/1/2003</td>\n",
              "      <td>Scholastic</td>\n",
              "    </tr>\n",
              "    <tr>\n",
              "      <th>3</th>\n",
              "      <td>5</td>\n",
              "      <td>Harry Potter and the Prisoner of Azkaban (Harr...</td>\n",
              "      <td>J.K. Rowling/Mary GrandPré</td>\n",
              "      <td>4.56</td>\n",
              "      <td>043965548X</td>\n",
              "      <td>9780439655484</td>\n",
              "      <td>eng</td>\n",
              "      <td>435</td>\n",
              "      <td>2339585</td>\n",
              "      <td>36325</td>\n",
              "      <td>5/1/2004</td>\n",
              "      <td>Scholastic Inc.</td>\n",
              "    </tr>\n",
              "    <tr>\n",
              "      <th>4</th>\n",
              "      <td>8</td>\n",
              "      <td>Harry Potter Boxed Set  Books 1-5 (Harry Potte...</td>\n",
              "      <td>J.K. Rowling/Mary GrandPré</td>\n",
              "      <td>4.78</td>\n",
              "      <td>0439682584</td>\n",
              "      <td>9780439682589</td>\n",
              "      <td>eng</td>\n",
              "      <td>2690</td>\n",
              "      <td>41428</td>\n",
              "      <td>164</td>\n",
              "      <td>9/13/2004</td>\n",
              "      <td>Scholastic</td>\n",
              "    </tr>\n",
              "  </tbody>\n",
              "</table>\n",
              "</div>\n",
              "    <div class=\"colab-df-buttons\">\n",
              "\n",
              "  <div class=\"colab-df-container\">\n",
              "    <button class=\"colab-df-convert\" onclick=\"convertToInteractive('df-75e472aa-e2a5-44e7-9c8b-011e8749c29d')\"\n",
              "            title=\"Convert this dataframe to an interactive table.\"\n",
              "            style=\"display:none;\">\n",
              "\n",
              "  <svg xmlns=\"http://www.w3.org/2000/svg\" height=\"24px\" viewBox=\"0 -960 960 960\">\n",
              "    <path d=\"M120-120v-720h720v720H120Zm60-500h600v-160H180v160Zm220 220h160v-160H400v160Zm0 220h160v-160H400v160ZM180-400h160v-160H180v160Zm440 0h160v-160H620v160ZM180-180h160v-160H180v160Zm440 0h160v-160H620v160Z\"/>\n",
              "  </svg>\n",
              "    </button>\n",
              "\n",
              "  <style>\n",
              "    .colab-df-container {\n",
              "      display:flex;\n",
              "      gap: 12px;\n",
              "    }\n",
              "\n",
              "    .colab-df-convert {\n",
              "      background-color: #E8F0FE;\n",
              "      border: none;\n",
              "      border-radius: 50%;\n",
              "      cursor: pointer;\n",
              "      display: none;\n",
              "      fill: #1967D2;\n",
              "      height: 32px;\n",
              "      padding: 0 0 0 0;\n",
              "      width: 32px;\n",
              "    }\n",
              "\n",
              "    .colab-df-convert:hover {\n",
              "      background-color: #E2EBFA;\n",
              "      box-shadow: 0px 1px 2px rgba(60, 64, 67, 0.3), 0px 1px 3px 1px rgba(60, 64, 67, 0.15);\n",
              "      fill: #174EA6;\n",
              "    }\n",
              "\n",
              "    .colab-df-buttons div {\n",
              "      margin-bottom: 4px;\n",
              "    }\n",
              "\n",
              "    [theme=dark] .colab-df-convert {\n",
              "      background-color: #3B4455;\n",
              "      fill: #D2E3FC;\n",
              "    }\n",
              "\n",
              "    [theme=dark] .colab-df-convert:hover {\n",
              "      background-color: #434B5C;\n",
              "      box-shadow: 0px 1px 3px 1px rgba(0, 0, 0, 0.15);\n",
              "      filter: drop-shadow(0px 1px 2px rgba(0, 0, 0, 0.3));\n",
              "      fill: #FFFFFF;\n",
              "    }\n",
              "  </style>\n",
              "\n",
              "    <script>\n",
              "      const buttonEl =\n",
              "        document.querySelector('#df-75e472aa-e2a5-44e7-9c8b-011e8749c29d button.colab-df-convert');\n",
              "      buttonEl.style.display =\n",
              "        google.colab.kernel.accessAllowed ? 'block' : 'none';\n",
              "\n",
              "      async function convertToInteractive(key) {\n",
              "        const element = document.querySelector('#df-75e472aa-e2a5-44e7-9c8b-011e8749c29d');\n",
              "        const dataTable =\n",
              "          await google.colab.kernel.invokeFunction('convertToInteractive',\n",
              "                                                    [key], {});\n",
              "        if (!dataTable) return;\n",
              "\n",
              "        const docLinkHtml = 'Like what you see? Visit the ' +\n",
              "          '<a target=\"_blank\" href=https://colab.research.google.com/notebooks/data_table.ipynb>data table notebook</a>'\n",
              "          + ' to learn more about interactive tables.';\n",
              "        element.innerHTML = '';\n",
              "        dataTable['output_type'] = 'display_data';\n",
              "        await google.colab.output.renderOutput(dataTable, element);\n",
              "        const docLink = document.createElement('div');\n",
              "        docLink.innerHTML = docLinkHtml;\n",
              "        element.appendChild(docLink);\n",
              "      }\n",
              "    </script>\n",
              "  </div>\n",
              "\n",
              "\n",
              "<div id=\"df-acc0f847-f6c1-4638-914c-6b2033447abd\">\n",
              "  <button class=\"colab-df-quickchart\" onclick=\"quickchart('df-acc0f847-f6c1-4638-914c-6b2033447abd')\"\n",
              "            title=\"Suggest charts\"\n",
              "            style=\"display:none;\">\n",
              "\n",
              "<svg xmlns=\"http://www.w3.org/2000/svg\" height=\"24px\"viewBox=\"0 0 24 24\"\n",
              "     width=\"24px\">\n",
              "    <g>\n",
              "        <path d=\"M19 3H5c-1.1 0-2 .9-2 2v14c0 1.1.9 2 2 2h14c1.1 0 2-.9 2-2V5c0-1.1-.9-2-2-2zM9 17H7v-7h2v7zm4 0h-2V7h2v10zm4 0h-2v-4h2v4z\"/>\n",
              "    </g>\n",
              "</svg>\n",
              "  </button>\n",
              "\n",
              "<style>\n",
              "  .colab-df-quickchart {\n",
              "      --bg-color: #E8F0FE;\n",
              "      --fill-color: #1967D2;\n",
              "      --hover-bg-color: #E2EBFA;\n",
              "      --hover-fill-color: #174EA6;\n",
              "      --disabled-fill-color: #AAA;\n",
              "      --disabled-bg-color: #DDD;\n",
              "  }\n",
              "\n",
              "  [theme=dark] .colab-df-quickchart {\n",
              "      --bg-color: #3B4455;\n",
              "      --fill-color: #D2E3FC;\n",
              "      --hover-bg-color: #434B5C;\n",
              "      --hover-fill-color: #FFFFFF;\n",
              "      --disabled-bg-color: #3B4455;\n",
              "      --disabled-fill-color: #666;\n",
              "  }\n",
              "\n",
              "  .colab-df-quickchart {\n",
              "    background-color: var(--bg-color);\n",
              "    border: none;\n",
              "    border-radius: 50%;\n",
              "    cursor: pointer;\n",
              "    display: none;\n",
              "    fill: var(--fill-color);\n",
              "    height: 32px;\n",
              "    padding: 0;\n",
              "    width: 32px;\n",
              "  }\n",
              "\n",
              "  .colab-df-quickchart:hover {\n",
              "    background-color: var(--hover-bg-color);\n",
              "    box-shadow: 0 1px 2px rgba(60, 64, 67, 0.3), 0 1px 3px 1px rgba(60, 64, 67, 0.15);\n",
              "    fill: var(--button-hover-fill-color);\n",
              "  }\n",
              "\n",
              "  .colab-df-quickchart-complete:disabled,\n",
              "  .colab-df-quickchart-complete:disabled:hover {\n",
              "    background-color: var(--disabled-bg-color);\n",
              "    fill: var(--disabled-fill-color);\n",
              "    box-shadow: none;\n",
              "  }\n",
              "\n",
              "  .colab-df-spinner {\n",
              "    border: 2px solid var(--fill-color);\n",
              "    border-color: transparent;\n",
              "    border-bottom-color: var(--fill-color);\n",
              "    animation:\n",
              "      spin 1s steps(1) infinite;\n",
              "  }\n",
              "\n",
              "  @keyframes spin {\n",
              "    0% {\n",
              "      border-color: transparent;\n",
              "      border-bottom-color: var(--fill-color);\n",
              "      border-left-color: var(--fill-color);\n",
              "    }\n",
              "    20% {\n",
              "      border-color: transparent;\n",
              "      border-left-color: var(--fill-color);\n",
              "      border-top-color: var(--fill-color);\n",
              "    }\n",
              "    30% {\n",
              "      border-color: transparent;\n",
              "      border-left-color: var(--fill-color);\n",
              "      border-top-color: var(--fill-color);\n",
              "      border-right-color: var(--fill-color);\n",
              "    }\n",
              "    40% {\n",
              "      border-color: transparent;\n",
              "      border-right-color: var(--fill-color);\n",
              "      border-top-color: var(--fill-color);\n",
              "    }\n",
              "    60% {\n",
              "      border-color: transparent;\n",
              "      border-right-color: var(--fill-color);\n",
              "    }\n",
              "    80% {\n",
              "      border-color: transparent;\n",
              "      border-right-color: var(--fill-color);\n",
              "      border-bottom-color: var(--fill-color);\n",
              "    }\n",
              "    90% {\n",
              "      border-color: transparent;\n",
              "      border-bottom-color: var(--fill-color);\n",
              "    }\n",
              "  }\n",
              "</style>\n",
              "\n",
              "  <script>\n",
              "    async function quickchart(key) {\n",
              "      const quickchartButtonEl =\n",
              "        document.querySelector('#' + key + ' button');\n",
              "      quickchartButtonEl.disabled = true;  // To prevent multiple clicks.\n",
              "      quickchartButtonEl.classList.add('colab-df-spinner');\n",
              "      try {\n",
              "        const charts = await google.colab.kernel.invokeFunction(\n",
              "            'suggestCharts', [key], {});\n",
              "      } catch (error) {\n",
              "        console.error('Error during call to suggestCharts:', error);\n",
              "      }\n",
              "      quickchartButtonEl.classList.remove('colab-df-spinner');\n",
              "      quickchartButtonEl.classList.add('colab-df-quickchart-complete');\n",
              "    }\n",
              "    (() => {\n",
              "      let quickchartButtonEl =\n",
              "        document.querySelector('#df-acc0f847-f6c1-4638-914c-6b2033447abd button');\n",
              "      quickchartButtonEl.style.display =\n",
              "        google.colab.kernel.accessAllowed ? 'block' : 'none';\n",
              "    })();\n",
              "  </script>\n",
              "</div>\n",
              "    </div>\n",
              "  </div>\n"
            ],
            "application/vnd.google.colaboratory.intrinsic+json": {
              "type": "dataframe",
              "variable_name": "goodreads_df",
              "summary": "{\n  \"name\": \"goodreads_df\",\n  \"rows\": 11127,\n  \"fields\": [\n    {\n      \"column\": \"bookID\",\n      \"properties\": {\n        \"dtype\": \"number\",\n        \"std\": 13093,\n        \"min\": 1,\n        \"max\": 45641,\n        \"num_unique_values\": 11127,\n        \"samples\": [\n          33438,\n          1537,\n          32329\n        ],\n        \"semantic_type\": \"\",\n        \"description\": \"\"\n      }\n    },\n    {\n      \"column\": \"title\",\n      \"properties\": {\n        \"dtype\": \"string\",\n        \"num_unique_values\": 10351,\n        \"samples\": [\n          \"Boys that Bite (Blood Coven Vampire  #1)\",\n          \"Crucial Conversations: Tools for Talking When Stakes Are High\",\n          \"The Unknown Sigrid Undset: Jenny and Other Works\"\n        ],\n        \"semantic_type\": \"\",\n        \"description\": \"\"\n      }\n    },\n    {\n      \"column\": \"authors\",\n      \"properties\": {\n        \"dtype\": \"string\",\n        \"num_unique_values\": 6643,\n        \"samples\": [\n          \"Amy Krouse Rosenthal\",\n          \"Plato/John M. Cooper/Benjamin Jowett/Dorothea Frede/Alexander Nehamas/Paul Woodruff/Anthony Kenny/Rosamond Kent Sprague/Nicholas D. Smith/Karen Bell/D.S. Hutchinson/Donald J. Zeyl/Francisco J. Gonz\\u00e1lez/Diskin Clay/Malcolm Schofield/Glenn R. Morrow/Jonathan Barnes/G.M.A. Grube/Brad Inwood/Mark Joyal/Jackson P. Hershbell/J.M. Edmonds/C.D.C. Reeve/Myles Burnyeat/Nicholas P. White/Mary Louise Gill/C.J. Rowe/Stanley Lombardo/David Gallop/Jeffrey Mitscherling/Richard D. McKiharan Jr./Andrew S. Becker/Mark Reuter/M.J. Levett/Paul        Ryan\",\n          \"Don Ihde\"\n        ],\n        \"semantic_type\": \"\",\n        \"description\": \"\"\n      }\n    },\n    {\n      \"column\": \"average_rating\",\n      \"properties\": {\n        \"dtype\": \"category\",\n        \"num_unique_values\": 213,\n        \"samples\": [\n          \"4.21\",\n          \"4.72\",\n          \"3.71\"\n        ],\n        \"semantic_type\": \"\",\n        \"description\": \"\"\n      }\n    },\n    {\n      \"column\": \"isbn\",\n      \"properties\": {\n        \"dtype\": \"string\",\n        \"num_unique_values\": 11126,\n        \"samples\": [\n          \"1575667215\",\n          \"0452011671\",\n          \"0345492781\"\n        ],\n        \"semantic_type\": \"\",\n        \"description\": \"\"\n      }\n    },\n    {\n      \"column\": \"isbn13\",\n      \"properties\": {\n        \"dtype\": \"string\",\n        \"num_unique_values\": 11127,\n        \"samples\": [\n          \"9780758201553\",\n          \"9780452011670\",\n          \"9780345492807\"\n        ],\n        \"semantic_type\": \"\",\n        \"description\": \"\"\n      }\n    },\n    {\n      \"column\": \"language_code\",\n      \"properties\": {\n        \"dtype\": \"category\",\n        \"num_unique_values\": 31,\n        \"samples\": [\n          \"9780851742717\",\n          \"por\",\n          \"glg\"\n        ],\n        \"semantic_type\": \"\",\n        \"description\": \"\"\n      }\n    },\n    {\n      \"column\": \"  num_pages\",\n      \"properties\": {\n        \"dtype\": \"category\",\n        \"num_unique_values\": 999,\n        \"samples\": [\n          \"268\",\n          \"795\",\n          \"4\"\n        ],\n        \"semantic_type\": \"\",\n        \"description\": \"\"\n      }\n    },\n    {\n      \"column\": \"ratings_count\",\n      \"properties\": {\n        \"dtype\": \"number\",\n        \"std\": 112479,\n        \"min\": 0,\n        \"max\": 4597666,\n        \"num_unique_values\": 5294,\n        \"samples\": [\n          2883,\n          40629,\n          3760\n        ],\n        \"semantic_type\": \"\",\n        \"description\": \"\"\n      }\n    },\n    {\n      \"column\": \"text_reviews_count\",\n      \"properties\": {\n        \"dtype\": \"number\",\n        \"std\": 2576,\n        \"min\": 0,\n        \"max\": 94265,\n        \"num_unique_values\": 1822,\n        \"samples\": [\n          1607,\n          17547,\n          99\n        ],\n        \"semantic_type\": \"\",\n        \"description\": \"\"\n      }\n    },\n    {\n      \"column\": \"publication_date\",\n      \"properties\": {\n        \"dtype\": \"category\",\n        \"num_unique_values\": 3682,\n        \"samples\": [\n          \"10/29/1996\",\n          \"8/31/2006\",\n          \"9/2/1997\"\n        ],\n        \"semantic_type\": \"\",\n        \"description\": \"\"\n      }\n    },\n    {\n      \"column\": \"publisher\",\n      \"properties\": {\n        \"dtype\": \"category\",\n        \"num_unique_values\": 2294,\n        \"samples\": [\n          \"Hodder Children's Books\",\n          \"Berkley Publishing\",\n          \"Jossey-Bass\"\n        ],\n        \"semantic_type\": \"\",\n        \"description\": \"\"\n      }\n    }\n  ]\n}"
            }
          },
          "metadata": {},
          "execution_count": 8
        }
      ]
    },
    {
      "cell_type": "code",
      "source": [
        "goodreads_df.tail()"
      ],
      "metadata": {
        "colab": {
          "base_uri": "https://localhost:8080/",
          "height": 521
        },
        "id": "mcNxjouG_tCM",
        "outputId": "b2c1878c-d172-458e-d8da-d9a01110dd45"
      },
      "execution_count": null,
      "outputs": [
        {
          "output_type": "execute_result",
          "data": {
            "text/plain": [
              "       bookID                                             title  \\\n",
              "11122   45631  Expelled from Eden: A William T. Vollmann Reader   \n",
              "11123   45633                       You Bright and Risen Angels   \n",
              "11124   45634                   The Ice-Shirt (Seven Dreams #1)   \n",
              "11125   45639                                       Poor People   \n",
              "11126   45641                       Las aventuras de Tom Sawyer   \n",
              "\n",
              "                                                 authors average_rating  \\\n",
              "11122  William T. Vollmann/Larry McCaffery/Michael He...           4.06   \n",
              "11123                                William T. Vollmann           4.08   \n",
              "11124                                William T. Vollmann           3.96   \n",
              "11125                                William T. Vollmann           3.72   \n",
              "11126                                         Mark Twain           3.91   \n",
              "\n",
              "             isbn         isbn13 language_code   num_pages  ratings_count  \\\n",
              "11122  1560254416  9781560254416           eng         512            156   \n",
              "11123  0140110879  9780140110876           eng         635            783   \n",
              "11124  0140131965  9780140131963           eng         415            820   \n",
              "11125  0060878827  9780060878825           eng         434            769   \n",
              "11126  8497646983  9788497646987           spa         272            113   \n",
              "\n",
              "       text_reviews_count publication_date      publisher  \n",
              "11122                  20       12/21/2004  Da Capo Press  \n",
              "11123                  56        12/1/1988  Penguin Books  \n",
              "11124                  95         8/1/1993  Penguin Books  \n",
              "11125                 139        2/27/2007           Ecco  \n",
              "11126                  12        5/28/2006  Edimat Libros  "
            ],
            "text/html": [
              "\n",
              "  <div id=\"df-79747ba3-ddc5-497f-b872-9c82195384d3\" class=\"colab-df-container\">\n",
              "    <div>\n",
              "<style scoped>\n",
              "    .dataframe tbody tr th:only-of-type {\n",
              "        vertical-align: middle;\n",
              "    }\n",
              "\n",
              "    .dataframe tbody tr th {\n",
              "        vertical-align: top;\n",
              "    }\n",
              "\n",
              "    .dataframe thead th {\n",
              "        text-align: right;\n",
              "    }\n",
              "</style>\n",
              "<table border=\"1\" class=\"dataframe\">\n",
              "  <thead>\n",
              "    <tr style=\"text-align: right;\">\n",
              "      <th></th>\n",
              "      <th>bookID</th>\n",
              "      <th>title</th>\n",
              "      <th>authors</th>\n",
              "      <th>average_rating</th>\n",
              "      <th>isbn</th>\n",
              "      <th>isbn13</th>\n",
              "      <th>language_code</th>\n",
              "      <th>num_pages</th>\n",
              "      <th>ratings_count</th>\n",
              "      <th>text_reviews_count</th>\n",
              "      <th>publication_date</th>\n",
              "      <th>publisher</th>\n",
              "    </tr>\n",
              "  </thead>\n",
              "  <tbody>\n",
              "    <tr>\n",
              "      <th>11122</th>\n",
              "      <td>45631</td>\n",
              "      <td>Expelled from Eden: A William T. Vollmann Reader</td>\n",
              "      <td>William T. Vollmann/Larry McCaffery/Michael He...</td>\n",
              "      <td>4.06</td>\n",
              "      <td>1560254416</td>\n",
              "      <td>9781560254416</td>\n",
              "      <td>eng</td>\n",
              "      <td>512</td>\n",
              "      <td>156</td>\n",
              "      <td>20</td>\n",
              "      <td>12/21/2004</td>\n",
              "      <td>Da Capo Press</td>\n",
              "    </tr>\n",
              "    <tr>\n",
              "      <th>11123</th>\n",
              "      <td>45633</td>\n",
              "      <td>You Bright and Risen Angels</td>\n",
              "      <td>William T. Vollmann</td>\n",
              "      <td>4.08</td>\n",
              "      <td>0140110879</td>\n",
              "      <td>9780140110876</td>\n",
              "      <td>eng</td>\n",
              "      <td>635</td>\n",
              "      <td>783</td>\n",
              "      <td>56</td>\n",
              "      <td>12/1/1988</td>\n",
              "      <td>Penguin Books</td>\n",
              "    </tr>\n",
              "    <tr>\n",
              "      <th>11124</th>\n",
              "      <td>45634</td>\n",
              "      <td>The Ice-Shirt (Seven Dreams #1)</td>\n",
              "      <td>William T. Vollmann</td>\n",
              "      <td>3.96</td>\n",
              "      <td>0140131965</td>\n",
              "      <td>9780140131963</td>\n",
              "      <td>eng</td>\n",
              "      <td>415</td>\n",
              "      <td>820</td>\n",
              "      <td>95</td>\n",
              "      <td>8/1/1993</td>\n",
              "      <td>Penguin Books</td>\n",
              "    </tr>\n",
              "    <tr>\n",
              "      <th>11125</th>\n",
              "      <td>45639</td>\n",
              "      <td>Poor People</td>\n",
              "      <td>William T. Vollmann</td>\n",
              "      <td>3.72</td>\n",
              "      <td>0060878827</td>\n",
              "      <td>9780060878825</td>\n",
              "      <td>eng</td>\n",
              "      <td>434</td>\n",
              "      <td>769</td>\n",
              "      <td>139</td>\n",
              "      <td>2/27/2007</td>\n",
              "      <td>Ecco</td>\n",
              "    </tr>\n",
              "    <tr>\n",
              "      <th>11126</th>\n",
              "      <td>45641</td>\n",
              "      <td>Las aventuras de Tom Sawyer</td>\n",
              "      <td>Mark Twain</td>\n",
              "      <td>3.91</td>\n",
              "      <td>8497646983</td>\n",
              "      <td>9788497646987</td>\n",
              "      <td>spa</td>\n",
              "      <td>272</td>\n",
              "      <td>113</td>\n",
              "      <td>12</td>\n",
              "      <td>5/28/2006</td>\n",
              "      <td>Edimat Libros</td>\n",
              "    </tr>\n",
              "  </tbody>\n",
              "</table>\n",
              "</div>\n",
              "    <div class=\"colab-df-buttons\">\n",
              "\n",
              "  <div class=\"colab-df-container\">\n",
              "    <button class=\"colab-df-convert\" onclick=\"convertToInteractive('df-79747ba3-ddc5-497f-b872-9c82195384d3')\"\n",
              "            title=\"Convert this dataframe to an interactive table.\"\n",
              "            style=\"display:none;\">\n",
              "\n",
              "  <svg xmlns=\"http://www.w3.org/2000/svg\" height=\"24px\" viewBox=\"0 -960 960 960\">\n",
              "    <path d=\"M120-120v-720h720v720H120Zm60-500h600v-160H180v160Zm220 220h160v-160H400v160Zm0 220h160v-160H400v160ZM180-400h160v-160H180v160Zm440 0h160v-160H620v160ZM180-180h160v-160H180v160Zm440 0h160v-160H620v160Z\"/>\n",
              "  </svg>\n",
              "    </button>\n",
              "\n",
              "  <style>\n",
              "    .colab-df-container {\n",
              "      display:flex;\n",
              "      gap: 12px;\n",
              "    }\n",
              "\n",
              "    .colab-df-convert {\n",
              "      background-color: #E8F0FE;\n",
              "      border: none;\n",
              "      border-radius: 50%;\n",
              "      cursor: pointer;\n",
              "      display: none;\n",
              "      fill: #1967D2;\n",
              "      height: 32px;\n",
              "      padding: 0 0 0 0;\n",
              "      width: 32px;\n",
              "    }\n",
              "\n",
              "    .colab-df-convert:hover {\n",
              "      background-color: #E2EBFA;\n",
              "      box-shadow: 0px 1px 2px rgba(60, 64, 67, 0.3), 0px 1px 3px 1px rgba(60, 64, 67, 0.15);\n",
              "      fill: #174EA6;\n",
              "    }\n",
              "\n",
              "    .colab-df-buttons div {\n",
              "      margin-bottom: 4px;\n",
              "    }\n",
              "\n",
              "    [theme=dark] .colab-df-convert {\n",
              "      background-color: #3B4455;\n",
              "      fill: #D2E3FC;\n",
              "    }\n",
              "\n",
              "    [theme=dark] .colab-df-convert:hover {\n",
              "      background-color: #434B5C;\n",
              "      box-shadow: 0px 1px 3px 1px rgba(0, 0, 0, 0.15);\n",
              "      filter: drop-shadow(0px 1px 2px rgba(0, 0, 0, 0.3));\n",
              "      fill: #FFFFFF;\n",
              "    }\n",
              "  </style>\n",
              "\n",
              "    <script>\n",
              "      const buttonEl =\n",
              "        document.querySelector('#df-79747ba3-ddc5-497f-b872-9c82195384d3 button.colab-df-convert');\n",
              "      buttonEl.style.display =\n",
              "        google.colab.kernel.accessAllowed ? 'block' : 'none';\n",
              "\n",
              "      async function convertToInteractive(key) {\n",
              "        const element = document.querySelector('#df-79747ba3-ddc5-497f-b872-9c82195384d3');\n",
              "        const dataTable =\n",
              "          await google.colab.kernel.invokeFunction('convertToInteractive',\n",
              "                                                    [key], {});\n",
              "        if (!dataTable) return;\n",
              "\n",
              "        const docLinkHtml = 'Like what you see? Visit the ' +\n",
              "          '<a target=\"_blank\" href=https://colab.research.google.com/notebooks/data_table.ipynb>data table notebook</a>'\n",
              "          + ' to learn more about interactive tables.';\n",
              "        element.innerHTML = '';\n",
              "        dataTable['output_type'] = 'display_data';\n",
              "        await google.colab.output.renderOutput(dataTable, element);\n",
              "        const docLink = document.createElement('div');\n",
              "        docLink.innerHTML = docLinkHtml;\n",
              "        element.appendChild(docLink);\n",
              "      }\n",
              "    </script>\n",
              "  </div>\n",
              "\n",
              "\n",
              "<div id=\"df-1cdb68c5-7bf1-45e7-93c2-416449622881\">\n",
              "  <button class=\"colab-df-quickchart\" onclick=\"quickchart('df-1cdb68c5-7bf1-45e7-93c2-416449622881')\"\n",
              "            title=\"Suggest charts\"\n",
              "            style=\"display:none;\">\n",
              "\n",
              "<svg xmlns=\"http://www.w3.org/2000/svg\" height=\"24px\"viewBox=\"0 0 24 24\"\n",
              "     width=\"24px\">\n",
              "    <g>\n",
              "        <path d=\"M19 3H5c-1.1 0-2 .9-2 2v14c0 1.1.9 2 2 2h14c1.1 0 2-.9 2-2V5c0-1.1-.9-2-2-2zM9 17H7v-7h2v7zm4 0h-2V7h2v10zm4 0h-2v-4h2v4z\"/>\n",
              "    </g>\n",
              "</svg>\n",
              "  </button>\n",
              "\n",
              "<style>\n",
              "  .colab-df-quickchart {\n",
              "      --bg-color: #E8F0FE;\n",
              "      --fill-color: #1967D2;\n",
              "      --hover-bg-color: #E2EBFA;\n",
              "      --hover-fill-color: #174EA6;\n",
              "      --disabled-fill-color: #AAA;\n",
              "      --disabled-bg-color: #DDD;\n",
              "  }\n",
              "\n",
              "  [theme=dark] .colab-df-quickchart {\n",
              "      --bg-color: #3B4455;\n",
              "      --fill-color: #D2E3FC;\n",
              "      --hover-bg-color: #434B5C;\n",
              "      --hover-fill-color: #FFFFFF;\n",
              "      --disabled-bg-color: #3B4455;\n",
              "      --disabled-fill-color: #666;\n",
              "  }\n",
              "\n",
              "  .colab-df-quickchart {\n",
              "    background-color: var(--bg-color);\n",
              "    border: none;\n",
              "    border-radius: 50%;\n",
              "    cursor: pointer;\n",
              "    display: none;\n",
              "    fill: var(--fill-color);\n",
              "    height: 32px;\n",
              "    padding: 0;\n",
              "    width: 32px;\n",
              "  }\n",
              "\n",
              "  .colab-df-quickchart:hover {\n",
              "    background-color: var(--hover-bg-color);\n",
              "    box-shadow: 0 1px 2px rgba(60, 64, 67, 0.3), 0 1px 3px 1px rgba(60, 64, 67, 0.15);\n",
              "    fill: var(--button-hover-fill-color);\n",
              "  }\n",
              "\n",
              "  .colab-df-quickchart-complete:disabled,\n",
              "  .colab-df-quickchart-complete:disabled:hover {\n",
              "    background-color: var(--disabled-bg-color);\n",
              "    fill: var(--disabled-fill-color);\n",
              "    box-shadow: none;\n",
              "  }\n",
              "\n",
              "  .colab-df-spinner {\n",
              "    border: 2px solid var(--fill-color);\n",
              "    border-color: transparent;\n",
              "    border-bottom-color: var(--fill-color);\n",
              "    animation:\n",
              "      spin 1s steps(1) infinite;\n",
              "  }\n",
              "\n",
              "  @keyframes spin {\n",
              "    0% {\n",
              "      border-color: transparent;\n",
              "      border-bottom-color: var(--fill-color);\n",
              "      border-left-color: var(--fill-color);\n",
              "    }\n",
              "    20% {\n",
              "      border-color: transparent;\n",
              "      border-left-color: var(--fill-color);\n",
              "      border-top-color: var(--fill-color);\n",
              "    }\n",
              "    30% {\n",
              "      border-color: transparent;\n",
              "      border-left-color: var(--fill-color);\n",
              "      border-top-color: var(--fill-color);\n",
              "      border-right-color: var(--fill-color);\n",
              "    }\n",
              "    40% {\n",
              "      border-color: transparent;\n",
              "      border-right-color: var(--fill-color);\n",
              "      border-top-color: var(--fill-color);\n",
              "    }\n",
              "    60% {\n",
              "      border-color: transparent;\n",
              "      border-right-color: var(--fill-color);\n",
              "    }\n",
              "    80% {\n",
              "      border-color: transparent;\n",
              "      border-right-color: var(--fill-color);\n",
              "      border-bottom-color: var(--fill-color);\n",
              "    }\n",
              "    90% {\n",
              "      border-color: transparent;\n",
              "      border-bottom-color: var(--fill-color);\n",
              "    }\n",
              "  }\n",
              "</style>\n",
              "\n",
              "  <script>\n",
              "    async function quickchart(key) {\n",
              "      const quickchartButtonEl =\n",
              "        document.querySelector('#' + key + ' button');\n",
              "      quickchartButtonEl.disabled = true;  // To prevent multiple clicks.\n",
              "      quickchartButtonEl.classList.add('colab-df-spinner');\n",
              "      try {\n",
              "        const charts = await google.colab.kernel.invokeFunction(\n",
              "            'suggestCharts', [key], {});\n",
              "      } catch (error) {\n",
              "        console.error('Error during call to suggestCharts:', error);\n",
              "      }\n",
              "      quickchartButtonEl.classList.remove('colab-df-spinner');\n",
              "      quickchartButtonEl.classList.add('colab-df-quickchart-complete');\n",
              "    }\n",
              "    (() => {\n",
              "      let quickchartButtonEl =\n",
              "        document.querySelector('#df-1cdb68c5-7bf1-45e7-93c2-416449622881 button');\n",
              "      quickchartButtonEl.style.display =\n",
              "        google.colab.kernel.accessAllowed ? 'block' : 'none';\n",
              "    })();\n",
              "  </script>\n",
              "</div>\n",
              "    </div>\n",
              "  </div>\n"
            ],
            "application/vnd.google.colaboratory.intrinsic+json": {
              "type": "dataframe",
              "repr_error": "'str' object has no attribute 'empty'"
            }
          },
          "metadata": {},
          "execution_count": 9
        }
      ]
    },
    {
      "cell_type": "markdown",
      "source": [
        "# 5. Data Combining"
      ],
      "metadata": {
        "id": "tD1f0hVELbc-"
      }
    },
    {
      "cell_type": "markdown",
      "source": [
        "#Variables?\n",
        "What variables do the two tables have in common that could be used as keys in a join?"
      ],
      "metadata": {
        "id": "85lxq0Vp3ETl"
      }
    },
    {
      "cell_type": "code",
      "source": [
        "# Finds the intersection of columns between books_df and goodreads_df to use as a key\n",
        "set(books_df.columns) & set(goodreads_df.columns)"
      ],
      "metadata": {
        "colab": {
          "base_uri": "https://localhost:8080/"
        },
        "id": "hbjgGzzn_1Ak",
        "outputId": "ddc96f5e-71f7-48f1-98c0-0c952c068bac"
      },
      "execution_count": null,
      "outputs": [
        {
          "output_type": "execute_result",
          "data": {
            "text/plain": [
              "{'title'}"
            ]
          },
          "metadata": {},
          "execution_count": 10
        }
      ]
    },
    {
      "cell_type": "code",
      "source": [
        "# Unique Titles in Books Dataset\n",
        "\"Books DataFrame - Unique Titles: {}\".format(len(books_df['title'].unique()))"
      ],
      "metadata": {
        "id": "ePmAyxF73tyZ",
        "colab": {
          "base_uri": "https://localhost:8080/",
          "height": 35
        },
        "outputId": "ac5b4c38-19de-4e35-c28b-df2ce552c62b"
      },
      "execution_count": null,
      "outputs": [
        {
          "output_type": "execute_result",
          "data": {
            "text/plain": [
              "'Books DataFrame - Unique Titles: 166'"
            ],
            "application/vnd.google.colaboratory.intrinsic+json": {
              "type": "string"
            }
          },
          "metadata": {},
          "execution_count": 11
        }
      ]
    },
    {
      "cell_type": "code",
      "source": [
        "# Unique Titles in Goodreads Dataset\n",
        "\"Goodreads DataFrame - Unique Titles: {}\".format(len(goodreads_df['title'].unique()))"
      ],
      "metadata": {
        "colab": {
          "base_uri": "https://localhost:8080/",
          "height": 35
        },
        "id": "1MMUW2qH7dM0",
        "outputId": "7af968c6-ba21-40ec-c45b-054feec812c8"
      },
      "execution_count": null,
      "outputs": [
        {
          "output_type": "execute_result",
          "data": {
            "text/plain": [
              "'Goodreads DataFrame - Unique Titles: 10351'"
            ],
            "application/vnd.google.colaboratory.intrinsic+json": {
              "type": "string"
            }
          },
          "metadata": {},
          "execution_count": 12
        }
      ]
    },
    {
      "cell_type": "code",
      "source": [
        "in_books_but_not_goodreads_set = set(books_df['title']) - set(goodreads_df['title'])\n",
        "\n",
        "in_goodreads_but_not_books_set = set(goodreads_df['title']) - set(books_df['title'])\n",
        "\n",
        "print(\"There are {0} titles in books_df but not in goodreads_df.\".format(len(in_books_but_not_goodreads_set)))\n",
        "\n",
        "print(\"There are {0} titles in goodreads_df but not in books_df.\".format(len(in_goodreads_but_not_books_set)))"
      ],
      "metadata": {
        "colab": {
          "base_uri": "https://localhost:8080/"
        },
        "id": "3PEvcnBfyPdx",
        "outputId": "f5fc3ebb-2a3a-4595-ccd6-45e651f557b1"
      },
      "execution_count": null,
      "outputs": [
        {
          "output_type": "stream",
          "name": "stdout",
          "text": [
            "There are 121 titles in books_df but not in goodreads_df.\n",
            "There are 10306 titles in goodreads_df but not in books_df.\n"
          ]
        }
      ]
    },
    {
      "cell_type": "code",
      "source": [
        "# Number of unique tittles shared by both of the dataset\n",
        "len(set(goodreads_df['title']) & set(books_df['title']))"
      ],
      "metadata": {
        "colab": {
          "base_uri": "https://localhost:8080/"
        },
        "id": "BH-SZ-jjGNWb",
        "outputId": "b8230ae6-042b-4d7d-a01c-b2ea947ce5d1"
      },
      "execution_count": null,
      "outputs": [
        {
          "output_type": "execute_result",
          "data": {
            "text/plain": [
              "45"
            ]
          },
          "metadata": {},
          "execution_count": 14
        }
      ]
    },
    {
      "cell_type": "markdown",
      "source": [
        "# Coverage\n",
        "\n",
        "Do both tables cover the same ranges of time?"
      ],
      "metadata": {
        "id": "jY1YQej_AqOV"
      }
    },
    {
      "cell_type": "code",
      "source": [
        "# Books dataframe year coverage\n",
        "books_df['year'].min(), books_df['year'].max()"
      ],
      "metadata": {
        "colab": {
          "base_uri": "https://localhost:8080/"
        },
        "id": "it_3SQw5cgyq",
        "outputId": "38ad42dc-39e0-418c-f974-898c11367874"
      },
      "execution_count": null,
      "outputs": [
        {
          "output_type": "execute_result",
          "data": {
            "text/plain": [
              "(10, 2018)"
            ]
          },
          "metadata": {},
          "execution_count": 15
        }
      ]
    },
    {
      "cell_type": "code",
      "source": [
        "# Goodreads dataframe year coverage\n",
        "\n",
        "# Converts 'publication_date' column to datetime format\n",
        "goodreads_df['publication_date'] = pd.to_datetime(goodreads_df['publication_date'], errors='coerce')\n",
        "\n",
        "# Extracts the year component\n",
        "goodreads_df['publication_year'] = goodreads_df['publication_date'].dt.year\n",
        "\n",
        "# Finds the minimum and maximum publication years\n",
        "min_year = goodreads_df['publication_year'].min()\n",
        "max_year = goodreads_df['publication_year'].max()\n",
        "\n",
        "print(\"Minimum publication year:\", min_year)\n",
        "print(\"Maximum publication year:\", max_year)"
      ],
      "metadata": {
        "colab": {
          "base_uri": "https://localhost:8080/"
        },
        "id": "dvPo0E8ndwwR",
        "outputId": "841fed95-28aa-4549-f4a0-f07395f6458d"
      },
      "execution_count": null,
      "outputs": [
        {
          "output_type": "stream",
          "name": "stdout",
          "text": [
            "Minimum publication year: 1900.0\n",
            "Maximum publication year: 2020.0\n"
          ]
        }
      ]
    },
    {
      "cell_type": "markdown",
      "source": [
        "# Duplicates\n",
        "\n",
        "Are there instances of multiple/repeated rows of these key variables? why is that?"
      ],
      "metadata": {
        "id": "XcMfr9N_er-Q"
      }
    },
    {
      "cell_type": "code",
      "source": [
        "# Books DataFrame Duplicates\n",
        "books_df['title'].value_counts().head()"
      ],
      "metadata": {
        "colab": {
          "base_uri": "https://localhost:8080/"
        },
        "id": "dp6XkDHbenAf",
        "outputId": "32aa400c-e92d-47d3-83d2-0e01f474b192"
      },
      "execution_count": null,
      "outputs": [
        {
          "output_type": "execute_result",
          "data": {
            "text/plain": [
              "Harry Potter and the Philosopher's Stone             1\n",
              "The Book Thief                                       1\n",
              "Goodnight Moon                                       1\n",
              "The Neverending Story (Die unendliche Geschichte)    1\n",
              "Fifty Shades of Grey                                 1\n",
              "Name: title, dtype: int64"
            ]
          },
          "metadata": {},
          "execution_count": 17
        }
      ]
    },
    {
      "cell_type": "code",
      "source": [
        "# Goodreads DataFrame Duplicates\n",
        "goodreads_df['title'].value_counts().head()"
      ],
      "metadata": {
        "colab": {
          "base_uri": "https://localhost:8080/"
        },
        "id": "8J-01rPofEwA",
        "outputId": "45411504-b522-4261-b049-60ecb4cc6f9e"
      },
      "execution_count": null,
      "outputs": [
        {
          "output_type": "execute_result",
          "data": {
            "text/plain": [
              "The Iliad                 9\n",
              "The Brothers Karamazov    9\n",
              "'Salem's Lot              8\n",
              "Gulliver's Travels        8\n",
              "The Odyssey               8\n",
              "Name: title, dtype: int64"
            ]
          },
          "metadata": {},
          "execution_count": 18
        }
      ]
    },
    {
      "cell_type": "markdown",
      "source": [
        "#Strategy\n",
        "\n",
        "What is the most appropriate merging strategy to handle the different time windows and repeated dates?"
      ],
      "metadata": {
        "id": "RQOMxHTJwK1O"
      }
    },
    {
      "cell_type": "markdown",
      "source": [
        "# Inner Join\n",
        "An inner join strategy appears to be the most appropriate approach for merging the Books and Goodreads datasets, considering the differences in time windows and the presence of repeated titles. By performing an inner join, we ensure that only the titles present in both datasets are retained in the merged DataFrame, thereby focusing on the intersection of the keys from both datasets. In my analysis, I've considered the importance of comparing variables from both the Books and Goodreads datasets. Given this objective, it's crucial to focus on the intersection of titles present in both datasets. Opting for left or right joins would introduce a significant number of missing values, complicating the analysis and making it challenging to impute these missing values effectively. Additionally, using outer joins would retain all information from both datasets, potentially leading to a substantial amount of missing data. Moreover, the presence of missing values could affect the reliability of the analysis and subsequent visualizations, as pandas and plotting libraries often disregard NaN values."
      ],
      "metadata": {
        "id": "jf3z6JwSwNzZ"
      }
    },
    {
      "cell_type": "markdown",
      "source": [
        "# Expected Shape of the DataFrame after merging\n",
        "\n",
        "What should the data look like afterwards? How many rows? How many columns? Which values should repeat? Which values should be null? Which values should disappear?"
      ],
      "metadata": {
        "id": "YhhoC369rzwN"
      }
    },
    {
      "cell_type": "code",
      "source": [
        "\"There are {0:,} rows in \\\"books_df\\\" and {1:,} rows in \\\"goodreads_df\\\"\".format(len(books_df),len(goodreads_df))"
      ],
      "metadata": {
        "colab": {
          "base_uri": "https://localhost:8080/",
          "height": 35
        },
        "id": "GEZjhXyAr7IC",
        "outputId": "cd27d50c-f019-4f73-f2be-5064ca6442a6"
      },
      "execution_count": null,
      "outputs": [
        {
          "output_type": "execute_result",
          "data": {
            "text/plain": [
              "'There are 166 rows in \"books_df\" and 11,127 rows in \"goodreads_df\"'"
            ],
            "application/vnd.google.colaboratory.intrinsic+json": {
              "type": "string"
            }
          },
          "metadata": {},
          "execution_count": 19
        }
      ]
    },
    {
      "cell_type": "code",
      "source": [
        "\"There are {0:,} unique titles in \\\"books_df\\\" and {1:,} unique titles in \\\"goodreads_df\\\"\".format(len(books_df.title.unique()),len(goodreads_df.title.unique()))"
      ],
      "metadata": {
        "colab": {
          "base_uri": "https://localhost:8080/",
          "height": 35
        },
        "id": "8RmiQ-uhsA8J",
        "outputId": "ab8d7889-9a6b-4966-fca2-6412a2342af2"
      },
      "execution_count": null,
      "outputs": [
        {
          "output_type": "execute_result",
          "data": {
            "text/plain": [
              "'There are 166 unique titles in \"books_df\" and 10,351 unique titles in \"goodreads_df\"'"
            ],
            "application/vnd.google.colaboratory.intrinsic+json": {
              "type": "string"
            }
          },
          "metadata": {},
          "execution_count": 20
        }
      ]
    },
    {
      "cell_type": "code",
      "source": [
        "\"There are {0:,} columns in \\\"books_df\\\" and {1:,} columns in \\\"goodreads_df\\\"\".format(len(books_df.columns),len(goodreads_df.columns))"
      ],
      "metadata": {
        "colab": {
          "base_uri": "https://localhost:8080/",
          "height": 35
        },
        "id": "_SmeayEWr-Aa",
        "outputId": "18e2e10d-4350-4bc0-a294-f98f69a57d32"
      },
      "execution_count": null,
      "outputs": [
        {
          "output_type": "execute_result",
          "data": {
            "text/plain": [
              "'There are 6 columns in \"books_df\" and 13 columns in \"goodreads_df\"'"
            ],
            "application/vnd.google.colaboratory.intrinsic+json": {
              "type": "string"
            }
          },
          "metadata": {},
          "execution_count": 21
        }
      ]
    },
    {
      "cell_type": "code",
      "source": [
        "# Finds common titles\n",
        "common_titles = goodreads_df['title'].loc[goodreads_df['title'].isin(books_df['title'])]\n",
        "\n",
        "print(len(common_titles))"
      ],
      "metadata": {
        "colab": {
          "base_uri": "https://localhost:8080/"
        },
        "id": "B_oc97dytr-d",
        "outputId": "4df01a02-4cd1-4ce0-c206-9e48caa76eff"
      },
      "execution_count": null,
      "outputs": [
        {
          "output_type": "stream",
          "name": "stdout",
          "text": [
            "83\n"
          ]
        }
      ]
    },
    {
      "cell_type": "markdown",
      "source": [
        "There should be 6+13-1 = 18 columns and 83 rows. There should be no missing values as we are going to do an Inner join which only takes the intersection of both the dataframes."
      ],
      "metadata": {
        "id": "iMWQ2pOtsHBK"
      }
    },
    {
      "cell_type": "markdown",
      "source": [
        "# Merge"
      ],
      "metadata": {
        "id": "KgoaM9vxfDfe"
      }
    },
    {
      "cell_type": "code",
      "source": [
        "# Performs an inner join\n",
        "merged_inner_df = pd.merge(left = goodreads_df, right = books_df,\n",
        "                                  left_on = 'title', right_on = 'title',\n",
        "                                  how='inner')\n",
        "\n",
        "print(\"There are {0:,} rows and {1:,} columns.\".format(*merged_inner_df.shape))\n",
        "print(\"There are {:,} unique values for \\\"title\\\" in the inner join.\".format(len(merged_inner_df['title'].unique())))"
      ],
      "metadata": {
        "colab": {
          "base_uri": "https://localhost:8080/"
        },
        "id": "kiX5I-ivApDg",
        "outputId": "f0059f71-f176-446e-9e74-98acd37965a5"
      },
      "execution_count": null,
      "outputs": [
        {
          "output_type": "stream",
          "name": "stdout",
          "text": [
            "There are 83 rows and 18 columns.\n",
            "There are 45 unique values for \"title\" in the inner join.\n"
          ]
        }
      ]
    },
    {
      "cell_type": "markdown",
      "source": [
        "# Checks the top and bottom of the merged dataframe"
      ],
      "metadata": {
        "id": "joj0_3zACWOy"
      }
    },
    {
      "cell_type": "code",
      "source": [
        "merged_inner_df.head()"
      ],
      "metadata": {
        "colab": {
          "base_uri": "https://localhost:8080/",
          "height": 434
        },
        "id": "9nddEoJ_Bgnd",
        "outputId": "92feffc9-d7fd-453e-be19-8d382f347198"
      },
      "execution_count": null,
      "outputs": [
        {
          "output_type": "execute_result",
          "data": {
            "text/plain": [
              "   bookID              title       authors average_rating        isbn  \\\n",
              "0     537   The Lovely Bones  Alice Sebold           3.81  0330485385   \n",
              "1     538   The Lovely Bones  Alice Sebold           3.81  159413023X   \n",
              "2   15806   The Lovely Bones  Alice Sebold           3.81  0316168815   \n",
              "3     969  The Da Vinci Code     Dan Brown           3.84  076792603X   \n",
              "4    4248  The Da Vinci Code     Dan Brown           3.84  1400079179   \n",
              "\n",
              "          isbn13 language_code   num_pages  ratings_count  text_reviews_count  \\\n",
              "0  9780330485388         en-GB         328           6485                 966   \n",
              "1  9781594130236         en-US         532            367                  73   \n",
              "2  9780316168816         en-US         328           5945                 735   \n",
              "3  9780767926034           eng         467           1120                 105   \n",
              "4  9781400079179           eng         489          13934                1459   \n",
              "\n",
              "  publication_date          publisher  publication_year        author  \\\n",
              "0       2003-06-01            Picador            2003.0  Alice Sebold   \n",
              "1       2004-04-01  Large Print Press            2004.0  Alice Sebold   \n",
              "2       2004-04-20     Back Bay Books            2004.0  Alice Sebold   \n",
              "3       2006-03-28     Broadway Books            2006.0     Dan Brown   \n",
              "4       2006-03-28             Anchor            2006.0     Dan Brown   \n",
              "\n",
              "  language  year       copiesSold             genre  \n",
              "0  English  2002  10 million[154]               NaN  \n",
              "1  English  2002  10 million[154]               NaN  \n",
              "2  English  2002  10 million[154]               NaN  \n",
              "3  English  2003   80 million[25]  Mystery thriller  \n",
              "4  English  2003   80 million[25]  Mystery thriller  "
            ],
            "text/html": [
              "\n",
              "  <div id=\"df-fc100a4d-be21-488a-aac9-5f41fd4d4b4e\" class=\"colab-df-container\">\n",
              "    <div>\n",
              "<style scoped>\n",
              "    .dataframe tbody tr th:only-of-type {\n",
              "        vertical-align: middle;\n",
              "    }\n",
              "\n",
              "    .dataframe tbody tr th {\n",
              "        vertical-align: top;\n",
              "    }\n",
              "\n",
              "    .dataframe thead th {\n",
              "        text-align: right;\n",
              "    }\n",
              "</style>\n",
              "<table border=\"1\" class=\"dataframe\">\n",
              "  <thead>\n",
              "    <tr style=\"text-align: right;\">\n",
              "      <th></th>\n",
              "      <th>bookID</th>\n",
              "      <th>title</th>\n",
              "      <th>authors</th>\n",
              "      <th>average_rating</th>\n",
              "      <th>isbn</th>\n",
              "      <th>isbn13</th>\n",
              "      <th>language_code</th>\n",
              "      <th>num_pages</th>\n",
              "      <th>ratings_count</th>\n",
              "      <th>text_reviews_count</th>\n",
              "      <th>publication_date</th>\n",
              "      <th>publisher</th>\n",
              "      <th>publication_year</th>\n",
              "      <th>author</th>\n",
              "      <th>language</th>\n",
              "      <th>year</th>\n",
              "      <th>copiesSold</th>\n",
              "      <th>genre</th>\n",
              "    </tr>\n",
              "  </thead>\n",
              "  <tbody>\n",
              "    <tr>\n",
              "      <th>0</th>\n",
              "      <td>537</td>\n",
              "      <td>The Lovely Bones</td>\n",
              "      <td>Alice Sebold</td>\n",
              "      <td>3.81</td>\n",
              "      <td>0330485385</td>\n",
              "      <td>9780330485388</td>\n",
              "      <td>en-GB</td>\n",
              "      <td>328</td>\n",
              "      <td>6485</td>\n",
              "      <td>966</td>\n",
              "      <td>2003-06-01</td>\n",
              "      <td>Picador</td>\n",
              "      <td>2003.0</td>\n",
              "      <td>Alice Sebold</td>\n",
              "      <td>English</td>\n",
              "      <td>2002</td>\n",
              "      <td>10 million[154]</td>\n",
              "      <td>NaN</td>\n",
              "    </tr>\n",
              "    <tr>\n",
              "      <th>1</th>\n",
              "      <td>538</td>\n",
              "      <td>The Lovely Bones</td>\n",
              "      <td>Alice Sebold</td>\n",
              "      <td>3.81</td>\n",
              "      <td>159413023X</td>\n",
              "      <td>9781594130236</td>\n",
              "      <td>en-US</td>\n",
              "      <td>532</td>\n",
              "      <td>367</td>\n",
              "      <td>73</td>\n",
              "      <td>2004-04-01</td>\n",
              "      <td>Large Print Press</td>\n",
              "      <td>2004.0</td>\n",
              "      <td>Alice Sebold</td>\n",
              "      <td>English</td>\n",
              "      <td>2002</td>\n",
              "      <td>10 million[154]</td>\n",
              "      <td>NaN</td>\n",
              "    </tr>\n",
              "    <tr>\n",
              "      <th>2</th>\n",
              "      <td>15806</td>\n",
              "      <td>The Lovely Bones</td>\n",
              "      <td>Alice Sebold</td>\n",
              "      <td>3.81</td>\n",
              "      <td>0316168815</td>\n",
              "      <td>9780316168816</td>\n",
              "      <td>en-US</td>\n",
              "      <td>328</td>\n",
              "      <td>5945</td>\n",
              "      <td>735</td>\n",
              "      <td>2004-04-20</td>\n",
              "      <td>Back Bay Books</td>\n",
              "      <td>2004.0</td>\n",
              "      <td>Alice Sebold</td>\n",
              "      <td>English</td>\n",
              "      <td>2002</td>\n",
              "      <td>10 million[154]</td>\n",
              "      <td>NaN</td>\n",
              "    </tr>\n",
              "    <tr>\n",
              "      <th>3</th>\n",
              "      <td>969</td>\n",
              "      <td>The Da Vinci Code</td>\n",
              "      <td>Dan Brown</td>\n",
              "      <td>3.84</td>\n",
              "      <td>076792603X</td>\n",
              "      <td>9780767926034</td>\n",
              "      <td>eng</td>\n",
              "      <td>467</td>\n",
              "      <td>1120</td>\n",
              "      <td>105</td>\n",
              "      <td>2006-03-28</td>\n",
              "      <td>Broadway Books</td>\n",
              "      <td>2006.0</td>\n",
              "      <td>Dan Brown</td>\n",
              "      <td>English</td>\n",
              "      <td>2003</td>\n",
              "      <td>80 million[25]</td>\n",
              "      <td>Mystery thriller</td>\n",
              "    </tr>\n",
              "    <tr>\n",
              "      <th>4</th>\n",
              "      <td>4248</td>\n",
              "      <td>The Da Vinci Code</td>\n",
              "      <td>Dan Brown</td>\n",
              "      <td>3.84</td>\n",
              "      <td>1400079179</td>\n",
              "      <td>9781400079179</td>\n",
              "      <td>eng</td>\n",
              "      <td>489</td>\n",
              "      <td>13934</td>\n",
              "      <td>1459</td>\n",
              "      <td>2006-03-28</td>\n",
              "      <td>Anchor</td>\n",
              "      <td>2006.0</td>\n",
              "      <td>Dan Brown</td>\n",
              "      <td>English</td>\n",
              "      <td>2003</td>\n",
              "      <td>80 million[25]</td>\n",
              "      <td>Mystery thriller</td>\n",
              "    </tr>\n",
              "  </tbody>\n",
              "</table>\n",
              "</div>\n",
              "    <div class=\"colab-df-buttons\">\n",
              "\n",
              "  <div class=\"colab-df-container\">\n",
              "    <button class=\"colab-df-convert\" onclick=\"convertToInteractive('df-fc100a4d-be21-488a-aac9-5f41fd4d4b4e')\"\n",
              "            title=\"Convert this dataframe to an interactive table.\"\n",
              "            style=\"display:none;\">\n",
              "\n",
              "  <svg xmlns=\"http://www.w3.org/2000/svg\" height=\"24px\" viewBox=\"0 -960 960 960\">\n",
              "    <path d=\"M120-120v-720h720v720H120Zm60-500h600v-160H180v160Zm220 220h160v-160H400v160Zm0 220h160v-160H400v160ZM180-400h160v-160H180v160Zm440 0h160v-160H620v160ZM180-180h160v-160H180v160Zm440 0h160v-160H620v160Z\"/>\n",
              "  </svg>\n",
              "    </button>\n",
              "\n",
              "  <style>\n",
              "    .colab-df-container {\n",
              "      display:flex;\n",
              "      gap: 12px;\n",
              "    }\n",
              "\n",
              "    .colab-df-convert {\n",
              "      background-color: #E8F0FE;\n",
              "      border: none;\n",
              "      border-radius: 50%;\n",
              "      cursor: pointer;\n",
              "      display: none;\n",
              "      fill: #1967D2;\n",
              "      height: 32px;\n",
              "      padding: 0 0 0 0;\n",
              "      width: 32px;\n",
              "    }\n",
              "\n",
              "    .colab-df-convert:hover {\n",
              "      background-color: #E2EBFA;\n",
              "      box-shadow: 0px 1px 2px rgba(60, 64, 67, 0.3), 0px 1px 3px 1px rgba(60, 64, 67, 0.15);\n",
              "      fill: #174EA6;\n",
              "    }\n",
              "\n",
              "    .colab-df-buttons div {\n",
              "      margin-bottom: 4px;\n",
              "    }\n",
              "\n",
              "    [theme=dark] .colab-df-convert {\n",
              "      background-color: #3B4455;\n",
              "      fill: #D2E3FC;\n",
              "    }\n",
              "\n",
              "    [theme=dark] .colab-df-convert:hover {\n",
              "      background-color: #434B5C;\n",
              "      box-shadow: 0px 1px 3px 1px rgba(0, 0, 0, 0.15);\n",
              "      filter: drop-shadow(0px 1px 2px rgba(0, 0, 0, 0.3));\n",
              "      fill: #FFFFFF;\n",
              "    }\n",
              "  </style>\n",
              "\n",
              "    <script>\n",
              "      const buttonEl =\n",
              "        document.querySelector('#df-fc100a4d-be21-488a-aac9-5f41fd4d4b4e button.colab-df-convert');\n",
              "      buttonEl.style.display =\n",
              "        google.colab.kernel.accessAllowed ? 'block' : 'none';\n",
              "\n",
              "      async function convertToInteractive(key) {\n",
              "        const element = document.querySelector('#df-fc100a4d-be21-488a-aac9-5f41fd4d4b4e');\n",
              "        const dataTable =\n",
              "          await google.colab.kernel.invokeFunction('convertToInteractive',\n",
              "                                                    [key], {});\n",
              "        if (!dataTable) return;\n",
              "\n",
              "        const docLinkHtml = 'Like what you see? Visit the ' +\n",
              "          '<a target=\"_blank\" href=https://colab.research.google.com/notebooks/data_table.ipynb>data table notebook</a>'\n",
              "          + ' to learn more about interactive tables.';\n",
              "        element.innerHTML = '';\n",
              "        dataTable['output_type'] = 'display_data';\n",
              "        await google.colab.output.renderOutput(dataTable, element);\n",
              "        const docLink = document.createElement('div');\n",
              "        docLink.innerHTML = docLinkHtml;\n",
              "        element.appendChild(docLink);\n",
              "      }\n",
              "    </script>\n",
              "  </div>\n",
              "\n",
              "\n",
              "<div id=\"df-259f3b9a-91bc-405b-96af-049d3dbe1e1d\">\n",
              "  <button class=\"colab-df-quickchart\" onclick=\"quickchart('df-259f3b9a-91bc-405b-96af-049d3dbe1e1d')\"\n",
              "            title=\"Suggest charts\"\n",
              "            style=\"display:none;\">\n",
              "\n",
              "<svg xmlns=\"http://www.w3.org/2000/svg\" height=\"24px\"viewBox=\"0 0 24 24\"\n",
              "     width=\"24px\">\n",
              "    <g>\n",
              "        <path d=\"M19 3H5c-1.1 0-2 .9-2 2v14c0 1.1.9 2 2 2h14c1.1 0 2-.9 2-2V5c0-1.1-.9-2-2-2zM9 17H7v-7h2v7zm4 0h-2V7h2v10zm4 0h-2v-4h2v4z\"/>\n",
              "    </g>\n",
              "</svg>\n",
              "  </button>\n",
              "\n",
              "<style>\n",
              "  .colab-df-quickchart {\n",
              "      --bg-color: #E8F0FE;\n",
              "      --fill-color: #1967D2;\n",
              "      --hover-bg-color: #E2EBFA;\n",
              "      --hover-fill-color: #174EA6;\n",
              "      --disabled-fill-color: #AAA;\n",
              "      --disabled-bg-color: #DDD;\n",
              "  }\n",
              "\n",
              "  [theme=dark] .colab-df-quickchart {\n",
              "      --bg-color: #3B4455;\n",
              "      --fill-color: #D2E3FC;\n",
              "      --hover-bg-color: #434B5C;\n",
              "      --hover-fill-color: #FFFFFF;\n",
              "      --disabled-bg-color: #3B4455;\n",
              "      --disabled-fill-color: #666;\n",
              "  }\n",
              "\n",
              "  .colab-df-quickchart {\n",
              "    background-color: var(--bg-color);\n",
              "    border: none;\n",
              "    border-radius: 50%;\n",
              "    cursor: pointer;\n",
              "    display: none;\n",
              "    fill: var(--fill-color);\n",
              "    height: 32px;\n",
              "    padding: 0;\n",
              "    width: 32px;\n",
              "  }\n",
              "\n",
              "  .colab-df-quickchart:hover {\n",
              "    background-color: var(--hover-bg-color);\n",
              "    box-shadow: 0 1px 2px rgba(60, 64, 67, 0.3), 0 1px 3px 1px rgba(60, 64, 67, 0.15);\n",
              "    fill: var(--button-hover-fill-color);\n",
              "  }\n",
              "\n",
              "  .colab-df-quickchart-complete:disabled,\n",
              "  .colab-df-quickchart-complete:disabled:hover {\n",
              "    background-color: var(--disabled-bg-color);\n",
              "    fill: var(--disabled-fill-color);\n",
              "    box-shadow: none;\n",
              "  }\n",
              "\n",
              "  .colab-df-spinner {\n",
              "    border: 2px solid var(--fill-color);\n",
              "    border-color: transparent;\n",
              "    border-bottom-color: var(--fill-color);\n",
              "    animation:\n",
              "      spin 1s steps(1) infinite;\n",
              "  }\n",
              "\n",
              "  @keyframes spin {\n",
              "    0% {\n",
              "      border-color: transparent;\n",
              "      border-bottom-color: var(--fill-color);\n",
              "      border-left-color: var(--fill-color);\n",
              "    }\n",
              "    20% {\n",
              "      border-color: transparent;\n",
              "      border-left-color: var(--fill-color);\n",
              "      border-top-color: var(--fill-color);\n",
              "    }\n",
              "    30% {\n",
              "      border-color: transparent;\n",
              "      border-left-color: var(--fill-color);\n",
              "      border-top-color: var(--fill-color);\n",
              "      border-right-color: var(--fill-color);\n",
              "    }\n",
              "    40% {\n",
              "      border-color: transparent;\n",
              "      border-right-color: var(--fill-color);\n",
              "      border-top-color: var(--fill-color);\n",
              "    }\n",
              "    60% {\n",
              "      border-color: transparent;\n",
              "      border-right-color: var(--fill-color);\n",
              "    }\n",
              "    80% {\n",
              "      border-color: transparent;\n",
              "      border-right-color: var(--fill-color);\n",
              "      border-bottom-color: var(--fill-color);\n",
              "    }\n",
              "    90% {\n",
              "      border-color: transparent;\n",
              "      border-bottom-color: var(--fill-color);\n",
              "    }\n",
              "  }\n",
              "</style>\n",
              "\n",
              "  <script>\n",
              "    async function quickchart(key) {\n",
              "      const quickchartButtonEl =\n",
              "        document.querySelector('#' + key + ' button');\n",
              "      quickchartButtonEl.disabled = true;  // To prevent multiple clicks.\n",
              "      quickchartButtonEl.classList.add('colab-df-spinner');\n",
              "      try {\n",
              "        const charts = await google.colab.kernel.invokeFunction(\n",
              "            'suggestCharts', [key], {});\n",
              "      } catch (error) {\n",
              "        console.error('Error during call to suggestCharts:', error);\n",
              "      }\n",
              "      quickchartButtonEl.classList.remove('colab-df-spinner');\n",
              "      quickchartButtonEl.classList.add('colab-df-quickchart-complete');\n",
              "    }\n",
              "    (() => {\n",
              "      let quickchartButtonEl =\n",
              "        document.querySelector('#df-259f3b9a-91bc-405b-96af-049d3dbe1e1d button');\n",
              "      quickchartButtonEl.style.display =\n",
              "        google.colab.kernel.accessAllowed ? 'block' : 'none';\n",
              "    })();\n",
              "  </script>\n",
              "</div>\n",
              "    </div>\n",
              "  </div>\n"
            ],
            "application/vnd.google.colaboratory.intrinsic+json": {
              "type": "dataframe",
              "variable_name": "merged_inner_df",
              "summary": "{\n  \"name\": \"merged_inner_df\",\n  \"rows\": 83,\n  \"fields\": [\n    {\n      \"column\": \"bookID\",\n      \"properties\": {\n        \"dtype\": \"number\",\n        \"std\": 11922,\n        \"min\": 537,\n        \"max\": 44528,\n        \"num_unique_values\": 83,\n        \"samples\": [\n          4674,\n          537,\n          3869\n        ],\n        \"semantic_type\": \"\",\n        \"description\": \"\"\n      }\n    },\n    {\n      \"column\": \"title\",\n      \"properties\": {\n        \"dtype\": \"string\",\n        \"num_unique_values\": 45,\n        \"samples\": [\n          \"Where the Wild Things Are\",\n          \"Lolita\",\n          \"Animal Farm\"\n        ],\n        \"semantic_type\": \"\",\n        \"description\": \"\"\n      }\n    },\n    {\n      \"column\": \"authors\",\n      \"properties\": {\n        \"dtype\": \"string\",\n        \"num_unique_values\": 69,\n        \"samples\": [\n          \"John Steinbeck\",\n          \"Alice Sebold\",\n          \"L.M. Montgomery/Barbara Caruso\"\n        ],\n        \"semantic_type\": \"\",\n        \"description\": \"\"\n      }\n    },\n    {\n      \"column\": \"average_rating\",\n      \"properties\": {\n        \"dtype\": \"category\",\n        \"num_unique_values\": 32,\n        \"samples\": [\n          \"4.28\",\n          \"4.29\",\n          \"3.64\"\n        ],\n        \"semantic_type\": \"\",\n        \"description\": \"\"\n      }\n    },\n    {\n      \"column\": \"isbn\",\n      \"properties\": {\n        \"dtype\": \"string\",\n        \"num_unique_values\": 83,\n        \"samples\": [\n          \"0060098910\",\n          \"0330485385\",\n          \"0553380168\"\n        ],\n        \"semantic_type\": \"\",\n        \"description\": \"\"\n      }\n    },\n    {\n      \"column\": \"isbn13\",\n      \"properties\": {\n        \"dtype\": \"string\",\n        \"num_unique_values\": 83,\n        \"samples\": [\n          \"9780060098919\",\n          \"9780330485388\",\n          \"9780553380163\"\n        ],\n        \"semantic_type\": \"\",\n        \"description\": \"\"\n      }\n    },\n    {\n      \"column\": \"language_code\",\n      \"properties\": {\n        \"dtype\": \"category\",\n        \"num_unique_values\": 4,\n        \"samples\": [\n          \"en-US\",\n          \"spa\",\n          \"en-GB\"\n        ],\n        \"semantic_type\": \"\",\n        \"description\": \"\"\n      }\n    },\n    {\n      \"column\": \"  num_pages\",\n      \"properties\": {\n        \"dtype\": \"string\",\n        \"num_unique_values\": 71,\n        \"samples\": [\n          \"186\",\n          \"328\",\n          \"122\"\n        ],\n        \"semantic_type\": \"\",\n        \"description\": \"\"\n      }\n    },\n    {\n      \"column\": \"ratings_count\",\n      \"properties\": {\n        \"dtype\": \"number\",\n        \"std\": 501091,\n        \"min\": 6,\n        \"max\": 2530894,\n        \"num_unique_values\": 81,\n        \"samples\": [\n          258,\n          6485,\n          239652\n        ],\n        \"semantic_type\": \"\",\n        \"description\": \"\"\n      }\n    },\n    {\n      \"column\": \"text_reviews_count\",\n      \"properties\": {\n        \"dtype\": \"number\",\n        \"std\": 11807,\n        \"min\": 0,\n        \"max\": 86881,\n        \"num_unique_values\": 74,\n        \"samples\": [\n          1459,\n          129,\n          2\n        ],\n        \"semantic_type\": \"\",\n        \"description\": \"\"\n      }\n    },\n    {\n      \"column\": \"publication_date\",\n      \"properties\": {\n        \"dtype\": \"date\",\n        \"min\": \"1925-09-01 00:00:00\",\n        \"max\": \"2012-12-26 00:00:00\",\n        \"num_unique_values\": 75,\n        \"samples\": [\n          \"2004-05-03 00:00:00\",\n          \"1999-04-01 00:00:00\",\n          \"2006-05-01 00:00:00\"\n        ],\n        \"semantic_type\": \"\",\n        \"description\": \"\"\n      }\n    },\n    {\n      \"column\": \"publisher\",\n      \"properties\": {\n        \"dtype\": \"string\",\n        \"num_unique_values\": 71,\n        \"samples\": [\n          \"Blackstone Audiobooks\",\n          \"Picador\",\n          \"NAL\"\n        ],\n        \"semantic_type\": \"\",\n        \"description\": \"\"\n      }\n    },\n    {\n      \"column\": \"publication_year\",\n      \"properties\": {\n        \"dtype\": \"number\",\n        \"std\": 10.306812550660458,\n        \"min\": 1925.0,\n        \"max\": 2012.0,\n        \"num_unique_values\": 20,\n        \"samples\": [\n          2003.0,\n          1993.0,\n          1978.0\n        ],\n        \"semantic_type\": \"\",\n        \"description\": \"\"\n      }\n    },\n    {\n      \"column\": \"author\",\n      \"properties\": {\n        \"dtype\": \"string\",\n        \"num_unique_values\": 43,\n        \"samples\": [\n          \"Beatrix Potter\",\n          \"Mitch Albom\",\n          \"Vladimir Nabokov\"\n        ],\n        \"semantic_type\": \"\",\n        \"description\": \"\"\n      }\n    },\n    {\n      \"column\": \"language\",\n      \"properties\": {\n        \"dtype\": \"category\",\n        \"num_unique_values\": 2,\n        \"samples\": [\n          \"Hindi\",\n          \"English\"\n        ],\n        \"semantic_type\": \"\",\n        \"description\": \"\"\n      }\n    },\n    {\n      \"column\": \"year\",\n      \"properties\": {\n        \"dtype\": \"number\",\n        \"std\": 45,\n        \"min\": 1813,\n        \"max\": 2005,\n        \"num_unique_values\": 38,\n        \"samples\": [\n          2005,\n          1946\n        ],\n        \"semantic_type\": \"\",\n        \"description\": \"\"\n      }\n    },\n    {\n      \"column\": \"copiesSold\",\n      \"properties\": {\n        \"dtype\": \"string\",\n        \"num_unique_values\": 45,\n        \"samples\": [\n          \"20 million[105]\",\n          \"50 million[37]\"\n        ],\n        \"semantic_type\": \"\",\n        \"description\": \"\"\n      }\n    },\n    {\n      \"column\": \"genre\",\n      \"properties\": {\n        \"dtype\": \"category\",\n        \"num_unique_values\": 10,\n        \"samples\": [\n          \"Children's fiction\",\n          \"Chadsildren's literature\"\n        ],\n        \"semantic_type\": \"\",\n        \"description\": \"\"\n      }\n    }\n  ]\n}"
            }
          },
          "metadata": {},
          "execution_count": 24
        }
      ]
    },
    {
      "cell_type": "code",
      "source": [
        "merged_inner_df.tail()"
      ],
      "metadata": {
        "colab": {
          "base_uri": "https://localhost:8080/",
          "height": 469
        },
        "id": "jLtT5pVmCqWn",
        "outputId": "efa828eb-a471-42b3-f119-da2bc6ce0c0f"
      },
      "execution_count": null,
      "outputs": [
        {
          "output_type": "execute_result",
          "data": {
            "text/plain": [
              "    bookID                                    title  \\\n",
              "78   33288  How to Win Friends and Influence People   \n",
              "79   33291  How to Win Friends and Influence People   \n",
              "80   39988                                  Matilda   \n",
              "81   44520                                  Matilda   \n",
              "82   44528                                  Matilda   \n",
              "\n",
              "                                              authors average_rating  \\\n",
              "78                                      Dale Carnegie           4.19   \n",
              "79                                      Dale Carnegie           4.19   \n",
              "80                           Roald Dahl/Quentin Blake           4.31   \n",
              "81                        Roald Dahl/Joely Richardson           4.31   \n",
              "82  Roald Dahl/Rula Lenska/Sian Thomas/Christopher...           4.31   \n",
              "\n",
              "          isbn         isbn13 language_code   num_pages  ratings_count  \\\n",
              "78  0091906814  9780091906818           eng         268           1842   \n",
              "79  0749307846  9780749307844         en-US         256            210   \n",
              "80  0141301066  9780141301068           eng         240         541914   \n",
              "81  0060582545  9780060582548           eng           5             56   \n",
              "82  0141805625  9780141805627           eng           1              6   \n",
              "\n",
              "    text_reviews_count publication_date          publisher  publication_year  \\\n",
              "78                 104       2006-04-06          Vermilion            2006.0   \n",
              "79                  21       1994-03-31        Cedar Books            1994.0   \n",
              "80               11576       1998-06-01       Puffin Books            1998.0   \n",
              "81                  18       2004-01-20     Festival Books            2004.0   \n",
              "82                   0       2005-03-03  Puffin Audiobooks            2005.0   \n",
              "\n",
              "           author language  year        copiesSold genre  \n",
              "78  Dale Carnegie  English  1936   15 million[124]   NaN  \n",
              "79  Dale Carnegie  English  1936   15 million[124]   NaN  \n",
              "80     Roald Dahl  English  1988  17 million [113]   NaN  \n",
              "81     Roald Dahl  English  1988  17 million [113]   NaN  \n",
              "82     Roald Dahl  English  1988  17 million [113]   NaN  "
            ],
            "text/html": [
              "\n",
              "  <div id=\"df-0cb660b7-270e-4f7a-a279-191eb6026cf1\" class=\"colab-df-container\">\n",
              "    <div>\n",
              "<style scoped>\n",
              "    .dataframe tbody tr th:only-of-type {\n",
              "        vertical-align: middle;\n",
              "    }\n",
              "\n",
              "    .dataframe tbody tr th {\n",
              "        vertical-align: top;\n",
              "    }\n",
              "\n",
              "    .dataframe thead th {\n",
              "        text-align: right;\n",
              "    }\n",
              "</style>\n",
              "<table border=\"1\" class=\"dataframe\">\n",
              "  <thead>\n",
              "    <tr style=\"text-align: right;\">\n",
              "      <th></th>\n",
              "      <th>bookID</th>\n",
              "      <th>title</th>\n",
              "      <th>authors</th>\n",
              "      <th>average_rating</th>\n",
              "      <th>isbn</th>\n",
              "      <th>isbn13</th>\n",
              "      <th>language_code</th>\n",
              "      <th>num_pages</th>\n",
              "      <th>ratings_count</th>\n",
              "      <th>text_reviews_count</th>\n",
              "      <th>publication_date</th>\n",
              "      <th>publisher</th>\n",
              "      <th>publication_year</th>\n",
              "      <th>author</th>\n",
              "      <th>language</th>\n",
              "      <th>year</th>\n",
              "      <th>copiesSold</th>\n",
              "      <th>genre</th>\n",
              "    </tr>\n",
              "  </thead>\n",
              "  <tbody>\n",
              "    <tr>\n",
              "      <th>78</th>\n",
              "      <td>33288</td>\n",
              "      <td>How to Win Friends and Influence People</td>\n",
              "      <td>Dale Carnegie</td>\n",
              "      <td>4.19</td>\n",
              "      <td>0091906814</td>\n",
              "      <td>9780091906818</td>\n",
              "      <td>eng</td>\n",
              "      <td>268</td>\n",
              "      <td>1842</td>\n",
              "      <td>104</td>\n",
              "      <td>2006-04-06</td>\n",
              "      <td>Vermilion</td>\n",
              "      <td>2006.0</td>\n",
              "      <td>Dale Carnegie</td>\n",
              "      <td>English</td>\n",
              "      <td>1936</td>\n",
              "      <td>15 million[124]</td>\n",
              "      <td>NaN</td>\n",
              "    </tr>\n",
              "    <tr>\n",
              "      <th>79</th>\n",
              "      <td>33291</td>\n",
              "      <td>How to Win Friends and Influence People</td>\n",
              "      <td>Dale Carnegie</td>\n",
              "      <td>4.19</td>\n",
              "      <td>0749307846</td>\n",
              "      <td>9780749307844</td>\n",
              "      <td>en-US</td>\n",
              "      <td>256</td>\n",
              "      <td>210</td>\n",
              "      <td>21</td>\n",
              "      <td>1994-03-31</td>\n",
              "      <td>Cedar Books</td>\n",
              "      <td>1994.0</td>\n",
              "      <td>Dale Carnegie</td>\n",
              "      <td>English</td>\n",
              "      <td>1936</td>\n",
              "      <td>15 million[124]</td>\n",
              "      <td>NaN</td>\n",
              "    </tr>\n",
              "    <tr>\n",
              "      <th>80</th>\n",
              "      <td>39988</td>\n",
              "      <td>Matilda</td>\n",
              "      <td>Roald Dahl/Quentin Blake</td>\n",
              "      <td>4.31</td>\n",
              "      <td>0141301066</td>\n",
              "      <td>9780141301068</td>\n",
              "      <td>eng</td>\n",
              "      <td>240</td>\n",
              "      <td>541914</td>\n",
              "      <td>11576</td>\n",
              "      <td>1998-06-01</td>\n",
              "      <td>Puffin Books</td>\n",
              "      <td>1998.0</td>\n",
              "      <td>Roald Dahl</td>\n",
              "      <td>English</td>\n",
              "      <td>1988</td>\n",
              "      <td>17 million [113]</td>\n",
              "      <td>NaN</td>\n",
              "    </tr>\n",
              "    <tr>\n",
              "      <th>81</th>\n",
              "      <td>44520</td>\n",
              "      <td>Matilda</td>\n",
              "      <td>Roald Dahl/Joely Richardson</td>\n",
              "      <td>4.31</td>\n",
              "      <td>0060582545</td>\n",
              "      <td>9780060582548</td>\n",
              "      <td>eng</td>\n",
              "      <td>5</td>\n",
              "      <td>56</td>\n",
              "      <td>18</td>\n",
              "      <td>2004-01-20</td>\n",
              "      <td>Festival Books</td>\n",
              "      <td>2004.0</td>\n",
              "      <td>Roald Dahl</td>\n",
              "      <td>English</td>\n",
              "      <td>1988</td>\n",
              "      <td>17 million [113]</td>\n",
              "      <td>NaN</td>\n",
              "    </tr>\n",
              "    <tr>\n",
              "      <th>82</th>\n",
              "      <td>44528</td>\n",
              "      <td>Matilda</td>\n",
              "      <td>Roald Dahl/Rula Lenska/Sian Thomas/Christopher...</td>\n",
              "      <td>4.31</td>\n",
              "      <td>0141805625</td>\n",
              "      <td>9780141805627</td>\n",
              "      <td>eng</td>\n",
              "      <td>1</td>\n",
              "      <td>6</td>\n",
              "      <td>0</td>\n",
              "      <td>2005-03-03</td>\n",
              "      <td>Puffin Audiobooks</td>\n",
              "      <td>2005.0</td>\n",
              "      <td>Roald Dahl</td>\n",
              "      <td>English</td>\n",
              "      <td>1988</td>\n",
              "      <td>17 million [113]</td>\n",
              "      <td>NaN</td>\n",
              "    </tr>\n",
              "  </tbody>\n",
              "</table>\n",
              "</div>\n",
              "    <div class=\"colab-df-buttons\">\n",
              "\n",
              "  <div class=\"colab-df-container\">\n",
              "    <button class=\"colab-df-convert\" onclick=\"convertToInteractive('df-0cb660b7-270e-4f7a-a279-191eb6026cf1')\"\n",
              "            title=\"Convert this dataframe to an interactive table.\"\n",
              "            style=\"display:none;\">\n",
              "\n",
              "  <svg xmlns=\"http://www.w3.org/2000/svg\" height=\"24px\" viewBox=\"0 -960 960 960\">\n",
              "    <path d=\"M120-120v-720h720v720H120Zm60-500h600v-160H180v160Zm220 220h160v-160H400v160Zm0 220h160v-160H400v160ZM180-400h160v-160H180v160Zm440 0h160v-160H620v160ZM180-180h160v-160H180v160Zm440 0h160v-160H620v160Z\"/>\n",
              "  </svg>\n",
              "    </button>\n",
              "\n",
              "  <style>\n",
              "    .colab-df-container {\n",
              "      display:flex;\n",
              "      gap: 12px;\n",
              "    }\n",
              "\n",
              "    .colab-df-convert {\n",
              "      background-color: #E8F0FE;\n",
              "      border: none;\n",
              "      border-radius: 50%;\n",
              "      cursor: pointer;\n",
              "      display: none;\n",
              "      fill: #1967D2;\n",
              "      height: 32px;\n",
              "      padding: 0 0 0 0;\n",
              "      width: 32px;\n",
              "    }\n",
              "\n",
              "    .colab-df-convert:hover {\n",
              "      background-color: #E2EBFA;\n",
              "      box-shadow: 0px 1px 2px rgba(60, 64, 67, 0.3), 0px 1px 3px 1px rgba(60, 64, 67, 0.15);\n",
              "      fill: #174EA6;\n",
              "    }\n",
              "\n",
              "    .colab-df-buttons div {\n",
              "      margin-bottom: 4px;\n",
              "    }\n",
              "\n",
              "    [theme=dark] .colab-df-convert {\n",
              "      background-color: #3B4455;\n",
              "      fill: #D2E3FC;\n",
              "    }\n",
              "\n",
              "    [theme=dark] .colab-df-convert:hover {\n",
              "      background-color: #434B5C;\n",
              "      box-shadow: 0px 1px 3px 1px rgba(0, 0, 0, 0.15);\n",
              "      filter: drop-shadow(0px 1px 2px rgba(0, 0, 0, 0.3));\n",
              "      fill: #FFFFFF;\n",
              "    }\n",
              "  </style>\n",
              "\n",
              "    <script>\n",
              "      const buttonEl =\n",
              "        document.querySelector('#df-0cb660b7-270e-4f7a-a279-191eb6026cf1 button.colab-df-convert');\n",
              "      buttonEl.style.display =\n",
              "        google.colab.kernel.accessAllowed ? 'block' : 'none';\n",
              "\n",
              "      async function convertToInteractive(key) {\n",
              "        const element = document.querySelector('#df-0cb660b7-270e-4f7a-a279-191eb6026cf1');\n",
              "        const dataTable =\n",
              "          await google.colab.kernel.invokeFunction('convertToInteractive',\n",
              "                                                    [key], {});\n",
              "        if (!dataTable) return;\n",
              "\n",
              "        const docLinkHtml = 'Like what you see? Visit the ' +\n",
              "          '<a target=\"_blank\" href=https://colab.research.google.com/notebooks/data_table.ipynb>data table notebook</a>'\n",
              "          + ' to learn more about interactive tables.';\n",
              "        element.innerHTML = '';\n",
              "        dataTable['output_type'] = 'display_data';\n",
              "        await google.colab.output.renderOutput(dataTable, element);\n",
              "        const docLink = document.createElement('div');\n",
              "        docLink.innerHTML = docLinkHtml;\n",
              "        element.appendChild(docLink);\n",
              "      }\n",
              "    </script>\n",
              "  </div>\n",
              "\n",
              "\n",
              "<div id=\"df-27a5e67c-c71f-4abb-8f67-5a4f137be27c\">\n",
              "  <button class=\"colab-df-quickchart\" onclick=\"quickchart('df-27a5e67c-c71f-4abb-8f67-5a4f137be27c')\"\n",
              "            title=\"Suggest charts\"\n",
              "            style=\"display:none;\">\n",
              "\n",
              "<svg xmlns=\"http://www.w3.org/2000/svg\" height=\"24px\"viewBox=\"0 0 24 24\"\n",
              "     width=\"24px\">\n",
              "    <g>\n",
              "        <path d=\"M19 3H5c-1.1 0-2 .9-2 2v14c0 1.1.9 2 2 2h14c1.1 0 2-.9 2-2V5c0-1.1-.9-2-2-2zM9 17H7v-7h2v7zm4 0h-2V7h2v10zm4 0h-2v-4h2v4z\"/>\n",
              "    </g>\n",
              "</svg>\n",
              "  </button>\n",
              "\n",
              "<style>\n",
              "  .colab-df-quickchart {\n",
              "      --bg-color: #E8F0FE;\n",
              "      --fill-color: #1967D2;\n",
              "      --hover-bg-color: #E2EBFA;\n",
              "      --hover-fill-color: #174EA6;\n",
              "      --disabled-fill-color: #AAA;\n",
              "      --disabled-bg-color: #DDD;\n",
              "  }\n",
              "\n",
              "  [theme=dark] .colab-df-quickchart {\n",
              "      --bg-color: #3B4455;\n",
              "      --fill-color: #D2E3FC;\n",
              "      --hover-bg-color: #434B5C;\n",
              "      --hover-fill-color: #FFFFFF;\n",
              "      --disabled-bg-color: #3B4455;\n",
              "      --disabled-fill-color: #666;\n",
              "  }\n",
              "\n",
              "  .colab-df-quickchart {\n",
              "    background-color: var(--bg-color);\n",
              "    border: none;\n",
              "    border-radius: 50%;\n",
              "    cursor: pointer;\n",
              "    display: none;\n",
              "    fill: var(--fill-color);\n",
              "    height: 32px;\n",
              "    padding: 0;\n",
              "    width: 32px;\n",
              "  }\n",
              "\n",
              "  .colab-df-quickchart:hover {\n",
              "    background-color: var(--hover-bg-color);\n",
              "    box-shadow: 0 1px 2px rgba(60, 64, 67, 0.3), 0 1px 3px 1px rgba(60, 64, 67, 0.15);\n",
              "    fill: var(--button-hover-fill-color);\n",
              "  }\n",
              "\n",
              "  .colab-df-quickchart-complete:disabled,\n",
              "  .colab-df-quickchart-complete:disabled:hover {\n",
              "    background-color: var(--disabled-bg-color);\n",
              "    fill: var(--disabled-fill-color);\n",
              "    box-shadow: none;\n",
              "  }\n",
              "\n",
              "  .colab-df-spinner {\n",
              "    border: 2px solid var(--fill-color);\n",
              "    border-color: transparent;\n",
              "    border-bottom-color: var(--fill-color);\n",
              "    animation:\n",
              "      spin 1s steps(1) infinite;\n",
              "  }\n",
              "\n",
              "  @keyframes spin {\n",
              "    0% {\n",
              "      border-color: transparent;\n",
              "      border-bottom-color: var(--fill-color);\n",
              "      border-left-color: var(--fill-color);\n",
              "    }\n",
              "    20% {\n",
              "      border-color: transparent;\n",
              "      border-left-color: var(--fill-color);\n",
              "      border-top-color: var(--fill-color);\n",
              "    }\n",
              "    30% {\n",
              "      border-color: transparent;\n",
              "      border-left-color: var(--fill-color);\n",
              "      border-top-color: var(--fill-color);\n",
              "      border-right-color: var(--fill-color);\n",
              "    }\n",
              "    40% {\n",
              "      border-color: transparent;\n",
              "      border-right-color: var(--fill-color);\n",
              "      border-top-color: var(--fill-color);\n",
              "    }\n",
              "    60% {\n",
              "      border-color: transparent;\n",
              "      border-right-color: var(--fill-color);\n",
              "    }\n",
              "    80% {\n",
              "      border-color: transparent;\n",
              "      border-right-color: var(--fill-color);\n",
              "      border-bottom-color: var(--fill-color);\n",
              "    }\n",
              "    90% {\n",
              "      border-color: transparent;\n",
              "      border-bottom-color: var(--fill-color);\n",
              "    }\n",
              "  }\n",
              "</style>\n",
              "\n",
              "  <script>\n",
              "    async function quickchart(key) {\n",
              "      const quickchartButtonEl =\n",
              "        document.querySelector('#' + key + ' button');\n",
              "      quickchartButtonEl.disabled = true;  // To prevent multiple clicks.\n",
              "      quickchartButtonEl.classList.add('colab-df-spinner');\n",
              "      try {\n",
              "        const charts = await google.colab.kernel.invokeFunction(\n",
              "            'suggestCharts', [key], {});\n",
              "      } catch (error) {\n",
              "        console.error('Error during call to suggestCharts:', error);\n",
              "      }\n",
              "      quickchartButtonEl.classList.remove('colab-df-spinner');\n",
              "      quickchartButtonEl.classList.add('colab-df-quickchart-complete');\n",
              "    }\n",
              "    (() => {\n",
              "      let quickchartButtonEl =\n",
              "        document.querySelector('#df-27a5e67c-c71f-4abb-8f67-5a4f137be27c button');\n",
              "      quickchartButtonEl.style.display =\n",
              "        google.colab.kernel.accessAllowed ? 'block' : 'none';\n",
              "    })();\n",
              "  </script>\n",
              "</div>\n",
              "    </div>\n",
              "  </div>\n"
            ],
            "application/vnd.google.colaboratory.intrinsic+json": {
              "type": "dataframe",
              "repr_error": "'str' object has no attribute 'empty'"
            }
          },
          "metadata": {},
          "execution_count": 25
        }
      ]
    },
    {
      "cell_type": "markdown",
      "source": [
        "# 6. Data Cleaning"
      ],
      "metadata": {
        "id": "bGB3ydEdfZ7J"
      }
    },
    {
      "cell_type": "code",
      "source": [
        "# Number of missing values in each column\n",
        "merged_inner_df.isnull().sum().sort_values(ascending=False)"
      ],
      "metadata": {
        "colab": {
          "base_uri": "https://localhost:8080/"
        },
        "id": "nHlq66GYfcS0",
        "outputId": "08efd259-fc0c-48d4-c7b3-4ea1f6e35ad2"
      },
      "execution_count": null,
      "outputs": [
        {
          "output_type": "execute_result",
          "data": {
            "text/plain": [
              "genre                 54\n",
              "title                  0\n",
              "copiesSold             0\n",
              "year                   0\n",
              "language               0\n",
              "author                 0\n",
              "publication_year       0\n",
              "publisher              0\n",
              "publication_date       0\n",
              "bookID                 0\n",
              "ratings_count          0\n",
              "  num_pages            0\n",
              "language_code          0\n",
              "isbn13                 0\n",
              "isbn                   0\n",
              "average_rating         0\n",
              "authors                0\n",
              "text_reviews_count     0\n",
              "dtype: int64"
            ]
          },
          "metadata": {},
          "execution_count": 26
        }
      ]
    },
    {
      "cell_type": "code",
      "source": [
        "# Drop the genre column\n",
        "merged_df = merged_inner_df.drop(columns=['genre'])"
      ],
      "metadata": {
        "id": "r-BFcRZhwv6y"
      },
      "execution_count": null,
      "outputs": []
    },
    {
      "cell_type": "code",
      "source": [
        "# Ensuring genre column is dropped\n",
        "merged_df.columns"
      ],
      "metadata": {
        "colab": {
          "base_uri": "https://localhost:8080/"
        },
        "id": "xyXDhjBdxB5l",
        "outputId": "51a347c0-c495-4256-bd2a-5e7008e5833b"
      },
      "execution_count": null,
      "outputs": [
        {
          "output_type": "execute_result",
          "data": {
            "text/plain": [
              "Index(['bookID', 'title', 'authors', 'average_rating', 'isbn', 'isbn13',\n",
              "       'language_code', '  num_pages', 'ratings_count', 'text_reviews_count',\n",
              "       'publication_date', 'publisher', 'publication_year', 'author',\n",
              "       'language', 'year', 'copiesSold'],\n",
              "      dtype='object')"
            ]
          },
          "metadata": {},
          "execution_count": 28
        }
      ]
    },
    {
      "cell_type": "code",
      "source": [
        "# Examine unique values and data type in the 'average_rating' column\n",
        "unique_copies_sold = merged_inner_df['average_rating'].unique()\n",
        "print(unique_copies_sold)\n",
        "print(merged_inner_df['average_rating'].dtype)"
      ],
      "metadata": {
        "colab": {
          "base_uri": "https://localhost:8080/"
        },
        "id": "2c0pUWMoD9Pq",
        "outputId": "df76255b-fd1f-49cc-8880-4cb576c3c92b"
      },
      "execution_count": null,
      "outputs": [
        {
          "output_type": "stream",
          "name": "stdout",
          "text": [
            "['3.81' '3.84' '3.91' '4.26' '3.77' '4.23' '4.27' '3.82' '3.96' '4.17'\n",
            " '3.99' '3.98' '3.88' '3.80' '4.11' '4.29' '4.15' '4.18' '4.01' '4.10'\n",
            " '3.89' '3.93' '4.25' '4.06' '3.64' '4.09' '4.03' '4.37' '4.22' '4.28'\n",
            " '4.19' '4.31']\n",
            "object\n"
          ]
        }
      ]
    },
    {
      "cell_type": "code",
      "source": [
        "# Examines unique values and data type in the 'copiesSold' column\n",
        "unique_copies_sold = merged_inner_df['copiesSold'].unique()\n",
        "print(unique_copies_sold)\n",
        "print(merged_inner_df['copiesSold'].dtype)"
      ],
      "metadata": {
        "colab": {
          "base_uri": "https://localhost:8080/"
        },
        "id": "KtC2nQgBDzNq",
        "outputId": "8420666e-8be1-47ea-c62b-015f0962e264"
      },
      "execution_count": null,
      "outputs": [
        {
          "output_type": "stream",
          "name": "stdout",
          "text": [
            "['10 million[154]' '80 million[25]' '10 million[166]'\n",
            " '20 million[101][102]' '13 million[57]' '11 million[144]'\n",
            " '40 million[51]' '20 million[99]' '33 million[61]' '50 million[41]'\n",
            " '25 million[74]' '10 million[170]' '15 million[126]' '10 million[151]'\n",
            " '30 million (\"around\")[65]' '26 million[citation needed]'\n",
            " '10 million[171]' '43 million [50]' '65 million [30]' '15 million[128]'\n",
            " '30 million[68]' '25 million[77]' '100 million[19]' '28 million[73]'\n",
            " '14 million[131]' '50 million[37]' '20 million[92]' '10.5 million[148]'\n",
            " '50 million[40]' '50 million[46]' '50 million[44]'\n",
            " '30 million (est.)[67]' '23 million[79]' '15 million[119]'\n",
            " '40 million [53]' '100 million[20]' '30 million (est.)[66]'\n",
            " '16 million [114]' '45 million[48][citation needed]' '20 million[105]'\n",
            " '21 million[82]' '20 million[86]' '16 million[116]' '15 million[124]'\n",
            " '17 million [113]']\n",
            "object\n"
          ]
        }
      ]
    },
    {
      "cell_type": "code",
      "source": [
        "# Converts 'average_rating' column to numeric type\n",
        "merged_df['average_rating'] = pd.to_numeric(merged_inner_df['average_rating'], errors='coerce')\n",
        "\n",
        "# Checks the data type of 'average_rating' column after conversion\n",
        "print(merged_df['average_rating'].dtype)"
      ],
      "metadata": {
        "colab": {
          "base_uri": "https://localhost:8080/"
        },
        "id": "TDr2esm60WYu",
        "outputId": "63007556-55c3-4803-eff0-f69ec6fff38f"
      },
      "execution_count": null,
      "outputs": [
        {
          "output_type": "stream",
          "name": "stdout",
          "text": [
            "float64\n"
          ]
        }
      ]
    },
    {
      "cell_type": "code",
      "source": [
        "import re\n",
        "\n",
        "# Defines a function to extract numeric values from the 'copiesSold' column\n",
        "def extract_numeric(value):\n",
        "    # Regular expression pattern to match numeric values\n",
        "    pattern = r'\\d+\\.?\\d*'  # Match one or more digits with an optional decimal point\n",
        "\n",
        "    # Extracts numeric values using regular expression\n",
        "    numeric_values = re.findall(pattern, str(value))\n",
        "\n",
        "    # Converts extracted values to float and handle special cases\n",
        "    if numeric_values:\n",
        "        # Extracts the first numeric value\n",
        "        numeric_value = float(numeric_values[0])\n",
        "\n",
        "        # Converts million to actual number\n",
        "        if 'million' in str(value):\n",
        "            numeric_value *= 1000000  # 1 million = 1,000,000\n",
        "\n",
        "        return numeric_value\n",
        "    else:\n",
        "        return None\n",
        "\n",
        "# Applies the function to the 'copiesSold' column to create a new column 'copiesSold_numeric'\n",
        "merged_df['copiesSold'] = merged_inner_df['copiesSold'].apply(extract_numeric)\n",
        "\n",
        "# Displays the modified 'copiesSold of the DataFrame to verify the changes\n",
        "print(merged_df['copiesSold'])\n",
        "print(merged_df['copiesSold'].dtype)"
      ],
      "metadata": {
        "colab": {
          "base_uri": "https://localhost:8080/"
        },
        "id": "XFANqi-GEw8Q",
        "outputId": "12839e7d-dc4d-47af-ef87-dd781f47c34b"
      },
      "execution_count": null,
      "outputs": [
        {
          "output_type": "stream",
          "name": "stdout",
          "text": [
            "0     10000000.0\n",
            "1     10000000.0\n",
            "2     10000000.0\n",
            "3     80000000.0\n",
            "4     80000000.0\n",
            "         ...    \n",
            "78    15000000.0\n",
            "79    15000000.0\n",
            "80    17000000.0\n",
            "81    17000000.0\n",
            "82    17000000.0\n",
            "Name: copiesSold, Length: 83, dtype: float64\n",
            "float64\n"
          ]
        }
      ]
    },
    {
      "cell_type": "code",
      "source": [
        "# Renames the 'copiesSold' column\n",
        "merged_df.rename(columns={'copiesSold': 'copiesSold_in_millions'}, inplace=True)"
      ],
      "metadata": {
        "id": "uxSVNzC4FLiW"
      },
      "execution_count": null,
      "outputs": []
    },
    {
      "cell_type": "code",
      "source": [
        "# Display the DataFrame with the changes\n",
        "merged_df.head()"
      ],
      "metadata": {
        "colab": {
          "base_uri": "https://localhost:8080/",
          "height": 434
        },
        "id": "qZSvQgUr1l1M",
        "outputId": "bd5db12d-bc00-4bfb-9ce4-bab4da3c0ed0"
      },
      "execution_count": null,
      "outputs": [
        {
          "output_type": "execute_result",
          "data": {
            "text/plain": [
              "   bookID              title       authors  average_rating        isbn  \\\n",
              "0     537   The Lovely Bones  Alice Sebold            3.81  0330485385   \n",
              "1     538   The Lovely Bones  Alice Sebold            3.81  159413023X   \n",
              "2   15806   The Lovely Bones  Alice Sebold            3.81  0316168815   \n",
              "3     969  The Da Vinci Code     Dan Brown            3.84  076792603X   \n",
              "4    4248  The Da Vinci Code     Dan Brown            3.84  1400079179   \n",
              "\n",
              "          isbn13 language_code   num_pages  ratings_count  text_reviews_count  \\\n",
              "0  9780330485388         en-GB         328           6485                 966   \n",
              "1  9781594130236         en-US         532            367                  73   \n",
              "2  9780316168816         en-US         328           5945                 735   \n",
              "3  9780767926034           eng         467           1120                 105   \n",
              "4  9781400079179           eng         489          13934                1459   \n",
              "\n",
              "  publication_date          publisher  publication_year        author  \\\n",
              "0       2003-06-01            Picador            2003.0  Alice Sebold   \n",
              "1       2004-04-01  Large Print Press            2004.0  Alice Sebold   \n",
              "2       2004-04-20     Back Bay Books            2004.0  Alice Sebold   \n",
              "3       2006-03-28     Broadway Books            2006.0     Dan Brown   \n",
              "4       2006-03-28             Anchor            2006.0     Dan Brown   \n",
              "\n",
              "  language  year  copiesSold_in_millions  \n",
              "0  English  2002              10000000.0  \n",
              "1  English  2002              10000000.0  \n",
              "2  English  2002              10000000.0  \n",
              "3  English  2003              80000000.0  \n",
              "4  English  2003              80000000.0  "
            ],
            "text/html": [
              "\n",
              "  <div id=\"df-916912d9-0a91-4a12-b5b1-aa2f89756e77\" class=\"colab-df-container\">\n",
              "    <div>\n",
              "<style scoped>\n",
              "    .dataframe tbody tr th:only-of-type {\n",
              "        vertical-align: middle;\n",
              "    }\n",
              "\n",
              "    .dataframe tbody tr th {\n",
              "        vertical-align: top;\n",
              "    }\n",
              "\n",
              "    .dataframe thead th {\n",
              "        text-align: right;\n",
              "    }\n",
              "</style>\n",
              "<table border=\"1\" class=\"dataframe\">\n",
              "  <thead>\n",
              "    <tr style=\"text-align: right;\">\n",
              "      <th></th>\n",
              "      <th>bookID</th>\n",
              "      <th>title</th>\n",
              "      <th>authors</th>\n",
              "      <th>average_rating</th>\n",
              "      <th>isbn</th>\n",
              "      <th>isbn13</th>\n",
              "      <th>language_code</th>\n",
              "      <th>num_pages</th>\n",
              "      <th>ratings_count</th>\n",
              "      <th>text_reviews_count</th>\n",
              "      <th>publication_date</th>\n",
              "      <th>publisher</th>\n",
              "      <th>publication_year</th>\n",
              "      <th>author</th>\n",
              "      <th>language</th>\n",
              "      <th>year</th>\n",
              "      <th>copiesSold_in_millions</th>\n",
              "    </tr>\n",
              "  </thead>\n",
              "  <tbody>\n",
              "    <tr>\n",
              "      <th>0</th>\n",
              "      <td>537</td>\n",
              "      <td>The Lovely Bones</td>\n",
              "      <td>Alice Sebold</td>\n",
              "      <td>3.81</td>\n",
              "      <td>0330485385</td>\n",
              "      <td>9780330485388</td>\n",
              "      <td>en-GB</td>\n",
              "      <td>328</td>\n",
              "      <td>6485</td>\n",
              "      <td>966</td>\n",
              "      <td>2003-06-01</td>\n",
              "      <td>Picador</td>\n",
              "      <td>2003.0</td>\n",
              "      <td>Alice Sebold</td>\n",
              "      <td>English</td>\n",
              "      <td>2002</td>\n",
              "      <td>10000000.0</td>\n",
              "    </tr>\n",
              "    <tr>\n",
              "      <th>1</th>\n",
              "      <td>538</td>\n",
              "      <td>The Lovely Bones</td>\n",
              "      <td>Alice Sebold</td>\n",
              "      <td>3.81</td>\n",
              "      <td>159413023X</td>\n",
              "      <td>9781594130236</td>\n",
              "      <td>en-US</td>\n",
              "      <td>532</td>\n",
              "      <td>367</td>\n",
              "      <td>73</td>\n",
              "      <td>2004-04-01</td>\n",
              "      <td>Large Print Press</td>\n",
              "      <td>2004.0</td>\n",
              "      <td>Alice Sebold</td>\n",
              "      <td>English</td>\n",
              "      <td>2002</td>\n",
              "      <td>10000000.0</td>\n",
              "    </tr>\n",
              "    <tr>\n",
              "      <th>2</th>\n",
              "      <td>15806</td>\n",
              "      <td>The Lovely Bones</td>\n",
              "      <td>Alice Sebold</td>\n",
              "      <td>3.81</td>\n",
              "      <td>0316168815</td>\n",
              "      <td>9780316168816</td>\n",
              "      <td>en-US</td>\n",
              "      <td>328</td>\n",
              "      <td>5945</td>\n",
              "      <td>735</td>\n",
              "      <td>2004-04-20</td>\n",
              "      <td>Back Bay Books</td>\n",
              "      <td>2004.0</td>\n",
              "      <td>Alice Sebold</td>\n",
              "      <td>English</td>\n",
              "      <td>2002</td>\n",
              "      <td>10000000.0</td>\n",
              "    </tr>\n",
              "    <tr>\n",
              "      <th>3</th>\n",
              "      <td>969</td>\n",
              "      <td>The Da Vinci Code</td>\n",
              "      <td>Dan Brown</td>\n",
              "      <td>3.84</td>\n",
              "      <td>076792603X</td>\n",
              "      <td>9780767926034</td>\n",
              "      <td>eng</td>\n",
              "      <td>467</td>\n",
              "      <td>1120</td>\n",
              "      <td>105</td>\n",
              "      <td>2006-03-28</td>\n",
              "      <td>Broadway Books</td>\n",
              "      <td>2006.0</td>\n",
              "      <td>Dan Brown</td>\n",
              "      <td>English</td>\n",
              "      <td>2003</td>\n",
              "      <td>80000000.0</td>\n",
              "    </tr>\n",
              "    <tr>\n",
              "      <th>4</th>\n",
              "      <td>4248</td>\n",
              "      <td>The Da Vinci Code</td>\n",
              "      <td>Dan Brown</td>\n",
              "      <td>3.84</td>\n",
              "      <td>1400079179</td>\n",
              "      <td>9781400079179</td>\n",
              "      <td>eng</td>\n",
              "      <td>489</td>\n",
              "      <td>13934</td>\n",
              "      <td>1459</td>\n",
              "      <td>2006-03-28</td>\n",
              "      <td>Anchor</td>\n",
              "      <td>2006.0</td>\n",
              "      <td>Dan Brown</td>\n",
              "      <td>English</td>\n",
              "      <td>2003</td>\n",
              "      <td>80000000.0</td>\n",
              "    </tr>\n",
              "  </tbody>\n",
              "</table>\n",
              "</div>\n",
              "    <div class=\"colab-df-buttons\">\n",
              "\n",
              "  <div class=\"colab-df-container\">\n",
              "    <button class=\"colab-df-convert\" onclick=\"convertToInteractive('df-916912d9-0a91-4a12-b5b1-aa2f89756e77')\"\n",
              "            title=\"Convert this dataframe to an interactive table.\"\n",
              "            style=\"display:none;\">\n",
              "\n",
              "  <svg xmlns=\"http://www.w3.org/2000/svg\" height=\"24px\" viewBox=\"0 -960 960 960\">\n",
              "    <path d=\"M120-120v-720h720v720H120Zm60-500h600v-160H180v160Zm220 220h160v-160H400v160Zm0 220h160v-160H400v160ZM180-400h160v-160H180v160Zm440 0h160v-160H620v160ZM180-180h160v-160H180v160Zm440 0h160v-160H620v160Z\"/>\n",
              "  </svg>\n",
              "    </button>\n",
              "\n",
              "  <style>\n",
              "    .colab-df-container {\n",
              "      display:flex;\n",
              "      gap: 12px;\n",
              "    }\n",
              "\n",
              "    .colab-df-convert {\n",
              "      background-color: #E8F0FE;\n",
              "      border: none;\n",
              "      border-radius: 50%;\n",
              "      cursor: pointer;\n",
              "      display: none;\n",
              "      fill: #1967D2;\n",
              "      height: 32px;\n",
              "      padding: 0 0 0 0;\n",
              "      width: 32px;\n",
              "    }\n",
              "\n",
              "    .colab-df-convert:hover {\n",
              "      background-color: #E2EBFA;\n",
              "      box-shadow: 0px 1px 2px rgba(60, 64, 67, 0.3), 0px 1px 3px 1px rgba(60, 64, 67, 0.15);\n",
              "      fill: #174EA6;\n",
              "    }\n",
              "\n",
              "    .colab-df-buttons div {\n",
              "      margin-bottom: 4px;\n",
              "    }\n",
              "\n",
              "    [theme=dark] .colab-df-convert {\n",
              "      background-color: #3B4455;\n",
              "      fill: #D2E3FC;\n",
              "    }\n",
              "\n",
              "    [theme=dark] .colab-df-convert:hover {\n",
              "      background-color: #434B5C;\n",
              "      box-shadow: 0px 1px 3px 1px rgba(0, 0, 0, 0.15);\n",
              "      filter: drop-shadow(0px 1px 2px rgba(0, 0, 0, 0.3));\n",
              "      fill: #FFFFFF;\n",
              "    }\n",
              "  </style>\n",
              "\n",
              "    <script>\n",
              "      const buttonEl =\n",
              "        document.querySelector('#df-916912d9-0a91-4a12-b5b1-aa2f89756e77 button.colab-df-convert');\n",
              "      buttonEl.style.display =\n",
              "        google.colab.kernel.accessAllowed ? 'block' : 'none';\n",
              "\n",
              "      async function convertToInteractive(key) {\n",
              "        const element = document.querySelector('#df-916912d9-0a91-4a12-b5b1-aa2f89756e77');\n",
              "        const dataTable =\n",
              "          await google.colab.kernel.invokeFunction('convertToInteractive',\n",
              "                                                    [key], {});\n",
              "        if (!dataTable) return;\n",
              "\n",
              "        const docLinkHtml = 'Like what you see? Visit the ' +\n",
              "          '<a target=\"_blank\" href=https://colab.research.google.com/notebooks/data_table.ipynb>data table notebook</a>'\n",
              "          + ' to learn more about interactive tables.';\n",
              "        element.innerHTML = '';\n",
              "        dataTable['output_type'] = 'display_data';\n",
              "        await google.colab.output.renderOutput(dataTable, element);\n",
              "        const docLink = document.createElement('div');\n",
              "        docLink.innerHTML = docLinkHtml;\n",
              "        element.appendChild(docLink);\n",
              "      }\n",
              "    </script>\n",
              "  </div>\n",
              "\n",
              "\n",
              "<div id=\"df-ed99f36b-dea4-4f11-b2da-adbe1ddcfb63\">\n",
              "  <button class=\"colab-df-quickchart\" onclick=\"quickchart('df-ed99f36b-dea4-4f11-b2da-adbe1ddcfb63')\"\n",
              "            title=\"Suggest charts\"\n",
              "            style=\"display:none;\">\n",
              "\n",
              "<svg xmlns=\"http://www.w3.org/2000/svg\" height=\"24px\"viewBox=\"0 0 24 24\"\n",
              "     width=\"24px\">\n",
              "    <g>\n",
              "        <path d=\"M19 3H5c-1.1 0-2 .9-2 2v14c0 1.1.9 2 2 2h14c1.1 0 2-.9 2-2V5c0-1.1-.9-2-2-2zM9 17H7v-7h2v7zm4 0h-2V7h2v10zm4 0h-2v-4h2v4z\"/>\n",
              "    </g>\n",
              "</svg>\n",
              "  </button>\n",
              "\n",
              "<style>\n",
              "  .colab-df-quickchart {\n",
              "      --bg-color: #E8F0FE;\n",
              "      --fill-color: #1967D2;\n",
              "      --hover-bg-color: #E2EBFA;\n",
              "      --hover-fill-color: #174EA6;\n",
              "      --disabled-fill-color: #AAA;\n",
              "      --disabled-bg-color: #DDD;\n",
              "  }\n",
              "\n",
              "  [theme=dark] .colab-df-quickchart {\n",
              "      --bg-color: #3B4455;\n",
              "      --fill-color: #D2E3FC;\n",
              "      --hover-bg-color: #434B5C;\n",
              "      --hover-fill-color: #FFFFFF;\n",
              "      --disabled-bg-color: #3B4455;\n",
              "      --disabled-fill-color: #666;\n",
              "  }\n",
              "\n",
              "  .colab-df-quickchart {\n",
              "    background-color: var(--bg-color);\n",
              "    border: none;\n",
              "    border-radius: 50%;\n",
              "    cursor: pointer;\n",
              "    display: none;\n",
              "    fill: var(--fill-color);\n",
              "    height: 32px;\n",
              "    padding: 0;\n",
              "    width: 32px;\n",
              "  }\n",
              "\n",
              "  .colab-df-quickchart:hover {\n",
              "    background-color: var(--hover-bg-color);\n",
              "    box-shadow: 0 1px 2px rgba(60, 64, 67, 0.3), 0 1px 3px 1px rgba(60, 64, 67, 0.15);\n",
              "    fill: var(--button-hover-fill-color);\n",
              "  }\n",
              "\n",
              "  .colab-df-quickchart-complete:disabled,\n",
              "  .colab-df-quickchart-complete:disabled:hover {\n",
              "    background-color: var(--disabled-bg-color);\n",
              "    fill: var(--disabled-fill-color);\n",
              "    box-shadow: none;\n",
              "  }\n",
              "\n",
              "  .colab-df-spinner {\n",
              "    border: 2px solid var(--fill-color);\n",
              "    border-color: transparent;\n",
              "    border-bottom-color: var(--fill-color);\n",
              "    animation:\n",
              "      spin 1s steps(1) infinite;\n",
              "  }\n",
              "\n",
              "  @keyframes spin {\n",
              "    0% {\n",
              "      border-color: transparent;\n",
              "      border-bottom-color: var(--fill-color);\n",
              "      border-left-color: var(--fill-color);\n",
              "    }\n",
              "    20% {\n",
              "      border-color: transparent;\n",
              "      border-left-color: var(--fill-color);\n",
              "      border-top-color: var(--fill-color);\n",
              "    }\n",
              "    30% {\n",
              "      border-color: transparent;\n",
              "      border-left-color: var(--fill-color);\n",
              "      border-top-color: var(--fill-color);\n",
              "      border-right-color: var(--fill-color);\n",
              "    }\n",
              "    40% {\n",
              "      border-color: transparent;\n",
              "      border-right-color: var(--fill-color);\n",
              "      border-top-color: var(--fill-color);\n",
              "    }\n",
              "    60% {\n",
              "      border-color: transparent;\n",
              "      border-right-color: var(--fill-color);\n",
              "    }\n",
              "    80% {\n",
              "      border-color: transparent;\n",
              "      border-right-color: var(--fill-color);\n",
              "      border-bottom-color: var(--fill-color);\n",
              "    }\n",
              "    90% {\n",
              "      border-color: transparent;\n",
              "      border-bottom-color: var(--fill-color);\n",
              "    }\n",
              "  }\n",
              "</style>\n",
              "\n",
              "  <script>\n",
              "    async function quickchart(key) {\n",
              "      const quickchartButtonEl =\n",
              "        document.querySelector('#' + key + ' button');\n",
              "      quickchartButtonEl.disabled = true;  // To prevent multiple clicks.\n",
              "      quickchartButtonEl.classList.add('colab-df-spinner');\n",
              "      try {\n",
              "        const charts = await google.colab.kernel.invokeFunction(\n",
              "            'suggestCharts', [key], {});\n",
              "      } catch (error) {\n",
              "        console.error('Error during call to suggestCharts:', error);\n",
              "      }\n",
              "      quickchartButtonEl.classList.remove('colab-df-spinner');\n",
              "      quickchartButtonEl.classList.add('colab-df-quickchart-complete');\n",
              "    }\n",
              "    (() => {\n",
              "      let quickchartButtonEl =\n",
              "        document.querySelector('#df-ed99f36b-dea4-4f11-b2da-adbe1ddcfb63 button');\n",
              "      quickchartButtonEl.style.display =\n",
              "        google.colab.kernel.accessAllowed ? 'block' : 'none';\n",
              "    })();\n",
              "  </script>\n",
              "</div>\n",
              "    </div>\n",
              "  </div>\n"
            ],
            "application/vnd.google.colaboratory.intrinsic+json": {
              "type": "dataframe",
              "variable_name": "merged_df",
              "summary": "{\n  \"name\": \"merged_df\",\n  \"rows\": 83,\n  \"fields\": [\n    {\n      \"column\": \"bookID\",\n      \"properties\": {\n        \"dtype\": \"number\",\n        \"std\": 11922,\n        \"min\": 537,\n        \"max\": 44528,\n        \"num_unique_values\": 83,\n        \"samples\": [\n          4674,\n          537,\n          3869\n        ],\n        \"semantic_type\": \"\",\n        \"description\": \"\"\n      }\n    },\n    {\n      \"column\": \"title\",\n      \"properties\": {\n        \"dtype\": \"string\",\n        \"num_unique_values\": 45,\n        \"samples\": [\n          \"Where the Wild Things Are\",\n          \"Lolita\",\n          \"Animal Farm\"\n        ],\n        \"semantic_type\": \"\",\n        \"description\": \"\"\n      }\n    },\n    {\n      \"column\": \"authors\",\n      \"properties\": {\n        \"dtype\": \"string\",\n        \"num_unique_values\": 69,\n        \"samples\": [\n          \"John Steinbeck\",\n          \"Alice Sebold\",\n          \"L.M. Montgomery/Barbara Caruso\"\n        ],\n        \"semantic_type\": \"\",\n        \"description\": \"\"\n      }\n    },\n    {\n      \"column\": \"average_rating\",\n      \"properties\": {\n        \"dtype\": \"number\",\n        \"std\": 0.17834688371690435,\n        \"min\": 3.64,\n        \"max\": 4.37,\n        \"num_unique_values\": 32,\n        \"samples\": [\n          4.28,\n          4.29,\n          3.64\n        ],\n        \"semantic_type\": \"\",\n        \"description\": \"\"\n      }\n    },\n    {\n      \"column\": \"isbn\",\n      \"properties\": {\n        \"dtype\": \"string\",\n        \"num_unique_values\": 83,\n        \"samples\": [\n          \"0060098910\",\n          \"0330485385\",\n          \"0553380168\"\n        ],\n        \"semantic_type\": \"\",\n        \"description\": \"\"\n      }\n    },\n    {\n      \"column\": \"isbn13\",\n      \"properties\": {\n        \"dtype\": \"string\",\n        \"num_unique_values\": 83,\n        \"samples\": [\n          \"9780060098919\",\n          \"9780330485388\",\n          \"9780553380163\"\n        ],\n        \"semantic_type\": \"\",\n        \"description\": \"\"\n      }\n    },\n    {\n      \"column\": \"language_code\",\n      \"properties\": {\n        \"dtype\": \"category\",\n        \"num_unique_values\": 4,\n        \"samples\": [\n          \"en-US\",\n          \"spa\",\n          \"en-GB\"\n        ],\n        \"semantic_type\": \"\",\n        \"description\": \"\"\n      }\n    },\n    {\n      \"column\": \"  num_pages\",\n      \"properties\": {\n        \"dtype\": \"string\",\n        \"num_unique_values\": 71,\n        \"samples\": [\n          \"186\",\n          \"328\",\n          \"122\"\n        ],\n        \"semantic_type\": \"\",\n        \"description\": \"\"\n      }\n    },\n    {\n      \"column\": \"ratings_count\",\n      \"properties\": {\n        \"dtype\": \"number\",\n        \"std\": 501091,\n        \"min\": 6,\n        \"max\": 2530894,\n        \"num_unique_values\": 81,\n        \"samples\": [\n          258,\n          6485,\n          239652\n        ],\n        \"semantic_type\": \"\",\n        \"description\": \"\"\n      }\n    },\n    {\n      \"column\": \"text_reviews_count\",\n      \"properties\": {\n        \"dtype\": \"number\",\n        \"std\": 11807,\n        \"min\": 0,\n        \"max\": 86881,\n        \"num_unique_values\": 74,\n        \"samples\": [\n          1459,\n          129,\n          2\n        ],\n        \"semantic_type\": \"\",\n        \"description\": \"\"\n      }\n    },\n    {\n      \"column\": \"publication_date\",\n      \"properties\": {\n        \"dtype\": \"date\",\n        \"min\": \"1925-09-01 00:00:00\",\n        \"max\": \"2012-12-26 00:00:00\",\n        \"num_unique_values\": 75,\n        \"samples\": [\n          \"2004-05-03 00:00:00\",\n          \"1999-04-01 00:00:00\",\n          \"2006-05-01 00:00:00\"\n        ],\n        \"semantic_type\": \"\",\n        \"description\": \"\"\n      }\n    },\n    {\n      \"column\": \"publisher\",\n      \"properties\": {\n        \"dtype\": \"string\",\n        \"num_unique_values\": 71,\n        \"samples\": [\n          \"Blackstone Audiobooks\",\n          \"Picador\",\n          \"NAL\"\n        ],\n        \"semantic_type\": \"\",\n        \"description\": \"\"\n      }\n    },\n    {\n      \"column\": \"publication_year\",\n      \"properties\": {\n        \"dtype\": \"number\",\n        \"std\": 10.306812550660458,\n        \"min\": 1925.0,\n        \"max\": 2012.0,\n        \"num_unique_values\": 20,\n        \"samples\": [\n          2003.0,\n          1993.0,\n          1978.0\n        ],\n        \"semantic_type\": \"\",\n        \"description\": \"\"\n      }\n    },\n    {\n      \"column\": \"author\",\n      \"properties\": {\n        \"dtype\": \"string\",\n        \"num_unique_values\": 43,\n        \"samples\": [\n          \"Beatrix Potter\",\n          \"Mitch Albom\",\n          \"Vladimir Nabokov\"\n        ],\n        \"semantic_type\": \"\",\n        \"description\": \"\"\n      }\n    },\n    {\n      \"column\": \"language\",\n      \"properties\": {\n        \"dtype\": \"category\",\n        \"num_unique_values\": 2,\n        \"samples\": [\n          \"Hindi\",\n          \"English\"\n        ],\n        \"semantic_type\": \"\",\n        \"description\": \"\"\n      }\n    },\n    {\n      \"column\": \"year\",\n      \"properties\": {\n        \"dtype\": \"number\",\n        \"std\": 45,\n        \"min\": 1813,\n        \"max\": 2005,\n        \"num_unique_values\": 38,\n        \"samples\": [\n          2005,\n          1946\n        ],\n        \"semantic_type\": \"\",\n        \"description\": \"\"\n      }\n    },\n    {\n      \"column\": \"copiesSold_in_millions\",\n      \"properties\": {\n        \"dtype\": \"number\",\n        \"std\": 22246487.04219351,\n        \"min\": 10000000.0,\n        \"max\": 100000000.0,\n        \"num_unique_values\": 23,\n        \"samples\": [\n          28000000.0,\n          15000000.0\n        ],\n        \"semantic_type\": \"\",\n        \"description\": \"\"\n      }\n    }\n  ]\n}"
            }
          },
          "metadata": {},
          "execution_count": 34
        }
      ]
    },
    {
      "cell_type": "code",
      "source": [
        "merged_df.tail()"
      ],
      "metadata": {
        "colab": {
          "base_uri": "https://localhost:8080/",
          "height": 469
        },
        "id": "bl-PR478IUzK",
        "outputId": "01b4df58-63b4-441a-ab18-fdf8234310d4"
      },
      "execution_count": null,
      "outputs": [
        {
          "output_type": "execute_result",
          "data": {
            "text/plain": [
              "    bookID                                    title  \\\n",
              "78   33288  How to Win Friends and Influence People   \n",
              "79   33291  How to Win Friends and Influence People   \n",
              "80   39988                                  Matilda   \n",
              "81   44520                                  Matilda   \n",
              "82   44528                                  Matilda   \n",
              "\n",
              "                                              authors  average_rating  \\\n",
              "78                                      Dale Carnegie            4.19   \n",
              "79                                      Dale Carnegie            4.19   \n",
              "80                           Roald Dahl/Quentin Blake            4.31   \n",
              "81                        Roald Dahl/Joely Richardson            4.31   \n",
              "82  Roald Dahl/Rula Lenska/Sian Thomas/Christopher...            4.31   \n",
              "\n",
              "          isbn         isbn13 language_code   num_pages  ratings_count  \\\n",
              "78  0091906814  9780091906818           eng         268           1842   \n",
              "79  0749307846  9780749307844         en-US         256            210   \n",
              "80  0141301066  9780141301068           eng         240         541914   \n",
              "81  0060582545  9780060582548           eng           5             56   \n",
              "82  0141805625  9780141805627           eng           1              6   \n",
              "\n",
              "    text_reviews_count publication_date          publisher  publication_year  \\\n",
              "78                 104       2006-04-06          Vermilion            2006.0   \n",
              "79                  21       1994-03-31        Cedar Books            1994.0   \n",
              "80               11576       1998-06-01       Puffin Books            1998.0   \n",
              "81                  18       2004-01-20     Festival Books            2004.0   \n",
              "82                   0       2005-03-03  Puffin Audiobooks            2005.0   \n",
              "\n",
              "           author language  year  copiesSold_in_millions  \n",
              "78  Dale Carnegie  English  1936              15000000.0  \n",
              "79  Dale Carnegie  English  1936              15000000.0  \n",
              "80     Roald Dahl  English  1988              17000000.0  \n",
              "81     Roald Dahl  English  1988              17000000.0  \n",
              "82     Roald Dahl  English  1988              17000000.0  "
            ],
            "text/html": [
              "\n",
              "  <div id=\"df-73e46c07-b737-4d2c-bb13-bb59d1f151db\" class=\"colab-df-container\">\n",
              "    <div>\n",
              "<style scoped>\n",
              "    .dataframe tbody tr th:only-of-type {\n",
              "        vertical-align: middle;\n",
              "    }\n",
              "\n",
              "    .dataframe tbody tr th {\n",
              "        vertical-align: top;\n",
              "    }\n",
              "\n",
              "    .dataframe thead th {\n",
              "        text-align: right;\n",
              "    }\n",
              "</style>\n",
              "<table border=\"1\" class=\"dataframe\">\n",
              "  <thead>\n",
              "    <tr style=\"text-align: right;\">\n",
              "      <th></th>\n",
              "      <th>bookID</th>\n",
              "      <th>title</th>\n",
              "      <th>authors</th>\n",
              "      <th>average_rating</th>\n",
              "      <th>isbn</th>\n",
              "      <th>isbn13</th>\n",
              "      <th>language_code</th>\n",
              "      <th>num_pages</th>\n",
              "      <th>ratings_count</th>\n",
              "      <th>text_reviews_count</th>\n",
              "      <th>publication_date</th>\n",
              "      <th>publisher</th>\n",
              "      <th>publication_year</th>\n",
              "      <th>author</th>\n",
              "      <th>language</th>\n",
              "      <th>year</th>\n",
              "      <th>copiesSold_in_millions</th>\n",
              "    </tr>\n",
              "  </thead>\n",
              "  <tbody>\n",
              "    <tr>\n",
              "      <th>78</th>\n",
              "      <td>33288</td>\n",
              "      <td>How to Win Friends and Influence People</td>\n",
              "      <td>Dale Carnegie</td>\n",
              "      <td>4.19</td>\n",
              "      <td>0091906814</td>\n",
              "      <td>9780091906818</td>\n",
              "      <td>eng</td>\n",
              "      <td>268</td>\n",
              "      <td>1842</td>\n",
              "      <td>104</td>\n",
              "      <td>2006-04-06</td>\n",
              "      <td>Vermilion</td>\n",
              "      <td>2006.0</td>\n",
              "      <td>Dale Carnegie</td>\n",
              "      <td>English</td>\n",
              "      <td>1936</td>\n",
              "      <td>15000000.0</td>\n",
              "    </tr>\n",
              "    <tr>\n",
              "      <th>79</th>\n",
              "      <td>33291</td>\n",
              "      <td>How to Win Friends and Influence People</td>\n",
              "      <td>Dale Carnegie</td>\n",
              "      <td>4.19</td>\n",
              "      <td>0749307846</td>\n",
              "      <td>9780749307844</td>\n",
              "      <td>en-US</td>\n",
              "      <td>256</td>\n",
              "      <td>210</td>\n",
              "      <td>21</td>\n",
              "      <td>1994-03-31</td>\n",
              "      <td>Cedar Books</td>\n",
              "      <td>1994.0</td>\n",
              "      <td>Dale Carnegie</td>\n",
              "      <td>English</td>\n",
              "      <td>1936</td>\n",
              "      <td>15000000.0</td>\n",
              "    </tr>\n",
              "    <tr>\n",
              "      <th>80</th>\n",
              "      <td>39988</td>\n",
              "      <td>Matilda</td>\n",
              "      <td>Roald Dahl/Quentin Blake</td>\n",
              "      <td>4.31</td>\n",
              "      <td>0141301066</td>\n",
              "      <td>9780141301068</td>\n",
              "      <td>eng</td>\n",
              "      <td>240</td>\n",
              "      <td>541914</td>\n",
              "      <td>11576</td>\n",
              "      <td>1998-06-01</td>\n",
              "      <td>Puffin Books</td>\n",
              "      <td>1998.0</td>\n",
              "      <td>Roald Dahl</td>\n",
              "      <td>English</td>\n",
              "      <td>1988</td>\n",
              "      <td>17000000.0</td>\n",
              "    </tr>\n",
              "    <tr>\n",
              "      <th>81</th>\n",
              "      <td>44520</td>\n",
              "      <td>Matilda</td>\n",
              "      <td>Roald Dahl/Joely Richardson</td>\n",
              "      <td>4.31</td>\n",
              "      <td>0060582545</td>\n",
              "      <td>9780060582548</td>\n",
              "      <td>eng</td>\n",
              "      <td>5</td>\n",
              "      <td>56</td>\n",
              "      <td>18</td>\n",
              "      <td>2004-01-20</td>\n",
              "      <td>Festival Books</td>\n",
              "      <td>2004.0</td>\n",
              "      <td>Roald Dahl</td>\n",
              "      <td>English</td>\n",
              "      <td>1988</td>\n",
              "      <td>17000000.0</td>\n",
              "    </tr>\n",
              "    <tr>\n",
              "      <th>82</th>\n",
              "      <td>44528</td>\n",
              "      <td>Matilda</td>\n",
              "      <td>Roald Dahl/Rula Lenska/Sian Thomas/Christopher...</td>\n",
              "      <td>4.31</td>\n",
              "      <td>0141805625</td>\n",
              "      <td>9780141805627</td>\n",
              "      <td>eng</td>\n",
              "      <td>1</td>\n",
              "      <td>6</td>\n",
              "      <td>0</td>\n",
              "      <td>2005-03-03</td>\n",
              "      <td>Puffin Audiobooks</td>\n",
              "      <td>2005.0</td>\n",
              "      <td>Roald Dahl</td>\n",
              "      <td>English</td>\n",
              "      <td>1988</td>\n",
              "      <td>17000000.0</td>\n",
              "    </tr>\n",
              "  </tbody>\n",
              "</table>\n",
              "</div>\n",
              "    <div class=\"colab-df-buttons\">\n",
              "\n",
              "  <div class=\"colab-df-container\">\n",
              "    <button class=\"colab-df-convert\" onclick=\"convertToInteractive('df-73e46c07-b737-4d2c-bb13-bb59d1f151db')\"\n",
              "            title=\"Convert this dataframe to an interactive table.\"\n",
              "            style=\"display:none;\">\n",
              "\n",
              "  <svg xmlns=\"http://www.w3.org/2000/svg\" height=\"24px\" viewBox=\"0 -960 960 960\">\n",
              "    <path d=\"M120-120v-720h720v720H120Zm60-500h600v-160H180v160Zm220 220h160v-160H400v160Zm0 220h160v-160H400v160ZM180-400h160v-160H180v160Zm440 0h160v-160H620v160ZM180-180h160v-160H180v160Zm440 0h160v-160H620v160Z\"/>\n",
              "  </svg>\n",
              "    </button>\n",
              "\n",
              "  <style>\n",
              "    .colab-df-container {\n",
              "      display:flex;\n",
              "      gap: 12px;\n",
              "    }\n",
              "\n",
              "    .colab-df-convert {\n",
              "      background-color: #E8F0FE;\n",
              "      border: none;\n",
              "      border-radius: 50%;\n",
              "      cursor: pointer;\n",
              "      display: none;\n",
              "      fill: #1967D2;\n",
              "      height: 32px;\n",
              "      padding: 0 0 0 0;\n",
              "      width: 32px;\n",
              "    }\n",
              "\n",
              "    .colab-df-convert:hover {\n",
              "      background-color: #E2EBFA;\n",
              "      box-shadow: 0px 1px 2px rgba(60, 64, 67, 0.3), 0px 1px 3px 1px rgba(60, 64, 67, 0.15);\n",
              "      fill: #174EA6;\n",
              "    }\n",
              "\n",
              "    .colab-df-buttons div {\n",
              "      margin-bottom: 4px;\n",
              "    }\n",
              "\n",
              "    [theme=dark] .colab-df-convert {\n",
              "      background-color: #3B4455;\n",
              "      fill: #D2E3FC;\n",
              "    }\n",
              "\n",
              "    [theme=dark] .colab-df-convert:hover {\n",
              "      background-color: #434B5C;\n",
              "      box-shadow: 0px 1px 3px 1px rgba(0, 0, 0, 0.15);\n",
              "      filter: drop-shadow(0px 1px 2px rgba(0, 0, 0, 0.3));\n",
              "      fill: #FFFFFF;\n",
              "    }\n",
              "  </style>\n",
              "\n",
              "    <script>\n",
              "      const buttonEl =\n",
              "        document.querySelector('#df-73e46c07-b737-4d2c-bb13-bb59d1f151db button.colab-df-convert');\n",
              "      buttonEl.style.display =\n",
              "        google.colab.kernel.accessAllowed ? 'block' : 'none';\n",
              "\n",
              "      async function convertToInteractive(key) {\n",
              "        const element = document.querySelector('#df-73e46c07-b737-4d2c-bb13-bb59d1f151db');\n",
              "        const dataTable =\n",
              "          await google.colab.kernel.invokeFunction('convertToInteractive',\n",
              "                                                    [key], {});\n",
              "        if (!dataTable) return;\n",
              "\n",
              "        const docLinkHtml = 'Like what you see? Visit the ' +\n",
              "          '<a target=\"_blank\" href=https://colab.research.google.com/notebooks/data_table.ipynb>data table notebook</a>'\n",
              "          + ' to learn more about interactive tables.';\n",
              "        element.innerHTML = '';\n",
              "        dataTable['output_type'] = 'display_data';\n",
              "        await google.colab.output.renderOutput(dataTable, element);\n",
              "        const docLink = document.createElement('div');\n",
              "        docLink.innerHTML = docLinkHtml;\n",
              "        element.appendChild(docLink);\n",
              "      }\n",
              "    </script>\n",
              "  </div>\n",
              "\n",
              "\n",
              "<div id=\"df-c59f7a21-32bc-456c-b6da-b7d2c613af42\">\n",
              "  <button class=\"colab-df-quickchart\" onclick=\"quickchart('df-c59f7a21-32bc-456c-b6da-b7d2c613af42')\"\n",
              "            title=\"Suggest charts\"\n",
              "            style=\"display:none;\">\n",
              "\n",
              "<svg xmlns=\"http://www.w3.org/2000/svg\" height=\"24px\"viewBox=\"0 0 24 24\"\n",
              "     width=\"24px\">\n",
              "    <g>\n",
              "        <path d=\"M19 3H5c-1.1 0-2 .9-2 2v14c0 1.1.9 2 2 2h14c1.1 0 2-.9 2-2V5c0-1.1-.9-2-2-2zM9 17H7v-7h2v7zm4 0h-2V7h2v10zm4 0h-2v-4h2v4z\"/>\n",
              "    </g>\n",
              "</svg>\n",
              "  </button>\n",
              "\n",
              "<style>\n",
              "  .colab-df-quickchart {\n",
              "      --bg-color: #E8F0FE;\n",
              "      --fill-color: #1967D2;\n",
              "      --hover-bg-color: #E2EBFA;\n",
              "      --hover-fill-color: #174EA6;\n",
              "      --disabled-fill-color: #AAA;\n",
              "      --disabled-bg-color: #DDD;\n",
              "  }\n",
              "\n",
              "  [theme=dark] .colab-df-quickchart {\n",
              "      --bg-color: #3B4455;\n",
              "      --fill-color: #D2E3FC;\n",
              "      --hover-bg-color: #434B5C;\n",
              "      --hover-fill-color: #FFFFFF;\n",
              "      --disabled-bg-color: #3B4455;\n",
              "      --disabled-fill-color: #666;\n",
              "  }\n",
              "\n",
              "  .colab-df-quickchart {\n",
              "    background-color: var(--bg-color);\n",
              "    border: none;\n",
              "    border-radius: 50%;\n",
              "    cursor: pointer;\n",
              "    display: none;\n",
              "    fill: var(--fill-color);\n",
              "    height: 32px;\n",
              "    padding: 0;\n",
              "    width: 32px;\n",
              "  }\n",
              "\n",
              "  .colab-df-quickchart:hover {\n",
              "    background-color: var(--hover-bg-color);\n",
              "    box-shadow: 0 1px 2px rgba(60, 64, 67, 0.3), 0 1px 3px 1px rgba(60, 64, 67, 0.15);\n",
              "    fill: var(--button-hover-fill-color);\n",
              "  }\n",
              "\n",
              "  .colab-df-quickchart-complete:disabled,\n",
              "  .colab-df-quickchart-complete:disabled:hover {\n",
              "    background-color: var(--disabled-bg-color);\n",
              "    fill: var(--disabled-fill-color);\n",
              "    box-shadow: none;\n",
              "  }\n",
              "\n",
              "  .colab-df-spinner {\n",
              "    border: 2px solid var(--fill-color);\n",
              "    border-color: transparent;\n",
              "    border-bottom-color: var(--fill-color);\n",
              "    animation:\n",
              "      spin 1s steps(1) infinite;\n",
              "  }\n",
              "\n",
              "  @keyframes spin {\n",
              "    0% {\n",
              "      border-color: transparent;\n",
              "      border-bottom-color: var(--fill-color);\n",
              "      border-left-color: var(--fill-color);\n",
              "    }\n",
              "    20% {\n",
              "      border-color: transparent;\n",
              "      border-left-color: var(--fill-color);\n",
              "      border-top-color: var(--fill-color);\n",
              "    }\n",
              "    30% {\n",
              "      border-color: transparent;\n",
              "      border-left-color: var(--fill-color);\n",
              "      border-top-color: var(--fill-color);\n",
              "      border-right-color: var(--fill-color);\n",
              "    }\n",
              "    40% {\n",
              "      border-color: transparent;\n",
              "      border-right-color: var(--fill-color);\n",
              "      border-top-color: var(--fill-color);\n",
              "    }\n",
              "    60% {\n",
              "      border-color: transparent;\n",
              "      border-right-color: var(--fill-color);\n",
              "    }\n",
              "    80% {\n",
              "      border-color: transparent;\n",
              "      border-right-color: var(--fill-color);\n",
              "      border-bottom-color: var(--fill-color);\n",
              "    }\n",
              "    90% {\n",
              "      border-color: transparent;\n",
              "      border-bottom-color: var(--fill-color);\n",
              "    }\n",
              "  }\n",
              "</style>\n",
              "\n",
              "  <script>\n",
              "    async function quickchart(key) {\n",
              "      const quickchartButtonEl =\n",
              "        document.querySelector('#' + key + ' button');\n",
              "      quickchartButtonEl.disabled = true;  // To prevent multiple clicks.\n",
              "      quickchartButtonEl.classList.add('colab-df-spinner');\n",
              "      try {\n",
              "        const charts = await google.colab.kernel.invokeFunction(\n",
              "            'suggestCharts', [key], {});\n",
              "      } catch (error) {\n",
              "        console.error('Error during call to suggestCharts:', error);\n",
              "      }\n",
              "      quickchartButtonEl.classList.remove('colab-df-spinner');\n",
              "      quickchartButtonEl.classList.add('colab-df-quickchart-complete');\n",
              "    }\n",
              "    (() => {\n",
              "      let quickchartButtonEl =\n",
              "        document.querySelector('#df-c59f7a21-32bc-456c-b6da-b7d2c613af42 button');\n",
              "      quickchartButtonEl.style.display =\n",
              "        google.colab.kernel.accessAllowed ? 'block' : 'none';\n",
              "    })();\n",
              "  </script>\n",
              "</div>\n",
              "    </div>\n",
              "  </div>\n"
            ],
            "application/vnd.google.colaboratory.intrinsic+json": {
              "type": "dataframe",
              "summary": "{\n  \"name\": \"merged_df\",\n  \"rows\": 5,\n  \"fields\": [\n    {\n      \"column\": \"bookID\",\n      \"properties\": {\n        \"dtype\": \"number\",\n        \"std\": 5638,\n        \"min\": 33288,\n        \"max\": 44528,\n        \"num_unique_values\": 5,\n        \"samples\": [\n          33291,\n          44528,\n          39988\n        ],\n        \"semantic_type\": \"\",\n        \"description\": \"\"\n      }\n    },\n    {\n      \"column\": \"title\",\n      \"properties\": {\n        \"dtype\": \"category\",\n        \"num_unique_values\": 2,\n        \"samples\": [\n          \"Matilda\",\n          \"How to Win Friends and Influence People\"\n        ],\n        \"semantic_type\": \"\",\n        \"description\": \"\"\n      }\n    },\n    {\n      \"column\": \"authors\",\n      \"properties\": {\n        \"dtype\": \"string\",\n        \"num_unique_values\": 4,\n        \"samples\": [\n          \"Roald Dahl/Quentin Blake\",\n          \"Roald Dahl/Rula Lenska/Sian Thomas/Christopher Timothy\"\n        ],\n        \"semantic_type\": \"\",\n        \"description\": \"\"\n      }\n    },\n    {\n      \"column\": \"average_rating\",\n      \"properties\": {\n        \"dtype\": \"number\",\n        \"std\": 0.0657267069006195,\n        \"min\": 4.19,\n        \"max\": 4.31,\n        \"num_unique_values\": 2,\n        \"samples\": [\n          4.31,\n          4.19\n        ],\n        \"semantic_type\": \"\",\n        \"description\": \"\"\n      }\n    },\n    {\n      \"column\": \"isbn\",\n      \"properties\": {\n        \"dtype\": \"string\",\n        \"num_unique_values\": 5,\n        \"samples\": [\n          \"0749307846\",\n          \"0141805625\"\n        ],\n        \"semantic_type\": \"\",\n        \"description\": \"\"\n      }\n    },\n    {\n      \"column\": \"isbn13\",\n      \"properties\": {\n        \"dtype\": \"string\",\n        \"num_unique_values\": 5,\n        \"samples\": [\n          \"9780749307844\",\n          \"9780141805627\"\n        ],\n        \"semantic_type\": \"\",\n        \"description\": \"\"\n      }\n    },\n    {\n      \"column\": \"language_code\",\n      \"properties\": {\n        \"dtype\": \"category\",\n        \"num_unique_values\": 2,\n        \"samples\": [\n          \"en-US\",\n          \"eng\"\n        ],\n        \"semantic_type\": \"\",\n        \"description\": \"\"\n      }\n    },\n    {\n      \"column\": \"  num_pages\",\n      \"properties\": {\n        \"dtype\": \"string\",\n        \"num_unique_values\": 5,\n        \"samples\": [\n          \"256\",\n          \"1\"\n        ],\n        \"semantic_type\": \"\",\n        \"description\": \"\"\n      }\n    },\n    {\n      \"column\": \"ratings_count\",\n      \"properties\": {\n        \"dtype\": \"number\",\n        \"std\": 242116,\n        \"min\": 6,\n        \"max\": 541914,\n        \"num_unique_values\": 5,\n        \"samples\": [\n          210,\n          6\n        ],\n        \"semantic_type\": \"\",\n        \"description\": \"\"\n      }\n    },\n    {\n      \"column\": \"text_reviews_count\",\n      \"properties\": {\n        \"dtype\": \"number\",\n        \"std\": 5161,\n        \"min\": 0,\n        \"max\": 11576,\n        \"num_unique_values\": 5,\n        \"samples\": [\n          21,\n          0\n        ],\n        \"semantic_type\": \"\",\n        \"description\": \"\"\n      }\n    },\n    {\n      \"column\": \"publication_date\",\n      \"properties\": {\n        \"dtype\": \"date\",\n        \"min\": \"1994-03-31 00:00:00\",\n        \"max\": \"2006-04-06 00:00:00\",\n        \"num_unique_values\": 5,\n        \"samples\": [\n          \"1994-03-31 00:00:00\",\n          \"2005-03-03 00:00:00\"\n        ],\n        \"semantic_type\": \"\",\n        \"description\": \"\"\n      }\n    },\n    {\n      \"column\": \"publisher\",\n      \"properties\": {\n        \"dtype\": \"string\",\n        \"num_unique_values\": 5,\n        \"samples\": [\n          \"Cedar Books\",\n          \"Puffin Audiobooks\"\n        ],\n        \"semantic_type\": \"\",\n        \"description\": \"\"\n      }\n    },\n    {\n      \"column\": \"publication_year\",\n      \"properties\": {\n        \"dtype\": \"number\",\n        \"std\": 5.176871642217914,\n        \"min\": 1994.0,\n        \"max\": 2006.0,\n        \"num_unique_values\": 5,\n        \"samples\": [\n          1994.0,\n          2005.0\n        ],\n        \"semantic_type\": \"\",\n        \"description\": \"\"\n      }\n    },\n    {\n      \"column\": \"author\",\n      \"properties\": {\n        \"dtype\": \"category\",\n        \"num_unique_values\": 2,\n        \"samples\": [\n          \"Roald Dahl\",\n          \"Dale Carnegie\"\n        ],\n        \"semantic_type\": \"\",\n        \"description\": \"\"\n      }\n    },\n    {\n      \"column\": \"language\",\n      \"properties\": {\n        \"dtype\": \"category\",\n        \"num_unique_values\": 1,\n        \"samples\": [\n          \"English\"\n        ],\n        \"semantic_type\": \"\",\n        \"description\": \"\"\n      }\n    },\n    {\n      \"column\": \"year\",\n      \"properties\": {\n        \"dtype\": \"number\",\n        \"std\": 28,\n        \"min\": 1936,\n        \"max\": 1988,\n        \"num_unique_values\": 2,\n        \"samples\": [\n          1988\n        ],\n        \"semantic_type\": \"\",\n        \"description\": \"\"\n      }\n    },\n    {\n      \"column\": \"copiesSold_in_millions\",\n      \"properties\": {\n        \"dtype\": \"number\",\n        \"std\": 1095445.1150103323,\n        \"min\": 15000000.0,\n        \"max\": 17000000.0,\n        \"num_unique_values\": 2,\n        \"samples\": [\n          17000000.0\n        ],\n        \"semantic_type\": \"\",\n        \"description\": \"\"\n      }\n    }\n  ]\n}"
            }
          },
          "metadata": {},
          "execution_count": 35
        }
      ]
    },
    {
      "cell_type": "markdown",
      "metadata": {
        "id": "YPWvFKW7x1z7"
      },
      "source": [
        "# 5. Check the \"n\"s"
      ]
    },
    {
      "cell_type": "markdown",
      "source": [
        "The highest number of title repeated should be The Great Gatsby"
      ],
      "metadata": {
        "id": "oAeB5pmGSCVD"
      }
    },
    {
      "cell_type": "code",
      "source": [
        "merged_df['title'].value_counts()"
      ],
      "metadata": {
        "colab": {
          "base_uri": "https://localhost:8080/"
        },
        "id": "FYk7O6kTGHqd",
        "outputId": "9b2c7843-ada4-4a41-cadf-85fbf3578557"
      },
      "execution_count": null,
      "outputs": [
        {
          "output_type": "execute_result",
          "data": {
            "text/plain": [
              "The Great Gatsby                           6\n",
              "Charlotte's Web                            5\n",
              "Pride and Prejudice                        5\n",
              "Lolita                                     4\n",
              "The Lovely Bones                           3\n",
              "Fahrenheit 451                             3\n",
              "James and the Giant Peach                  3\n",
              "Matilda                                    3\n",
              "Adventures of Huckleberry Finn             3\n",
              "To Kill a Mockingbird                      3\n",
              "The Hobbit                                 2\n",
              "Watership Down                             2\n",
              "Black Beauty                               2\n",
              "The Outsiders                              2\n",
              "And Then There Were None                   2\n",
              "The Da Vinci Code                          2\n",
              "Nineteen Eighty-Four                       2\n",
              "The Tale of Peter Rabbit                   2\n",
              "The Grapes of Wrath                        2\n",
              "How to Win Friends and Influence People    2\n",
              "Where the Wild Things Are                  1\n",
              "The Book Thief                             1\n",
              "The Godfather                              1\n",
              "Gone with the Wind                         1\n",
              "Autobiography of a Yogi                    1\n",
              "Goodnight Moon                             1\n",
              "Cosmos                                     1\n",
              "The Celestine Prophecy                     1\n",
              "Rebecca                                    1\n",
              "The Thorn Birds                            1\n",
              "Life of Pi                                 1\n",
              "Anne of Green Gables                       1\n",
              "The Cat in the Hat                         1\n",
              "The Old Man and the Sea                    1\n",
              "Tuesdays with Morrie                       1\n",
              "The Prophet                                1\n",
              "The Wind in the Willows                    1\n",
              "Interpreter of Maladies                    1\n",
              "The Catcher in the Rye                     1\n",
              "The Very Hungry Caterpillar                1\n",
              "Angela's Ashes                             1\n",
              "Who Moved My Cheese?                       1\n",
              "Catch-22                                   1\n",
              "A Brief History of Time                    1\n",
              "Animal Farm                                1\n",
              "Name: title, dtype: int64"
            ]
          },
          "metadata": {},
          "execution_count": 36
        }
      ]
    },
    {
      "cell_type": "markdown",
      "source": [
        "There should be around 45 unique titles"
      ],
      "metadata": {
        "id": "_fXhUYswSMZ_"
      }
    },
    {
      "cell_type": "code",
      "source": [
        "# Number of uniquue titles\n",
        "unique_titles = len(set(merged_df['title']))\n",
        "unique_titles"
      ],
      "metadata": {
        "colab": {
          "base_uri": "https://localhost:8080/"
        },
        "id": "hcRmrvZEyG7W",
        "outputId": "55d7051f-2ec6-403f-9a82-5a0de485ded2"
      },
      "execution_count": null,
      "outputs": [
        {
          "output_type": "execute_result",
          "data": {
            "text/plain": [
              "45"
            ]
          },
          "metadata": {},
          "execution_count": 37
        }
      ]
    },
    {
      "cell_type": "markdown",
      "source": [
        "The most frequent rating should be 4.26 which occurs 7 times"
      ],
      "metadata": {
        "id": "br09V4yZSYq5"
      }
    },
    {
      "cell_type": "code",
      "source": [
        "merged_df['average_rating'].value_counts()"
      ],
      "metadata": {
        "colab": {
          "base_uri": "https://localhost:8080/"
        },
        "id": "zwiXvUKvyj8I",
        "outputId": "2e4692c1-4cc6-456a-a290-23686e7ea1c6"
      },
      "execution_count": null,
      "outputs": [
        {
          "output_type": "execute_result",
          "data": {
            "text/plain": [
              "4.26    7\n",
              "4.17    7\n",
              "3.91    6\n",
              "4.27    5\n",
              "4.18    4\n",
              "3.89    4\n",
              "4.23    4\n",
              "3.96    4\n",
              "3.99    4\n",
              "3.81    3\n",
              "4.01    3\n",
              "4.31    3\n",
              "3.82    3\n",
              "4.09    2\n",
              "4.19    2\n",
              "4.29    2\n",
              "3.84    2\n",
              "4.37    2\n",
              "3.80    2\n",
              "4.06    2\n",
              "3.88    1\n",
              "4.28    1\n",
              "4.22    1\n",
              "4.03    1\n",
              "4.25    1\n",
              "3.64    1\n",
              "3.93    1\n",
              "3.77    1\n",
              "4.10    1\n",
              "3.98    1\n",
              "4.11    1\n",
              "4.15    1\n",
              "Name: average_rating, dtype: int64"
            ]
          },
          "metadata": {},
          "execution_count": 38
        }
      ]
    },
    {
      "cell_type": "markdown",
      "source": [
        "The total number of unique average ratings should be 32"
      ],
      "metadata": {
        "id": "47WDcQPhSZ4K"
      }
    },
    {
      "cell_type": "code",
      "source": [
        "# Number of unique average_rating\n",
        "len(set(merged_df['average_rating']))"
      ],
      "metadata": {
        "colab": {
          "base_uri": "https://localhost:8080/"
        },
        "id": "w36VRR1NGGVQ",
        "outputId": "c213e92b-54a3-48a3-aa83-c12d1830dc50"
      },
      "execution_count": null,
      "outputs": [
        {
          "output_type": "execute_result",
          "data": {
            "text/plain": [
              "32"
            ]
          },
          "metadata": {},
          "execution_count": 39
        }
      ]
    },
    {
      "cell_type": "markdown",
      "source": [
        "The most frequent sales figure is 50000000.0 meaning 14 books have been sold with this sales figure."
      ],
      "metadata": {
        "id": "oyAIlWX_Sgeq"
      }
    },
    {
      "cell_type": "code",
      "source": [
        "merged_df['copiesSold_in_millions'].value_counts()"
      ],
      "metadata": {
        "colab": {
          "base_uri": "https://localhost:8080/"
        },
        "id": "Iksn6yjTGXwX",
        "outputId": "b0e33d0a-8a08-4d07-8ed8-f167ef8c501c"
      },
      "execution_count": null,
      "outputs": [
        {
          "output_type": "execute_result",
          "data": {
            "text/plain": [
              "50000000.0     14\n",
              "20000000.0     11\n",
              "30000000.0     10\n",
              "10000000.0      9\n",
              "15000000.0      7\n",
              "100000000.0     4\n",
              "40000000.0      4\n",
              "28000000.0      3\n",
              "17000000.0      3\n",
              "25000000.0      2\n",
              "80000000.0      2\n",
              "16000000.0      2\n",
              "45000000.0      2\n",
              "33000000.0      1\n",
              "43000000.0      1\n",
              "65000000.0      1\n",
              "11000000.0      1\n",
              "13000000.0      1\n",
              "14000000.0      1\n",
              "10500000.0      1\n",
              "23000000.0      1\n",
              "21000000.0      1\n",
              "26000000.0      1\n",
              "Name: copiesSold_in_millions, dtype: int64"
            ]
          },
          "metadata": {},
          "execution_count": 40
        }
      ]
    },
    {
      "cell_type": "markdown",
      "source": [
        "The total number of unique sales figures should be 23\n"
      ],
      "metadata": {
        "id": "aZKlLO9kTAfi"
      }
    },
    {
      "cell_type": "code",
      "source": [
        "# Number of unique copiesSold\n",
        "len(set(merged_df['copiesSold_in_millions']))"
      ],
      "metadata": {
        "colab": {
          "base_uri": "https://localhost:8080/"
        },
        "id": "OvtOmjrgGPAV",
        "outputId": "bfdb2552-85e0-404d-ebc4-8eefd563a60c"
      },
      "execution_count": null,
      "outputs": [
        {
          "output_type": "execute_result",
          "data": {
            "text/plain": [
              "23"
            ]
          },
          "metadata": {},
          "execution_count": 41
        }
      ]
    },
    {
      "cell_type": "markdown",
      "metadata": {
        "id": "rwuDAllZx10G"
      },
      "source": [
        "# 6. Validate against an external knowledge or data source\n",
        "\n"
      ]
    },
    {
      "cell_type": "markdown",
      "source": [
        "All the values of ISBN number is of length 10 only"
      ],
      "metadata": {
        "id": "51HQehk7TQ4e"
      }
    },
    {
      "cell_type": "code",
      "source": [
        "# Check ISBN lengths\n",
        "valid_isbn = merged_df['isbn'].apply(lambda x: len(str(x)) == 10)\n",
        "\n",
        "# Check if all values in valid_isbn are True\n",
        "if valid_isbn.all():\n",
        "    print(\"All values in the 'ISBN' column are length of 10.\")\n",
        "else:\n",
        "    print(\"There are invalid values in the 'ISBN' column.\")\n"
      ],
      "metadata": {
        "colab": {
          "base_uri": "https://localhost:8080/"
        },
        "id": "qwCADp--G4Nj",
        "outputId": "0a22a698-9202-4449-dce0-01627d6ffe07"
      },
      "execution_count": null,
      "outputs": [
        {
          "output_type": "stream",
          "name": "stdout",
          "text": [
            "All values in the 'ISBN' column are length of 10.\n"
          ]
        }
      ]
    },
    {
      "cell_type": "markdown",
      "source": [
        "All the values in ISBN 13 are of length 13 only"
      ],
      "metadata": {
        "id": "6l8HeKmYTURS"
      }
    },
    {
      "cell_type": "code",
      "source": [
        "# Check isbn13 lengths\n",
        "valid_isbn13 = merged_df['isbn13'].apply(lambda x: len(str(x)) == 13)\n",
        "\n",
        "# Check if all values in valid_isbn13 are True\n",
        "if valid_isbn13.all():\n",
        "    print(\"All values in the 'ISBN' column are length of 13.\")\n",
        "else:\n",
        "    print(\"There are invalid values in the 'ISBN' column.\")"
      ],
      "metadata": {
        "colab": {
          "base_uri": "https://localhost:8080/"
        },
        "id": "qrvmeOuqHrot",
        "outputId": "8c215f96-79e6-49d4-c86d-aca631a9c35b"
      },
      "execution_count": null,
      "outputs": [
        {
          "output_type": "stream",
          "name": "stdout",
          "text": [
            "All values in the 'ISBN' column are length of 13.\n"
          ]
        }
      ]
    },
    {
      "cell_type": "markdown",
      "source": [
        "The year is positive"
      ],
      "metadata": {
        "id": "y5KN2ZyPThNL"
      }
    },
    {
      "cell_type": "code",
      "source": [
        "# Check if year is positive\n",
        "merged_df['year'].min()"
      ],
      "metadata": {
        "colab": {
          "base_uri": "https://localhost:8080/"
        },
        "id": "6w2vBecAG4KL",
        "outputId": "3099f22f-4cf2-468e-e425-4c679c325a9e"
      },
      "execution_count": null,
      "outputs": [
        {
          "output_type": "execute_result",
          "data": {
            "text/plain": [
              "1813"
            ]
          },
          "metadata": {},
          "execution_count": 44
        }
      ]
    },
    {
      "cell_type": "markdown",
      "source": [
        "Is the distribution of copiesSold_in_millions typical?"
      ],
      "metadata": {
        "id": "0MEeY0DBTnNz"
      }
    },
    {
      "cell_type": "code",
      "source": [
        "merged_df['copiesSold_in_millions'].describe()"
      ],
      "metadata": {
        "colab": {
          "base_uri": "https://localhost:8080/"
        },
        "id": "6tbypirWH9MU",
        "outputId": "f382bb17-d49c-47ca-863b-1d1326aea9bb"
      },
      "execution_count": null,
      "outputs": [
        {
          "output_type": "execute_result",
          "data": {
            "text/plain": [
              "count    8.300000e+01\n",
              "mean     3.254819e+07\n",
              "std      2.224649e+07\n",
              "min      1.000000e+07\n",
              "25%      1.600000e+07\n",
              "50%      2.800000e+07\n",
              "75%      4.750000e+07\n",
              "max      1.000000e+08\n",
              "Name: copiesSold_in_millions, dtype: float64"
            ]
          },
          "metadata": {},
          "execution_count": 45
        }
      ]
    },
    {
      "cell_type": "markdown",
      "source": [
        "The distribution of copiesSold_in_millions appears to be right-skewed based on the summary statistics. The mean value of approximately 32.55 million copies sold is higher than the median value of 28 million copies sold. Additionally, the standard deviation is relatively large at approximately 22.25 million, indicating a wide dispersion of data points around the mean. Furthermore, the minimum value of 10 million copies sold and the maximum value of 100 million copies sold suggest a wide range of values, with some books achieving significantly higher sales figures than others."
      ],
      "metadata": {
        "id": "z44R5vk4TqqR"
      }
    },
    {
      "cell_type": "markdown",
      "metadata": {
        "id": "pSHySBwwx10S"
      },
      "source": [
        "# 7. Make a plot\n"
      ]
    },
    {
      "cell_type": "code",
      "source": [
        "# Regression Plot\n",
        "plt.figure(figsize=(10, 6))\n",
        "sb.regplot(x='average_rating', y='copiesSold_in_millions', data=merged_df, scatter_kws={'alpha':0.5}, line_kws={'color':'red'})\n",
        "plt.title('Average Rating VS CopiesSold in millions')\n",
        "plt.xlabel('Average Rating')\n",
        "plt.ylabel('CopiesSold in millions')\n",
        "plt.show()"
      ],
      "metadata": {
        "colab": {
          "base_uri": "https://localhost:8080/",
          "height": 564
        },
        "id": "E-hdGejByrHg",
        "outputId": "df1291d4-7c16-4a51-c155-65ceda81d392"
      },
      "execution_count": null,
      "outputs": [
        {
          "output_type": "display_data",
          "data": {
            "text/plain": [
              "<Figure size 1000x600 with 1 Axes>"
            ],
            "image/png": "[encoded data removed]"
          },
          "metadata": {}
        }
      ]
    },
    {
      "cell_type": "markdown",
      "metadata": {
        "id": "iDcQx_KPx10U"
      },
      "source": [
        "# 8. Try an easy solution"
      ]
    },
    {
      "cell_type": "markdown",
      "source": [
        "Normal test\n",
        "\n",
        "Normal Probabilit Plot"
      ],
      "metadata": {
        "id": "lWX9ZiN7JjZ9"
      }
    },
    {
      "cell_type": "code",
      "source": [
        "# Extracts the columns check for normality from merged_df\n",
        "average_rating_column = merged_df['average_rating']\n",
        "copies_sold_column = merged_df['copiesSold_in_millions']\n",
        "\n",
        "# Plots the normal probability plot for 'average_rating'\n",
        "plt.figure(figsize=(10, 5))\n",
        "probplot(average_rating_column, plot=plt)\n",
        "plt.title(\"Normal probability plot: Average Rating\")\n",
        "plt.xlabel(\"Normal quantiles\")\n",
        "plt.ylabel(\"Ordered values\")\n",
        "plt.show()\n",
        "\n",
        "# Plots the normal probability plot for 'copiesSold_in_millions'\n",
        "plt.figure(figsize=(10, 5))\n",
        "probplot(copies_sold_column, plot=plt)\n",
        "plt.title(\"Normal probability plot: Copies Sold in Millions\")\n",
        "plt.xlabel(\"Normal quantiles\")\n",
        "plt.ylabel(\"Ordered values\")\n",
        "plt.show()"
      ],
      "metadata": {
        "colab": {
          "base_uri": "https://localhost:8080/",
          "height": 957
        },
        "id": "n_F0FgjwJjDV",
        "outputId": "8b44c22b-2f2c-4e3d-e4d3-044f2aaf97e8"
      },
      "execution_count": null,
      "outputs": [
        {
          "output_type": "display_data",
          "data": {
            "text/plain": [
              "<Figure size 1000x500 with 1 Axes>"
            ],
            "image/png": "[encoded data removed]"
          },
          "metadata": {}
        },
        {
          "output_type": "display_data",
          "data": {
            "text/plain": [
              "<Figure size 1000x500 with 1 Axes>"
            ],
            "image/png": "[encoded data removed]"
          },
          "metadata": {}
        }
      ]
    },
    {
      "cell_type": "markdown",
      "source": [
        "# Pearson's Correlation Coefficient Test\n",
        "\n",
        "Are these statistically significant"
      ],
      "metadata": {
        "id": "zTLjNiYyMzbZ"
      }
    },
    {
      "cell_type": "markdown",
      "source": [
        "Hypothesis testing using Pearson Correlation Coefficient\n",
        "\n",
        "Two Tailed Test\n",
        "$$\n",
        "H_0: \\text{No correlation between the average rating of books and their sales figure, i.e., $p=0$}.\n",
        "$$\n",
        "$$\n",
        "H_a: \\text{Some correlation between the average rating of books and their sales figure, i.e., $p≠0$}.\n",
        "$$\n",
        "\n",
        "Significance level is 5%(0.05)"
      ],
      "metadata": {
        "id": "eqIV-3DGMv1C"
      }
    },
    {
      "cell_type": "code",
      "source": [
        "from scipy.stats import pearsonr\n",
        "\n",
        "# Extracts relevant columns\n",
        "average_rating = merged_df['average_rating']\n",
        "copies_sold = merged_df['copiesSold_in_millions']\n",
        "\n",
        "# Performs Pearson correlation\n",
        "correlation, p_value = pearsonr(average_rating, copies_sold)\n",
        "\n",
        "# Displays results\n",
        "print('Correlation: {}'.format(correlation))\n",
        "print('P value: {}'.format(p_value))"
      ],
      "metadata": {
        "colab": {
          "base_uri": "https://localhost:8080/"
        },
        "id": "QYEcOF520MxG",
        "outputId": "a6525e67-0e2a-4599-ec36-a04b71f2d254"
      },
      "execution_count": null,
      "outputs": [
        {
          "output_type": "stream",
          "name": "stdout",
          "text": [
            "Correlation: 0.0957356204685286\n",
            "P value: 0.38926806998456914\n"
          ]
        }
      ]
    },
    {
      "cell_type": "markdown",
      "source": [
        "From the correlation coefficient (r), There is a weak positive correlation of approximately 0.096 between the average rating of books and their sales figure. The positive sign indicates that as the average rating increases, the sales figure tends to increase slightly, but the correlation is not very strong. Additionally, the p-value associated with the correlation coefficient is 0.389, which is greater than the significance level of 0.05. Therefore, we fail to reject the null hypothesis, suggesting that there is insufficient evidence to conclude a significant correlation between the average rating of books and their sales figure.There is a statistically no significant correlation between the average rating of the books and their sales figure."
      ],
      "metadata": {
        "id": "qOe4FMHKOsN7"
      }
    },
    {
      "cell_type": "markdown",
      "source": [
        "# Write Up\n",
        "\n",
        "Exxploratory Data Analysis on on Books and Goodreads Dataset.\n",
        "\n",
        "The choice of datasets was determined by several factors.\n",
        "Goodreads serves as a widely used platform where book enthusiasts rate and review books, offering a rich source of user-generated data on book quality and popularity. Combining this dataset with information on book sales provides a comprehensive view of the factors influencing book success, crucial for addressing my research question regarding the correlation between Goodreads ratings and book sales. With over 11,000 entries in the Goodreads dataset and 166 records in the Books dataset, I have a substantial amount of data to work with. This size not only allows for robust statistical analysis but also ensures that I can uncover meaningful patterns and trends in the data. Analyzing the relationship between Goodreads ratings and book sales can offer valuable insights for authors, publishers, and the broader publishing industry.\n",
        "\n",
        "The primary question for my analysis is: How does the average Goodreads rating of books correlate with their sales figures? This question aligns with the datasets on Books and Goodreads, which provide comprehensive information on book titles, authors, ratings, and sales figures. By exploring the relationship between Goodreads ratings and book sales, I aim to uncover insights into the factors influencing the success of books in the market. This analysis is motivated by the desire to understand the impact of reader perceptions on book sales, offering valuable insights for authors, publishers, and the broader publishing industry. The datasets I will combine to answer this question consist of the Books Dataset and the Goodreads Dataset. The Books Dataset provides information on various books, including their titles, authors, publication years, languages, genres, and sales figures. This dataset serves as the primary source of sales data, offering insights into how different books perform in terms of their sales. On the other hand, the Goodreads Dataset contains data gathered from the Goodreads platform, a popular platform where readers rate and review books. It includes details such as book titles, authors, average ratings, ratings counts, and text reviews. By merging these datasets based on common variables like book titles, I can explore the relationship between Goodreads ratings and book sales figures. This combined dataset will enable me to analyze whether books with higher Goodreads ratings tend to have correspondingly higher sales figures. In essence, the merged dataset will allow me to investigate how reader feedback, as reflected in Goodreads ratings, influences the sales performance of books.\n",
        "\n",
        "Upon examining the packaging the shape and delving into the top and bottom entries of both datasets, I gained valuable insights into the scope and content of the data. In the Books Dataset, which consists of 166 entries and 6 columns, I observed a diverse range of book titles, authors, publication years, and genres. Similarly, exploring the Goodreads Dataset with its 11,127 entries and 12 columns revealed a comprehensive collection of book-related information. From book IDs and titles to average ratings, ISBNs, and publication dates, each entry offered a wealth of details about a wide array of books. In exploring the possibility of combining the Books and Goodreads datasets, I identified \"title\" as the common variable shared between the two tables that could serve as a key in a join operation. With 45 unique titles shared between both datasets, I recognized the potential for merging them based on this key to enrich the analysis. However, upon further examination, I discovered some disparities between the datasets. While there were 121 titles present in the Books dataset that were not found in the Goodreads dataset, conversely, there were 10,306 titles in the Goodreads dataset that did not have corresponding entries in the Books dataset. This discrepancy suggests variations in the coverage and scope of the two datasets, which may impact the completeness of the merged dataset. Furthermore, I investigated the temporal coverage of both datasets to ensure alignment in terms of publication years. The Books dataset spans from the year 10 to 2018, whereas the Goodreads dataset encompasses publications from 1900 to 2020. While both datasets cover a wide range of years, there may be instances where publications overlap or diverge, instigating careful consideration during the merging process to maintain data integrity. Additionally, I examined the presence of duplicate entries based on the key variable \"title\" in both datasets. While the Books DataFrame showed no instances of repeated titles, the Goodreads DataFrame exhibited multiple occurrences of certain titles, such as \"The Iliad\" and \"The Brothers Karamazov,\" suggesting potential data redundancy or variations in editions.\n",
        "\n",
        "Books dataset provides information about various books, including their titles, authors, publication years, publishers, and other details related to the books themselves. On the other hand, the Goodreads dataset offers insights from a different perspective, focusing more on user interactions and ratings for the books listed. It includes details such as average ratings, ratings count, and text reviews count, providing a glimpse into how readers perceive and engage with the books. The common key used for joining the data from both datasets was the 'title' of the books. This key allowed for a straightforward merge based on the book titles present in both datasets. The inner join was chosen as the merging strategy because it retains only the keys present in both datasets, ensuring that only the data common to both perspectives is included in the merged dataset. This approach is suitable when focusing on the intersection of the keys from both datasets and helps minimize missing values. Both datasets cover different ranges of time. While the \"Books\" dataset spans from the year 10 to 2018, the \"Goodreads\" dataset covers publication years from 1900 to 2020. This variation in time ranges highlights the different perspectives offered by each dataset. Both datasets contain instances of duplicate titles. However, these duplicates are expected, given the nature of book listings and reviews, where multiple editions or versions of the same book may exist. An inner join strategy appears to be the most appropriate approach for merging the Books and Goodreads datasets, considering the differences in time windows and the presence of repeated titles. By performing an inner join, we ensure that only the titles present in both datasets are retained in the merged DataFrame, thereby focusing on the intersection of the keys from both datasets. In my analysis, I've considered the importance of comparing variables from both the Books and Goodreads datasets. Given this objective, it's crucial to focus on the intersection of titles present in both datasets. Opting for left or right joins would introduce a significant number of missing values, complicating the analysis and making it challenging to impute these missing values effectively. Additionally, using outer joins would retain all information from both datasets, potentially leading to a substantial amount of missing data. Moreover, the presence of missing values could affect the reliability of the analysis and subsequent visualizations, as pandas and plotting libraries often disregard NaN values.The inner join operation will produce a merged dataset containing information exclusively from titles that exist in both the Books and Goodreads datasets. While this may result in a smaller sample size compared to other merging strategies, it ensures that our analysis is based on a cohesive dataset with minimal missing data.  Therefore, despite the drawback of resulting in a smaller sample size, an inner join emerges as the most suitable merging strategy. By prioritizing the common titles between the datasets, an inner join ensures data consistency and facilitates a straightforward comparison of variables, enabling me to draw meaningful insights with confidence. The inner join successfully merged the datasets based on the common key, resulting in a dataset with 83 rows and 18 columns. While the approach effectively minimized missing values and retained data common to both datasets, it also led to a reduced sample size due to the exclusion of non-matching titles. One limitation of this approach is that it may overlook valuable insights present in unique titles exclusive to each dataset. In conclusion, the combined dataset provides a comprehensive perspective by integrating book details with reader feedback. However, researchers should be mindful of the limitations and biases introduced by the merging process and interpret the results accordingly.\n",
        "\n",
        "After merging the Books and Goodreads datasets using an inner join, the resulting DataFrame is expected to have 18 columns and 83 rows. This calculation is based on the fact that the Books dataset has 6 columns, the Goodreads dataset has 13 columns, and the 'title' column, which is common to both datasets, will be included only once in the merged DataFrame. Since we are performing an inner join, which retains only the intersection of the two datasets, there should be no missing values in the merged DataFrame. Each row in the merged DataFrame will represent a unique title that is common to both datasets, with corresponding values from both datasets aligned based on the shared 'title' column. Values from non-matching titles in either dataset will not be included in the merged DataFrame, resulting in a more focused dataset that facilitates direct comparisons between the shared titles.\n",
        "\n",
        "In the process of data cleaning, I meticulously examined the dataset to ensure its accuracy and suitability for analysis. First, I checked for missing values in each column using the `isnull().sum()` method. It became apparent that the 'genre' column had a considerable number of missing values, totaling 54. Considering the impact of missing data on analysis outcomes, I made the decision to drop the 'genre' column from the merged DataFrame ('merged_df'). This decision was informed by several factors. As I reviewed the dataset, I realized that including redundant information could lead to unnecessary data duplication and increased memory usage without providing additional insights. Since the 'genre' information was already available in one of the original DataFrames ('books_df'), its presence in the merged DataFrame seemed redundant. By removing redundant columns like 'genre', I aimed to streamline the dataset and improve its clarity. Furthermore, I focused on the analysis objectives, which primarily revolved around exploring the relationship between Goodreads ratings and book sales figures. In this context, the 'genre' column may not directly contribute to addressing the research questions. Thus, dropping irrelevant columns allowed me to concentrate on variables directly relevant to the research objectives, enhancing the analysis's focus and effectiveness. Consistency across the dataset was another crucial consideration. By removing the 'genre' column from the merged DataFrame, I ensured a consistent structure, aligning with the organization of the original DataFrames.\n",
        "I. Subsequently, I addressed data types, particularly converting the 'average_rating' column to numeric type using the 'pd.to_numeric' function. This conversion ensures that numeric values in the 'average_rating' column are accurately represented for analysis. Another crucial step involved handling the 'copiesSold' column, which contained entries in string format, including mentions of million. To address this, I defined a function to extract numeric values from the 'copiesSold' column using regular expressions. This function converted mentions of million to actual numeric values, ensuring consistency in representation. After applying the function to create a new column 'copiesSold_in_millions', I verified the changes by examining the modified DataFrame. Finally, I renamed the 'copiesSold' column to 'copiesSold_in_millions' for clarity and consistency in column naming conventions. Overall, these cleaning steps were pivotal in preparing the dataset for further analysis. By addressing missing values, removing redundant columns, and ensuring consistency in data types, we created a cleaned dataset ready for exploration and insights into the relationship between Goodreads ratings and book sales figures.\n",
        "\n",
        "Next, I started checking the N's of the dataset. In checking the data, I observed that the highest number of repeated titles should be \"The Great Gatsby,\" which appeared six times in the dataset. This title repetition was followed closely by \"Charlotte's Web\" and \"Pride and Prejudice,\" each appearing five times. Additionally, the dataset contained a total of 45 unique titles, as expected. Moving on to the average ratings, the most frequent rating was 4.26, occurring seven times, followed by several ratings with seven occurrences as well. The dataset included a total of 32 unique average ratings. Regarding sales figures, the most frequent sales figure was 50,000,000 (in millions), indicating that 14 books had been sold with this sales figure. The dataset encompassed a total of 23 unique sales figures. These checks ensure the integrity and consistency of the dataset, providing insights into the distribution of titles, average ratings, and sales figures. Such validations are crucial for ensuring the accuracy and reliability of subsequent analyses and interpretations. In validating against external knowledge or data sources, I verified that all the values in the 'ISBN' column are of length 10, which aligns with the typical length of ISBN numbers. Similarly, all values in the 'ISBN13' column are of length 13, consistent with the standard length of ISBN-13 numbers. Additionally, I checked that the 'year' column,is all positive, with the earliest year being 1813. Next, I examined the distribution of 'copiesSold_in_millions' to determine its typicality. The summary statistics revealed that the distribution is right-skewed, as evidenced by the mean of approximately 32.55 million copies sold being greater than the median of 28 million copies sold. The standard deviation of approximately 22.25 million indicates a wide dispersion of data points around the mean. The range of sales figures, from 10 million to 100 million copies sold, further supports the variability in sales across the dataset, with some books achieving significantly higher sales figures than others. Overall, the distribution of 'copiesSold_in_millions' appears to align with expectations for book sales data, considering the varying popularity and success of different titles in the market.\n",
        "\n",
        "The visualization I chose for exploring the relationship between average rating and copies sold is a regression plot.Firstly, a regression plot allowed me to visually assess the presence and strength of any linear relationship between two continuous variables, which in this case are average rating and copies sold. By plotting the data points and fitting a regression line, I could visually identify any patterns or trends in the relationship.Secondly, the plot provided a clear representation of the data distribution and the regression line, making it easy to interpret the relationship between average rating and copies sold. The scatterplot of data points helped visualize the spread of observations across different rating and their corresponding sales, while the regression line provided a concise summary of the overall trend. The plot I did clearly indicates there's a positive weak relationship between average rating of the books and their sales. The points are spread widely on the plot. Additionally, the scatter plot allows me to identify any outliers or anomalies in the data distribution, which could be crucial for identifying bestselling books or understanding factors influencing sales performance. Overall, this visualization not only validates hypotheses but also offers actionable insights for publishers, marketers, and authors looking to understand the relationship between book ratings and sales.\n",
        "\n",
        "The normal probability plots for both the 'average_rating' and 'copiesSold_in_millions' columns from the dataset are presented above. These plots are a simple yet effective way to visually assess whether the data follows a normal distribution. In each plot, the data points are compared against the normal quantiles of a normal distribution.\n",
        "For the 'average_rating' column, the normal probability plot shows that the data points roughly follow a straight line, indicating that the distribution of average ratings is approximately normal. However, there are some deviations from the straight line towards the tails, suggesting potential departures from normality. Similarly, for the 'copiesSold_in_millions' column, the normal probability plot also exhibits a roughly linear relationship between the data points and the normal quantiles its ROUGHLY linear not exactly. However, there are slight deviations from linearity, particularly towards the upper end of the distribution, indicating potential deviations from normality.Hence, the both of them are normally distributed. Overall, these easy-to-generate normal probability plots provide a quick visual assessment of the normality of the data distributions.\n",
        "\n",
        "The Pearson correlation coefficient test was conducted to determine whether there is a statistically significant relationship between the average rating of books and their sales figures. I chose to conduct the Pearson correlation coefficient test to examine the relationship between the average rating of books and their sales figures in our dataset. This statistical method is a standard approach for assessing the strength and direction of linear associations between continuous variables. By using this test, I aimed to determine whether there exists a significant correlation between these two variables and to what extent they are related. The decision to employ the Pearson correlation coefficient was based on its suitability for analyzing linear relationships, its widespread acceptance in statistical analysis, and its straightforward interpretation.This test is used to assess the strength and direction of the linear relationship between two continuous variables which for this case is average rating and copies sold. In this test, the null hypothesis (H0) states that there is no correlation between the average rating of books and their sales figure, implying that the correlation coefficient (ρ) equals zero. The alternative hypothesis (Ha) suggests that there is some correlation between these variables, indicating that the correlation coefficient is not equal to zero. The significance level chosen for this test is 0.05, which means that there is a 5% chance of rejecting the null hypothesis when it is actually true. If the p-value associated with the correlation coefficient is less than 0.05, then we reject the null hypothesis and conclude that there is a statistically significant correlation. In this case, the calculated correlation coefficient is approximately 0.096, indicating a weak positive correlation between the average rating of books and their sales figure. The positive sign suggests that as the average rating increases, the sales figure tends to increase slightly. However, the correlation is not very strong.Furthermore, the p-value associated with the correlation coefficient is 0.389, which is greater than the significance level of 0.05. Therefore, we fail to reject the null hypothesis and conclude that there is insufficient evidence to support a significant correlation between the average rating of books and their sales figure. In other words, there is a statistically non-significant correlation between these variables.\n",
        "\n",
        "Reflection about data triangulation :\n",
        "\n",
        "MA3 -\n",
        "Data triangulation involves using multiple sources or methods to corroborate findings or draw conclusions, enhancing the validity and reliability of the analysis. In Module Assignment 3 (MA3), the use of Goodreads and Books datasets presents an opportunity for data triangulation, enhancing the depth and reliability of the analysis. Goodreads provides insights into user ratings, reviews, and engagement with books, while the Books dataset offers detailed information about book titles, authors, publication years, and other attributes. By combining these datasets, we can triangulate their findings and validate conclusions through multiple sources, thereby strengthening the robustness of their analysis. However, the use of Goodreads and Books datasets also raises privacy considerations that must be addressed. Goodreads, as a platform for book enthusiasts, contains user-generated content such as reviews and ratings, which may include personal opinions and preferences. While user identities may be anonymized, there is still a risk of inadvertently revealing sensitive information or violating user privacy if data handling practices are not carefully implemented. Similarly, the Books dataset may contain sensitive information about authors, publishers, and publication details, which could pose privacy risks if not adequately protected. Combining these datasets increases the potential for privacy breaches or unauthorized access to personal information, highlighting the importance of implementing stringent data protection measures and adhering to privacy regulations.\n",
        "To address privacy concerns in MA3, we could try Anonymizing Personal Information. Removing or anonymizing personally identifiable information (PII) from the datasets to minimize the risk of re-identification. This may involve replacing user identifiers with anonymous tokens or aggregating data to preserve privacy.Using encrypted channels for transmitting and storing data to prevent unauthorized access or interception. Implementing secure storage practices and access controls to restrict data access to authorized personnel only. Another way would be to obtain informed consent. If the research involves collecting or analyzing user-generated content from Goodreads, obtain informed consent from users regarding the use of their data for research purposes. Clearly communicate the intended use of data and provide options for users to opt out or withdraw consent. Another not so preffered way would be to use less data which personally I find it to be not ideal. By proactively addressing privacy considerations and implementing robust data protection measures, we can leverage the Goodreads and Books datasets for data triangulation in MA3 while safeguarding user privacy and upholding ethical standards.\n",
        "\n",
        "**Data Triangulation in Healthcare:**\n",
        "\n",
        "In healthcare, data triangulation involves integrating data from multiple sources such as electronic health records (EHRs), medical imaging and population health data. By combining information from diverse sources, researchers and healthcare professionals can gain a more comprehensive understanding of diseases, treatment outcomes, and public health trends. For example, researchers might combine EHR data with genetic information to identify genetic markers for certain diseases or combine clinical trial data with real-world evidence to assess the effectiveness of treatments in broader patient populations. This could create potential privacy issues. Healthcare data often contain sensitive personal information such as medical history, diagnoses, and treatments. Protecting patient privacy is paramount to maintaining trust in the healthcare system. Data breaches or unauthorized access to patient data can lead to identity theft, discrimination, and other harms. Therefore, robust data security measures such as encryption, access controls, and audit trails are essential to safeguard patient privacy.Sharing healthcare data for research purposes requires obtaining informed consent from patients. However, obtaining meaningful consent can be challenging due to the complexity of healthcare data and the wide range of potential uses. Patients may not fully understand how their data will be used or may have concerns about privacy and confidentiality. Therefore, clear and transparent communication about data use, privacy protections, and the benefits of research is essential to ensure informed consent.\n",
        "Healthcare data collected for clinical purposes may be repurposed for research or commercial use. While secondary use of data can accelerate medical discovery and innovation, it also raises privacy concerns. Patients may not be aware of or consent to the secondary use of their data, leading to ethical questions about data ownership, control, and consent.Addressing these privacy issues requires a combination of technical, legal, and ethical measures. Strong data governance frameworks, privacy regulations (e.g., HIPAA in the United States, GDPR in the European Union), and ethical guidelines help ensure that healthcare data are used responsibly, ethically, and in accordance with patient rights."
      ],
      "metadata": {
        "id": "7FXQWzx5PU1Q"
      }
    }
  ]
}